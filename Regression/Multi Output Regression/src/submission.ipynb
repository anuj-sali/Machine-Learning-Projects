{
 "cells": [
  {
   "cell_type": "code",
   "execution_count": 14,
   "metadata": {},
   "outputs": [
    {
     "data": {
      "text/html": [
       "<div>\n",
       "<style scoped>\n",
       "    .dataframe tbody tr th:only-of-type {\n",
       "        vertical-align: middle;\n",
       "    }\n",
       "\n",
       "    .dataframe tbody tr th {\n",
       "        vertical-align: top;\n",
       "    }\n",
       "\n",
       "    .dataframe thead th {\n",
       "        text-align: right;\n",
       "    }\n",
       "</style>\n",
       "<table border=\"1\" class=\"dataframe\">\n",
       "  <thead>\n",
       "    <tr style=\"text-align: right;\">\n",
       "      <th></th>\n",
       "      <th>PRIM_STATE</th>\n",
       "      <th>NAICS_TITLE</th>\n",
       "      <th>OCC_TITLE</th>\n",
       "    </tr>\n",
       "  </thead>\n",
       "  <tbody>\n",
       "    <tr>\n",
       "      <th>0</th>\n",
       "      <td>US</td>\n",
       "      <td>Accommodation and Food Services</td>\n",
       "      <td>Other Production Occupations</td>\n",
       "    </tr>\n",
       "    <tr>\n",
       "      <th>1</th>\n",
       "      <td>NE</td>\n",
       "      <td>Cross-industry</td>\n",
       "      <td>Arts, Design, Entertainment, Sports, and Media...</td>\n",
       "    </tr>\n",
       "    <tr>\n",
       "      <th>2</th>\n",
       "      <td>US</td>\n",
       "      <td>Manufacturing</td>\n",
       "      <td>Construction and Extraction Occupations</td>\n",
       "    </tr>\n",
       "    <tr>\n",
       "      <th>3</th>\n",
       "      <td>US</td>\n",
       "      <td>Wholesale Trade</td>\n",
       "      <td>Material Moving Workers</td>\n",
       "    </tr>\n",
       "    <tr>\n",
       "      <th>4</th>\n",
       "      <td>US</td>\n",
       "      <td>Other Services (except Public Administration)</td>\n",
       "      <td>Supervisors of Building and Grounds Cleaning a...</td>\n",
       "    </tr>\n",
       "  </tbody>\n",
       "</table>\n",
       "</div>"
      ],
      "text/plain": [
       "  PRIM_STATE                                    NAICS_TITLE  \\\n",
       "0         US                Accommodation and Food Services   \n",
       "1         NE                                 Cross-industry   \n",
       "2         US                                  Manufacturing   \n",
       "3         US                                Wholesale Trade   \n",
       "4         US  Other Services (except Public Administration)   \n",
       "\n",
       "                                           OCC_TITLE  \n",
       "0                       Other Production Occupations  \n",
       "1  Arts, Design, Entertainment, Sports, and Media...  \n",
       "2            Construction and Extraction Occupations  \n",
       "3                            Material Moving Workers  \n",
       "4  Supervisors of Building and Grounds Cleaning a...  "
      ]
     },
     "metadata": {},
     "output_type": "display_data"
    },
    {
     "data": {
      "text/plain": [
       "PRIM_STATE      52\n",
       "NAICS_TITLE     21\n",
       "OCC_TITLE      115\n",
       "dtype: int64"
      ]
     },
     "execution_count": 14,
     "metadata": {},
     "output_type": "execute_result"
    }
   ],
   "source": [
    "import pandas as pd\n",
    "df_sub=pd.read_csv(r'C:\\Users\\anuj.sali\\Desktop\\MTR\\data\\submission.csv')\n",
    "df_sub1=df_sub.copy()\n",
    "df_sub1 = df_sub1[['PRIM_STATE', 'NAICS_TITLE', 'OCC_TITLE']]\n",
    "display(df_sub1.head())\n",
    "df_sub1.nunique()\n"
   ]
  },
  {
   "cell_type": "code",
   "execution_count": 16,
   "metadata": {},
   "outputs": [
    {
     "name": "stdout",
     "output_type": "stream",
     "text": [
      "PRIM_STATE      52\n",
      "NAICS_TITLE     21\n",
      "OCC_TITLE      116\n",
      "dtype: int64\n",
      "The extra category in OCC_TITLE in Train Data:-  {'Lawyers, Judges, and Related Workers'}\n"
     ]
    },
    {
     "data": {
      "text/html": [
       "<div>\n",
       "<style scoped>\n",
       "    .dataframe tbody tr th:only-of-type {\n",
       "        vertical-align: middle;\n",
       "    }\n",
       "\n",
       "    .dataframe tbody tr th {\n",
       "        vertical-align: top;\n",
       "    }\n",
       "\n",
       "    .dataframe thead th {\n",
       "        text-align: right;\n",
       "    }\n",
       "</style>\n",
       "<table border=\"1\" class=\"dataframe\">\n",
       "  <thead>\n",
       "    <tr style=\"text-align: right;\">\n",
       "      <th></th>\n",
       "      <th>PRIM_STATE_AK</th>\n",
       "      <th>PRIM_STATE_AL</th>\n",
       "      <th>PRIM_STATE_AR</th>\n",
       "      <th>PRIM_STATE_AZ</th>\n",
       "      <th>PRIM_STATE_CA</th>\n",
       "      <th>PRIM_STATE_CO</th>\n",
       "      <th>PRIM_STATE_CT</th>\n",
       "      <th>PRIM_STATE_DC</th>\n",
       "      <th>PRIM_STATE_DE</th>\n",
       "      <th>PRIM_STATE_FL</th>\n",
       "      <th>...</th>\n",
       "      <th>OCC_TITLE_Supervisors of Protective Service Workers</th>\n",
       "      <th>OCC_TITLE_Supervisors of Sales Workers</th>\n",
       "      <th>OCC_TITLE_Supervisors of Transportation and Material Moving Workers</th>\n",
       "      <th>OCC_TITLE_Textile, Apparel, and Furnishings Workers</th>\n",
       "      <th>OCC_TITLE_Top Executives</th>\n",
       "      <th>OCC_TITLE_Tour and Travel Guides</th>\n",
       "      <th>OCC_TITLE_Transportation and Material Moving Occupations</th>\n",
       "      <th>OCC_TITLE_Vehicle and Mobile Equipment Mechanics, Installers, and Repairers</th>\n",
       "      <th>OCC_TITLE_Water Transportation Workers</th>\n",
       "      <th>OCC_TITLE_Woodworkers</th>\n",
       "    </tr>\n",
       "  </thead>\n",
       "  <tbody>\n",
       "    <tr>\n",
       "      <th>0</th>\n",
       "      <td>0</td>\n",
       "      <td>0</td>\n",
       "      <td>0</td>\n",
       "      <td>0</td>\n",
       "      <td>0</td>\n",
       "      <td>0</td>\n",
       "      <td>0</td>\n",
       "      <td>0</td>\n",
       "      <td>0</td>\n",
       "      <td>0</td>\n",
       "      <td>...</td>\n",
       "      <td>0</td>\n",
       "      <td>0</td>\n",
       "      <td>1</td>\n",
       "      <td>0</td>\n",
       "      <td>0</td>\n",
       "      <td>0</td>\n",
       "      <td>0</td>\n",
       "      <td>0</td>\n",
       "      <td>0</td>\n",
       "      <td>0</td>\n",
       "    </tr>\n",
       "    <tr>\n",
       "      <th>1</th>\n",
       "      <td>0</td>\n",
       "      <td>0</td>\n",
       "      <td>0</td>\n",
       "      <td>0</td>\n",
       "      <td>0</td>\n",
       "      <td>0</td>\n",
       "      <td>0</td>\n",
       "      <td>0</td>\n",
       "      <td>0</td>\n",
       "      <td>0</td>\n",
       "      <td>...</td>\n",
       "      <td>0</td>\n",
       "      <td>0</td>\n",
       "      <td>0</td>\n",
       "      <td>0</td>\n",
       "      <td>0</td>\n",
       "      <td>0</td>\n",
       "      <td>0</td>\n",
       "      <td>0</td>\n",
       "      <td>0</td>\n",
       "      <td>0</td>\n",
       "    </tr>\n",
       "    <tr>\n",
       "      <th>2</th>\n",
       "      <td>0</td>\n",
       "      <td>0</td>\n",
       "      <td>0</td>\n",
       "      <td>0</td>\n",
       "      <td>0</td>\n",
       "      <td>0</td>\n",
       "      <td>0</td>\n",
       "      <td>0</td>\n",
       "      <td>0</td>\n",
       "      <td>0</td>\n",
       "      <td>...</td>\n",
       "      <td>0</td>\n",
       "      <td>0</td>\n",
       "      <td>0</td>\n",
       "      <td>0</td>\n",
       "      <td>0</td>\n",
       "      <td>0</td>\n",
       "      <td>0</td>\n",
       "      <td>0</td>\n",
       "      <td>0</td>\n",
       "      <td>0</td>\n",
       "    </tr>\n",
       "    <tr>\n",
       "      <th>3</th>\n",
       "      <td>0</td>\n",
       "      <td>0</td>\n",
       "      <td>0</td>\n",
       "      <td>0</td>\n",
       "      <td>0</td>\n",
       "      <td>0</td>\n",
       "      <td>0</td>\n",
       "      <td>0</td>\n",
       "      <td>0</td>\n",
       "      <td>0</td>\n",
       "      <td>...</td>\n",
       "      <td>0</td>\n",
       "      <td>0</td>\n",
       "      <td>0</td>\n",
       "      <td>0</td>\n",
       "      <td>0</td>\n",
       "      <td>0</td>\n",
       "      <td>0</td>\n",
       "      <td>0</td>\n",
       "      <td>0</td>\n",
       "      <td>0</td>\n",
       "    </tr>\n",
       "    <tr>\n",
       "      <th>4</th>\n",
       "      <td>0</td>\n",
       "      <td>0</td>\n",
       "      <td>0</td>\n",
       "      <td>0</td>\n",
       "      <td>0</td>\n",
       "      <td>0</td>\n",
       "      <td>0</td>\n",
       "      <td>0</td>\n",
       "      <td>0</td>\n",
       "      <td>0</td>\n",
       "      <td>...</td>\n",
       "      <td>1</td>\n",
       "      <td>0</td>\n",
       "      <td>0</td>\n",
       "      <td>0</td>\n",
       "      <td>0</td>\n",
       "      <td>0</td>\n",
       "      <td>0</td>\n",
       "      <td>0</td>\n",
       "      <td>0</td>\n",
       "      <td>0</td>\n",
       "    </tr>\n",
       "  </tbody>\n",
       "</table>\n",
       "<p>5 rows × 189 columns</p>\n",
       "</div>"
      ],
      "text/plain": [
       "   PRIM_STATE_AK  PRIM_STATE_AL  PRIM_STATE_AR  PRIM_STATE_AZ  PRIM_STATE_CA  \\\n",
       "0              0              0              0              0              0   \n",
       "1              0              0              0              0              0   \n",
       "2              0              0              0              0              0   \n",
       "3              0              0              0              0              0   \n",
       "4              0              0              0              0              0   \n",
       "\n",
       "   PRIM_STATE_CO  PRIM_STATE_CT  PRIM_STATE_DC  PRIM_STATE_DE  PRIM_STATE_FL  \\\n",
       "0              0              0              0              0              0   \n",
       "1              0              0              0              0              0   \n",
       "2              0              0              0              0              0   \n",
       "3              0              0              0              0              0   \n",
       "4              0              0              0              0              0   \n",
       "\n",
       "   ...  OCC_TITLE_Supervisors of Protective Service Workers  \\\n",
       "0  ...                                                  0     \n",
       "1  ...                                                  0     \n",
       "2  ...                                                  0     \n",
       "3  ...                                                  0     \n",
       "4  ...                                                  1     \n",
       "\n",
       "   OCC_TITLE_Supervisors of Sales Workers  \\\n",
       "0                                       0   \n",
       "1                                       0   \n",
       "2                                       0   \n",
       "3                                       0   \n",
       "4                                       0   \n",
       "\n",
       "   OCC_TITLE_Supervisors of Transportation and Material Moving Workers  \\\n",
       "0                                                  1                     \n",
       "1                                                  0                     \n",
       "2                                                  0                     \n",
       "3                                                  0                     \n",
       "4                                                  0                     \n",
       "\n",
       "   OCC_TITLE_Textile, Apparel, and Furnishings Workers  \\\n",
       "0                                                  0     \n",
       "1                                                  0     \n",
       "2                                                  0     \n",
       "3                                                  0     \n",
       "4                                                  0     \n",
       "\n",
       "   OCC_TITLE_Top Executives  OCC_TITLE_Tour and Travel Guides  \\\n",
       "0                         0                                 0   \n",
       "1                         0                                 0   \n",
       "2                         0                                 0   \n",
       "3                         0                                 0   \n",
       "4                         0                                 0   \n",
       "\n",
       "   OCC_TITLE_Transportation and Material Moving Occupations  \\\n",
       "0                                                  0          \n",
       "1                                                  0          \n",
       "2                                                  0          \n",
       "3                                                  0          \n",
       "4                                                  0          \n",
       "\n",
       "   OCC_TITLE_Vehicle and Mobile Equipment Mechanics, Installers, and Repairers  \\\n",
       "0                                                  0                             \n",
       "1                                                  0                             \n",
       "2                                                  0                             \n",
       "3                                                  0                             \n",
       "4                                                  0                             \n",
       "\n",
       "   OCC_TITLE_Water Transportation Workers  OCC_TITLE_Woodworkers  \n",
       "0                                       0                      0  \n",
       "1                                       0                      0  \n",
       "2                                       0                      0  \n",
       "3                                       0                      0  \n",
       "4                                       0                      0  \n",
       "\n",
       "[5 rows x 189 columns]"
      ]
     },
     "metadata": {},
     "output_type": "display_data"
    }
   ],
   "source": [
    "df_=pd.read_csv(r'C:\\Users\\anuj.sali\\Desktop\\MTR\\data\\train.csv')\n",
    "df_ = df_[['PRIM_STATE', 'NAICS_TITLE', 'OCC_TITLE']]\n",
    "print(df_.nunique())\n",
    "print(\"The extra category in OCC_TITLE in Train Data:- \", set(list(df_['OCC_TITLE'])) - set(list(df_sub1['OCC_TITLE'])) )\n",
    "df_=pd.get_dummies(df_)\n",
    "display(df_.head())\n"
   ]
  },
  {
   "cell_type": "code",
   "execution_count": 3,
   "metadata": {},
   "outputs": [
    {
     "data": {
      "text/plain": [
       "True"
      ]
     },
     "execution_count": 3,
     "metadata": {},
     "output_type": "execute_result"
    }
   ],
   "source": [
    "df_sub1=pd.get_dummies(df_sub1)\n",
    "# Get missing columns in the training test\n",
    "missing_cols = set( df_.columns ) - set( df_sub1.columns )\n",
    "# Add a missing column in test set with default value equal to 0\n",
    "for c in missing_cols:\n",
    "    df_sub1[c] = 0\n",
    "# Ensure the order of column in the test set is in the same order than in train set\n",
    "df_sub1 = df_sub1[df_.columns]\n",
    "(df_sub1.columns == df_.columns).all()"
   ]
  },
  {
   "cell_type": "code",
   "execution_count": 8,
   "metadata": {},
   "outputs": [
    {
     "data": {
      "text/plain": [
       "((2297, 189), (926, 189))"
      ]
     },
     "execution_count": 8,
     "metadata": {},
     "output_type": "execute_result"
    }
   ],
   "source": [
    "df_.shape, df_sub1.shape"
   ]
  },
  {
   "cell_type": "code",
   "execution_count": 11,
   "metadata": {},
   "outputs": [
    {
     "data": {
      "text/plain": [
       "MultiOutputRegressor(estimator=GradientBoostingRegressor(random_state=0))"
      ]
     },
     "execution_count": 11,
     "metadata": {},
     "output_type": "execute_result"
    }
   ],
   "source": [
    "import joblib\n",
    "multi_grad_model=joblib.load(r\"C:\\Users\\anuj.sali\\Desktop\\MTR\\models\\multi_grad_default.sav\")\n",
    "multi_grad_model"
   ]
  },
  {
   "cell_type": "code",
   "execution_count": 13,
   "metadata": {},
   "outputs": [
    {
     "ename": "NameError",
     "evalue": "name 'X_test' is not defined",
     "output_type": "error",
     "traceback": [
      "\u001b[1;31m---------------------------------------------------------------------------\u001b[0m",
      "\u001b[1;31mNameError\u001b[0m                                 Traceback (most recent call last)",
      "\u001b[1;32mc:\\Users\\anuj.sali\\Desktop\\MTR\\src\\submission.ipynb Cell 6\u001b[0m in \u001b[0;36m<cell line: 1>\u001b[1;34m()\u001b[0m\n\u001b[1;32m----> <a href='vscode-notebook-cell:/c%3A/Users/anuj.sali/Desktop/MTR/src/submission.ipynb#X12sZmlsZQ%3D%3D?line=0'>1</a>\u001b[0m result \u001b[39m=\u001b[39m multi_grad_model\u001b[39m.\u001b[39mscore(X_test, y_test)\n\u001b[0;32m      <a href='vscode-notebook-cell:/c%3A/Users/anuj.sali/Desktop/MTR/src/submission.ipynb#X12sZmlsZQ%3D%3D?line=1'>2</a>\u001b[0m \u001b[39mprint\u001b[39m(result)\n",
      "\u001b[1;31mNameError\u001b[0m: name 'X_test' is not defined"
     ]
    }
   ],
   "source": [
    "result = multi_grad_model.score(X_test, y_test)\n",
    "print(result)"
   ]
  },
  {
   "cell_type": "code",
   "execution_count": null,
   "metadata": {},
   "outputs": [],
   "source": []
  }
 ],
 "metadata": {
  "kernelspec": {
   "display_name": "Python 3.8.10 ('base')",
   "language": "python",
   "name": "python3"
  },
  "language_info": {
   "codemirror_mode": {
    "name": "ipython",
    "version": 3
   },
   "file_extension": ".py",
   "mimetype": "text/x-python",
   "name": "python",
   "nbconvert_exporter": "python",
   "pygments_lexer": "ipython3",
   "version": "3.8.10"
  },
  "orig_nbformat": 4,
  "vscode": {
   "interpreter": {
    "hash": "2b24e27fed2abca2f43ff8830c392462f661c7dbd7d04915d157cad162bccebc"
   }
  }
 },
 "nbformat": 4,
 "nbformat_minor": 2
}
