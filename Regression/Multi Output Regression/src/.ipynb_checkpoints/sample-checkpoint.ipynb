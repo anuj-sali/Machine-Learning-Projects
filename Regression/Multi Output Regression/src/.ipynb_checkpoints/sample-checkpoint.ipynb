{
 "cells": [
  {
   "cell_type": "markdown",
   "id": "62e5090e-c6bb-4a5f-9920-007f3429eae3",
   "metadata": {},
   "source": [
    "It is a sample notebook for illustration purposes only. We recommend including the below cell with important candidate instructions.\n",
    "You may need to update the OS and package versions based on the current environment."
   ]
  },
  {
   "cell_type": "markdown",
   "id": "fd96a711-fffe-46d0-8dbd-7717067fe42c",
   "metadata": {
    "tags": []
   },
   "source": [
    "### Environment\n",
    "Ubuntu 22.04 LTS which includes **Python 3.9.12** and utilities *curl*, *git*, *vim*, *unzip*, *wget*, and *zip*. There is no *GPU* support.\n",
    "\n",
    "The IPython Kernel allows you to execute Python code in the Notebook cell and Python console.\n",
    "\n",
    "### Installing packages\n",
    "- Run `!mamba list \"package_name\"` command to check the package installation status. For example,\n",
    "\n",
    "```python\n",
    "!mamba list numpy\n",
    "\"\"\"\n",
    "# packages in environment at /opt/conda:\n",
    "#\n",
    "# Name                    Version                   Build  Channel\n",
    "numpy                     1.21.6           py39h18676bf_0    conda-forge\n",
    "\"\"\"\n",
    "```\n",
    "\n",
    "    You can also try importing the package.\n",
    "\n",
    "- Run the `!mamba install \"package_name\"` to install a package\n",
    "\n",
    "### Excluding large files\n",
    "HackerRank rejects any submission larger than **20MB**. Therefore, you must exclude any large files by adding these to the *.gitignore* file.\n",
    "You can **Submit** code to validate the status of your submission."
   ]
  },
  {
   "cell_type": "markdown",
   "id": "de14c970",
   "metadata": {},
   "source": [
    "## Introduction\n",
    "\n",
    "The Occupational Employment and Wage Statistics (OEWS) program produces employment and wage estimates annually for nearly 800 occupations. These estimates are available for the nation as a whole, for individual states, and for metropolitan and nonmetropolitan areas; national occupational estimates for specific industries are also available.\n",
    "\n",
    "## Problem\n",
    "\n",
    "The data used in this problem is a subset of the OEWS data, which include the 10-th percentile, 25-th percentile, 50-th percentile (a.k.a median), 75-th percentile, and 90-th percentile of the annual salary of a given combination of states, industries, and occupations.\n",
    "\n",
    "One needs to use the data in _train.csv_ to train a machine learning model to predict the 10-th, 25-th, 50-th, 75-th and 90-th percentiles of the given combinations in _submission.csv_.\n",
    "\n",
    "## Data\n",
    "\n",
    "### Independent Variables\n",
    "\n",
    "There are three independent variable columns:\n",
    "- PRIM_STATE\n",
    "- NAICS_TITLE\n",
    "- OCC_TITLE\n",
    "\n",
    "indicating the state, industry, and occupation.\n",
    "\n",
    "NOTE:\n",
    "- In the _PRIM_STATE_ variable, each category indicates a state postal abbreviation (like \"_CA_\", \"_TX_\", etc.) or \"_U.S_\" as the whole United States. When _PRIM_STATE_ is \"_U.S_\", it means the percentiles are aggregated across all the states.\n",
    "- In thes _NAICS_TITLE_, each category indicates an industry sector name (like \"_Retail Trade_\", \"_Manufacturing_\") or \"_Cross-industry_\". When _NAICS_TITLE_ is \"_Cross-industry_\", it means the percentiles are aggregated across all the industries.\n",
    "\n",
    "### Target Variables\n",
    "\n",
    "There are 5 dependent (target) variable columns:\n",
    "- A_PCT10\n",
    "- A_PCT25\n",
    "- A_MEDIAN\n",
    "- A_PCT75\n",
    "- A_PCT90\n",
    "\n",
    "indicating the 10-th percentile, 25-th percentile, median, 75-th percentile, 90-th percentile of the annual base salary given the state, industry, and occupation information.\n",
    "\n",
    "**IMPORTANT**: the percentiles should follow an increasing order. Namely, the 10-th percentile is less than (<) the 25-th percentile, the 25-th percentile is less than (<) the 50-th percentile, etc.\n",
    "\n",
    "## Deliverables\n",
    "\n",
    "### Submit a Well commented Jupyter Notebook\n",
    "\n",
    "Explore the data, make visualizations, and generate new features if required. Make appropriate plots, annotate the notebook with markdowns and explain necessary inferences. A person should be able to read the notebook and understand the steps taken as well as the reasoning behind them. The solution will be graded on the basis of the usage of effective visualizations to convey the analysis and the modeling process.\n",
    "\n",
    "\n",
    "### Submit _submission.csv_\n",
    "\n",
    "In the given _submission.csv_, values in the \"A_PCT10\", \"A_PCT25\", \"A_MEDIAN\", \"A_PCT75\", and \"A_PCT90\" columns are constants, and you need to replace them with your model predictions.\n",
    "\n",
    "**IMPORTANT**:\n",
    "- please do not change the header given in _submission.csv_, or your predictions may not be evaluated correctly.\n",
    "- Your Jupyter Notebook should be able to generate your submitted predictions.\n",
    "\n",
    "\n",
    "\n",
    "## Evaluation Metric\n",
    "\n",
    "The model performance is evaluated by the mean normalized weighted absolute error (MNWAE) defined as the following:\n",
    "$$ MNWAE = \\frac{1}{n} \\sum_{i=1}^{n} \\sum_{j \\in \\{10, 25, 50, 75, 90\\}} w_j \\times \\frac{|y_{i,j}-z_{i,j}|}{z_{i,j}}$$\n",
    "where $y_{i,j}$ and $z_{i,j}$ are the model estimation and the ground truth of the $i$-th row and $j$-th percentile, and\n",
    "$$ w_{10} = w_{90} = 0.1, $$\n",
    "$$ w_{25} = w_{75} = 0.2, $$\n",
    "$$ w_{50} = 0.4 $$\n",
    "\n",
    "For example, if\n",
    "\n",
    "actual percentiles = [10000, 30000, 60000, 80000, 100000],\n",
    "\n",
    "predicted percentiles = [11000, 33000, 54000, 88000, 120000],\n",
    "\n",
    "normalized weighted absolute error = 0.1*|11000-10000|/10000+0.2*|33000-30000|/30000+0.4*|54000-60000|/60000+0.2*|88000-80000|/80000+0.1*|120000-100000|/100000 = 0.11\n",
    "\n",
    "**IMPORTANT**: if the predicted percentiles in any row do not follow an increasing order, all the predictions will be considered as invalid."
   ]
  },
  {
   "cell_type": "markdown",
   "id": "19879c97",
   "metadata": {},
   "source": [
    "## Solution .."
   ]
  },
  {
   "cell_type": "code",
   "execution_count": 1,
   "id": "a107f167-f73a-4842-ba9b-7189e13a3a95",
   "metadata": {},
   "outputs": [],
   "source": [
    "# Import the `pandas` library to load the dataset\n",
    "import pandas as pd"
   ]
  },
  {
   "cell_type": "code",
   "execution_count": 2,
   "id": "0f568cf6",
   "metadata": {},
   "outputs": [],
   "source": [
    "df_train = pd.read_csv('train.csv')"
   ]
  },
  {
   "cell_type": "code",
   "execution_count": 3,
   "id": "06802137",
   "metadata": {},
   "outputs": [
    {
     "data": {
      "text/html": [
       "<div>\n",
       "<style scoped>\n",
       "    .dataframe tbody tr th:only-of-type {\n",
       "        vertical-align: middle;\n",
       "    }\n",
       "\n",
       "    .dataframe tbody tr th {\n",
       "        vertical-align: top;\n",
       "    }\n",
       "\n",
       "    .dataframe thead th {\n",
       "        text-align: right;\n",
       "    }\n",
       "</style>\n",
       "<table border=\"1\" class=\"dataframe\">\n",
       "  <thead>\n",
       "    <tr style=\"text-align: right;\">\n",
       "      <th></th>\n",
       "      <th>PRIM_STATE</th>\n",
       "      <th>NAICS_TITLE</th>\n",
       "      <th>OCC_TITLE</th>\n",
       "      <th>A_PCT10</th>\n",
       "      <th>A_PCT25</th>\n",
       "      <th>A_MEDIAN</th>\n",
       "      <th>A_PCT75</th>\n",
       "      <th>A_PCT90</th>\n",
       "    </tr>\n",
       "  </thead>\n",
       "  <tbody>\n",
       "    <tr>\n",
       "      <th>0</th>\n",
       "      <td>US</td>\n",
       "      <td>Arts, Entertainment, and Recreation</td>\n",
       "      <td>Supervisors of Transportation and Material Mov...</td>\n",
       "      <td>32350.0</td>\n",
       "      <td>40200.0</td>\n",
       "      <td>50790.0</td>\n",
       "      <td>62560.0</td>\n",
       "      <td>78520.0</td>\n",
       "    </tr>\n",
       "    <tr>\n",
       "      <th>1</th>\n",
       "      <td>US</td>\n",
       "      <td>Mining, Quarrying, and Oil and Gas Extraction</td>\n",
       "      <td>Sales Representatives, Wholesale and Manufactu...</td>\n",
       "      <td>47860.0</td>\n",
       "      <td>61600.0</td>\n",
       "      <td>87810.0</td>\n",
       "      <td>107460.0</td>\n",
       "      <td>153600.0</td>\n",
       "    </tr>\n",
       "    <tr>\n",
       "      <th>2</th>\n",
       "      <td>US</td>\n",
       "      <td>Finance and Insurance</td>\n",
       "      <td>Physical Scientists</td>\n",
       "      <td>59240.0</td>\n",
       "      <td>63050.0</td>\n",
       "      <td>89740.0</td>\n",
       "      <td>126320.0</td>\n",
       "      <td>149070.0</td>\n",
       "    </tr>\n",
       "    <tr>\n",
       "      <th>3</th>\n",
       "      <td>US</td>\n",
       "      <td>Administrative and Support and Waste Managemen...</td>\n",
       "      <td>Architects, Surveyors, and Cartographers</td>\n",
       "      <td>37320.0</td>\n",
       "      <td>47630.0</td>\n",
       "      <td>60550.0</td>\n",
       "      <td>77450.0</td>\n",
       "      <td>98990.0</td>\n",
       "    </tr>\n",
       "    <tr>\n",
       "      <th>4</th>\n",
       "      <td>US</td>\n",
       "      <td>Manufacturing</td>\n",
       "      <td>Supervisors of Protective Service Workers</td>\n",
       "      <td>50130.0</td>\n",
       "      <td>63840.0</td>\n",
       "      <td>81770.0</td>\n",
       "      <td>104530.0</td>\n",
       "      <td>133180.0</td>\n",
       "    </tr>\n",
       "  </tbody>\n",
       "</table>\n",
       "</div>"
      ],
      "text/plain": [
       "  PRIM_STATE                                        NAICS_TITLE  \\\n",
       "0         US                Arts, Entertainment, and Recreation   \n",
       "1         US      Mining, Quarrying, and Oil and Gas Extraction   \n",
       "2         US                              Finance and Insurance   \n",
       "3         US  Administrative and Support and Waste Managemen...   \n",
       "4         US                                      Manufacturing   \n",
       "\n",
       "                                           OCC_TITLE  A_PCT10  A_PCT25  \\\n",
       "0  Supervisors of Transportation and Material Mov...  32350.0  40200.0   \n",
       "1  Sales Representatives, Wholesale and Manufactu...  47860.0  61600.0   \n",
       "2                                Physical Scientists  59240.0  63050.0   \n",
       "3           Architects, Surveyors, and Cartographers  37320.0  47630.0   \n",
       "4          Supervisors of Protective Service Workers  50130.0  63840.0   \n",
       "\n",
       "   A_MEDIAN   A_PCT75   A_PCT90  \n",
       "0   50790.0   62560.0   78520.0  \n",
       "1   87810.0  107460.0  153600.0  \n",
       "2   89740.0  126320.0  149070.0  \n",
       "3   60550.0   77450.0   98990.0  \n",
       "4   81770.0  104530.0  133180.0  "
      ]
     },
     "execution_count": 3,
     "metadata": {},
     "output_type": "execute_result"
    }
   ],
   "source": [
    "df_train.head()"
   ]
  },
  {
   "cell_type": "markdown",
   "id": "6134d443-9cf2-4b8f-a378-5bb41d6eddf8",
   "metadata": {},
   "source": [
    "## Pre-process the data"
   ]
  },
  {
   "cell_type": "code",
   "execution_count": 4,
   "id": "d9aa724f-bf70-4a64-9f37-f4f0807b2fe5",
   "metadata": {},
   "outputs": [],
   "source": [
    "import pandas as pd"
   ]
  },
  {
   "cell_type": "code",
   "execution_count": 5,
   "id": "f11ee008-496a-4ee1-b79f-0140de9d18ef",
   "metadata": {},
   "outputs": [
    {
     "name": "stdout",
     "output_type": "stream",
     "text": [
      "<class 'pandas.core.frame.DataFrame'>\n",
      "RangeIndex: 2297 entries, 0 to 2296\n",
      "Data columns (total 8 columns):\n",
      " #   Column       Non-Null Count  Dtype  \n",
      "---  ------       --------------  -----  \n",
      " 0   PRIM_STATE   2297 non-null   object \n",
      " 1   NAICS_TITLE  2297 non-null   object \n",
      " 2   OCC_TITLE    2297 non-null   object \n",
      " 3   A_PCT10      2297 non-null   float64\n",
      " 4   A_PCT25      2297 non-null   float64\n",
      " 5   A_MEDIAN     2297 non-null   float64\n",
      " 6   A_PCT75      2267 non-null   float64\n",
      " 7   A_PCT90      2158 non-null   float64\n",
      "dtypes: float64(5), object(3)\n",
      "memory usage: 143.7+ KB\n",
      "None\n"
     ]
    }
   ],
   "source": [
    "print(df_train.info())"
   ]
  },
  {
   "cell_type": "code",
   "execution_count": 6,
   "id": "779ec904-9ade-45d8-97be-c125cc0e742f",
   "metadata": {},
   "outputs": [
    {
     "data": {
      "text/plain": [
       "US    1498\n",
       "FL      20\n",
       "WV      19\n",
       "DC      19\n",
       "WA      19\n",
       "SD      18\n",
       "CO      18\n",
       "NM      18\n",
       "ME      18\n",
       "NC      18\n",
       "NH      18\n",
       "DE      18\n",
       "MI      18\n",
       "AR      17\n",
       "KY      17\n",
       "GA      17\n",
       "CA      17\n",
       "MA      17\n",
       "MN      17\n",
       "ND      17\n",
       "MO      17\n",
       "UT      17\n",
       "TX      16\n",
       "AL      16\n",
       "AZ      16\n",
       "IL      16\n",
       "ID      16\n",
       "LA      16\n",
       "MT      16\n",
       "NJ      15\n",
       "NV      15\n",
       "NY      15\n",
       "MS      15\n",
       "OH      15\n",
       "MD      15\n",
       "HI      15\n",
       "WI      14\n",
       "IA      14\n",
       "IN      14\n",
       "TN      14\n",
       "RI      14\n",
       "VT      13\n",
       "OK      13\n",
       "CT      13\n",
       "VA      13\n",
       "SC      13\n",
       "WY      13\n",
       "PA      13\n",
       "KS      13\n",
       "AK      12\n",
       "NE      12\n",
       "OR      10\n",
       "Name: PRIM_STATE, dtype: int64"
      ]
     },
     "execution_count": 6,
     "metadata": {},
     "output_type": "execute_result"
    }
   ],
   "source": [
    "df_train[\"PRIM_STATE\"].value_counts()"
   ]
  },
  {
   "cell_type": "code",
   "execution_count": 7,
   "id": "a979b55b-b69a-45f4-971a-c94f97953242",
   "metadata": {},
   "outputs": [
    {
     "data": {
      "text/plain": [
       "Cross-industry                                                                                                                         885\n",
       "Federal, State, and Local Government, excluding state and local schools and hospitals and the U.S. Postal Service (OES Designation)     86\n",
       "Other Services (except Public Administration)                                                                                           85\n",
       "Health Care and Social Assistance                                                                                                       84\n",
       "Management of Companies and Enterprises                                                                                                 84\n",
       "Educational Services                                                                                                                    79\n",
       "Administrative and Support and Waste Management and Remediation Services                                                                79\n",
       "Manufacturing                                                                                                                           79\n",
       "Retail Trade                                                                                                                            77\n",
       "Arts, Entertainment, and Recreation                                                                                                     76\n",
       "Professional, Scientific, and Technical Services                                                                                        76\n",
       "Real Estate and Rental and Leasing                                                                                                      73\n",
       "Finance and Insurance                                                                                                                   71\n",
       "Construction                                                                                                                            71\n",
       "Wholesale Trade                                                                                                                         71\n",
       "Information                                                                                                                             70\n",
       "Accommodation and Food Services                                                                                                         69\n",
       "Utilities                                                                                                                               51\n",
       "Mining, Quarrying, and Oil and Gas Extraction                                                                                           49\n",
       "Agriculture, Forestry, Fishing and Hunting                                                                                              48\n",
       "Transportation and Warehousing                                                                                                          34\n",
       "Name: NAICS_TITLE, dtype: int64"
      ]
     },
     "execution_count": 7,
     "metadata": {},
     "output_type": "execute_result"
    }
   ],
   "source": [
    "df_train[\"NAICS_TITLE\"].value_counts()"
   ]
  },
  {
   "cell_type": "code",
   "execution_count": 8,
   "id": "acbb6765-cd93-45ff-9bf7-352708c72b38",
   "metadata": {},
   "outputs": [
    {
     "data": {
      "text/plain": [
       "PRIM_STATE       52\n",
       "NAICS_TITLE      21\n",
       "OCC_TITLE       116\n",
       "A_PCT10        1402\n",
       "A_PCT25        1514\n",
       "A_MEDIAN       1634\n",
       "A_PCT75        1721\n",
       "A_PCT90        1747\n",
       "dtype: int64"
      ]
     },
     "execution_count": 8,
     "metadata": {},
     "output_type": "execute_result"
    }
   ],
   "source": [
    "df_train.nunique()"
   ]
  },
  {
   "cell_type": "code",
   "execution_count": 9,
   "id": "f21d4375-b90b-4986-b3c9-bf8c69b685f2",
   "metadata": {},
   "outputs": [
    {
     "data": {
      "text/plain": [
       "(2297, 8)"
      ]
     },
     "execution_count": 9,
     "metadata": {},
     "output_type": "execute_result"
    }
   ],
   "source": [
    "df_train.shape"
   ]
  },
  {
   "cell_type": "code",
   "execution_count": 10,
   "id": "c4732864-302c-41e7-8bcf-16e8a6bce9b9",
   "metadata": {},
   "outputs": [],
   "source": [
    "df_train.dropna(inplace=True)"
   ]
  },
  {
   "cell_type": "code",
   "execution_count": 11,
   "id": "b1a6b789-2190-453b-bae6-6e211254776e",
   "metadata": {},
   "outputs": [
    {
     "data": {
      "text/plain": [
       "(2158, 8)"
      ]
     },
     "execution_count": 11,
     "metadata": {},
     "output_type": "execute_result"
    }
   ],
   "source": [
    "df_train.shape"
   ]
  },
  {
   "cell_type": "code",
   "execution_count": 12,
   "id": "7be3266e-7741-4348-bf8c-6c28c9eb6d6f",
   "metadata": {},
   "outputs": [],
   "source": [
    "df_Xtrain=pd.get_dummies(df_train,columns=['PRIM_STATE','NAICS_TITLE','OCC_TITLE'])"
   ]
  },
  {
   "cell_type": "code",
   "execution_count": 13,
   "id": "f929ba0c-6938-4d8c-b0b9-93f2d613400f",
   "metadata": {},
   "outputs": [],
   "source": [
    "df1=df_Xtrain.copy()"
   ]
  },
  {
   "cell_type": "code",
   "execution_count": 14,
   "id": "b945ec6a-1bc3-4f38-9141-bba8a05589b8",
   "metadata": {},
   "outputs": [
    {
     "data": {
      "text/plain": [
       "A_PCT10                                                                        0\n",
       "A_PCT25                                                                        0\n",
       "A_MEDIAN                                                                       0\n",
       "A_PCT75                                                                        0\n",
       "A_PCT90                                                                        0\n",
       "                                                                              ..\n",
       "OCC_TITLE_Tour and Travel Guides                                               0\n",
       "OCC_TITLE_Transportation and Material Moving Occupations                       0\n",
       "OCC_TITLE_Vehicle and Mobile Equipment Mechanics, Installers, and Repairers    0\n",
       "OCC_TITLE_Water Transportation Workers                                         0\n",
       "OCC_TITLE_Woodworkers                                                          0\n",
       "Length: 194, dtype: int64"
      ]
     },
     "execution_count": 14,
     "metadata": {},
     "output_type": "execute_result"
    }
   ],
   "source": [
    "df1.isnull().sum()"
   ]
  },
  {
   "cell_type": "code",
   "execution_count": 15,
   "id": "a2fba76f-b9af-4f30-8740-99239695218a",
   "metadata": {},
   "outputs": [],
   "source": [
    "df1.drop(['A_PCT10','A_PCT25','A_MEDIAN','A_PCT75','A_PCT90'],axis=1,inplace=True)"
   ]
  },
  {
   "cell_type": "code",
   "execution_count": 16,
   "id": "081a6d39-dc29-46be-bf5a-e01dfe9e4252",
   "metadata": {},
   "outputs": [
    {
     "data": {
      "text/html": [
       "<div>\n",
       "<style scoped>\n",
       "    .dataframe tbody tr th:only-of-type {\n",
       "        vertical-align: middle;\n",
       "    }\n",
       "\n",
       "    .dataframe tbody tr th {\n",
       "        vertical-align: top;\n",
       "    }\n",
       "\n",
       "    .dataframe thead th {\n",
       "        text-align: right;\n",
       "    }\n",
       "</style>\n",
       "<table border=\"1\" class=\"dataframe\">\n",
       "  <thead>\n",
       "    <tr style=\"text-align: right;\">\n",
       "      <th></th>\n",
       "      <th>PRIM_STATE_AK</th>\n",
       "      <th>PRIM_STATE_AL</th>\n",
       "      <th>PRIM_STATE_AR</th>\n",
       "      <th>PRIM_STATE_AZ</th>\n",
       "      <th>PRIM_STATE_CA</th>\n",
       "      <th>PRIM_STATE_CO</th>\n",
       "      <th>PRIM_STATE_CT</th>\n",
       "      <th>PRIM_STATE_DC</th>\n",
       "      <th>PRIM_STATE_DE</th>\n",
       "      <th>PRIM_STATE_FL</th>\n",
       "      <th>...</th>\n",
       "      <th>OCC_TITLE_Supervisors of Protective Service Workers</th>\n",
       "      <th>OCC_TITLE_Supervisors of Sales Workers</th>\n",
       "      <th>OCC_TITLE_Supervisors of Transportation and Material Moving Workers</th>\n",
       "      <th>OCC_TITLE_Textile, Apparel, and Furnishings Workers</th>\n",
       "      <th>OCC_TITLE_Top Executives</th>\n",
       "      <th>OCC_TITLE_Tour and Travel Guides</th>\n",
       "      <th>OCC_TITLE_Transportation and Material Moving Occupations</th>\n",
       "      <th>OCC_TITLE_Vehicle and Mobile Equipment Mechanics, Installers, and Repairers</th>\n",
       "      <th>OCC_TITLE_Water Transportation Workers</th>\n",
       "      <th>OCC_TITLE_Woodworkers</th>\n",
       "    </tr>\n",
       "  </thead>\n",
       "  <tbody>\n",
       "    <tr>\n",
       "      <th>0</th>\n",
       "      <td>0</td>\n",
       "      <td>0</td>\n",
       "      <td>0</td>\n",
       "      <td>0</td>\n",
       "      <td>0</td>\n",
       "      <td>0</td>\n",
       "      <td>0</td>\n",
       "      <td>0</td>\n",
       "      <td>0</td>\n",
       "      <td>0</td>\n",
       "      <td>...</td>\n",
       "      <td>0</td>\n",
       "      <td>0</td>\n",
       "      <td>1</td>\n",
       "      <td>0</td>\n",
       "      <td>0</td>\n",
       "      <td>0</td>\n",
       "      <td>0</td>\n",
       "      <td>0</td>\n",
       "      <td>0</td>\n",
       "      <td>0</td>\n",
       "    </tr>\n",
       "    <tr>\n",
       "      <th>1</th>\n",
       "      <td>0</td>\n",
       "      <td>0</td>\n",
       "      <td>0</td>\n",
       "      <td>0</td>\n",
       "      <td>0</td>\n",
       "      <td>0</td>\n",
       "      <td>0</td>\n",
       "      <td>0</td>\n",
       "      <td>0</td>\n",
       "      <td>0</td>\n",
       "      <td>...</td>\n",
       "      <td>0</td>\n",
       "      <td>0</td>\n",
       "      <td>0</td>\n",
       "      <td>0</td>\n",
       "      <td>0</td>\n",
       "      <td>0</td>\n",
       "      <td>0</td>\n",
       "      <td>0</td>\n",
       "      <td>0</td>\n",
       "      <td>0</td>\n",
       "    </tr>\n",
       "    <tr>\n",
       "      <th>2</th>\n",
       "      <td>0</td>\n",
       "      <td>0</td>\n",
       "      <td>0</td>\n",
       "      <td>0</td>\n",
       "      <td>0</td>\n",
       "      <td>0</td>\n",
       "      <td>0</td>\n",
       "      <td>0</td>\n",
       "      <td>0</td>\n",
       "      <td>0</td>\n",
       "      <td>...</td>\n",
       "      <td>0</td>\n",
       "      <td>0</td>\n",
       "      <td>0</td>\n",
       "      <td>0</td>\n",
       "      <td>0</td>\n",
       "      <td>0</td>\n",
       "      <td>0</td>\n",
       "      <td>0</td>\n",
       "      <td>0</td>\n",
       "      <td>0</td>\n",
       "    </tr>\n",
       "    <tr>\n",
       "      <th>3</th>\n",
       "      <td>0</td>\n",
       "      <td>0</td>\n",
       "      <td>0</td>\n",
       "      <td>0</td>\n",
       "      <td>0</td>\n",
       "      <td>0</td>\n",
       "      <td>0</td>\n",
       "      <td>0</td>\n",
       "      <td>0</td>\n",
       "      <td>0</td>\n",
       "      <td>...</td>\n",
       "      <td>0</td>\n",
       "      <td>0</td>\n",
       "      <td>0</td>\n",
       "      <td>0</td>\n",
       "      <td>0</td>\n",
       "      <td>0</td>\n",
       "      <td>0</td>\n",
       "      <td>0</td>\n",
       "      <td>0</td>\n",
       "      <td>0</td>\n",
       "    </tr>\n",
       "    <tr>\n",
       "      <th>4</th>\n",
       "      <td>0</td>\n",
       "      <td>0</td>\n",
       "      <td>0</td>\n",
       "      <td>0</td>\n",
       "      <td>0</td>\n",
       "      <td>0</td>\n",
       "      <td>0</td>\n",
       "      <td>0</td>\n",
       "      <td>0</td>\n",
       "      <td>0</td>\n",
       "      <td>...</td>\n",
       "      <td>1</td>\n",
       "      <td>0</td>\n",
       "      <td>0</td>\n",
       "      <td>0</td>\n",
       "      <td>0</td>\n",
       "      <td>0</td>\n",
       "      <td>0</td>\n",
       "      <td>0</td>\n",
       "      <td>0</td>\n",
       "      <td>0</td>\n",
       "    </tr>\n",
       "  </tbody>\n",
       "</table>\n",
       "<p>5 rows × 189 columns</p>\n",
       "</div>"
      ],
      "text/plain": [
       "   PRIM_STATE_AK  PRIM_STATE_AL  PRIM_STATE_AR  PRIM_STATE_AZ  PRIM_STATE_CA  \\\n",
       "0              0              0              0              0              0   \n",
       "1              0              0              0              0              0   \n",
       "2              0              0              0              0              0   \n",
       "3              0              0              0              0              0   \n",
       "4              0              0              0              0              0   \n",
       "\n",
       "   PRIM_STATE_CO  PRIM_STATE_CT  PRIM_STATE_DC  PRIM_STATE_DE  PRIM_STATE_FL  \\\n",
       "0              0              0              0              0              0   \n",
       "1              0              0              0              0              0   \n",
       "2              0              0              0              0              0   \n",
       "3              0              0              0              0              0   \n",
       "4              0              0              0              0              0   \n",
       "\n",
       "   ...  OCC_TITLE_Supervisors of Protective Service Workers  \\\n",
       "0  ...                                                  0     \n",
       "1  ...                                                  0     \n",
       "2  ...                                                  0     \n",
       "3  ...                                                  0     \n",
       "4  ...                                                  1     \n",
       "\n",
       "   OCC_TITLE_Supervisors of Sales Workers  \\\n",
       "0                                       0   \n",
       "1                                       0   \n",
       "2                                       0   \n",
       "3                                       0   \n",
       "4                                       0   \n",
       "\n",
       "   OCC_TITLE_Supervisors of Transportation and Material Moving Workers  \\\n",
       "0                                                  1                     \n",
       "1                                                  0                     \n",
       "2                                                  0                     \n",
       "3                                                  0                     \n",
       "4                                                  0                     \n",
       "\n",
       "   OCC_TITLE_Textile, Apparel, and Furnishings Workers  \\\n",
       "0                                                  0     \n",
       "1                                                  0     \n",
       "2                                                  0     \n",
       "3                                                  0     \n",
       "4                                                  0     \n",
       "\n",
       "   OCC_TITLE_Top Executives  OCC_TITLE_Tour and Travel Guides  \\\n",
       "0                         0                                 0   \n",
       "1                         0                                 0   \n",
       "2                         0                                 0   \n",
       "3                         0                                 0   \n",
       "4                         0                                 0   \n",
       "\n",
       "   OCC_TITLE_Transportation and Material Moving Occupations  \\\n",
       "0                                                  0          \n",
       "1                                                  0          \n",
       "2                                                  0          \n",
       "3                                                  0          \n",
       "4                                                  0          \n",
       "\n",
       "   OCC_TITLE_Vehicle and Mobile Equipment Mechanics, Installers, and Repairers  \\\n",
       "0                                                  0                             \n",
       "1                                                  0                             \n",
       "2                                                  0                             \n",
       "3                                                  0                             \n",
       "4                                                  0                             \n",
       "\n",
       "   OCC_TITLE_Water Transportation Workers  OCC_TITLE_Woodworkers  \n",
       "0                                       0                      0  \n",
       "1                                       0                      0  \n",
       "2                                       0                      0  \n",
       "3                                       0                      0  \n",
       "4                                       0                      0  \n",
       "\n",
       "[5 rows x 189 columns]"
      ]
     },
     "execution_count": 16,
     "metadata": {},
     "output_type": "execute_result"
    }
   ],
   "source": [
    "X=df1\n",
    "X.head()"
   ]
  },
  {
   "cell_type": "code",
   "execution_count": 17,
   "id": "43634590-5f54-45be-9a54-b2b38ccc1503",
   "metadata": {},
   "outputs": [],
   "source": [
    "y=df_train[['A_PCT10','A_PCT25','A_MEDIAN','A_PCT75','A_PCT90']]"
   ]
  },
  {
   "cell_type": "code",
   "execution_count": 18,
   "id": "639ae5b5-85ac-43b2-b6c2-02c1e0761d9a",
   "metadata": {},
   "outputs": [
    {
     "data": {
      "text/html": [
       "<div>\n",
       "<style scoped>\n",
       "    .dataframe tbody tr th:only-of-type {\n",
       "        vertical-align: middle;\n",
       "    }\n",
       "\n",
       "    .dataframe tbody tr th {\n",
       "        vertical-align: top;\n",
       "    }\n",
       "\n",
       "    .dataframe thead th {\n",
       "        text-align: right;\n",
       "    }\n",
       "</style>\n",
       "<table border=\"1\" class=\"dataframe\">\n",
       "  <thead>\n",
       "    <tr style=\"text-align: right;\">\n",
       "      <th></th>\n",
       "      <th>A_PCT10</th>\n",
       "      <th>A_PCT25</th>\n",
       "      <th>A_MEDIAN</th>\n",
       "      <th>A_PCT75</th>\n",
       "      <th>A_PCT90</th>\n",
       "    </tr>\n",
       "  </thead>\n",
       "  <tbody>\n",
       "    <tr>\n",
       "      <th>0</th>\n",
       "      <td>32350.0</td>\n",
       "      <td>40200.0</td>\n",
       "      <td>50790.0</td>\n",
       "      <td>62560.0</td>\n",
       "      <td>78520.0</td>\n",
       "    </tr>\n",
       "    <tr>\n",
       "      <th>1</th>\n",
       "      <td>47860.0</td>\n",
       "      <td>61600.0</td>\n",
       "      <td>87810.0</td>\n",
       "      <td>107460.0</td>\n",
       "      <td>153600.0</td>\n",
       "    </tr>\n",
       "    <tr>\n",
       "      <th>2</th>\n",
       "      <td>59240.0</td>\n",
       "      <td>63050.0</td>\n",
       "      <td>89740.0</td>\n",
       "      <td>126320.0</td>\n",
       "      <td>149070.0</td>\n",
       "    </tr>\n",
       "    <tr>\n",
       "      <th>3</th>\n",
       "      <td>37320.0</td>\n",
       "      <td>47630.0</td>\n",
       "      <td>60550.0</td>\n",
       "      <td>77450.0</td>\n",
       "      <td>98990.0</td>\n",
       "    </tr>\n",
       "    <tr>\n",
       "      <th>4</th>\n",
       "      <td>50130.0</td>\n",
       "      <td>63840.0</td>\n",
       "      <td>81770.0</td>\n",
       "      <td>104530.0</td>\n",
       "      <td>133180.0</td>\n",
       "    </tr>\n",
       "  </tbody>\n",
       "</table>\n",
       "</div>"
      ],
      "text/plain": [
       "   A_PCT10  A_PCT25  A_MEDIAN   A_PCT75   A_PCT90\n",
       "0  32350.0  40200.0   50790.0   62560.0   78520.0\n",
       "1  47860.0  61600.0   87810.0  107460.0  153600.0\n",
       "2  59240.0  63050.0   89740.0  126320.0  149070.0\n",
       "3  37320.0  47630.0   60550.0   77450.0   98990.0\n",
       "4  50130.0  63840.0   81770.0  104530.0  133180.0"
      ]
     },
     "execution_count": 18,
     "metadata": {},
     "output_type": "execute_result"
    }
   ],
   "source": [
    "y.head()"
   ]
  },
  {
   "cell_type": "code",
   "execution_count": 19,
   "id": "cdce4cc2-3f59-4b30-ad27-6559b3266620",
   "metadata": {},
   "outputs": [
    {
     "data": {
      "text/plain": [
       "pandas.core.frame.DataFrame"
      ]
     },
     "execution_count": 19,
     "metadata": {},
     "output_type": "execute_result"
    }
   ],
   "source": [
    "type(y)"
   ]
  },
  {
   "cell_type": "code",
   "execution_count": 20,
   "id": "4017c237-02b2-46f4-9232-d4783633ecbb",
   "metadata": {},
   "outputs": [
    {
     "data": {
      "text/plain": [
       "A_PCT10     0\n",
       "A_PCT25     0\n",
       "A_MEDIAN    0\n",
       "A_PCT75     0\n",
       "A_PCT90     0\n",
       "dtype: int64"
      ]
     },
     "execution_count": 20,
     "metadata": {},
     "output_type": "execute_result"
    }
   ],
   "source": [
    "y.isnull().sum()"
   ]
  },
  {
   "cell_type": "code",
   "execution_count": 21,
   "id": "d1f22e18-883b-4c31-a1b1-51447f1bc5b1",
   "metadata": {},
   "outputs": [
    {
     "data": {
      "text/plain": [
       "((2158, 189), (2158, 5))"
      ]
     },
     "execution_count": 21,
     "metadata": {},
     "output_type": "execute_result"
    }
   ],
   "source": [
    "X.shape, y.shape"
   ]
  },
  {
   "cell_type": "code",
   "execution_count": 22,
   "id": "4b5c27dd-d6f4-4ce6-850c-1817104a3003",
   "metadata": {},
   "outputs": [],
   "source": [
    "from sklearn.model_selection import train_test_split"
   ]
  },
  {
   "cell_type": "code",
   "execution_count": 23,
   "id": "58232cc6-27d1-455c-98dd-2f2d29ce31c3",
   "metadata": {},
   "outputs": [],
   "source": [
    "X_train, X_test, y_train, y_test = train_test_split(X,y,test_size=0.2,random_state=0)"
   ]
  },
  {
   "cell_type": "code",
   "execution_count": 24,
   "id": "06817c67-083d-445c-ad17-f6b1417f14dd",
   "metadata": {},
   "outputs": [
    {
     "data": {
      "text/plain": [
       "KNeighborsRegressor()"
      ]
     },
     "execution_count": 24,
     "metadata": {},
     "output_type": "execute_result"
    }
   ],
   "source": [
    "from sklearn.neighbors import KNeighborsRegressor\n",
    "# define model\n",
    "knn_model = KNeighborsRegressor()\n",
    "# fit model\n",
    "knn_model.fit(X_train,y_train)\n"
   ]
  },
  {
   "cell_type": "code",
   "execution_count": 25,
   "id": "bf7e8655-16d7-45d0-839b-7d2f9cd164c7",
   "metadata": {},
   "outputs": [],
   "source": [
    "y_pred= knn_model.predict(X_test)"
   ]
  },
  {
   "cell_type": "code",
   "execution_count": 26,
   "id": "3d4cb328-fe7f-4f22-b40c-7be2e1cd2328",
   "metadata": {},
   "outputs": [
    {
     "data": {
      "text/plain": [
       "0.34452482683254865"
      ]
     },
     "execution_count": 26,
     "metadata": {},
     "output_type": "execute_result"
    }
   ],
   "source": [
    "knn_model.score(X_test,y_test)"
   ]
  },
  {
   "cell_type": "code",
   "execution_count": 27,
   "id": "f12bc6b3-dbab-4554-9707-6513da6685f8",
   "metadata": {},
   "outputs": [
    {
     "data": {
      "text/plain": [
       "0.5396795701039122"
      ]
     },
     "execution_count": 27,
     "metadata": {},
     "output_type": "execute_result"
    }
   ],
   "source": [
    "knn_model.score(X_train,y_train)"
   ]
  },
  {
   "cell_type": "code",
   "execution_count": 28,
   "id": "e1ad2127-0b3b-4422-9bcc-f232cd7eee3c",
   "metadata": {},
   "outputs": [],
   "source": [
    "from sklearn.tree import DecisionTreeRegressor\n",
    "dt_model=DecisionTreeRegressor()\n"
   ]
  },
  {
   "cell_type": "code",
   "execution_count": 29,
   "id": "3904a007-c2f9-4e22-a33a-50050332f5cc",
   "metadata": {},
   "outputs": [
    {
     "data": {
      "text/plain": [
       "DecisionTreeRegressor()"
      ]
     },
     "execution_count": 29,
     "metadata": {},
     "output_type": "execute_result"
    }
   ],
   "source": [
    "dt_model.fit(X_train,y_train)"
   ]
  },
  {
   "cell_type": "code",
   "execution_count": 30,
   "id": "7b4190aa-4cf4-4615-b444-db7bf25d5f55",
   "metadata": {},
   "outputs": [
    {
     "data": {
      "text/plain": [
       "0.601676413443436"
      ]
     },
     "execution_count": 30,
     "metadata": {},
     "output_type": "execute_result"
    }
   ],
   "source": [
    "dt_model.score(X_test,y_test)"
   ]
  },
  {
   "cell_type": "code",
   "execution_count": 31,
   "id": "4da00c66-d833-470f-9717-e07e2458b08e",
   "metadata": {},
   "outputs": [
    {
     "data": {
      "text/plain": [
       "1.0"
      ]
     },
     "execution_count": 31,
     "metadata": {},
     "output_type": "execute_result"
    }
   ],
   "source": [
    "dt_model.score(X_train,y_train)"
   ]
  },
  {
   "cell_type": "markdown",
   "id": "4f8cd3c3-2c1d-4aaa-8c45-3f69c3ffe8c8",
   "metadata": {},
   "source": [
    "## LinearRegression"
   ]
  },
  {
   "cell_type": "code",
   "execution_count": 32,
   "id": "4214d47c-0fc2-400a-a74b-e1f82ea57415",
   "metadata": {},
   "outputs": [],
   "source": [
    "from sklearn.linear_model import LinearRegression\n",
    "lr_model = LinearRegression()"
   ]
  },
  {
   "cell_type": "code",
   "execution_count": 33,
   "id": "d8ce5c41-1c12-4def-8e07-25a02b15d913",
   "metadata": {},
   "outputs": [
    {
     "data": {
      "text/plain": [
       "LinearRegression()"
      ]
     },
     "execution_count": 33,
     "metadata": {},
     "output_type": "execute_result"
    }
   ],
   "source": [
    "lr_model.fit(X_train,y_train)"
   ]
  },
  {
   "cell_type": "code",
   "execution_count": 34,
   "id": "e7c97807-0e67-4ec9-b14d-a9add89864ec",
   "metadata": {},
   "outputs": [
    {
     "data": {
      "text/plain": [
       "-9.983663838872562e+21"
      ]
     },
     "execution_count": 34,
     "metadata": {},
     "output_type": "execute_result"
    }
   ],
   "source": [
    "lr_model.score(X_test,y_test)"
   ]
  },
  {
   "cell_type": "code",
   "execution_count": 35,
   "id": "0fe2f5b3",
   "metadata": {
    "scrolled": true
   },
   "outputs": [
    {
     "data": {
      "text/plain": [
       "0.8380475590084091"
      ]
     },
     "execution_count": 35,
     "metadata": {},
     "output_type": "execute_result"
    }
   ],
   "source": [
    "lr_model.score(X_train,y_train)"
   ]
  },
  {
   "cell_type": "code",
   "execution_count": 36,
   "id": "0289c63d",
   "metadata": {},
   "outputs": [],
   "source": [
    "y_predicted=lr_model.predict(X_test)"
   ]
  },
  {
   "cell_type": "code",
   "execution_count": 37,
   "id": "261fd629",
   "metadata": {
    "scrolled": true
   },
   "outputs": [
    {
     "data": {
      "text/plain": [
       "array([[ 17867.5  ,  20544.   ,  23552.   ,  29056.   ,  36992.   ],\n",
       "       [ 22011.   ,  26288.   ,  35168.   ,  53568.   ,  82688.   ],\n",
       "       [ 41222.75 ,  57056.   ,  80704.   , 106368.   , 135168.   ],\n",
       "       ...,\n",
       "       [ 21044.75 ,  26240.   ,  33952.   ,  43776.   ,  59008.   ],\n",
       "       [ 26618.125,  31200.   ,  43008.   ,  60416.   ,  88832.   ],\n",
       "       [ 43773.75 ,  58320.   ,  80640.   , 105600.   , 132352.   ]])"
      ]
     },
     "execution_count": 37,
     "metadata": {},
     "output_type": "execute_result"
    }
   ],
   "source": [
    "y_predicted"
   ]
  },
  {
   "cell_type": "markdown",
   "id": "0a9c5018",
   "metadata": {},
   "source": [
    "# Random Forest:\n"
   ]
  },
  {
   "cell_type": "code",
   "execution_count": 38,
   "id": "94828a48",
   "metadata": {},
   "outputs": [
    {
     "data": {
      "text/plain": [
       "RandomForestRegressor(random_state=0)"
      ]
     },
     "execution_count": 38,
     "metadata": {},
     "output_type": "execute_result"
    }
   ],
   "source": [
    "from sklearn.ensemble import RandomForestRegressor\n",
    "regr = RandomForestRegressor(random_state=0)\n",
    "regr.fit(X_train, y_train)\n"
   ]
  },
  {
   "cell_type": "code",
   "execution_count": 39,
   "id": "e9fbf31a",
   "metadata": {},
   "outputs": [
    {
     "data": {
      "text/plain": [
       "0.6842870841698085"
      ]
     },
     "execution_count": 39,
     "metadata": {},
     "output_type": "execute_result"
    }
   ],
   "source": [
    "regr.score(X_test,y_test)"
   ]
  },
  {
   "cell_type": "code",
   "execution_count": 40,
   "id": "921c3549",
   "metadata": {},
   "outputs": [
    {
     "data": {
      "text/plain": [
       "0.9552580898676428"
      ]
     },
     "execution_count": 40,
     "metadata": {},
     "output_type": "execute_result"
    }
   ],
   "source": [
    "regr.score(X_train,y_train)"
   ]
  },
  {
   "cell_type": "code",
   "execution_count": 41,
   "id": "b57df154",
   "metadata": {},
   "outputs": [],
   "source": [
    "y_predicted=regr.predict(X_test)"
   ]
  },
  {
   "cell_type": "code",
   "execution_count": 42,
   "id": "c9532124",
   "metadata": {
    "scrolled": true
   },
   "outputs": [
    {
     "data": {
      "text/plain": [
       "array([[ 21551. ,  25471.6,  30639.3,  36963.7,  47454.2],\n",
       "       [ 19551.1,  23248.9,  29582.1,  47875.4,  78898.8],\n",
       "       [ 43218.8,  58513.1,  79002.1, 102118.6, 129682. ],\n",
       "       ...,\n",
       "       [ 23376.3,  29084.9,  36854.8,  47362.4,  60563.2],\n",
       "       [ 24003.5,  28951.9,  33509.7,  47849.1,  65451.1],\n",
       "       [ 47795.5,  63094.8,  88283.1, 117052.4, 148768.2]])"
      ]
     },
     "execution_count": 42,
     "metadata": {},
     "output_type": "execute_result"
    }
   ],
   "source": [
    "y_predicted"
   ]
  },
  {
   "cell_type": "markdown",
   "id": "f19cc196",
   "metadata": {},
   "source": [
    "# Random Forest With Cross Validation:"
   ]
  },
  {
   "cell_type": "code",
   "execution_count": 43,
   "id": "b2038335",
   "metadata": {},
   "outputs": [],
   "source": [
    "from sklearn.ensemble import RandomForestRegressor\n",
    "test_scores=[]\n",
    "train_scores=[]\n",
    "for i in [50,100,150,200,250,300,350,400,450,500]:\n",
    "  regr = RandomForestRegressor(n_estimators=i, random_state=0)\n",
    "  regr.fit(X_train, y_train)\n",
    "  test_scores.append(regr.score(X_test,y_test))\n",
    "  train_scores.append(regr.score(X_train,y_train))"
   ]
  },
  {
   "cell_type": "code",
   "execution_count": 44,
   "id": "756bbfb0",
   "metadata": {
    "scrolled": false
   },
   "outputs": [
    {
     "data": {
      "text/plain": [
       "[0.686804806414474,\n",
       " 0.6842870841698085,\n",
       " 0.6867394672430615,\n",
       " 0.6857528425527659,\n",
       " 0.6874319517204187,\n",
       " 0.6883199825859517,\n",
       " 0.6893802816085014,\n",
       " 0.6899180839445751,\n",
       " 0.6901822503572121,\n",
       " 0.6899380176518345]"
      ]
     },
     "execution_count": 44,
     "metadata": {},
     "output_type": "execute_result"
    }
   ],
   "source": [
    "test_scores"
   ]
  },
  {
   "cell_type": "code",
   "execution_count": 45,
   "id": "ef5549e6",
   "metadata": {
    "scrolled": false
   },
   "outputs": [
    {
     "data": {
      "text/plain": [
       "[0.9528277419226143,\n",
       " 0.9552580898676428,\n",
       " 0.9558513114634619,\n",
       " 0.9560470467472928,\n",
       " 0.9565350959532462,\n",
       " 0.9569008112135226,\n",
       " 0.9570448213107344,\n",
       " 0.9569551088169559,\n",
       " 0.9570802294977978,\n",
       " 0.9570438964450145]"
      ]
     },
     "execution_count": 45,
     "metadata": {},
     "output_type": "execute_result"
    }
   ],
   "source": [
    "train_scores"
   ]
  },
  {
   "cell_type": "code",
   "execution_count": 46,
   "id": "fa92c5fa",
   "metadata": {},
   "outputs": [],
   "source": [
    "import numpy as np"
   ]
  },
  {
   "cell_type": "code",
   "execution_count": 47,
   "id": "1c559817",
   "metadata": {},
   "outputs": [
    {
     "data": {
      "text/plain": [
       "0.11000000000000001"
      ]
     },
     "execution_count": 47,
     "metadata": {},
     "output_type": "execute_result"
    }
   ],
   "source": [
    "A=np.array([10000,30000,60000,80000,100000])\n",
    "B=np.array([11000,33000,54000,88000,120000])\n",
    "W=np.array([0.1,0.2,0.4,0.2,0.1])\n",
    "NWAE=W[0]*abs(A[0]-B[0])/A[0]+W[1]*abs(A[1]-B[1])/A[1]+W[2]*abs(A[2]-B[2])/A[2]+W[3]*abs(A[3]-B[3])/A[3]+W[4]*abs(A[4]-B[4])/A[4]\n",
    "NWAE"
   ]
  },
  {
   "cell_type": "code",
   "execution_count": 48,
   "id": "6fd21992",
   "metadata": {},
   "outputs": [],
   "source": [
    "import numpy as np\n",
    "from sklearn.model_selection import RandomizedSearchCV\n",
    "# Number of trees in random forest\n",
    "n_estimators = [int(x) for x in np.linspace(start = 200, stop = 2000, num = 10)]\n",
    "# Number of features to consider at every split\n",
    "max_features = ['auto', 'sqrt']\n",
    "# Maximum number of levels in tree\n",
    "max_depth = [int(x) for x in np.linspace(10, 110, num = 11)]\n",
    "max_depth.append(None)\n",
    "# Minimum number of samples required to split a node\n",
    "min_samples_split = [2, 5, 10]\n",
    "# Minimum number of samples required at each leaf node\n",
    "min_samples_leaf = [1, 2, 4]\n",
    "# Method of selecting samples for training each tree\n",
    "bootstrap = [True, False]\n",
    "# Create the random grid\n",
    "random_grid = {'n_estimators': n_estimators,\n",
    "               'max_features': max_features,\n",
    "               'max_depth': max_depth,\n",
    "               'min_samples_split': min_samples_split,\n",
    "               'min_samples_leaf': min_samples_leaf,\n",
    "               'bootstrap': bootstrap}"
   ]
  },
  {
   "cell_type": "code",
   "execution_count": 49,
   "id": "e4cfd179",
   "metadata": {},
   "outputs": [
    {
     "name": "stdout",
     "output_type": "stream",
     "text": [
      "Fitting 3 folds for each of 100 candidates, totalling 300 fits\n",
      "[CV] END bootstrap=True, max_depth=30, max_features=sqrt, min_samples_leaf=1, min_samples_split=5, n_estimators=400; total time=   9.4s\n",
      "[CV] END bootstrap=True, max_depth=30, max_features=sqrt, min_samples_leaf=1, min_samples_split=5, n_estimators=400; total time=   1.0s\n",
      "[CV] END bootstrap=True, max_depth=30, max_features=sqrt, min_samples_leaf=1, min_samples_split=5, n_estimators=400; total time=   0.8s\n",
      "[CV] END bootstrap=True, max_depth=10, max_features=sqrt, min_samples_leaf=1, min_samples_split=5, n_estimators=2000; total time=   2.4s\n",
      "[CV] END bootstrap=True, max_depth=10, max_features=sqrt, min_samples_leaf=1, min_samples_split=5, n_estimators=2000; total time=   2.3s\n",
      "[CV] END bootstrap=True, max_depth=10, max_features=sqrt, min_samples_leaf=1, min_samples_split=5, n_estimators=2000; total time=   2.3s\n",
      "[CV] END bootstrap=False, max_depth=10, max_features=sqrt, min_samples_leaf=2, min_samples_split=5, n_estimators=1200; total time=   1.5s\n",
      "[CV] END bootstrap=False, max_depth=10, max_features=sqrt, min_samples_leaf=2, min_samples_split=5, n_estimators=1200; total time=   1.5s\n",
      "[CV] END bootstrap=False, max_depth=10, max_features=sqrt, min_samples_leaf=2, min_samples_split=5, n_estimators=1200; total time=   1.4s\n",
      "[CV] END bootstrap=False, max_depth=30, max_features=auto, min_samples_leaf=4, min_samples_split=2, n_estimators=2000; total time=  13.8s\n",
      "[CV] END bootstrap=False, max_depth=30, max_features=auto, min_samples_leaf=4, min_samples_split=2, n_estimators=2000; total time=  15.8s\n",
      "[CV] END bootstrap=False, max_depth=30, max_features=auto, min_samples_leaf=4, min_samples_split=2, n_estimators=2000; total time=  14.1s\n",
      "[CV] END bootstrap=True, max_depth=10, max_features=sqrt, min_samples_leaf=4, min_samples_split=2, n_estimators=1600; total time=   2.1s\n",
      "[CV] END bootstrap=True, max_depth=10, max_features=sqrt, min_samples_leaf=4, min_samples_split=2, n_estimators=1600; total time=   2.0s\n",
      "[CV] END bootstrap=True, max_depth=10, max_features=sqrt, min_samples_leaf=4, min_samples_split=2, n_estimators=1600; total time=   1.9s\n",
      "[CV] END bootstrap=False, max_depth=30, max_features=sqrt, min_samples_leaf=4, min_samples_split=5, n_estimators=800; total time=   1.2s\n",
      "[CV] END bootstrap=False, max_depth=30, max_features=sqrt, min_samples_leaf=4, min_samples_split=5, n_estimators=800; total time=   1.2s\n",
      "[CV] END bootstrap=False, max_depth=30, max_features=sqrt, min_samples_leaf=4, min_samples_split=5, n_estimators=800; total time=   1.2s\n",
      "[CV] END bootstrap=False, max_depth=100, max_features=sqrt, min_samples_leaf=2, min_samples_split=5, n_estimators=1000; total time=   2.7s\n",
      "[CV] END bootstrap=False, max_depth=100, max_features=sqrt, min_samples_leaf=2, min_samples_split=5, n_estimators=1000; total time=   2.5s\n",
      "[CV] END bootstrap=False, max_depth=100, max_features=sqrt, min_samples_leaf=2, min_samples_split=5, n_estimators=1000; total time=   2.2s\n",
      "[CV] END bootstrap=False, max_depth=60, max_features=sqrt, min_samples_leaf=1, min_samples_split=5, n_estimators=600; total time=   1.8s\n",
      "[CV] END bootstrap=False, max_depth=60, max_features=sqrt, min_samples_leaf=1, min_samples_split=5, n_estimators=600; total time=   1.6s\n",
      "[CV] END bootstrap=False, max_depth=60, max_features=sqrt, min_samples_leaf=1, min_samples_split=5, n_estimators=600; total time=   1.7s\n",
      "[CV] END bootstrap=False, max_depth=50, max_features=auto, min_samples_leaf=1, min_samples_split=2, n_estimators=1000; total time=  10.0s\n",
      "[CV] END bootstrap=False, max_depth=50, max_features=auto, min_samples_leaf=1, min_samples_split=2, n_estimators=1000; total time=  13.1s\n",
      "[CV] END bootstrap=False, max_depth=50, max_features=auto, min_samples_leaf=1, min_samples_split=2, n_estimators=1000; total time=   9.6s\n",
      "[CV] END bootstrap=False, max_depth=10, max_features=auto, min_samples_leaf=4, min_samples_split=5, n_estimators=1800; total time=   6.8s\n",
      "[CV] END bootstrap=False, max_depth=10, max_features=auto, min_samples_leaf=4, min_samples_split=5, n_estimators=1800; total time=   6.9s\n",
      "[CV] END bootstrap=False, max_depth=10, max_features=auto, min_samples_leaf=4, min_samples_split=5, n_estimators=1800; total time=   6.8s\n",
      "[CV] END bootstrap=True, max_depth=70, max_features=auto, min_samples_leaf=4, min_samples_split=10, n_estimators=400; total time=   2.4s\n",
      "[CV] END bootstrap=True, max_depth=70, max_features=auto, min_samples_leaf=4, min_samples_split=10, n_estimators=400; total time=   2.5s\n",
      "[CV] END bootstrap=True, max_depth=70, max_features=auto, min_samples_leaf=4, min_samples_split=10, n_estimators=400; total time=   2.3s\n",
      "[CV] END bootstrap=False, max_depth=90, max_features=sqrt, min_samples_leaf=1, min_samples_split=5, n_estimators=800; total time=   2.3s\n",
      "[CV] END bootstrap=False, max_depth=90, max_features=sqrt, min_samples_leaf=1, min_samples_split=5, n_estimators=800; total time=   2.3s\n",
      "[CV] END bootstrap=False, max_depth=90, max_features=sqrt, min_samples_leaf=1, min_samples_split=5, n_estimators=800; total time=   2.4s\n",
      "[CV] END bootstrap=False, max_depth=10, max_features=sqrt, min_samples_leaf=1, min_samples_split=10, n_estimators=2000; total time=   2.3s\n",
      "[CV] END bootstrap=False, max_depth=10, max_features=sqrt, min_samples_leaf=1, min_samples_split=10, n_estimators=2000; total time=   2.1s\n",
      "[CV] END bootstrap=False, max_depth=10, max_features=sqrt, min_samples_leaf=1, min_samples_split=10, n_estimators=2000; total time=   2.2s\n",
      "[CV] END bootstrap=False, max_depth=10, max_features=sqrt, min_samples_leaf=2, min_samples_split=5, n_estimators=1600; total time=   1.8s\n",
      "[CV] END bootstrap=False, max_depth=10, max_features=sqrt, min_samples_leaf=2, min_samples_split=5, n_estimators=1600; total time=   1.8s\n",
      "[CV] END bootstrap=False, max_depth=10, max_features=sqrt, min_samples_leaf=2, min_samples_split=5, n_estimators=1600; total time=   1.8s\n",
      "[CV] END bootstrap=False, max_depth=30, max_features=sqrt, min_samples_leaf=2, min_samples_split=10, n_estimators=800; total time=   1.3s\n",
      "[CV] END bootstrap=False, max_depth=30, max_features=sqrt, min_samples_leaf=2, min_samples_split=10, n_estimators=800; total time=   1.2s\n",
      "[CV] END bootstrap=False, max_depth=30, max_features=sqrt, min_samples_leaf=2, min_samples_split=10, n_estimators=800; total time=   1.3s\n",
      "[CV] END bootstrap=False, max_depth=50, max_features=auto, min_samples_leaf=4, min_samples_split=2, n_estimators=1800; total time=  15.0s\n",
      "[CV] END bootstrap=False, max_depth=50, max_features=auto, min_samples_leaf=4, min_samples_split=2, n_estimators=1800; total time=  16.7s\n",
      "[CV] END bootstrap=False, max_depth=50, max_features=auto, min_samples_leaf=4, min_samples_split=2, n_estimators=1800; total time=  14.8s\n",
      "[CV] END bootstrap=False, max_depth=70, max_features=auto, min_samples_leaf=2, min_samples_split=5, n_estimators=600; total time=   6.1s\n",
      "[CV] END bootstrap=False, max_depth=70, max_features=auto, min_samples_leaf=2, min_samples_split=5, n_estimators=600; total time=   8.7s\n",
      "[CV] END bootstrap=False, max_depth=70, max_features=auto, min_samples_leaf=2, min_samples_split=5, n_estimators=600; total time=   5.6s\n",
      "[CV] END bootstrap=True, max_depth=20, max_features=sqrt, min_samples_leaf=1, min_samples_split=2, n_estimators=1000; total time=   1.6s\n",
      "[CV] END bootstrap=True, max_depth=20, max_features=sqrt, min_samples_leaf=1, min_samples_split=2, n_estimators=1000; total time=   1.5s\n",
      "[CV] END bootstrap=True, max_depth=20, max_features=sqrt, min_samples_leaf=1, min_samples_split=2, n_estimators=1000; total time=   1.6s\n",
      "[CV] END bootstrap=False, max_depth=110, max_features=auto, min_samples_leaf=2, min_samples_split=10, n_estimators=1800; total time=  19.8s\n",
      "[CV] END bootstrap=False, max_depth=110, max_features=auto, min_samples_leaf=2, min_samples_split=10, n_estimators=1800; total time=  27.7s\n",
      "[CV] END bootstrap=False, max_depth=110, max_features=auto, min_samples_leaf=2, min_samples_split=10, n_estimators=1800; total time=  17.7s\n",
      "[CV] END bootstrap=True, max_depth=80, max_features=auto, min_samples_leaf=1, min_samples_split=5, n_estimators=600; total time=   5.8s\n",
      "[CV] END bootstrap=True, max_depth=80, max_features=auto, min_samples_leaf=1, min_samples_split=5, n_estimators=600; total time=   5.7s\n",
      "[CV] END bootstrap=True, max_depth=80, max_features=auto, min_samples_leaf=1, min_samples_split=5, n_estimators=600; total time=   5.0s\n",
      "[CV] END bootstrap=False, max_depth=30, max_features=sqrt, min_samples_leaf=1, min_samples_split=10, n_estimators=1800; total time=   2.9s\n",
      "[CV] END bootstrap=False, max_depth=30, max_features=sqrt, min_samples_leaf=1, min_samples_split=10, n_estimators=1800; total time=   3.1s\n",
      "[CV] END bootstrap=False, max_depth=30, max_features=sqrt, min_samples_leaf=1, min_samples_split=10, n_estimators=1800; total time=   3.0s\n",
      "[CV] END bootstrap=False, max_depth=70, max_features=sqrt, min_samples_leaf=1, min_samples_split=5, n_estimators=1600; total time=   4.2s\n",
      "[CV] END bootstrap=False, max_depth=70, max_features=sqrt, min_samples_leaf=1, min_samples_split=5, n_estimators=1600; total time=   4.1s\n",
      "[CV] END bootstrap=False, max_depth=70, max_features=sqrt, min_samples_leaf=1, min_samples_split=5, n_estimators=1600; total time=   4.3s\n",
      "[CV] END bootstrap=True, max_depth=80, max_features=sqrt, min_samples_leaf=4, min_samples_split=5, n_estimators=1400; total time=   2.2s\n",
      "[CV] END bootstrap=True, max_depth=80, max_features=sqrt, min_samples_leaf=4, min_samples_split=5, n_estimators=1400; total time=   2.2s\n",
      "[CV] END bootstrap=True, max_depth=80, max_features=sqrt, min_samples_leaf=4, min_samples_split=5, n_estimators=1400; total time=   2.3s\n",
      "[CV] END bootstrap=True, max_depth=None, max_features=auto, min_samples_leaf=2, min_samples_split=2, n_estimators=1800; total time=  16.0s\n",
      "[CV] END bootstrap=True, max_depth=None, max_features=auto, min_samples_leaf=2, min_samples_split=2, n_estimators=1800; total time=  15.3s\n",
      "[CV] END bootstrap=True, max_depth=None, max_features=auto, min_samples_leaf=2, min_samples_split=2, n_estimators=1800; total time=  14.4s\n",
      "[CV] END bootstrap=False, max_depth=80, max_features=sqrt, min_samples_leaf=1, min_samples_split=5, n_estimators=1400; total time=   4.2s\n",
      "[CV] END bootstrap=False, max_depth=80, max_features=sqrt, min_samples_leaf=1, min_samples_split=5, n_estimators=1400; total time=   4.0s\n",
      "[CV] END bootstrap=False, max_depth=80, max_features=sqrt, min_samples_leaf=1, min_samples_split=5, n_estimators=1400; total time=   3.9s\n",
      "[CV] END bootstrap=False, max_depth=None, max_features=sqrt, min_samples_leaf=1, min_samples_split=2, n_estimators=400; total time=   1.4s\n",
      "[CV] END bootstrap=False, max_depth=None, max_features=sqrt, min_samples_leaf=1, min_samples_split=2, n_estimators=400; total time=   1.5s\n",
      "[CV] END bootstrap=False, max_depth=None, max_features=sqrt, min_samples_leaf=1, min_samples_split=2, n_estimators=400; total time=   1.3s\n",
      "[CV] END bootstrap=False, max_depth=40, max_features=auto, min_samples_leaf=1, min_samples_split=2, n_estimators=1400; total time=  12.2s\n",
      "[CV] END bootstrap=False, max_depth=40, max_features=auto, min_samples_leaf=1, min_samples_split=2, n_estimators=1400; total time=  15.8s\n",
      "[CV] END bootstrap=False, max_depth=40, max_features=auto, min_samples_leaf=1, min_samples_split=2, n_estimators=1400; total time=  13.4s\n",
      "[CV] END bootstrap=True, max_depth=20, max_features=sqrt, min_samples_leaf=2, min_samples_split=5, n_estimators=1000; total time=   1.5s\n",
      "[CV] END bootstrap=True, max_depth=20, max_features=sqrt, min_samples_leaf=2, min_samples_split=5, n_estimators=1000; total time=   1.5s\n",
      "[CV] END bootstrap=True, max_depth=20, max_features=sqrt, min_samples_leaf=2, min_samples_split=5, n_estimators=1000; total time=   1.3s\n",
      "[CV] END bootstrap=False, max_depth=100, max_features=auto, min_samples_leaf=4, min_samples_split=10, n_estimators=2000; total time=  19.0s\n",
      "[CV] END bootstrap=False, max_depth=100, max_features=auto, min_samples_leaf=4, min_samples_split=10, n_estimators=2000; total time=  20.5s\n",
      "[CV] END bootstrap=False, max_depth=100, max_features=auto, min_samples_leaf=4, min_samples_split=10, n_estimators=2000; total time=  17.3s\n",
      "[CV] END bootstrap=True, max_depth=20, max_features=sqrt, min_samples_leaf=2, min_samples_split=2, n_estimators=1200; total time=   1.6s\n",
      "[CV] END bootstrap=True, max_depth=20, max_features=sqrt, min_samples_leaf=2, min_samples_split=2, n_estimators=1200; total time=   1.6s\n",
      "[CV] END bootstrap=True, max_depth=20, max_features=sqrt, min_samples_leaf=2, min_samples_split=2, n_estimators=1200; total time=   1.6s\n",
      "[CV] END bootstrap=False, max_depth=20, max_features=sqrt, min_samples_leaf=4, min_samples_split=10, n_estimators=1200; total time=   1.6s\n",
      "[CV] END bootstrap=False, max_depth=20, max_features=sqrt, min_samples_leaf=4, min_samples_split=10, n_estimators=1200; total time=   1.6s\n",
      "[CV] END bootstrap=False, max_depth=20, max_features=sqrt, min_samples_leaf=4, min_samples_split=10, n_estimators=1200; total time=   1.6s\n",
      "[CV] END bootstrap=False, max_depth=50, max_features=sqrt, min_samples_leaf=2, min_samples_split=2, n_estimators=800; total time=   1.5s\n",
      "[CV] END bootstrap=False, max_depth=50, max_features=sqrt, min_samples_leaf=2, min_samples_split=2, n_estimators=800; total time=   1.4s\n",
      "[CV] END bootstrap=False, max_depth=50, max_features=sqrt, min_samples_leaf=2, min_samples_split=2, n_estimators=800; total time=   1.6s\n",
      "[CV] END bootstrap=False, max_depth=100, max_features=sqrt, min_samples_leaf=1, min_samples_split=5, n_estimators=800; total time=   2.4s\n",
      "[CV] END bootstrap=False, max_depth=100, max_features=sqrt, min_samples_leaf=1, min_samples_split=5, n_estimators=800; total time=   2.4s\n",
      "[CV] END bootstrap=False, max_depth=100, max_features=sqrt, min_samples_leaf=1, min_samples_split=5, n_estimators=800; total time=   2.3s\n",
      "[CV] END bootstrap=True, max_depth=50, max_features=sqrt, min_samples_leaf=4, min_samples_split=10, n_estimators=800; total time=   1.3s\n",
      "[CV] END bootstrap=True, max_depth=50, max_features=sqrt, min_samples_leaf=4, min_samples_split=10, n_estimators=800; total time=   1.2s\n",
      "[CV] END bootstrap=True, max_depth=50, max_features=sqrt, min_samples_leaf=4, min_samples_split=10, n_estimators=800; total time=   1.2s\n",
      "[CV] END bootstrap=True, max_depth=90, max_features=sqrt, min_samples_leaf=4, min_samples_split=2, n_estimators=1800; total time=   2.6s\n",
      "[CV] END bootstrap=True, max_depth=90, max_features=sqrt, min_samples_leaf=4, min_samples_split=2, n_estimators=1800; total time=   2.6s\n",
      "[CV] END bootstrap=True, max_depth=90, max_features=sqrt, min_samples_leaf=4, min_samples_split=2, n_estimators=1800; total time=   2.6s\n",
      "[CV] END bootstrap=False, max_depth=20, max_features=sqrt, min_samples_leaf=2, min_samples_split=10, n_estimators=800; total time=   1.1s\n",
      "[CV] END bootstrap=False, max_depth=20, max_features=sqrt, min_samples_leaf=2, min_samples_split=10, n_estimators=800; total time=   1.1s\n",
      "[CV] END bootstrap=False, max_depth=20, max_features=sqrt, min_samples_leaf=2, min_samples_split=10, n_estimators=800; total time=   1.1s\n",
      "[CV] END bootstrap=True, max_depth=20, max_features=sqrt, min_samples_leaf=2, min_samples_split=5, n_estimators=1200; total time=   1.6s\n",
      "[CV] END bootstrap=True, max_depth=20, max_features=sqrt, min_samples_leaf=2, min_samples_split=5, n_estimators=1200; total time=   1.6s\n",
      "[CV] END bootstrap=True, max_depth=20, max_features=sqrt, min_samples_leaf=2, min_samples_split=5, n_estimators=1200; total time=   1.6s\n",
      "[CV] END bootstrap=True, max_depth=100, max_features=auto, min_samples_leaf=1, min_samples_split=2, n_estimators=800; total time=   7.9s\n",
      "[CV] END bootstrap=True, max_depth=100, max_features=auto, min_samples_leaf=1, min_samples_split=2, n_estimators=800; total time=   7.9s\n",
      "[CV] END bootstrap=True, max_depth=100, max_features=auto, min_samples_leaf=1, min_samples_split=2, n_estimators=800; total time=   7.2s\n",
      "[CV] END bootstrap=True, max_depth=None, max_features=auto, min_samples_leaf=2, min_samples_split=5, n_estimators=800; total time=   6.8s\n",
      "[CV] END bootstrap=True, max_depth=None, max_features=auto, min_samples_leaf=2, min_samples_split=5, n_estimators=800; total time=   7.0s\n",
      "[CV] END bootstrap=True, max_depth=None, max_features=auto, min_samples_leaf=2, min_samples_split=5, n_estimators=800; total time=   6.1s\n",
      "[CV] END bootstrap=True, max_depth=60, max_features=sqrt, min_samples_leaf=2, min_samples_split=2, n_estimators=1000; total time=   1.8s\n",
      "[CV] END bootstrap=True, max_depth=60, max_features=sqrt, min_samples_leaf=2, min_samples_split=2, n_estimators=1000; total time=   1.7s\n",
      "[CV] END bootstrap=True, max_depth=60, max_features=sqrt, min_samples_leaf=2, min_samples_split=2, n_estimators=1000; total time=   1.8s\n",
      "[CV] END bootstrap=True, max_depth=10, max_features=auto, min_samples_leaf=4, min_samples_split=5, n_estimators=200; total time=   0.6s\n",
      "[CV] END bootstrap=True, max_depth=10, max_features=auto, min_samples_leaf=4, min_samples_split=5, n_estimators=200; total time=   0.6s\n",
      "[CV] END bootstrap=True, max_depth=10, max_features=auto, min_samples_leaf=4, min_samples_split=5, n_estimators=200; total time=   0.6s\n",
      "[CV] END bootstrap=True, max_depth=60, max_features=sqrt, min_samples_leaf=2, min_samples_split=10, n_estimators=600; total time=   1.2s\n",
      "[CV] END bootstrap=True, max_depth=60, max_features=sqrt, min_samples_leaf=2, min_samples_split=10, n_estimators=600; total time=   1.1s\n",
      "[CV] END bootstrap=True, max_depth=60, max_features=sqrt, min_samples_leaf=2, min_samples_split=10, n_estimators=600; total time=   1.2s\n",
      "[CV] END bootstrap=True, max_depth=90, max_features=sqrt, min_samples_leaf=4, min_samples_split=2, n_estimators=800; total time=   1.5s\n",
      "[CV] END bootstrap=True, max_depth=90, max_features=sqrt, min_samples_leaf=4, min_samples_split=2, n_estimators=800; total time=   1.2s\n",
      "[CV] END bootstrap=True, max_depth=90, max_features=sqrt, min_samples_leaf=4, min_samples_split=2, n_estimators=800; total time=   1.3s\n",
      "[CV] END bootstrap=True, max_depth=90, max_features=sqrt, min_samples_leaf=4, min_samples_split=10, n_estimators=400; total time=   0.9s\n",
      "[CV] END bootstrap=True, max_depth=90, max_features=sqrt, min_samples_leaf=4, min_samples_split=10, n_estimators=400; total time=   0.7s\n",
      "[CV] END bootstrap=True, max_depth=90, max_features=sqrt, min_samples_leaf=4, min_samples_split=10, n_estimators=400; total time=   0.7s\n",
      "[CV] END bootstrap=False, max_depth=90, max_features=auto, min_samples_leaf=2, min_samples_split=5, n_estimators=200; total time=   2.0s\n",
      "[CV] END bootstrap=False, max_depth=90, max_features=auto, min_samples_leaf=2, min_samples_split=5, n_estimators=200; total time=   3.2s\n",
      "[CV] END bootstrap=False, max_depth=90, max_features=auto, min_samples_leaf=2, min_samples_split=5, n_estimators=200; total time=   2.2s\n",
      "[CV] END bootstrap=True, max_depth=110, max_features=sqrt, min_samples_leaf=1, min_samples_split=2, n_estimators=1000; total time=   2.9s\n",
      "[CV] END bootstrap=True, max_depth=110, max_features=sqrt, min_samples_leaf=1, min_samples_split=2, n_estimators=1000; total time=   2.8s\n",
      "[CV] END bootstrap=True, max_depth=110, max_features=sqrt, min_samples_leaf=1, min_samples_split=2, n_estimators=1000; total time=   2.8s\n",
      "[CV] END bootstrap=True, max_depth=90, max_features=auto, min_samples_leaf=2, min_samples_split=2, n_estimators=2000; total time=  18.0s\n",
      "[CV] END bootstrap=True, max_depth=90, max_features=auto, min_samples_leaf=2, min_samples_split=2, n_estimators=2000; total time=  18.4s\n",
      "[CV] END bootstrap=True, max_depth=90, max_features=auto, min_samples_leaf=2, min_samples_split=2, n_estimators=2000; total time=  15.0s\n",
      "[CV] END bootstrap=False, max_depth=80, max_features=sqrt, min_samples_leaf=4, min_samples_split=10, n_estimators=400; total time=   0.8s\n",
      "[CV] END bootstrap=False, max_depth=80, max_features=sqrt, min_samples_leaf=4, min_samples_split=10, n_estimators=400; total time=   0.8s\n",
      "[CV] END bootstrap=False, max_depth=80, max_features=sqrt, min_samples_leaf=4, min_samples_split=10, n_estimators=400; total time=   0.7s\n",
      "[CV] END bootstrap=False, max_depth=70, max_features=sqrt, min_samples_leaf=4, min_samples_split=2, n_estimators=1200; total time=   2.2s\n",
      "[CV] END bootstrap=False, max_depth=70, max_features=sqrt, min_samples_leaf=4, min_samples_split=2, n_estimators=1200; total time=   2.3s\n",
      "[CV] END bootstrap=False, max_depth=70, max_features=sqrt, min_samples_leaf=4, min_samples_split=2, n_estimators=1200; total time=   2.3s\n",
      "[CV] END bootstrap=False, max_depth=110, max_features=sqrt, min_samples_leaf=2, min_samples_split=2, n_estimators=600; total time=   1.4s\n",
      "[CV] END bootstrap=False, max_depth=110, max_features=sqrt, min_samples_leaf=2, min_samples_split=2, n_estimators=600; total time=   1.4s\n",
      "[CV] END bootstrap=False, max_depth=110, max_features=sqrt, min_samples_leaf=2, min_samples_split=2, n_estimators=600; total time=   1.4s\n",
      "[CV] END bootstrap=False, max_depth=20, max_features=auto, min_samples_leaf=1, min_samples_split=2, n_estimators=1800; total time=  11.0s\n",
      "[CV] END bootstrap=False, max_depth=20, max_features=auto, min_samples_leaf=1, min_samples_split=2, n_estimators=1800; total time=  12.2s\n",
      "[CV] END bootstrap=False, max_depth=20, max_features=auto, min_samples_leaf=1, min_samples_split=2, n_estimators=1800; total time=  10.7s\n",
      "[CV] END bootstrap=False, max_depth=50, max_features=auto, min_samples_leaf=2, min_samples_split=10, n_estimators=2000; total time=  17.0s\n",
      "[CV] END bootstrap=False, max_depth=50, max_features=auto, min_samples_leaf=2, min_samples_split=10, n_estimators=2000; total time=  24.0s\n",
      "[CV] END bootstrap=False, max_depth=50, max_features=auto, min_samples_leaf=2, min_samples_split=10, n_estimators=2000; total time=  16.5s\n",
      "[CV] END bootstrap=False, max_depth=50, max_features=auto, min_samples_leaf=4, min_samples_split=10, n_estimators=1000; total time=   8.1s\n",
      "[CV] END bootstrap=False, max_depth=50, max_features=auto, min_samples_leaf=4, min_samples_split=10, n_estimators=1000; total time=   9.3s\n",
      "[CV] END bootstrap=False, max_depth=50, max_features=auto, min_samples_leaf=4, min_samples_split=10, n_estimators=1000; total time=   7.8s\n",
      "[CV] END bootstrap=False, max_depth=30, max_features=auto, min_samples_leaf=4, min_samples_split=5, n_estimators=1000; total time=   6.6s\n",
      "[CV] END bootstrap=False, max_depth=30, max_features=auto, min_samples_leaf=4, min_samples_split=5, n_estimators=1000; total time=   7.7s\n",
      "[CV] END bootstrap=False, max_depth=30, max_features=auto, min_samples_leaf=4, min_samples_split=5, n_estimators=1000; total time=   6.6s\n",
      "[CV] END bootstrap=False, max_depth=None, max_features=sqrt, min_samples_leaf=2, min_samples_split=5, n_estimators=1400; total time=   2.9s\n",
      "[CV] END bootstrap=False, max_depth=None, max_features=sqrt, min_samples_leaf=2, min_samples_split=5, n_estimators=1400; total time=   3.2s\n",
      "[CV] END bootstrap=False, max_depth=None, max_features=sqrt, min_samples_leaf=2, min_samples_split=5, n_estimators=1400; total time=   3.1s\n",
      "[CV] END bootstrap=False, max_depth=60, max_features=sqrt, min_samples_leaf=4, min_samples_split=2, n_estimators=600; total time=   1.5s\n",
      "[CV] END bootstrap=False, max_depth=60, max_features=sqrt, min_samples_leaf=4, min_samples_split=2, n_estimators=600; total time=   1.5s\n",
      "[CV] END bootstrap=False, max_depth=60, max_features=sqrt, min_samples_leaf=4, min_samples_split=2, n_estimators=600; total time=   1.5s\n",
      "[CV] END bootstrap=True, max_depth=10, max_features=auto, min_samples_leaf=1, min_samples_split=5, n_estimators=1600; total time=   5.0s\n",
      "[CV] END bootstrap=True, max_depth=10, max_features=auto, min_samples_leaf=1, min_samples_split=5, n_estimators=1600; total time=   4.9s\n",
      "[CV] END bootstrap=True, max_depth=10, max_features=auto, min_samples_leaf=1, min_samples_split=5, n_estimators=1600; total time=   5.2s\n",
      "[CV] END bootstrap=True, max_depth=80, max_features=auto, min_samples_leaf=2, min_samples_split=2, n_estimators=1800; total time=  15.0s\n",
      "[CV] END bootstrap=True, max_depth=80, max_features=auto, min_samples_leaf=2, min_samples_split=2, n_estimators=1800; total time=  15.1s\n",
      "[CV] END bootstrap=True, max_depth=80, max_features=auto, min_samples_leaf=2, min_samples_split=2, n_estimators=1800; total time=  13.5s\n",
      "[CV] END bootstrap=True, max_depth=100, max_features=auto, min_samples_leaf=1, min_samples_split=2, n_estimators=1400; total time=  14.1s\n",
      "[CV] END bootstrap=True, max_depth=100, max_features=auto, min_samples_leaf=1, min_samples_split=2, n_estimators=1400; total time=  13.7s\n",
      "[CV] END bootstrap=True, max_depth=100, max_features=auto, min_samples_leaf=1, min_samples_split=2, n_estimators=1400; total time=  12.4s\n",
      "[CV] END bootstrap=True, max_depth=80, max_features=sqrt, min_samples_leaf=2, min_samples_split=10, n_estimators=1400; total time=   2.7s\n",
      "[CV] END bootstrap=True, max_depth=80, max_features=sqrt, min_samples_leaf=2, min_samples_split=10, n_estimators=1400; total time=   2.7s\n",
      "[CV] END bootstrap=True, max_depth=80, max_features=sqrt, min_samples_leaf=2, min_samples_split=10, n_estimators=1400; total time=   2.5s\n",
      "[CV] END bootstrap=True, max_depth=50, max_features=sqrt, min_samples_leaf=1, min_samples_split=2, n_estimators=200; total time=   0.4s\n",
      "[CV] END bootstrap=True, max_depth=50, max_features=sqrt, min_samples_leaf=1, min_samples_split=2, n_estimators=200; total time=   0.4s\n",
      "[CV] END bootstrap=True, max_depth=50, max_features=sqrt, min_samples_leaf=1, min_samples_split=2, n_estimators=200; total time=   0.4s\n",
      "[CV] END bootstrap=True, max_depth=10, max_features=sqrt, min_samples_leaf=4, min_samples_split=2, n_estimators=400; total time=   0.5s\n",
      "[CV] END bootstrap=True, max_depth=10, max_features=sqrt, min_samples_leaf=4, min_samples_split=2, n_estimators=400; total time=   0.6s\n",
      "[CV] END bootstrap=True, max_depth=10, max_features=sqrt, min_samples_leaf=4, min_samples_split=2, n_estimators=400; total time=   0.6s\n",
      "[CV] END bootstrap=False, max_depth=80, max_features=auto, min_samples_leaf=4, min_samples_split=10, n_estimators=1000; total time=   9.3s\n",
      "[CV] END bootstrap=False, max_depth=80, max_features=auto, min_samples_leaf=4, min_samples_split=10, n_estimators=1000; total time=  10.1s\n",
      "[CV] END bootstrap=False, max_depth=80, max_features=auto, min_samples_leaf=4, min_samples_split=10, n_estimators=1000; total time=   8.6s\n",
      "[CV] END bootstrap=False, max_depth=None, max_features=auto, min_samples_leaf=2, min_samples_split=10, n_estimators=1200; total time=  11.9s\n",
      "[CV] END bootstrap=False, max_depth=None, max_features=auto, min_samples_leaf=2, min_samples_split=10, n_estimators=1200; total time=  18.1s\n",
      "[CV] END bootstrap=False, max_depth=None, max_features=auto, min_samples_leaf=2, min_samples_split=10, n_estimators=1200; total time=  11.7s\n",
      "[CV] END bootstrap=True, max_depth=20, max_features=sqrt, min_samples_leaf=1, min_samples_split=10, n_estimators=1600; total time=   2.4s\n",
      "[CV] END bootstrap=True, max_depth=20, max_features=sqrt, min_samples_leaf=1, min_samples_split=10, n_estimators=1600; total time=   2.4s\n",
      "[CV] END bootstrap=True, max_depth=20, max_features=sqrt, min_samples_leaf=1, min_samples_split=10, n_estimators=1600; total time=   2.5s\n",
      "[CV] END bootstrap=True, max_depth=None, max_features=auto, min_samples_leaf=2, min_samples_split=10, n_estimators=1600; total time=  13.6s\n",
      "[CV] END bootstrap=True, max_depth=None, max_features=auto, min_samples_leaf=2, min_samples_split=10, n_estimators=1600; total time=  13.4s\n",
      "[CV] END bootstrap=True, max_depth=None, max_features=auto, min_samples_leaf=2, min_samples_split=10, n_estimators=1600; total time=  11.9s\n",
      "[CV] END bootstrap=False, max_depth=10, max_features=auto, min_samples_leaf=4, min_samples_split=2, n_estimators=1800; total time=   7.0s\n",
      "[CV] END bootstrap=False, max_depth=10, max_features=auto, min_samples_leaf=4, min_samples_split=2, n_estimators=1800; total time=   6.8s\n",
      "[CV] END bootstrap=False, max_depth=10, max_features=auto, min_samples_leaf=4, min_samples_split=2, n_estimators=1800; total time=   6.8s\n",
      "[CV] END bootstrap=True, max_depth=70, max_features=auto, min_samples_leaf=2, min_samples_split=2, n_estimators=1400; total time=  11.3s\n",
      "[CV] END bootstrap=True, max_depth=70, max_features=auto, min_samples_leaf=2, min_samples_split=2, n_estimators=1400; total time=  11.4s\n",
      "[CV] END bootstrap=True, max_depth=70, max_features=auto, min_samples_leaf=2, min_samples_split=2, n_estimators=1400; total time=  10.3s\n",
      "[CV] END bootstrap=False, max_depth=80, max_features=sqrt, min_samples_leaf=1, min_samples_split=10, n_estimators=1000; total time=   2.5s\n",
      "[CV] END bootstrap=False, max_depth=80, max_features=sqrt, min_samples_leaf=1, min_samples_split=10, n_estimators=1000; total time=   2.5s\n",
      "[CV] END bootstrap=False, max_depth=80, max_features=sqrt, min_samples_leaf=1, min_samples_split=10, n_estimators=1000; total time=   2.5s\n",
      "[CV] END bootstrap=False, max_depth=60, max_features=auto, min_samples_leaf=2, min_samples_split=10, n_estimators=2000; total time=  20.0s\n",
      "[CV] END bootstrap=False, max_depth=60, max_features=auto, min_samples_leaf=2, min_samples_split=10, n_estimators=2000; total time=  29.7s\n",
      "[CV] END bootstrap=False, max_depth=60, max_features=auto, min_samples_leaf=2, min_samples_split=10, n_estimators=2000; total time=  19.8s\n",
      "[CV] END bootstrap=False, max_depth=80, max_features=sqrt, min_samples_leaf=4, min_samples_split=2, n_estimators=1400; total time=   2.7s\n",
      "[CV] END bootstrap=False, max_depth=80, max_features=sqrt, min_samples_leaf=4, min_samples_split=2, n_estimators=1400; total time=   2.5s\n",
      "[CV] END bootstrap=False, max_depth=80, max_features=sqrt, min_samples_leaf=4, min_samples_split=2, n_estimators=1400; total time=   2.4s\n",
      "[CV] END bootstrap=False, max_depth=20, max_features=sqrt, min_samples_leaf=4, min_samples_split=2, n_estimators=800; total time=   1.1s\n",
      "[CV] END bootstrap=False, max_depth=20, max_features=sqrt, min_samples_leaf=4, min_samples_split=2, n_estimators=800; total time=   1.1s\n",
      "[CV] END bootstrap=False, max_depth=20, max_features=sqrt, min_samples_leaf=4, min_samples_split=2, n_estimators=800; total time=   1.3s\n",
      "[CV] END bootstrap=True, max_depth=60, max_features=sqrt, min_samples_leaf=2, min_samples_split=5, n_estimators=1800; total time=   3.3s\n",
      "[CV] END bootstrap=True, max_depth=60, max_features=sqrt, min_samples_leaf=2, min_samples_split=5, n_estimators=1800; total time=   3.5s\n",
      "[CV] END bootstrap=True, max_depth=60, max_features=sqrt, min_samples_leaf=2, min_samples_split=5, n_estimators=1800; total time=   3.5s\n",
      "[CV] END bootstrap=False, max_depth=90, max_features=auto, min_samples_leaf=1, min_samples_split=5, n_estimators=400; total time=   4.8s\n",
      "[CV] END bootstrap=False, max_depth=90, max_features=auto, min_samples_leaf=1, min_samples_split=5, n_estimators=400; total time=   6.5s\n",
      "[CV] END bootstrap=False, max_depth=90, max_features=auto, min_samples_leaf=1, min_samples_split=5, n_estimators=400; total time=   4.9s\n",
      "[CV] END bootstrap=True, max_depth=90, max_features=auto, min_samples_leaf=1, min_samples_split=5, n_estimators=1600; total time=  15.1s\n",
      "[CV] END bootstrap=True, max_depth=90, max_features=auto, min_samples_leaf=1, min_samples_split=5, n_estimators=1600; total time=  15.4s\n",
      "[CV] END bootstrap=True, max_depth=90, max_features=auto, min_samples_leaf=1, min_samples_split=5, n_estimators=1600; total time=  13.6s\n",
      "[CV] END bootstrap=False, max_depth=90, max_features=sqrt, min_samples_leaf=2, min_samples_split=10, n_estimators=400; total time=   0.8s\n",
      "[CV] END bootstrap=False, max_depth=90, max_features=sqrt, min_samples_leaf=2, min_samples_split=10, n_estimators=400; total time=   0.8s\n",
      "[CV] END bootstrap=False, max_depth=90, max_features=sqrt, min_samples_leaf=2, min_samples_split=10, n_estimators=400; total time=   0.8s\n",
      "[CV] END bootstrap=True, max_depth=None, max_features=sqrt, min_samples_leaf=1, min_samples_split=10, n_estimators=1600; total time=   3.5s\n",
      "[CV] END bootstrap=True, max_depth=None, max_features=sqrt, min_samples_leaf=1, min_samples_split=10, n_estimators=1600; total time=   3.2s\n",
      "[CV] END bootstrap=True, max_depth=None, max_features=sqrt, min_samples_leaf=1, min_samples_split=10, n_estimators=1600; total time=   3.2s\n",
      "[CV] END bootstrap=True, max_depth=100, max_features=sqrt, min_samples_leaf=1, min_samples_split=5, n_estimators=2000; total time=   4.3s\n",
      "[CV] END bootstrap=True, max_depth=100, max_features=sqrt, min_samples_leaf=1, min_samples_split=5, n_estimators=2000; total time=   4.4s\n",
      "[CV] END bootstrap=True, max_depth=100, max_features=sqrt, min_samples_leaf=1, min_samples_split=5, n_estimators=2000; total time=   4.3s\n",
      "[CV] END bootstrap=True, max_depth=10, max_features=sqrt, min_samples_leaf=2, min_samples_split=5, n_estimators=1000; total time=   1.5s\n",
      "[CV] END bootstrap=True, max_depth=10, max_features=sqrt, min_samples_leaf=2, min_samples_split=5, n_estimators=1000; total time=   1.2s\n",
      "[CV] END bootstrap=True, max_depth=10, max_features=sqrt, min_samples_leaf=2, min_samples_split=5, n_estimators=1000; total time=   1.2s\n",
      "[CV] END bootstrap=True, max_depth=80, max_features=auto, min_samples_leaf=4, min_samples_split=5, n_estimators=200; total time=   1.2s\n",
      "[CV] END bootstrap=True, max_depth=80, max_features=auto, min_samples_leaf=4, min_samples_split=5, n_estimators=200; total time=   1.3s\n",
      "[CV] END bootstrap=True, max_depth=80, max_features=auto, min_samples_leaf=4, min_samples_split=5, n_estimators=200; total time=   1.2s\n",
      "[CV] END bootstrap=False, max_depth=60, max_features=auto, min_samples_leaf=4, min_samples_split=2, n_estimators=2000; total time=  17.5s\n",
      "[CV] END bootstrap=False, max_depth=60, max_features=auto, min_samples_leaf=4, min_samples_split=2, n_estimators=2000; total time=  19.4s\n",
      "[CV] END bootstrap=False, max_depth=60, max_features=auto, min_samples_leaf=4, min_samples_split=2, n_estimators=2000; total time=  16.6s\n",
      "[CV] END bootstrap=True, max_depth=100, max_features=auto, min_samples_leaf=2, min_samples_split=10, n_estimators=600; total time=   5.0s\n",
      "[CV] END bootstrap=True, max_depth=100, max_features=auto, min_samples_leaf=2, min_samples_split=10, n_estimators=600; total time=   5.0s\n",
      "[CV] END bootstrap=True, max_depth=100, max_features=auto, min_samples_leaf=2, min_samples_split=10, n_estimators=600; total time=   4.5s\n",
      "[CV] END bootstrap=True, max_depth=100, max_features=auto, min_samples_leaf=4, min_samples_split=5, n_estimators=1000; total time=   6.4s\n",
      "[CV] END bootstrap=True, max_depth=100, max_features=auto, min_samples_leaf=4, min_samples_split=5, n_estimators=1000; total time=   6.4s\n",
      "[CV] END bootstrap=True, max_depth=100, max_features=auto, min_samples_leaf=4, min_samples_split=5, n_estimators=1000; total time=   5.9s\n",
      "[CV] END bootstrap=False, max_depth=None, max_features=auto, min_samples_leaf=2, min_samples_split=10, n_estimators=800; total time=   8.5s\n",
      "[CV] END bootstrap=False, max_depth=None, max_features=auto, min_samples_leaf=2, min_samples_split=10, n_estimators=800; total time=  12.8s\n",
      "[CV] END bootstrap=False, max_depth=None, max_features=auto, min_samples_leaf=2, min_samples_split=10, n_estimators=800; total time=   8.4s\n",
      "[CV] END bootstrap=False, max_depth=70, max_features=sqrt, min_samples_leaf=4, min_samples_split=5, n_estimators=800; total time=   1.5s\n",
      "[CV] END bootstrap=False, max_depth=70, max_features=sqrt, min_samples_leaf=4, min_samples_split=5, n_estimators=800; total time=   1.5s\n",
      "[CV] END bootstrap=False, max_depth=70, max_features=sqrt, min_samples_leaf=4, min_samples_split=5, n_estimators=800; total time=   1.4s\n",
      "[CV] END bootstrap=False, max_depth=40, max_features=sqrt, min_samples_leaf=1, min_samples_split=10, n_estimators=600; total time=   1.4s\n",
      "[CV] END bootstrap=False, max_depth=40, max_features=sqrt, min_samples_leaf=1, min_samples_split=10, n_estimators=600; total time=   1.3s\n",
      "[CV] END bootstrap=False, max_depth=40, max_features=sqrt, min_samples_leaf=1, min_samples_split=10, n_estimators=600; total time=   1.3s\n",
      "[CV] END bootstrap=True, max_depth=100, max_features=sqrt, min_samples_leaf=1, min_samples_split=5, n_estimators=400; total time=   0.9s\n",
      "[CV] END bootstrap=True, max_depth=100, max_features=sqrt, min_samples_leaf=1, min_samples_split=5, n_estimators=400; total time=   0.9s\n",
      "[CV] END bootstrap=True, max_depth=100, max_features=sqrt, min_samples_leaf=1, min_samples_split=5, n_estimators=400; total time=   1.0s\n",
      "[CV] END bootstrap=True, max_depth=80, max_features=sqrt, min_samples_leaf=4, min_samples_split=2, n_estimators=1600; total time=   2.6s\n",
      "[CV] END bootstrap=True, max_depth=80, max_features=sqrt, min_samples_leaf=4, min_samples_split=2, n_estimators=1600; total time=   2.3s\n",
      "[CV] END bootstrap=True, max_depth=80, max_features=sqrt, min_samples_leaf=4, min_samples_split=2, n_estimators=1600; total time=   2.4s\n",
      "[CV] END bootstrap=True, max_depth=100, max_features=sqrt, min_samples_leaf=4, min_samples_split=10, n_estimators=800; total time=   1.2s\n",
      "[CV] END bootstrap=True, max_depth=100, max_features=sqrt, min_samples_leaf=4, min_samples_split=10, n_estimators=800; total time=   1.2s\n",
      "[CV] END bootstrap=True, max_depth=100, max_features=sqrt, min_samples_leaf=4, min_samples_split=10, n_estimators=800; total time=   1.3s\n",
      "[CV] END bootstrap=True, max_depth=10, max_features=sqrt, min_samples_leaf=2, min_samples_split=10, n_estimators=1000; total time=   1.3s\n",
      "[CV] END bootstrap=True, max_depth=10, max_features=sqrt, min_samples_leaf=2, min_samples_split=10, n_estimators=1000; total time=   1.2s\n",
      "[CV] END bootstrap=True, max_depth=10, max_features=sqrt, min_samples_leaf=2, min_samples_split=10, n_estimators=1000; total time=   1.2s\n",
      "[CV] END bootstrap=True, max_depth=110, max_features=sqrt, min_samples_leaf=1, min_samples_split=10, n_estimators=600; total time=   1.4s\n",
      "[CV] END bootstrap=True, max_depth=110, max_features=sqrt, min_samples_leaf=1, min_samples_split=10, n_estimators=600; total time=   1.3s\n",
      "[CV] END bootstrap=True, max_depth=110, max_features=sqrt, min_samples_leaf=1, min_samples_split=10, n_estimators=600; total time=   1.3s\n",
      "[CV] END bootstrap=False, max_depth=None, max_features=sqrt, min_samples_leaf=4, min_samples_split=5, n_estimators=2000; total time=   3.9s\n",
      "[CV] END bootstrap=False, max_depth=None, max_features=sqrt, min_samples_leaf=4, min_samples_split=5, n_estimators=2000; total time=   3.8s\n",
      "[CV] END bootstrap=False, max_depth=None, max_features=sqrt, min_samples_leaf=4, min_samples_split=5, n_estimators=2000; total time=   3.7s\n",
      "[CV] END bootstrap=True, max_depth=40, max_features=sqrt, min_samples_leaf=1, min_samples_split=5, n_estimators=800; total time=   1.4s\n",
      "[CV] END bootstrap=True, max_depth=40, max_features=sqrt, min_samples_leaf=1, min_samples_split=5, n_estimators=800; total time=   1.6s\n",
      "[CV] END bootstrap=True, max_depth=40, max_features=sqrt, min_samples_leaf=1, min_samples_split=5, n_estimators=800; total time=   1.6s\n",
      "[CV] END bootstrap=True, max_depth=40, max_features=auto, min_samples_leaf=4, min_samples_split=2, n_estimators=600; total time=   3.5s\n",
      "[CV] END bootstrap=True, max_depth=40, max_features=auto, min_samples_leaf=4, min_samples_split=2, n_estimators=600; total time=   3.7s\n",
      "[CV] END bootstrap=True, max_depth=40, max_features=auto, min_samples_leaf=4, min_samples_split=2, n_estimators=600; total time=   3.3s\n",
      "[CV] END bootstrap=False, max_depth=30, max_features=sqrt, min_samples_leaf=4, min_samples_split=2, n_estimators=600; total time=   1.2s\n",
      "[CV] END bootstrap=False, max_depth=30, max_features=sqrt, min_samples_leaf=4, min_samples_split=2, n_estimators=600; total time=   1.0s\n",
      "[CV] END bootstrap=False, max_depth=30, max_features=sqrt, min_samples_leaf=4, min_samples_split=2, n_estimators=600; total time=   1.0s\n",
      "[CV] END bootstrap=False, max_depth=40, max_features=auto, min_samples_leaf=2, min_samples_split=10, n_estimators=400; total time=   3.0s\n",
      "[CV] END bootstrap=False, max_depth=40, max_features=auto, min_samples_leaf=2, min_samples_split=10, n_estimators=400; total time=   4.1s\n",
      "[CV] END bootstrap=False, max_depth=40, max_features=auto, min_samples_leaf=2, min_samples_split=10, n_estimators=400; total time=   3.0s\n",
      "[CV] END bootstrap=False, max_depth=10, max_features=auto, min_samples_leaf=1, min_samples_split=2, n_estimators=1000; total time=   3.9s\n",
      "[CV] END bootstrap=False, max_depth=10, max_features=auto, min_samples_leaf=1, min_samples_split=2, n_estimators=1000; total time=   4.3s\n",
      "[CV] END bootstrap=False, max_depth=10, max_features=auto, min_samples_leaf=1, min_samples_split=2, n_estimators=1000; total time=   3.9s\n",
      "[CV] END bootstrap=False, max_depth=100, max_features=auto, min_samples_leaf=4, min_samples_split=5, n_estimators=200; total time=   1.9s\n",
      "[CV] END bootstrap=False, max_depth=100, max_features=auto, min_samples_leaf=4, min_samples_split=5, n_estimators=200; total time=   2.0s\n",
      "[CV] END bootstrap=False, max_depth=100, max_features=auto, min_samples_leaf=4, min_samples_split=5, n_estimators=200; total time=   1.7s\n",
      "[CV] END bootstrap=True, max_depth=20, max_features=sqrt, min_samples_leaf=2, min_samples_split=2, n_estimators=2000; total time=   2.8s\n",
      "[CV] END bootstrap=True, max_depth=20, max_features=sqrt, min_samples_leaf=2, min_samples_split=2, n_estimators=2000; total time=   2.8s\n",
      "[CV] END bootstrap=True, max_depth=20, max_features=sqrt, min_samples_leaf=2, min_samples_split=2, n_estimators=2000; total time=   2.6s\n",
      "[CV] END bootstrap=True, max_depth=40, max_features=auto, min_samples_leaf=2, min_samples_split=10, n_estimators=2000; total time=  12.7s\n",
      "[CV] END bootstrap=True, max_depth=40, max_features=auto, min_samples_leaf=2, min_samples_split=10, n_estimators=2000; total time=  13.1s\n",
      "[CV] END bootstrap=True, max_depth=40, max_features=auto, min_samples_leaf=2, min_samples_split=10, n_estimators=2000; total time=  12.1s\n"
     ]
    },
    {
     "data": {
      "text/plain": [
       "RandomizedSearchCV(cv=3, estimator=RandomForestRegressor(n_jobs=-1), n_iter=100,\n",
       "                   param_distributions={'bootstrap': [True, False],\n",
       "                                        'max_depth': [10, 20, 30, 40, 50, 60,\n",
       "                                                      70, 80, 90, 100, 110,\n",
       "                                                      None],\n",
       "                                        'max_features': ['auto', 'sqrt'],\n",
       "                                        'min_samples_leaf': [1, 2, 4],\n",
       "                                        'min_samples_split': [2, 5, 10],\n",
       "                                        'n_estimators': [200, 400, 600, 800,\n",
       "                                                         1000, 1200, 1400, 1600,\n",
       "                                                         1800, 2000]},\n",
       "                   random_state=42, verbose=2)"
      ]
     },
     "execution_count": 49,
     "metadata": {},
     "output_type": "execute_result"
    }
   ],
   "source": [
    "rf = RandomForestRegressor(n_jobs=-1)\n",
    "rf_random = RandomizedSearchCV(estimator = rf, param_distributions = random_grid, n_iter = 100, cv = 3, verbose=2, random_state=42)\n",
    "# Fit the random search model\n",
    "rf_random.fit(X_train, y_train)"
   ]
  },
  {
   "cell_type": "code",
   "execution_count": 50,
   "id": "5ea6e0eb",
   "metadata": {},
   "outputs": [
    {
     "data": {
      "text/plain": [
       "0.7474222366099188"
      ]
     },
     "execution_count": 50,
     "metadata": {},
     "output_type": "execute_result"
    }
   ],
   "source": [
    "rf_random.score(X_test,y_test)"
   ]
  },
  {
   "cell_type": "code",
   "execution_count": 51,
   "id": "de75ee43",
   "metadata": {},
   "outputs": [
    {
     "data": {
      "text/plain": [
       "0.8641482869828607"
      ]
     },
     "execution_count": 51,
     "metadata": {},
     "output_type": "execute_result"
    }
   ],
   "source": [
    "rf_random.score(X_train,y_train)"
   ]
  },
  {
   "cell_type": "code",
   "execution_count": 52,
   "id": "90f7b2dd",
   "metadata": {},
   "outputs": [],
   "source": [
    "best_random = rf_random.best_estimator_"
   ]
  },
  {
   "cell_type": "code",
   "execution_count": 53,
   "id": "736873b3",
   "metadata": {},
   "outputs": [
    {
     "data": {
      "text/plain": [
       "0.7474222366099188"
      ]
     },
     "execution_count": 53,
     "metadata": {},
     "output_type": "execute_result"
    }
   ],
   "source": [
    "best_random.score(X_test,y_test)"
   ]
  },
  {
   "cell_type": "code",
   "execution_count": 54,
   "id": "6574b152",
   "metadata": {},
   "outputs": [],
   "source": [
    "def np_to_df(n1):\n",
    "    df=pd.DataFrame(n1, columns=[[\"A_PCT10_pred\",\"A_PCT25_pred\",\"A_MEDIAN_pred\",\"A_PCT75_pred\",\"A_PCT90_pred\"]])\n",
    "    return df"
   ]
  },
  {
   "cell_type": "code",
   "execution_count": 55,
   "id": "f920a72a",
   "metadata": {},
   "outputs": [],
   "source": [
    "def concat_pred_true(df1,df2):\n",
    "    df_concat=pd.concat([df1,df2],axis = 1)\n",
    "    return df_concat"
   ]
  },
  {
   "cell_type": "code",
   "execution_count": 56,
   "id": "b1eab0bf",
   "metadata": {},
   "outputs": [],
   "source": [
    "def MNWAE(df):\n",
    "    df[\"10_\"]=df.apply(lambda x :  0.1*(abs(x[5] - x[0])/x[0]) ,axis=1)\n",
    "    df[\"25_\"]=df.apply(lambda x :  0.2*(abs(x[6] - x[1])/x[1]) ,axis=1)\n",
    "    df[\"50_\"]=df.apply(lambda x :  0.4*(abs(x[7] - x[2])/x[2]) ,axis=1)\n",
    "    df[\"75_\"]=df.apply(lambda x :  0.2*(abs(x[8] - x[3])/x[3]) ,axis=1)\n",
    "    df[\"90_\"]=df.apply(lambda x :  0.1*(abs(x[9] - x[4])/x[4]) ,axis=1)\n",
    "    mnwae=(df[[ '10_','25_', '50_', '75_', '90_']].sum().sum())/ len(df)\n",
    "    return mnwae"
   ]
  },
  {
   "cell_type": "code",
   "execution_count": 57,
   "id": "19c9051e",
   "metadata": {},
   "outputs": [
    {
     "data": {
      "text/plain": [
       "0.05282081075704844"
      ]
     },
     "execution_count": 57,
     "metadata": {},
     "output_type": "execute_result"
    }
   ],
   "source": [
    "y_pred=best_random.predict(X_test)\n",
    "df_pred=np_to_df(y_pred)\n",
    "pd_concat=concat_pred_true(y_test,df_pred)\n",
    "MNWAE(pd_concat)"
   ]
  },
  {
   "cell_type": "markdown",
   "id": "cb2a8f7f",
   "metadata": {},
   "source": [
    "# MultiOutputRegressor"
   ]
  },
  {
   "cell_type": "code",
   "execution_count": 58,
   "id": "70c482cb",
   "metadata": {},
   "outputs": [
    {
     "data": {
      "text/plain": [
       "MultiOutputRegressor(estimator=GradientBoostingRegressor(random_state=0))"
      ]
     },
     "execution_count": 58,
     "metadata": {},
     "output_type": "execute_result"
    }
   ],
   "source": [
    "from sklearn.multioutput import MultiOutputRegressor\n",
    "from sklearn.ensemble import GradientBoostingRegressor\n",
    "mul_out_model=MultiOutputRegressor(GradientBoostingRegressor(random_state=0))\n",
    "mul_out_model.fit(X_train, y_train)"
   ]
  },
  {
   "cell_type": "code",
   "execution_count": 59,
   "id": "3a614c8d",
   "metadata": {},
   "outputs": [
    {
     "data": {
      "text/plain": [
       "0.5444217667262677"
      ]
     },
     "execution_count": 59,
     "metadata": {},
     "output_type": "execute_result"
    }
   ],
   "source": [
    "mul_out_model.score(X_test,y_test)"
   ]
  },
  {
   "cell_type": "code",
   "execution_count": 60,
   "id": "91171411",
   "metadata": {},
   "outputs": [
    {
     "data": {
      "text/plain": [
       "0.6097095989774154"
      ]
     },
     "execution_count": 60,
     "metadata": {},
     "output_type": "execute_result"
    }
   ],
   "source": [
    "mul_out_model.score(X_train,y_train)"
   ]
  },
  {
   "cell_type": "code",
   "execution_count": 61,
   "id": "6b328285",
   "metadata": {},
   "outputs": [
    {
     "data": {
      "text/plain": [
       "0.044688901939194677"
      ]
     },
     "execution_count": 61,
     "metadata": {},
     "output_type": "execute_result"
    }
   ],
   "source": [
    "y_pred=mul_out_model.predict(X_test)\n",
    "df_pred=np_to_df(y_pred)\n",
    "pd_concat=concat_pred_true(y_test,df_pred)\n",
    "MNWAE(pd_concat)"
   ]
  },
  {
   "cell_type": "code",
   "execution_count": 62,
   "id": "cd9229fe",
   "metadata": {},
   "outputs": [],
   "source": [
    "test_scores=[]\n",
    "train_scores=[]\n",
    "for i in range(800,1400,100):\n",
    "  regr = MultiOutputRegressor(GradientBoostingRegressor(n_estimators=i,random_state=0))\n",
    "  regr.fit(X_train, y_train)\n",
    "  test_scores.append(regr.score(X_test,y_test))\n",
    "  train_scores.append(regr.score(X_train,y_train))"
   ]
  },
  {
   "cell_type": "code",
   "execution_count": 63,
   "id": "32b5f561",
   "metadata": {},
   "outputs": [
    {
     "data": {
      "text/plain": [
       "0.0550764007178113"
      ]
     },
     "execution_count": 63,
     "metadata": {},
     "output_type": "execute_result"
    }
   ],
   "source": [
    "y_pred=regr.predict(X_test)\n",
    "df_pred=np_to_df(y_pred)\n",
    "pd_concat=concat_pred_true(y_test,df_pred)\n",
    "MNWAE(pd_concat)"
   ]
  },
  {
   "cell_type": "code",
   "execution_count": 64,
   "id": "194d95f2",
   "metadata": {},
   "outputs": [
    {
     "data": {
      "text/plain": [
       "[0.7818819779337493,\n",
       " 0.7851083118756667,\n",
       " 0.7873706114207099,\n",
       " 0.7887184751331441,\n",
       " 0.7897706450947085,\n",
       " 0.7905603127685528]"
      ]
     },
     "execution_count": 64,
     "metadata": {},
     "output_type": "execute_result"
    }
   ],
   "source": [
    "test_scores"
   ]
  },
  {
   "cell_type": "code",
   "execution_count": 65,
   "id": "7ad24203",
   "metadata": {},
   "outputs": [
    {
     "data": {
      "text/plain": [
       "[0.9296950434276032,\n",
       " 0.9369330698161562,\n",
       " 0.9432755911702853,\n",
       " 0.9482345755410293,\n",
       " 0.9524962310185238,\n",
       " 0.9562029195556019]"
      ]
     },
     "execution_count": 65,
     "metadata": {},
     "output_type": "execute_result"
    }
   ],
   "source": [
    "train_scores"
   ]
  },
  {
   "cell_type": "markdown",
   "id": "d84439ab",
   "metadata": {},
   "source": [
    "# MultiOutputRegressor With Cross Validation: RandomizedSearchCV"
   ]
  },
  {
   "cell_type": "code",
   "execution_count": 66,
   "id": "1a3dfdb3",
   "metadata": {},
   "outputs": [],
   "source": [
    "from sklearn.model_selection import RandomizedSearchCV\n",
    "# Number of trees in random forest\n",
    "n_estimators = [int(x) for x in range(1000,2000,100)]\n",
    "# Number of features to consider at every split\n",
    "max_features = ['auto', 'sqrt']\n",
    "# Maximum number of levels in tree\n",
    "max_depth = [int(x) for x in range(1,31,1)]\n",
    "max_depth.append(None)\n",
    "# Minimum number of samples required to split a node\n",
    "min_samples_split = list(np.linspace(0.1, 1.0, 10, endpoint=True))\n",
    "# Minimum number of samples required at each leaf node\n",
    "min_samples_leaf = list(np.linspace(0.1, 0.5, 5, endpoint=True))\n",
    "# Create the random grid\n",
    "random_grid = {'estimator__n_estimators': n_estimators,\n",
    "               'estimator__max_features': max_features,\n",
    "               'estimator__max_depth': max_depth,\n",
    "               'estimator__min_samples_split': min_samples_split,\n",
    "               'estimator__min_samples_leaf': min_samples_leaf\n",
    "               }"
   ]
  },
  {
   "cell_type": "code",
   "execution_count": 67,
   "id": "103144f7",
   "metadata": {},
   "outputs": [
    {
     "name": "stdout",
     "output_type": "stream",
     "text": [
      "Fitting 3 folds for each of 100 candidates, totalling 300 fits\n",
      "[CV] END estimator__max_depth=24, estimator__max_features=sqrt, estimator__min_samples_leaf=0.2, estimator__min_samples_split=0.6, estimator__n_estimators=1400; total time=   1.9s\n",
      "[CV] END estimator__max_depth=24, estimator__max_features=sqrt, estimator__min_samples_leaf=0.2, estimator__min_samples_split=0.6, estimator__n_estimators=1400; total time=   2.0s\n",
      "[CV] END estimator__max_depth=24, estimator__max_features=sqrt, estimator__min_samples_leaf=0.2, estimator__min_samples_split=0.6, estimator__n_estimators=1400; total time=   1.9s\n",
      "[CV] END estimator__max_depth=16, estimator__max_features=sqrt, estimator__min_samples_leaf=0.30000000000000004, estimator__min_samples_split=1.0, estimator__n_estimators=1500; total time=   2.1s\n",
      "[CV] END estimator__max_depth=16, estimator__max_features=sqrt, estimator__min_samples_leaf=0.30000000000000004, estimator__min_samples_split=1.0, estimator__n_estimators=1500; total time=   2.1s\n",
      "[CV] END estimator__max_depth=16, estimator__max_features=sqrt, estimator__min_samples_leaf=0.30000000000000004, estimator__min_samples_split=1.0, estimator__n_estimators=1500; total time=   1.9s\n",
      "[CV] END estimator__max_depth=1, estimator__max_features=sqrt, estimator__min_samples_leaf=0.4, estimator__min_samples_split=0.7000000000000001, estimator__n_estimators=1000; total time=   1.3s\n",
      "[CV] END estimator__max_depth=1, estimator__max_features=sqrt, estimator__min_samples_leaf=0.4, estimator__min_samples_split=0.7000000000000001, estimator__n_estimators=1000; total time=   1.2s\n",
      "[CV] END estimator__max_depth=1, estimator__max_features=sqrt, estimator__min_samples_leaf=0.4, estimator__min_samples_split=0.7000000000000001, estimator__n_estimators=1000; total time=   1.3s\n",
      "[CV] END estimator__max_depth=6, estimator__max_features=auto, estimator__min_samples_leaf=0.4, estimator__min_samples_split=1.0, estimator__n_estimators=1000; total time=   5.4s\n",
      "[CV] END estimator__max_depth=6, estimator__max_features=auto, estimator__min_samples_leaf=0.4, estimator__min_samples_split=1.0, estimator__n_estimators=1000; total time=   5.6s\n",
      "[CV] END estimator__max_depth=6, estimator__max_features=auto, estimator__min_samples_leaf=0.4, estimator__min_samples_split=1.0, estimator__n_estimators=1000; total time=   5.4s\n",
      "[CV] END estimator__max_depth=30, estimator__max_features=sqrt, estimator__min_samples_leaf=0.4, estimator__min_samples_split=0.1, estimator__n_estimators=1200; total time=   1.6s\n",
      "[CV] END estimator__max_depth=30, estimator__max_features=sqrt, estimator__min_samples_leaf=0.4, estimator__min_samples_split=0.1, estimator__n_estimators=1200; total time=   1.5s\n",
      "[CV] END estimator__max_depth=30, estimator__max_features=sqrt, estimator__min_samples_leaf=0.4, estimator__min_samples_split=0.1, estimator__n_estimators=1200; total time=   1.5s\n",
      "[CV] END estimator__max_depth=22, estimator__max_features=sqrt, estimator__min_samples_leaf=0.1, estimator__min_samples_split=0.8, estimator__n_estimators=1500; total time=   2.1s\n",
      "[CV] END estimator__max_depth=22, estimator__max_features=sqrt, estimator__min_samples_leaf=0.1, estimator__min_samples_split=0.8, estimator__n_estimators=1500; total time=   2.0s\n",
      "[CV] END estimator__max_depth=22, estimator__max_features=sqrt, estimator__min_samples_leaf=0.1, estimator__min_samples_split=0.8, estimator__n_estimators=1500; total time=   1.9s\n",
      "[CV] END estimator__max_depth=12, estimator__max_features=sqrt, estimator__min_samples_leaf=0.5, estimator__min_samples_split=0.7000000000000001, estimator__n_estimators=1400; total time=   1.9s\n",
      "[CV] END estimator__max_depth=12, estimator__max_features=sqrt, estimator__min_samples_leaf=0.5, estimator__min_samples_split=0.7000000000000001, estimator__n_estimators=1400; total time=   1.3s\n",
      "[CV] END estimator__max_depth=12, estimator__max_features=sqrt, estimator__min_samples_leaf=0.5, estimator__min_samples_split=0.7000000000000001, estimator__n_estimators=1400; total time=   1.3s\n",
      "[CV] END estimator__max_depth=12, estimator__max_features=auto, estimator__min_samples_leaf=0.30000000000000004, estimator__min_samples_split=0.9, estimator__n_estimators=1400; total time=   7.8s\n",
      "[CV] END estimator__max_depth=12, estimator__max_features=auto, estimator__min_samples_leaf=0.30000000000000004, estimator__min_samples_split=0.9, estimator__n_estimators=1400; total time=   8.6s\n",
      "[CV] END estimator__max_depth=12, estimator__max_features=auto, estimator__min_samples_leaf=0.30000000000000004, estimator__min_samples_split=0.9, estimator__n_estimators=1400; total time=   8.4s\n",
      "[CV] END estimator__max_depth=23, estimator__max_features=auto, estimator__min_samples_leaf=0.2, estimator__min_samples_split=0.2, estimator__n_estimators=1800; total time=  16.4s\n",
      "[CV] END estimator__max_depth=23, estimator__max_features=auto, estimator__min_samples_leaf=0.2, estimator__min_samples_split=0.2, estimator__n_estimators=1800; total time=  14.7s\n",
      "[CV] END estimator__max_depth=23, estimator__max_features=auto, estimator__min_samples_leaf=0.2, estimator__min_samples_split=0.2, estimator__n_estimators=1800; total time=  15.1s\n",
      "[CV] END estimator__max_depth=7, estimator__max_features=auto, estimator__min_samples_leaf=0.30000000000000004, estimator__min_samples_split=0.7000000000000001, estimator__n_estimators=1500; total time=   8.6s\n",
      "[CV] END estimator__max_depth=7, estimator__max_features=auto, estimator__min_samples_leaf=0.30000000000000004, estimator__min_samples_split=0.7000000000000001, estimator__n_estimators=1500; total time=   8.5s\n",
      "[CV] END estimator__max_depth=7, estimator__max_features=auto, estimator__min_samples_leaf=0.30000000000000004, estimator__min_samples_split=0.7000000000000001, estimator__n_estimators=1500; total time=   8.4s\n",
      "[CV] END estimator__max_depth=17, estimator__max_features=sqrt, estimator__min_samples_leaf=0.4, estimator__min_samples_split=0.6, estimator__n_estimators=1000; total time=   1.4s\n",
      "[CV] END estimator__max_depth=17, estimator__max_features=sqrt, estimator__min_samples_leaf=0.4, estimator__min_samples_split=0.6, estimator__n_estimators=1000; total time=   1.4s\n",
      "[CV] END estimator__max_depth=17, estimator__max_features=sqrt, estimator__min_samples_leaf=0.4, estimator__min_samples_split=0.6, estimator__n_estimators=1000; total time=   1.3s\n",
      "[CV] END estimator__max_depth=30, estimator__max_features=sqrt, estimator__min_samples_leaf=0.5, estimator__min_samples_split=0.2, estimator__n_estimators=1000; total time=   1.4s\n",
      "[CV] END estimator__max_depth=30, estimator__max_features=sqrt, estimator__min_samples_leaf=0.5, estimator__min_samples_split=0.2, estimator__n_estimators=1000; total time=   1.2s\n",
      "[CV] END estimator__max_depth=30, estimator__max_features=sqrt, estimator__min_samples_leaf=0.5, estimator__min_samples_split=0.2, estimator__n_estimators=1000; total time=   0.9s\n",
      "[CV] END estimator__max_depth=5, estimator__max_features=auto, estimator__min_samples_leaf=0.5, estimator__min_samples_split=0.30000000000000004, estimator__n_estimators=1600; total time=   8.8s\n",
      "[CV] END estimator__max_depth=5, estimator__max_features=auto, estimator__min_samples_leaf=0.5, estimator__min_samples_split=0.30000000000000004, estimator__n_estimators=1600; total time=   1.5s\n",
      "[CV] END estimator__max_depth=5, estimator__max_features=auto, estimator__min_samples_leaf=0.5, estimator__min_samples_split=0.30000000000000004, estimator__n_estimators=1600; total time=   1.5s\n",
      "[CV] END estimator__max_depth=22, estimator__max_features=sqrt, estimator__min_samples_leaf=0.5, estimator__min_samples_split=0.7000000000000001, estimator__n_estimators=1200; total time=   1.5s\n",
      "[CV] END estimator__max_depth=22, estimator__max_features=sqrt, estimator__min_samples_leaf=0.5, estimator__min_samples_split=0.7000000000000001, estimator__n_estimators=1200; total time=   1.1s\n",
      "[CV] END estimator__max_depth=22, estimator__max_features=sqrt, estimator__min_samples_leaf=0.5, estimator__min_samples_split=0.7000000000000001, estimator__n_estimators=1200; total time=   1.1s\n",
      "[CV] END estimator__max_depth=15, estimator__max_features=auto, estimator__min_samples_leaf=0.5, estimator__min_samples_split=0.30000000000000004, estimator__n_estimators=1300; total time=   6.9s\n",
      "[CV] END estimator__max_depth=15, estimator__max_features=auto, estimator__min_samples_leaf=0.5, estimator__min_samples_split=0.30000000000000004, estimator__n_estimators=1300; total time=   1.2s\n",
      "[CV] END estimator__max_depth=15, estimator__max_features=auto, estimator__min_samples_leaf=0.5, estimator__min_samples_split=0.30000000000000004, estimator__n_estimators=1300; total time=   1.2s\n",
      "[CV] END estimator__max_depth=29, estimator__max_features=auto, estimator__min_samples_leaf=0.1, estimator__min_samples_split=0.30000000000000004, estimator__n_estimators=1000; total time=   9.6s\n",
      "[CV] END estimator__max_depth=29, estimator__max_features=auto, estimator__min_samples_leaf=0.1, estimator__min_samples_split=0.30000000000000004, estimator__n_estimators=1000; total time=   9.5s\n",
      "[CV] END estimator__max_depth=29, estimator__max_features=auto, estimator__min_samples_leaf=0.1, estimator__min_samples_split=0.30000000000000004, estimator__n_estimators=1000; total time=   9.6s\n",
      "[CV] END estimator__max_depth=12, estimator__max_features=auto, estimator__min_samples_leaf=0.4, estimator__min_samples_split=0.7000000000000001, estimator__n_estimators=1300; total time=   7.0s\n",
      "[CV] END estimator__max_depth=12, estimator__max_features=auto, estimator__min_samples_leaf=0.4, estimator__min_samples_split=0.7000000000000001, estimator__n_estimators=1300; total time=   7.1s\n",
      "[CV] END estimator__max_depth=12, estimator__max_features=auto, estimator__min_samples_leaf=0.4, estimator__min_samples_split=0.7000000000000001, estimator__n_estimators=1300; total time=   7.0s\n",
      "[CV] END estimator__max_depth=28, estimator__max_features=auto, estimator__min_samples_leaf=0.5, estimator__min_samples_split=1.0, estimator__n_estimators=1500; total time=   8.2s\n",
      "[CV] END estimator__max_depth=28, estimator__max_features=auto, estimator__min_samples_leaf=0.5, estimator__min_samples_split=1.0, estimator__n_estimators=1500; total time=   1.3s\n",
      "[CV] END estimator__max_depth=28, estimator__max_features=auto, estimator__min_samples_leaf=0.5, estimator__min_samples_split=1.0, estimator__n_estimators=1500; total time=   1.4s\n",
      "[CV] END estimator__max_depth=17, estimator__max_features=auto, estimator__min_samples_leaf=0.1, estimator__min_samples_split=0.30000000000000004, estimator__n_estimators=1300; total time=  12.5s\n",
      "[CV] END estimator__max_depth=17, estimator__max_features=auto, estimator__min_samples_leaf=0.1, estimator__min_samples_split=0.30000000000000004, estimator__n_estimators=1300; total time=  13.3s\n",
      "[CV] END estimator__max_depth=17, estimator__max_features=auto, estimator__min_samples_leaf=0.1, estimator__min_samples_split=0.30000000000000004, estimator__n_estimators=1300; total time=  13.2s\n",
      "[CV] END estimator__max_depth=9, estimator__max_features=auto, estimator__min_samples_leaf=0.4, estimator__min_samples_split=0.30000000000000004, estimator__n_estimators=1200; total time=   6.6s\n",
      "[CV] END estimator__max_depth=9, estimator__max_features=auto, estimator__min_samples_leaf=0.4, estimator__min_samples_split=0.30000000000000004, estimator__n_estimators=1200; total time=   6.4s\n",
      "[CV] END estimator__max_depth=9, estimator__max_features=auto, estimator__min_samples_leaf=0.4, estimator__min_samples_split=0.30000000000000004, estimator__n_estimators=1200; total time=   6.5s\n",
      "[CV] END estimator__max_depth=2, estimator__max_features=sqrt, estimator__min_samples_leaf=0.2, estimator__min_samples_split=0.9, estimator__n_estimators=1500; total time=   1.9s\n",
      "[CV] END estimator__max_depth=2, estimator__max_features=sqrt, estimator__min_samples_leaf=0.2, estimator__min_samples_split=0.9, estimator__n_estimators=1500; total time=   2.0s\n",
      "[CV] END estimator__max_depth=2, estimator__max_features=sqrt, estimator__min_samples_leaf=0.2, estimator__min_samples_split=0.9, estimator__n_estimators=1500; total time=   2.1s\n",
      "[CV] END estimator__max_depth=1, estimator__max_features=sqrt, estimator__min_samples_leaf=0.30000000000000004, estimator__min_samples_split=0.7000000000000001, estimator__n_estimators=1900; total time=   2.5s\n",
      "[CV] END estimator__max_depth=1, estimator__max_features=sqrt, estimator__min_samples_leaf=0.30000000000000004, estimator__min_samples_split=0.7000000000000001, estimator__n_estimators=1900; total time=   2.6s\n",
      "[CV] END estimator__max_depth=1, estimator__max_features=sqrt, estimator__min_samples_leaf=0.30000000000000004, estimator__min_samples_split=0.7000000000000001, estimator__n_estimators=1900; total time=   2.4s\n",
      "[CV] END estimator__max_depth=27, estimator__max_features=sqrt, estimator__min_samples_leaf=0.5, estimator__min_samples_split=0.7000000000000001, estimator__n_estimators=1700; total time=   2.3s\n",
      "[CV] END estimator__max_depth=27, estimator__max_features=sqrt, estimator__min_samples_leaf=0.5, estimator__min_samples_split=0.7000000000000001, estimator__n_estimators=1700; total time=   1.6s\n",
      "[CV] END estimator__max_depth=27, estimator__max_features=sqrt, estimator__min_samples_leaf=0.5, estimator__min_samples_split=0.7000000000000001, estimator__n_estimators=1700; total time=   1.6s\n",
      "[CV] END estimator__max_depth=None, estimator__max_features=auto, estimator__min_samples_leaf=0.2, estimator__min_samples_split=0.9, estimator__n_estimators=1700; total time=   9.7s\n",
      "[CV] END estimator__max_depth=None, estimator__max_features=auto, estimator__min_samples_leaf=0.2, estimator__min_samples_split=0.9, estimator__n_estimators=1700; total time=   9.5s\n",
      "[CV] END estimator__max_depth=None, estimator__max_features=auto, estimator__min_samples_leaf=0.2, estimator__min_samples_split=0.9, estimator__n_estimators=1700; total time=   9.8s\n",
      "[CV] END estimator__max_depth=24, estimator__max_features=auto, estimator__min_samples_leaf=0.4, estimator__min_samples_split=0.4, estimator__n_estimators=1300; total time=   7.1s\n",
      "[CV] END estimator__max_depth=24, estimator__max_features=auto, estimator__min_samples_leaf=0.4, estimator__min_samples_split=0.4, estimator__n_estimators=1300; total time=   7.6s\n",
      "[CV] END estimator__max_depth=24, estimator__max_features=auto, estimator__min_samples_leaf=0.4, estimator__min_samples_split=0.4, estimator__n_estimators=1300; total time=   7.2s\n",
      "[CV] END estimator__max_depth=3, estimator__max_features=auto, estimator__min_samples_leaf=0.5, estimator__min_samples_split=0.4, estimator__n_estimators=1300; total time=   6.9s\n",
      "[CV] END estimator__max_depth=3, estimator__max_features=auto, estimator__min_samples_leaf=0.5, estimator__min_samples_split=0.4, estimator__n_estimators=1300; total time=   1.2s\n",
      "[CV] END estimator__max_depth=3, estimator__max_features=auto, estimator__min_samples_leaf=0.5, estimator__min_samples_split=0.4, estimator__n_estimators=1300; total time=   1.2s\n",
      "[CV] END estimator__max_depth=6, estimator__max_features=auto, estimator__min_samples_leaf=0.4, estimator__min_samples_split=0.2, estimator__n_estimators=1100; total time=   6.0s\n",
      "[CV] END estimator__max_depth=6, estimator__max_features=auto, estimator__min_samples_leaf=0.4, estimator__min_samples_split=0.2, estimator__n_estimators=1100; total time=   6.1s\n",
      "[CV] END estimator__max_depth=6, estimator__max_features=auto, estimator__min_samples_leaf=0.4, estimator__min_samples_split=0.2, estimator__n_estimators=1100; total time=   6.1s\n",
      "[CV] END estimator__max_depth=6, estimator__max_features=auto, estimator__min_samples_leaf=0.1, estimator__min_samples_split=0.6, estimator__n_estimators=1100; total time=   9.1s\n",
      "[CV] END estimator__max_depth=6, estimator__max_features=auto, estimator__min_samples_leaf=0.1, estimator__min_samples_split=0.6, estimator__n_estimators=1100; total time=   9.1s\n",
      "[CV] END estimator__max_depth=6, estimator__max_features=auto, estimator__min_samples_leaf=0.1, estimator__min_samples_split=0.6, estimator__n_estimators=1100; total time=   9.0s\n",
      "[CV] END estimator__max_depth=7, estimator__max_features=auto, estimator__min_samples_leaf=0.5, estimator__min_samples_split=0.30000000000000004, estimator__n_estimators=1000; total time=   5.9s\n",
      "[CV] END estimator__max_depth=7, estimator__max_features=auto, estimator__min_samples_leaf=0.5, estimator__min_samples_split=0.30000000000000004, estimator__n_estimators=1000; total time=   0.9s\n",
      "[CV] END estimator__max_depth=7, estimator__max_features=auto, estimator__min_samples_leaf=0.5, estimator__min_samples_split=0.30000000000000004, estimator__n_estimators=1000; total time=   0.9s\n",
      "[CV] END estimator__max_depth=18, estimator__max_features=sqrt, estimator__min_samples_leaf=0.1, estimator__min_samples_split=0.7000000000000001, estimator__n_estimators=1800; total time=   2.4s\n",
      "[CV] END estimator__max_depth=18, estimator__max_features=sqrt, estimator__min_samples_leaf=0.1, estimator__min_samples_split=0.7000000000000001, estimator__n_estimators=1800; total time=   2.5s\n",
      "[CV] END estimator__max_depth=18, estimator__max_features=sqrt, estimator__min_samples_leaf=0.1, estimator__min_samples_split=0.7000000000000001, estimator__n_estimators=1800; total time=   2.4s\n",
      "[CV] END estimator__max_depth=21, estimator__max_features=sqrt, estimator__min_samples_leaf=0.5, estimator__min_samples_split=0.4, estimator__n_estimators=1900; total time=   2.5s\n",
      "[CV] END estimator__max_depth=21, estimator__max_features=sqrt, estimator__min_samples_leaf=0.5, estimator__min_samples_split=0.4, estimator__n_estimators=1900; total time=   2.5s\n",
      "[CV] END estimator__max_depth=21, estimator__max_features=sqrt, estimator__min_samples_leaf=0.5, estimator__min_samples_split=0.4, estimator__n_estimators=1900; total time=   2.3s\n",
      "[CV] END estimator__max_depth=20, estimator__max_features=sqrt, estimator__min_samples_leaf=0.30000000000000004, estimator__min_samples_split=0.7000000000000001, estimator__n_estimators=1900; total time=   4.2s\n",
      "[CV] END estimator__max_depth=20, estimator__max_features=sqrt, estimator__min_samples_leaf=0.30000000000000004, estimator__min_samples_split=0.7000000000000001, estimator__n_estimators=1900; total time=   4.7s\n",
      "[CV] END estimator__max_depth=20, estimator__max_features=sqrt, estimator__min_samples_leaf=0.30000000000000004, estimator__min_samples_split=0.7000000000000001, estimator__n_estimators=1900; total time=   3.5s\n",
      "[CV] END estimator__max_depth=29, estimator__max_features=sqrt, estimator__min_samples_leaf=0.2, estimator__min_samples_split=1.0, estimator__n_estimators=1300; total time=   2.6s\n",
      "[CV] END estimator__max_depth=29, estimator__max_features=sqrt, estimator__min_samples_leaf=0.2, estimator__min_samples_split=1.0, estimator__n_estimators=1300; total time=   2.6s\n",
      "[CV] END estimator__max_depth=29, estimator__max_features=sqrt, estimator__min_samples_leaf=0.2, estimator__min_samples_split=1.0, estimator__n_estimators=1300; total time=   2.1s\n",
      "[CV] END estimator__max_depth=7, estimator__max_features=auto, estimator__min_samples_leaf=0.4, estimator__min_samples_split=1.0, estimator__n_estimators=1600; total time=   8.4s\n",
      "[CV] END estimator__max_depth=7, estimator__max_features=auto, estimator__min_samples_leaf=0.4, estimator__min_samples_split=1.0, estimator__n_estimators=1600; total time=   8.9s\n",
      "[CV] END estimator__max_depth=7, estimator__max_features=auto, estimator__min_samples_leaf=0.4, estimator__min_samples_split=1.0, estimator__n_estimators=1600; total time=   8.7s\n",
      "[CV] END estimator__max_depth=30, estimator__max_features=auto, estimator__min_samples_leaf=0.5, estimator__min_samples_split=0.2, estimator__n_estimators=1900; total time=  10.4s\n",
      "[CV] END estimator__max_depth=30, estimator__max_features=auto, estimator__min_samples_leaf=0.5, estimator__min_samples_split=0.2, estimator__n_estimators=1900; total time=   1.8s\n",
      "[CV] END estimator__max_depth=30, estimator__max_features=auto, estimator__min_samples_leaf=0.5, estimator__min_samples_split=0.2, estimator__n_estimators=1900; total time=   2.0s\n",
      "[CV] END estimator__max_depth=28, estimator__max_features=auto, estimator__min_samples_leaf=0.5, estimator__min_samples_split=0.9, estimator__n_estimators=1000; total time=   5.9s\n",
      "[CV] END estimator__max_depth=28, estimator__max_features=auto, estimator__min_samples_leaf=0.5, estimator__min_samples_split=0.9, estimator__n_estimators=1000; total time=   0.9s\n",
      "[CV] END estimator__max_depth=28, estimator__max_features=auto, estimator__min_samples_leaf=0.5, estimator__min_samples_split=0.9, estimator__n_estimators=1000; total time=   1.0s\n",
      "[CV] END estimator__max_depth=9, estimator__max_features=sqrt, estimator__min_samples_leaf=0.2, estimator__min_samples_split=0.7000000000000001, estimator__n_estimators=1600; total time=   2.1s\n",
      "[CV] END estimator__max_depth=9, estimator__max_features=sqrt, estimator__min_samples_leaf=0.2, estimator__min_samples_split=0.7000000000000001, estimator__n_estimators=1600; total time=   2.2s\n",
      "[CV] END estimator__max_depth=9, estimator__max_features=sqrt, estimator__min_samples_leaf=0.2, estimator__min_samples_split=0.7000000000000001, estimator__n_estimators=1600; total time=   2.1s\n",
      "[CV] END estimator__max_depth=26, estimator__max_features=sqrt, estimator__min_samples_leaf=0.2, estimator__min_samples_split=0.6, estimator__n_estimators=1800; total time=   2.5s\n",
      "[CV] END estimator__max_depth=26, estimator__max_features=sqrt, estimator__min_samples_leaf=0.2, estimator__min_samples_split=0.6, estimator__n_estimators=1800; total time=   2.6s\n",
      "[CV] END estimator__max_depth=26, estimator__max_features=sqrt, estimator__min_samples_leaf=0.2, estimator__min_samples_split=0.6, estimator__n_estimators=1800; total time=   2.4s\n",
      "[CV] END estimator__max_depth=19, estimator__max_features=sqrt, estimator__min_samples_leaf=0.5, estimator__min_samples_split=0.5, estimator__n_estimators=1200; total time=   1.6s\n",
      "[CV] END estimator__max_depth=19, estimator__max_features=sqrt, estimator__min_samples_leaf=0.5, estimator__min_samples_split=0.5, estimator__n_estimators=1200; total time=   1.1s\n",
      "[CV] END estimator__max_depth=19, estimator__max_features=sqrt, estimator__min_samples_leaf=0.5, estimator__min_samples_split=0.5, estimator__n_estimators=1200; total time=   1.1s\n",
      "[CV] END estimator__max_depth=25, estimator__max_features=auto, estimator__min_samples_leaf=0.30000000000000004, estimator__min_samples_split=0.4, estimator__n_estimators=1300; total time=  10.7s\n",
      "[CV] END estimator__max_depth=25, estimator__max_features=auto, estimator__min_samples_leaf=0.30000000000000004, estimator__min_samples_split=0.4, estimator__n_estimators=1300; total time=  10.9s\n",
      "[CV] END estimator__max_depth=25, estimator__max_features=auto, estimator__min_samples_leaf=0.30000000000000004, estimator__min_samples_split=0.4, estimator__n_estimators=1300; total time=  10.7s\n",
      "[CV] END estimator__max_depth=19, estimator__max_features=auto, estimator__min_samples_leaf=0.5, estimator__min_samples_split=0.4, estimator__n_estimators=1100; total time=   6.1s\n",
      "[CV] END estimator__max_depth=19, estimator__max_features=auto, estimator__min_samples_leaf=0.5, estimator__min_samples_split=0.4, estimator__n_estimators=1100; total time=   1.0s\n",
      "[CV] END estimator__max_depth=19, estimator__max_features=auto, estimator__min_samples_leaf=0.5, estimator__min_samples_split=0.4, estimator__n_estimators=1100; total time=   1.0s\n",
      "[CV] END estimator__max_depth=3, estimator__max_features=sqrt, estimator__min_samples_leaf=0.30000000000000004, estimator__min_samples_split=0.5, estimator__n_estimators=1700; total time=   2.3s\n",
      "[CV] END estimator__max_depth=3, estimator__max_features=sqrt, estimator__min_samples_leaf=0.30000000000000004, estimator__min_samples_split=0.5, estimator__n_estimators=1700; total time=   2.4s\n",
      "[CV] END estimator__max_depth=3, estimator__max_features=sqrt, estimator__min_samples_leaf=0.30000000000000004, estimator__min_samples_split=0.5, estimator__n_estimators=1700; total time=   2.3s\n",
      "[CV] END estimator__max_depth=26, estimator__max_features=sqrt, estimator__min_samples_leaf=0.1, estimator__min_samples_split=0.6, estimator__n_estimators=1100; total time=   1.6s\n",
      "[CV] END estimator__max_depth=26, estimator__max_features=sqrt, estimator__min_samples_leaf=0.1, estimator__min_samples_split=0.6, estimator__n_estimators=1100; total time=   1.5s\n",
      "[CV] END estimator__max_depth=26, estimator__max_features=sqrt, estimator__min_samples_leaf=0.1, estimator__min_samples_split=0.6, estimator__n_estimators=1100; total time=   1.5s\n",
      "[CV] END estimator__max_depth=27, estimator__max_features=auto, estimator__min_samples_leaf=0.4, estimator__min_samples_split=0.9, estimator__n_estimators=1200; total time=   6.5s\n",
      "[CV] END estimator__max_depth=27, estimator__max_features=auto, estimator__min_samples_leaf=0.4, estimator__min_samples_split=0.9, estimator__n_estimators=1200; total time=   6.6s\n",
      "[CV] END estimator__max_depth=27, estimator__max_features=auto, estimator__min_samples_leaf=0.4, estimator__min_samples_split=0.9, estimator__n_estimators=1200; total time=   6.6s\n",
      "[CV] END estimator__max_depth=1, estimator__max_features=auto, estimator__min_samples_leaf=0.2, estimator__min_samples_split=0.9, estimator__n_estimators=1900; total time=  10.7s\n",
      "[CV] END estimator__max_depth=1, estimator__max_features=auto, estimator__min_samples_leaf=0.2, estimator__min_samples_split=0.9, estimator__n_estimators=1900; total time=  10.8s\n",
      "[CV] END estimator__max_depth=1, estimator__max_features=auto, estimator__min_samples_leaf=0.2, estimator__min_samples_split=0.9, estimator__n_estimators=1900; total time=  12.1s\n",
      "[CV] END estimator__max_depth=20, estimator__max_features=auto, estimator__min_samples_leaf=0.2, estimator__min_samples_split=0.2, estimator__n_estimators=1800; total time=  14.6s\n",
      "[CV] END estimator__max_depth=20, estimator__max_features=auto, estimator__min_samples_leaf=0.2, estimator__min_samples_split=0.2, estimator__n_estimators=1800; total time=  15.1s\n",
      "[CV] END estimator__max_depth=20, estimator__max_features=auto, estimator__min_samples_leaf=0.2, estimator__min_samples_split=0.2, estimator__n_estimators=1800; total time=  14.7s\n",
      "[CV] END estimator__max_depth=4, estimator__max_features=auto, estimator__min_samples_leaf=0.1, estimator__min_samples_split=0.1, estimator__n_estimators=1500; total time=  14.2s\n",
      "[CV] END estimator__max_depth=4, estimator__max_features=auto, estimator__min_samples_leaf=0.1, estimator__min_samples_split=0.1, estimator__n_estimators=1500; total time=  14.6s\n",
      "[CV] END estimator__max_depth=4, estimator__max_features=auto, estimator__min_samples_leaf=0.1, estimator__min_samples_split=0.1, estimator__n_estimators=1500; total time=  14.6s\n",
      "[CV] END estimator__max_depth=22, estimator__max_features=auto, estimator__min_samples_leaf=0.1, estimator__min_samples_split=0.5, estimator__n_estimators=1200; total time=  10.4s\n",
      "[CV] END estimator__max_depth=22, estimator__max_features=auto, estimator__min_samples_leaf=0.1, estimator__min_samples_split=0.5, estimator__n_estimators=1200; total time=   9.7s\n",
      "[CV] END estimator__max_depth=22, estimator__max_features=auto, estimator__min_samples_leaf=0.1, estimator__min_samples_split=0.5, estimator__n_estimators=1200; total time=   9.8s\n",
      "[CV] END estimator__max_depth=2, estimator__max_features=sqrt, estimator__min_samples_leaf=0.4, estimator__min_samples_split=1.0, estimator__n_estimators=1900; total time=   2.4s\n",
      "[CV] END estimator__max_depth=2, estimator__max_features=sqrt, estimator__min_samples_leaf=0.4, estimator__min_samples_split=1.0, estimator__n_estimators=1900; total time=   2.5s\n",
      "[CV] END estimator__max_depth=2, estimator__max_features=sqrt, estimator__min_samples_leaf=0.4, estimator__min_samples_split=1.0, estimator__n_estimators=1900; total time=   2.5s\n",
      "[CV] END estimator__max_depth=25, estimator__max_features=auto, estimator__min_samples_leaf=0.2, estimator__min_samples_split=0.2, estimator__n_estimators=1800; total time=  14.8s\n",
      "[CV] END estimator__max_depth=25, estimator__max_features=auto, estimator__min_samples_leaf=0.2, estimator__min_samples_split=0.2, estimator__n_estimators=1800; total time=  14.6s\n",
      "[CV] END estimator__max_depth=25, estimator__max_features=auto, estimator__min_samples_leaf=0.2, estimator__min_samples_split=0.2, estimator__n_estimators=1800; total time=  14.8s\n",
      "[CV] END estimator__max_depth=2, estimator__max_features=auto, estimator__min_samples_leaf=0.30000000000000004, estimator__min_samples_split=0.7000000000000001, estimator__n_estimators=1700; total time=  10.1s\n",
      "[CV] END estimator__max_depth=2, estimator__max_features=auto, estimator__min_samples_leaf=0.30000000000000004, estimator__min_samples_split=0.7000000000000001, estimator__n_estimators=1700; total time=  10.4s\n",
      "[CV] END estimator__max_depth=2, estimator__max_features=auto, estimator__min_samples_leaf=0.30000000000000004, estimator__min_samples_split=0.7000000000000001, estimator__n_estimators=1700; total time=   9.6s\n",
      "[CV] END estimator__max_depth=18, estimator__max_features=sqrt, estimator__min_samples_leaf=0.5, estimator__min_samples_split=0.2, estimator__n_estimators=1200; total time=   1.6s\n",
      "[CV] END estimator__max_depth=18, estimator__max_features=sqrt, estimator__min_samples_leaf=0.5, estimator__min_samples_split=0.2, estimator__n_estimators=1200; total time=   1.3s\n",
      "[CV] END estimator__max_depth=18, estimator__max_features=sqrt, estimator__min_samples_leaf=0.5, estimator__min_samples_split=0.2, estimator__n_estimators=1200; total time=   1.2s\n",
      "[CV] END estimator__max_depth=12, estimator__max_features=auto, estimator__min_samples_leaf=0.4, estimator__min_samples_split=1.0, estimator__n_estimators=1400; total time=   7.5s\n",
      "[CV] END estimator__max_depth=12, estimator__max_features=auto, estimator__min_samples_leaf=0.4, estimator__min_samples_split=1.0, estimator__n_estimators=1400; total time=   7.8s\n",
      "[CV] END estimator__max_depth=12, estimator__max_features=auto, estimator__min_samples_leaf=0.4, estimator__min_samples_split=1.0, estimator__n_estimators=1400; total time=   8.3s\n",
      "[CV] END estimator__max_depth=4, estimator__max_features=sqrt, estimator__min_samples_leaf=0.1, estimator__min_samples_split=0.6, estimator__n_estimators=1600; total time=   2.2s\n",
      "[CV] END estimator__max_depth=4, estimator__max_features=sqrt, estimator__min_samples_leaf=0.1, estimator__min_samples_split=0.6, estimator__n_estimators=1600; total time=   2.1s\n",
      "[CV] END estimator__max_depth=4, estimator__max_features=sqrt, estimator__min_samples_leaf=0.1, estimator__min_samples_split=0.6, estimator__n_estimators=1600; total time=   2.2s\n",
      "[CV] END estimator__max_depth=4, estimator__max_features=sqrt, estimator__min_samples_leaf=0.4, estimator__min_samples_split=1.0, estimator__n_estimators=1000; total time=   1.3s\n",
      "[CV] END estimator__max_depth=4, estimator__max_features=sqrt, estimator__min_samples_leaf=0.4, estimator__min_samples_split=1.0, estimator__n_estimators=1000; total time=   1.4s\n",
      "[CV] END estimator__max_depth=4, estimator__max_features=sqrt, estimator__min_samples_leaf=0.4, estimator__min_samples_split=1.0, estimator__n_estimators=1000; total time=   1.3s\n",
      "[CV] END estimator__max_depth=9, estimator__max_features=sqrt, estimator__min_samples_leaf=0.4, estimator__min_samples_split=0.4, estimator__n_estimators=1800; total time=   2.4s\n",
      "[CV] END estimator__max_depth=9, estimator__max_features=sqrt, estimator__min_samples_leaf=0.4, estimator__min_samples_split=0.4, estimator__n_estimators=1800; total time=   2.3s\n",
      "[CV] END estimator__max_depth=9, estimator__max_features=sqrt, estimator__min_samples_leaf=0.4, estimator__min_samples_split=0.4, estimator__n_estimators=1800; total time=   2.4s\n",
      "[CV] END estimator__max_depth=None, estimator__max_features=sqrt, estimator__min_samples_leaf=0.30000000000000004, estimator__min_samples_split=0.5, estimator__n_estimators=1000; total time=   1.3s\n",
      "[CV] END estimator__max_depth=None, estimator__max_features=sqrt, estimator__min_samples_leaf=0.30000000000000004, estimator__min_samples_split=0.5, estimator__n_estimators=1000; total time=   1.3s\n",
      "[CV] END estimator__max_depth=None, estimator__max_features=sqrt, estimator__min_samples_leaf=0.30000000000000004, estimator__min_samples_split=0.5, estimator__n_estimators=1000; total time=   1.4s\n",
      "[CV] END estimator__max_depth=28, estimator__max_features=auto, estimator__min_samples_leaf=0.5, estimator__min_samples_split=0.7000000000000001, estimator__n_estimators=1400; total time=   7.6s\n",
      "[CV] END estimator__max_depth=28, estimator__max_features=auto, estimator__min_samples_leaf=0.5, estimator__min_samples_split=0.7000000000000001, estimator__n_estimators=1400; total time=   1.3s\n",
      "[CV] END estimator__max_depth=28, estimator__max_features=auto, estimator__min_samples_leaf=0.5, estimator__min_samples_split=0.7000000000000001, estimator__n_estimators=1400; total time=   1.4s\n",
      "[CV] END estimator__max_depth=15, estimator__max_features=sqrt, estimator__min_samples_leaf=0.1, estimator__min_samples_split=0.1, estimator__n_estimators=1200; total time=   1.6s\n",
      "[CV] END estimator__max_depth=15, estimator__max_features=sqrt, estimator__min_samples_leaf=0.1, estimator__min_samples_split=0.1, estimator__n_estimators=1200; total time=   1.6s\n",
      "[CV] END estimator__max_depth=15, estimator__max_features=sqrt, estimator__min_samples_leaf=0.1, estimator__min_samples_split=0.1, estimator__n_estimators=1200; total time=   1.7s\n",
      "[CV] END estimator__max_depth=22, estimator__max_features=sqrt, estimator__min_samples_leaf=0.30000000000000004, estimator__min_samples_split=0.8, estimator__n_estimators=1700; total time=   2.3s\n",
      "[CV] END estimator__max_depth=22, estimator__max_features=sqrt, estimator__min_samples_leaf=0.30000000000000004, estimator__min_samples_split=0.8, estimator__n_estimators=1700; total time=   2.2s\n",
      "[CV] END estimator__max_depth=22, estimator__max_features=sqrt, estimator__min_samples_leaf=0.30000000000000004, estimator__min_samples_split=0.8, estimator__n_estimators=1700; total time=   2.3s\n",
      "[CV] END estimator__max_depth=11, estimator__max_features=sqrt, estimator__min_samples_leaf=0.2, estimator__min_samples_split=0.30000000000000004, estimator__n_estimators=1700; total time=   2.2s\n",
      "[CV] END estimator__max_depth=11, estimator__max_features=sqrt, estimator__min_samples_leaf=0.2, estimator__min_samples_split=0.30000000000000004, estimator__n_estimators=1700; total time=   2.5s\n",
      "[CV] END estimator__max_depth=11, estimator__max_features=sqrt, estimator__min_samples_leaf=0.2, estimator__min_samples_split=0.30000000000000004, estimator__n_estimators=1700; total time=   2.7s\n",
      "[CV] END estimator__max_depth=9, estimator__max_features=sqrt, estimator__min_samples_leaf=0.30000000000000004, estimator__min_samples_split=1.0, estimator__n_estimators=1200; total time=   1.7s\n",
      "[CV] END estimator__max_depth=9, estimator__max_features=sqrt, estimator__min_samples_leaf=0.30000000000000004, estimator__min_samples_split=1.0, estimator__n_estimators=1200; total time=   1.5s\n",
      "[CV] END estimator__max_depth=9, estimator__max_features=sqrt, estimator__min_samples_leaf=0.30000000000000004, estimator__min_samples_split=1.0, estimator__n_estimators=1200; total time=   1.5s\n",
      "[CV] END estimator__max_depth=11, estimator__max_features=sqrt, estimator__min_samples_leaf=0.1, estimator__min_samples_split=0.6, estimator__n_estimators=1500; total time=   2.1s\n",
      "[CV] END estimator__max_depth=11, estimator__max_features=sqrt, estimator__min_samples_leaf=0.1, estimator__min_samples_split=0.6, estimator__n_estimators=1500; total time=   2.0s\n",
      "[CV] END estimator__max_depth=11, estimator__max_features=sqrt, estimator__min_samples_leaf=0.1, estimator__min_samples_split=0.6, estimator__n_estimators=1500; total time=   2.0s\n",
      "[CV] END estimator__max_depth=11, estimator__max_features=auto, estimator__min_samples_leaf=0.30000000000000004, estimator__min_samples_split=0.6, estimator__n_estimators=1300; total time=  11.0s\n",
      "[CV] END estimator__max_depth=11, estimator__max_features=auto, estimator__min_samples_leaf=0.30000000000000004, estimator__min_samples_split=0.6, estimator__n_estimators=1300; total time=  10.7s\n",
      "[CV] END estimator__max_depth=11, estimator__max_features=auto, estimator__min_samples_leaf=0.30000000000000004, estimator__min_samples_split=0.6, estimator__n_estimators=1300; total time=  10.8s\n",
      "[CV] END estimator__max_depth=9, estimator__max_features=auto, estimator__min_samples_leaf=0.5, estimator__min_samples_split=0.4, estimator__n_estimators=1300; total time=   8.4s\n",
      "[CV] END estimator__max_depth=9, estimator__max_features=auto, estimator__min_samples_leaf=0.5, estimator__min_samples_split=0.4, estimator__n_estimators=1300; total time=   1.7s\n",
      "[CV] END estimator__max_depth=9, estimator__max_features=auto, estimator__min_samples_leaf=0.5, estimator__min_samples_split=0.4, estimator__n_estimators=1300; total time=   1.8s\n",
      "[CV] END estimator__max_depth=11, estimator__max_features=auto, estimator__min_samples_leaf=0.30000000000000004, estimator__min_samples_split=0.4, estimator__n_estimators=1300; total time=  12.1s\n",
      "[CV] END estimator__max_depth=11, estimator__max_features=auto, estimator__min_samples_leaf=0.30000000000000004, estimator__min_samples_split=0.4, estimator__n_estimators=1300; total time=  10.6s\n",
      "[CV] END estimator__max_depth=11, estimator__max_features=auto, estimator__min_samples_leaf=0.30000000000000004, estimator__min_samples_split=0.4, estimator__n_estimators=1300; total time=  12.5s\n",
      "[CV] END estimator__max_depth=12, estimator__max_features=auto, estimator__min_samples_leaf=0.1, estimator__min_samples_split=0.2, estimator__n_estimators=1600; total time=  15.4s\n",
      "[CV] END estimator__max_depth=12, estimator__max_features=auto, estimator__min_samples_leaf=0.1, estimator__min_samples_split=0.2, estimator__n_estimators=1600; total time=  16.3s\n",
      "[CV] END estimator__max_depth=12, estimator__max_features=auto, estimator__min_samples_leaf=0.1, estimator__min_samples_split=0.2, estimator__n_estimators=1600; total time=  15.3s\n",
      "[CV] END estimator__max_depth=24, estimator__max_features=sqrt, estimator__min_samples_leaf=0.4, estimator__min_samples_split=1.0, estimator__n_estimators=1700; total time=   2.2s\n",
      "[CV] END estimator__max_depth=24, estimator__max_features=sqrt, estimator__min_samples_leaf=0.4, estimator__min_samples_split=1.0, estimator__n_estimators=1700; total time=   2.3s\n",
      "[CV] END estimator__max_depth=24, estimator__max_features=sqrt, estimator__min_samples_leaf=0.4, estimator__min_samples_split=1.0, estimator__n_estimators=1700; total time=   2.3s\n",
      "[CV] END estimator__max_depth=3, estimator__max_features=sqrt, estimator__min_samples_leaf=0.2, estimator__min_samples_split=0.2, estimator__n_estimators=1200; total time=   1.7s\n",
      "[CV] END estimator__max_depth=3, estimator__max_features=sqrt, estimator__min_samples_leaf=0.2, estimator__min_samples_split=0.2, estimator__n_estimators=1200; total time=   1.6s\n",
      "[CV] END estimator__max_depth=3, estimator__max_features=sqrt, estimator__min_samples_leaf=0.2, estimator__min_samples_split=0.2, estimator__n_estimators=1200; total time=   1.7s\n",
      "[CV] END estimator__max_depth=24, estimator__max_features=auto, estimator__min_samples_leaf=0.5, estimator__min_samples_split=0.30000000000000004, estimator__n_estimators=1500; total time=   8.1s\n",
      "[CV] END estimator__max_depth=24, estimator__max_features=auto, estimator__min_samples_leaf=0.5, estimator__min_samples_split=0.30000000000000004, estimator__n_estimators=1500; total time=   1.5s\n",
      "[CV] END estimator__max_depth=24, estimator__max_features=auto, estimator__min_samples_leaf=0.5, estimator__min_samples_split=0.30000000000000004, estimator__n_estimators=1500; total time=   1.4s\n",
      "[CV] END estimator__max_depth=26, estimator__max_features=sqrt, estimator__min_samples_leaf=0.5, estimator__min_samples_split=0.4, estimator__n_estimators=1900; total time=   2.5s\n",
      "[CV] END estimator__max_depth=26, estimator__max_features=sqrt, estimator__min_samples_leaf=0.5, estimator__min_samples_split=0.4, estimator__n_estimators=1900; total time=   1.9s\n",
      "[CV] END estimator__max_depth=26, estimator__max_features=sqrt, estimator__min_samples_leaf=0.5, estimator__min_samples_split=0.4, estimator__n_estimators=1900; total time=   1.8s\n",
      "[CV] END estimator__max_depth=23, estimator__max_features=sqrt, estimator__min_samples_leaf=0.2, estimator__min_samples_split=0.2, estimator__n_estimators=1900; total time=   2.6s\n",
      "[CV] END estimator__max_depth=23, estimator__max_features=sqrt, estimator__min_samples_leaf=0.2, estimator__min_samples_split=0.2, estimator__n_estimators=1900; total time=   2.6s\n",
      "[CV] END estimator__max_depth=23, estimator__max_features=sqrt, estimator__min_samples_leaf=0.2, estimator__min_samples_split=0.2, estimator__n_estimators=1900; total time=   2.8s\n",
      "[CV] END estimator__max_depth=22, estimator__max_features=sqrt, estimator__min_samples_leaf=0.4, estimator__min_samples_split=0.8, estimator__n_estimators=1000; total time=   1.3s\n",
      "[CV] END estimator__max_depth=22, estimator__max_features=sqrt, estimator__min_samples_leaf=0.4, estimator__min_samples_split=0.8, estimator__n_estimators=1000; total time=   1.4s\n",
      "[CV] END estimator__max_depth=22, estimator__max_features=sqrt, estimator__min_samples_leaf=0.4, estimator__min_samples_split=0.8, estimator__n_estimators=1000; total time=   1.3s\n",
      "[CV] END estimator__max_depth=24, estimator__max_features=auto, estimator__min_samples_leaf=0.5, estimator__min_samples_split=0.9, estimator__n_estimators=1300; total time=   7.1s\n",
      "[CV] END estimator__max_depth=24, estimator__max_features=auto, estimator__min_samples_leaf=0.5, estimator__min_samples_split=0.9, estimator__n_estimators=1300; total time=   1.2s\n",
      "[CV] END estimator__max_depth=24, estimator__max_features=auto, estimator__min_samples_leaf=0.5, estimator__min_samples_split=0.9, estimator__n_estimators=1300; total time=   1.2s\n",
      "[CV] END estimator__max_depth=27, estimator__max_features=auto, estimator__min_samples_leaf=0.1, estimator__min_samples_split=0.6, estimator__n_estimators=1400; total time=  11.5s\n",
      "[CV] END estimator__max_depth=27, estimator__max_features=auto, estimator__min_samples_leaf=0.1, estimator__min_samples_split=0.6, estimator__n_estimators=1400; total time=  11.5s\n",
      "[CV] END estimator__max_depth=27, estimator__max_features=auto, estimator__min_samples_leaf=0.1, estimator__min_samples_split=0.6, estimator__n_estimators=1400; total time=  11.3s\n",
      "[CV] END estimator__max_depth=16, estimator__max_features=sqrt, estimator__min_samples_leaf=0.30000000000000004, estimator__min_samples_split=0.9, estimator__n_estimators=1700; total time=   2.2s\n",
      "[CV] END estimator__max_depth=16, estimator__max_features=sqrt, estimator__min_samples_leaf=0.30000000000000004, estimator__min_samples_split=0.9, estimator__n_estimators=1700; total time=   2.3s\n",
      "[CV] END estimator__max_depth=16, estimator__max_features=sqrt, estimator__min_samples_leaf=0.30000000000000004, estimator__min_samples_split=0.9, estimator__n_estimators=1700; total time=   2.2s\n",
      "[CV] END estimator__max_depth=28, estimator__max_features=auto, estimator__min_samples_leaf=0.2, estimator__min_samples_split=0.4, estimator__n_estimators=1200; total time=  10.1s\n",
      "[CV] END estimator__max_depth=28, estimator__max_features=auto, estimator__min_samples_leaf=0.2, estimator__min_samples_split=0.4, estimator__n_estimators=1200; total time=   9.8s\n",
      "[CV] END estimator__max_depth=28, estimator__max_features=auto, estimator__min_samples_leaf=0.2, estimator__min_samples_split=0.4, estimator__n_estimators=1200; total time=   9.9s\n",
      "[CV] END estimator__max_depth=18, estimator__max_features=auto, estimator__min_samples_leaf=0.2, estimator__min_samples_split=0.6, estimator__n_estimators=1900; total time=  17.0s\n",
      "[CV] END estimator__max_depth=18, estimator__max_features=auto, estimator__min_samples_leaf=0.2, estimator__min_samples_split=0.6, estimator__n_estimators=1900; total time=  15.6s\n",
      "[CV] END estimator__max_depth=18, estimator__max_features=auto, estimator__min_samples_leaf=0.2, estimator__min_samples_split=0.6, estimator__n_estimators=1900; total time=  15.6s\n",
      "[CV] END estimator__max_depth=13, estimator__max_features=auto, estimator__min_samples_leaf=0.30000000000000004, estimator__min_samples_split=0.1, estimator__n_estimators=1600; total time=  13.2s\n",
      "[CV] END estimator__max_depth=13, estimator__max_features=auto, estimator__min_samples_leaf=0.30000000000000004, estimator__min_samples_split=0.1, estimator__n_estimators=1600; total time=  13.1s\n",
      "[CV] END estimator__max_depth=13, estimator__max_features=auto, estimator__min_samples_leaf=0.30000000000000004, estimator__min_samples_split=0.1, estimator__n_estimators=1600; total time=  13.1s\n",
      "[CV] END estimator__max_depth=9, estimator__max_features=auto, estimator__min_samples_leaf=0.30000000000000004, estimator__min_samples_split=0.30000000000000004, estimator__n_estimators=1600; total time=  13.3s\n",
      "[CV] END estimator__max_depth=9, estimator__max_features=auto, estimator__min_samples_leaf=0.30000000000000004, estimator__min_samples_split=0.30000000000000004, estimator__n_estimators=1600; total time=  13.1s\n",
      "[CV] END estimator__max_depth=9, estimator__max_features=auto, estimator__min_samples_leaf=0.30000000000000004, estimator__min_samples_split=0.30000000000000004, estimator__n_estimators=1600; total time=  13.2s\n",
      "[CV] END estimator__max_depth=15, estimator__max_features=sqrt, estimator__min_samples_leaf=0.1, estimator__min_samples_split=0.5, estimator__n_estimators=1100; total time=   1.5s\n",
      "[CV] END estimator__max_depth=15, estimator__max_features=sqrt, estimator__min_samples_leaf=0.1, estimator__min_samples_split=0.5, estimator__n_estimators=1100; total time=   1.5s\n",
      "[CV] END estimator__max_depth=15, estimator__max_features=sqrt, estimator__min_samples_leaf=0.1, estimator__min_samples_split=0.5, estimator__n_estimators=1100; total time=   1.6s\n",
      "[CV] END estimator__max_depth=4, estimator__max_features=auto, estimator__min_samples_leaf=0.2, estimator__min_samples_split=0.6, estimator__n_estimators=1200; total time=   9.8s\n",
      "[CV] END estimator__max_depth=4, estimator__max_features=auto, estimator__min_samples_leaf=0.2, estimator__min_samples_split=0.6, estimator__n_estimators=1200; total time=   9.6s\n",
      "[CV] END estimator__max_depth=4, estimator__max_features=auto, estimator__min_samples_leaf=0.2, estimator__min_samples_split=0.6, estimator__n_estimators=1200; total time=  10.0s\n",
      "[CV] END estimator__max_depth=27, estimator__max_features=sqrt, estimator__min_samples_leaf=0.1, estimator__min_samples_split=0.4, estimator__n_estimators=1100; total time=   1.7s\n",
      "[CV] END estimator__max_depth=27, estimator__max_features=sqrt, estimator__min_samples_leaf=0.1, estimator__min_samples_split=0.4, estimator__n_estimators=1100; total time=   1.5s\n",
      "[CV] END estimator__max_depth=27, estimator__max_features=sqrt, estimator__min_samples_leaf=0.1, estimator__min_samples_split=0.4, estimator__n_estimators=1100; total time=   1.6s\n",
      "[CV] END estimator__max_depth=2, estimator__max_features=sqrt, estimator__min_samples_leaf=0.1, estimator__min_samples_split=0.9, estimator__n_estimators=1500; total time=   2.2s\n",
      "[CV] END estimator__max_depth=2, estimator__max_features=sqrt, estimator__min_samples_leaf=0.1, estimator__min_samples_split=0.9, estimator__n_estimators=1500; total time=   1.9s\n",
      "[CV] END estimator__max_depth=2, estimator__max_features=sqrt, estimator__min_samples_leaf=0.1, estimator__min_samples_split=0.9, estimator__n_estimators=1500; total time=   1.9s\n",
      "[CV] END estimator__max_depth=4, estimator__max_features=sqrt, estimator__min_samples_leaf=0.5, estimator__min_samples_split=0.5, estimator__n_estimators=1300; total time=   1.8s\n",
      "[CV] END estimator__max_depth=4, estimator__max_features=sqrt, estimator__min_samples_leaf=0.5, estimator__min_samples_split=0.5, estimator__n_estimators=1300; total time=   1.2s\n",
      "[CV] END estimator__max_depth=4, estimator__max_features=sqrt, estimator__min_samples_leaf=0.5, estimator__min_samples_split=0.5, estimator__n_estimators=1300; total time=   1.2s\n",
      "[CV] END estimator__max_depth=24, estimator__max_features=sqrt, estimator__min_samples_leaf=0.5, estimator__min_samples_split=0.4, estimator__n_estimators=1900; total time=   2.6s\n",
      "[CV] END estimator__max_depth=24, estimator__max_features=sqrt, estimator__min_samples_leaf=0.5, estimator__min_samples_split=0.4, estimator__n_estimators=1900; total time=   1.8s\n",
      "[CV] END estimator__max_depth=24, estimator__max_features=sqrt, estimator__min_samples_leaf=0.5, estimator__min_samples_split=0.4, estimator__n_estimators=1900; total time=   1.9s\n",
      "[CV] END estimator__max_depth=20, estimator__max_features=auto, estimator__min_samples_leaf=0.5, estimator__min_samples_split=0.6, estimator__n_estimators=1700; total time=  10.2s\n",
      "[CV] END estimator__max_depth=20, estimator__max_features=auto, estimator__min_samples_leaf=0.5, estimator__min_samples_split=0.6, estimator__n_estimators=1700; total time=   2.1s\n",
      "[CV] END estimator__max_depth=20, estimator__max_features=auto, estimator__min_samples_leaf=0.5, estimator__min_samples_split=0.6, estimator__n_estimators=1700; total time=   1.6s\n",
      "[CV] END estimator__max_depth=2, estimator__max_features=auto, estimator__min_samples_leaf=0.1, estimator__min_samples_split=0.30000000000000004, estimator__n_estimators=1100; total time=  10.6s\n",
      "[CV] END estimator__max_depth=2, estimator__max_features=auto, estimator__min_samples_leaf=0.1, estimator__min_samples_split=0.30000000000000004, estimator__n_estimators=1100; total time=  10.7s\n",
      "[CV] END estimator__max_depth=2, estimator__max_features=auto, estimator__min_samples_leaf=0.1, estimator__min_samples_split=0.30000000000000004, estimator__n_estimators=1100; total time=  10.8s\n",
      "[CV] END estimator__max_depth=12, estimator__max_features=sqrt, estimator__min_samples_leaf=0.2, estimator__min_samples_split=0.6, estimator__n_estimators=1300; total time=   1.8s\n",
      "[CV] END estimator__max_depth=12, estimator__max_features=sqrt, estimator__min_samples_leaf=0.2, estimator__min_samples_split=0.6, estimator__n_estimators=1300; total time=   1.8s\n",
      "[CV] END estimator__max_depth=12, estimator__max_features=sqrt, estimator__min_samples_leaf=0.2, estimator__min_samples_split=0.6, estimator__n_estimators=1300; total time=   1.7s\n",
      "[CV] END estimator__max_depth=11, estimator__max_features=sqrt, estimator__min_samples_leaf=0.4, estimator__min_samples_split=0.1, estimator__n_estimators=1500; total time=   2.1s\n",
      "[CV] END estimator__max_depth=11, estimator__max_features=sqrt, estimator__min_samples_leaf=0.4, estimator__min_samples_split=0.1, estimator__n_estimators=1500; total time=   1.9s\n",
      "[CV] END estimator__max_depth=11, estimator__max_features=sqrt, estimator__min_samples_leaf=0.4, estimator__min_samples_split=0.1, estimator__n_estimators=1500; total time=   2.0s\n",
      "[CV] END estimator__max_depth=14, estimator__max_features=auto, estimator__min_samples_leaf=0.5, estimator__min_samples_split=0.2, estimator__n_estimators=1700; total time=   9.2s\n",
      "[CV] END estimator__max_depth=14, estimator__max_features=auto, estimator__min_samples_leaf=0.5, estimator__min_samples_split=0.2, estimator__n_estimators=1700; total time=   1.6s\n",
      "[CV] END estimator__max_depth=14, estimator__max_features=auto, estimator__min_samples_leaf=0.5, estimator__min_samples_split=0.2, estimator__n_estimators=1700; total time=   1.7s\n",
      "[CV] END estimator__max_depth=21, estimator__max_features=auto, estimator__min_samples_leaf=0.30000000000000004, estimator__min_samples_split=0.30000000000000004, estimator__n_estimators=1700; total time=  13.9s\n",
      "[CV] END estimator__max_depth=21, estimator__max_features=auto, estimator__min_samples_leaf=0.30000000000000004, estimator__min_samples_split=0.30000000000000004, estimator__n_estimators=1700; total time=  13.9s\n",
      "[CV] END estimator__max_depth=21, estimator__max_features=auto, estimator__min_samples_leaf=0.30000000000000004, estimator__min_samples_split=0.30000000000000004, estimator__n_estimators=1700; total time=  14.0s\n",
      "[CV] END estimator__max_depth=8, estimator__max_features=sqrt, estimator__min_samples_leaf=0.5, estimator__min_samples_split=0.9, estimator__n_estimators=1900; total time=   2.5s\n",
      "[CV] END estimator__max_depth=8, estimator__max_features=sqrt, estimator__min_samples_leaf=0.5, estimator__min_samples_split=0.9, estimator__n_estimators=1900; total time=   1.9s\n",
      "[CV] END estimator__max_depth=8, estimator__max_features=sqrt, estimator__min_samples_leaf=0.5, estimator__min_samples_split=0.9, estimator__n_estimators=1900; total time=   1.8s\n",
      "[CV] END estimator__max_depth=10, estimator__max_features=sqrt, estimator__min_samples_leaf=0.2, estimator__min_samples_split=1.0, estimator__n_estimators=1200; total time=   1.5s\n",
      "[CV] END estimator__max_depth=10, estimator__max_features=sqrt, estimator__min_samples_leaf=0.2, estimator__min_samples_split=1.0, estimator__n_estimators=1200; total time=   1.7s\n",
      "[CV] END estimator__max_depth=10, estimator__max_features=sqrt, estimator__min_samples_leaf=0.2, estimator__min_samples_split=1.0, estimator__n_estimators=1200; total time=   1.5s\n",
      "[CV] END estimator__max_depth=13, estimator__max_features=sqrt, estimator__min_samples_leaf=0.5, estimator__min_samples_split=1.0, estimator__n_estimators=1000; total time=   1.2s\n",
      "[CV] END estimator__max_depth=13, estimator__max_features=sqrt, estimator__min_samples_leaf=0.5, estimator__min_samples_split=1.0, estimator__n_estimators=1000; total time=   0.9s\n",
      "[CV] END estimator__max_depth=13, estimator__max_features=sqrt, estimator__min_samples_leaf=0.5, estimator__min_samples_split=1.0, estimator__n_estimators=1000; total time=   1.0s\n",
      "[CV] END estimator__max_depth=7, estimator__max_features=sqrt, estimator__min_samples_leaf=0.4, estimator__min_samples_split=0.8, estimator__n_estimators=1300; total time=   1.6s\n",
      "[CV] END estimator__max_depth=7, estimator__max_features=sqrt, estimator__min_samples_leaf=0.4, estimator__min_samples_split=0.8, estimator__n_estimators=1300; total time=   1.8s\n",
      "[CV] END estimator__max_depth=7, estimator__max_features=sqrt, estimator__min_samples_leaf=0.4, estimator__min_samples_split=0.8, estimator__n_estimators=1300; total time=   1.7s\n",
      "[CV] END estimator__max_depth=6, estimator__max_features=sqrt, estimator__min_samples_leaf=0.2, estimator__min_samples_split=0.8, estimator__n_estimators=1500; total time=   2.0s\n",
      "[CV] END estimator__max_depth=6, estimator__max_features=sqrt, estimator__min_samples_leaf=0.2, estimator__min_samples_split=0.8, estimator__n_estimators=1500; total time=   2.0s\n",
      "[CV] END estimator__max_depth=6, estimator__max_features=sqrt, estimator__min_samples_leaf=0.2, estimator__min_samples_split=0.8, estimator__n_estimators=1500; total time=   2.1s\n",
      "[CV] END estimator__max_depth=1, estimator__max_features=auto, estimator__min_samples_leaf=0.2, estimator__min_samples_split=0.7000000000000001, estimator__n_estimators=1100; total time=   6.3s\n",
      "[CV] END estimator__max_depth=1, estimator__max_features=auto, estimator__min_samples_leaf=0.2, estimator__min_samples_split=0.7000000000000001, estimator__n_estimators=1100; total time=   6.4s\n",
      "[CV] END estimator__max_depth=1, estimator__max_features=auto, estimator__min_samples_leaf=0.2, estimator__min_samples_split=0.7000000000000001, estimator__n_estimators=1100; total time=   6.2s\n",
      "[CV] END estimator__max_depth=5, estimator__max_features=auto, estimator__min_samples_leaf=0.30000000000000004, estimator__min_samples_split=1.0, estimator__n_estimators=1700; total time=   9.5s\n",
      "[CV] END estimator__max_depth=5, estimator__max_features=auto, estimator__min_samples_leaf=0.30000000000000004, estimator__min_samples_split=1.0, estimator__n_estimators=1700; total time=   9.7s\n",
      "[CV] END estimator__max_depth=5, estimator__max_features=auto, estimator__min_samples_leaf=0.30000000000000004, estimator__min_samples_split=1.0, estimator__n_estimators=1700; total time=   9.4s\n",
      "[CV] END estimator__max_depth=27, estimator__max_features=sqrt, estimator__min_samples_leaf=0.1, estimator__min_samples_split=0.6, estimator__n_estimators=1700; total time=   2.4s\n",
      "[CV] END estimator__max_depth=27, estimator__max_features=sqrt, estimator__min_samples_leaf=0.1, estimator__min_samples_split=0.6, estimator__n_estimators=1700; total time=   2.8s\n",
      "[CV] END estimator__max_depth=27, estimator__max_features=sqrt, estimator__min_samples_leaf=0.1, estimator__min_samples_split=0.6, estimator__n_estimators=1700; total time=   2.8s\n"
     ]
    },
    {
     "data": {
      "text/plain": [
       "RandomizedSearchCV(cv=3,\n",
       "                   estimator=MultiOutputRegressor(estimator=GradientBoostingRegressor(random_state=0)),\n",
       "                   n_iter=100,\n",
       "                   param_distributions={'estimator__max_depth': [1, 2, 3, 4, 5,\n",
       "                                                                 6, 7, 8, 9, 10,\n",
       "                                                                 11, 12, 13, 14,\n",
       "                                                                 15, 16, 17, 18,\n",
       "                                                                 19, 20, 21, 22,\n",
       "                                                                 23, 24, 25, 26,\n",
       "                                                                 27, 28, 29, 30, ...],\n",
       "                                        'estimator__max_features': ['auto',\n",
       "                                                                    'sqrt'],\n",
       "                                        'estimator__min_samples_leaf': [0.1,\n",
       "                                                                        0.2,\n",
       "                                                                        0.30000000000000004,\n",
       "                                                                        0.4,\n",
       "                                                                        0.5],\n",
       "                                        'estimator__min_samples_split': [0.1,\n",
       "                                                                         0.2,\n",
       "                                                                         0.30000000000000004,\n",
       "                                                                         0.4,\n",
       "                                                                         0.5,\n",
       "                                                                         0.6,\n",
       "                                                                         0.7000000000000001,\n",
       "                                                                         0.8,\n",
       "                                                                         0.9,\n",
       "                                                                         1.0],\n",
       "                                        'estimator__n_estimators': [1000, 1100,\n",
       "                                                                    1200, 1300,\n",
       "                                                                    1400, 1500,\n",
       "                                                                    1600, 1700,\n",
       "                                                                    1800,\n",
       "                                                                    1900]},\n",
       "                   random_state=42, verbose=2)"
      ]
     },
     "execution_count": 67,
     "metadata": {},
     "output_type": "execute_result"
    }
   ],
   "source": [
    "multi_gb_Boost = MultiOutputRegressor(GradientBoostingRegressor(random_state=0))\n",
    "rf_random_ = RandomizedSearchCV(estimator = multi_gb_Boost, param_distributions = random_grid, n_iter = 100, cv = 3, verbose=2, random_state=42)\n",
    "# Fit the random search model\n",
    "rf_random_.fit(X_train, y_train)"
   ]
  },
  {
   "cell_type": "code",
   "execution_count": 68,
   "id": "a98c34f0",
   "metadata": {},
   "outputs": [
    {
     "data": {
      "text/plain": [
       "0.038056897422428154"
      ]
     },
     "execution_count": 68,
     "metadata": {},
     "output_type": "execute_result"
    }
   ],
   "source": [
    "y_pred=rf_random_.predict(X_test)\n",
    "df_pred=np_to_df(y_pred)\n",
    "pd_concat=concat_pred_true(y_test,df_pred)\n",
    "MNWAE(pd_concat)"
   ]
  },
  {
   "cell_type": "code",
   "execution_count": 69,
   "id": "1a22b05e",
   "metadata": {},
   "outputs": [
    {
     "data": {
      "text/plain": [
       "MultiOutputRegressor(estimator=GradientBoostingRegressor(max_depth=None,\n",
       "                                                         max_features='sqrt',\n",
       "                                                         min_samples_leaf=0.30000000000000004,\n",
       "                                                         min_samples_split=0.5,\n",
       "                                                         n_estimators=1000,\n",
       "                                                         random_state=0))"
      ]
     },
     "execution_count": 69,
     "metadata": {},
     "output_type": "execute_result"
    }
   ],
   "source": [
    "rf_random_.best_estimator_"
   ]
  },
  {
   "cell_type": "code",
   "execution_count": 70,
   "id": "9c2c5ea6",
   "metadata": {},
   "outputs": [
    {
     "data": {
      "text/plain": [
       "{'mean_fit_time': array([ 2.00549499,  2.09285323,  1.35849603,  5.55786029,  1.62354612,\n",
       "         2.07079617,  1.57722608,  8.31202396, 15.45543019,  8.55247537,\n",
       "         1.42353559,  1.24065844,  4.01951106,  1.32369383,  3.18383773,\n",
       "         9.61441088,  7.0988756 ,  3.74614302, 13.0379173 ,  6.57985838,\n",
       "         2.07691916,  2.57704234,  1.92870657,  9.69113739,  7.38403002,\n",
       "         3.17621271,  6.12213198,  9.12526242,  2.6357801 ,  2.485461  ,\n",
       "         2.52537314,  4.21847526,  2.51404524,  8.75747418,  4.82234581,\n",
       "         2.68357038,  2.20688105,  2.57849964,  1.3630774 , 10.80802663,\n",
       "         2.80696384,  2.40053503,  1.59304579,  6.63895726, 11.21573265,\n",
       "        14.84314664, 14.50524513, 10.00739185,  2.54538663, 14.76765911,\n",
       "        10.05846397,  1.41405884,  7.93248884,  2.24128723,  1.39252178,\n",
       "         2.42326824,  1.43153079,  3.49260577,  1.70448565,  2.32661247,\n",
       "         2.54486601,  1.67628336,  2.10416611, 10.87329388,  4.01850549,\n",
       "        11.78851962, 15.67533882,  2.32894333,  1.71171037,  3.72178189,\n",
       "         2.12151488,  2.69319042,  1.40939625,  3.21079874, 11.49085776,\n",
       "         2.31227978,  9.98474789, 16.09091282, 13.18041325, 13.26673579,\n",
       "         1.58399749,  9.86258499,  1.68387779,  2.09998568,  1.48725518,\n",
       "         2.19522762,  4.69764328, 10.76353351,  1.8253022 ,  2.09700616,\n",
       "         4.23526104, 13.983634  ,  2.12629557,  1.6640385 ,  1.13164504,\n",
       "         1.78776224,  2.12174352,  6.34003997,  9.59071294,  2.75340716]),\n",
       " 'std_fit_time': array([0.04965632, 0.05376422, 0.04115873, 0.05816433, 0.0186487 ,\n",
       "        0.04839174, 0.28504802, 0.3122503 , 0.72777516, 0.05100937,\n",
       "        0.05481484, 0.19095838, 3.46199471, 0.21119451, 2.69535495,\n",
       "        0.03072208, 0.03460399, 3.23774306, 0.37031631, 0.06151711,\n",
       "        0.05375347, 0.0698309 , 0.33465346, 0.1041174 , 0.19408493,\n",
       "        2.6725026 , 0.02723337, 0.0550801 , 2.37446398, 0.04180965,\n",
       "        0.08764131, 0.49573312, 0.22428615, 0.19321041, 4.00561131,\n",
       "        2.33382922, 0.04553576, 0.10079169, 0.237244  , 0.10889601,\n",
       "        2.40791407, 0.06322385, 0.05588321, 0.06738738, 0.64152279,\n",
       "        0.19691414, 0.15886736, 0.29392649, 0.03971036, 0.10713241,\n",
       "        0.32261624, 0.18117809, 0.30888   , 0.0341903 , 0.04473941,\n",
       "        0.05820031, 0.06040424, 2.95601443, 0.04427607, 0.00913603,\n",
       "        0.19909771, 0.08568216, 0.03210786, 0.13459259, 3.16834689,\n",
       "        0.79463921, 0.44586878, 0.042092  , 0.04688742, 3.13334267,\n",
       "        0.29989035, 0.09309631, 0.03830756, 2.78944784, 0.10466124,\n",
       "        0.03771746, 0.11426627, 0.68597592, 0.04243328, 0.0930329 ,\n",
       "        0.0437769 , 0.17759721, 0.10997872, 0.12073039, 0.26463854,\n",
       "        0.35405602, 3.94958534, 0.10415736, 0.04276831, 0.05695403,\n",
       "        3.59403496, 0.05495911, 0.33042925, 0.06818732, 0.13848187,\n",
       "        0.05119982, 0.04769703, 0.07572715, 0.11973708, 0.1862623 ]),\n",
       " 'mean_score_time': array([0.02736306, 0.02785198, 0.02326639, 0.0222617 , 0.02200127,\n",
       "        0.02941267, 0.02373266, 0.06043458, 0.06561192, 0.05458895,\n",
       "        0.0258503 , 0.02461163, 0.02461521, 0.02280076, 0.02395535,\n",
       "        0.04221654, 0.02225884, 0.02474697, 0.04865392, 0.02294906,\n",
       "        0.02855078, 0.03353445, 0.02526442, 0.06112949, 0.0225865 ,\n",
       "        0.02230438, 0.02414282, 0.04231993, 0.02276603, 0.03051408,\n",
       "        0.03338997, 0.04991778, 0.03869573, 0.02676527, 0.03078532,\n",
       "        0.02305539, 0.03208065, 0.03092949, 0.022904  , 0.04678257,\n",
       "        0.0226059 , 0.0296874 , 0.02745414, 0.02215942, 0.06557782,\n",
       "        0.05800589, 0.05494332, 0.04474576, 0.02894902, 0.06201831,\n",
       "        0.05844609, 0.02572282, 0.02855539, 0.0307041 , 0.02094833,\n",
       "        0.02692453, 0.02298085, 0.02558684, 0.02853481, 0.03093314,\n",
       "        0.03358793, 0.02493548, 0.03132629, 0.04798126, 0.03014024,\n",
       "        0.05095387, 0.05849322, 0.02500065, 0.02529867, 0.02527873,\n",
       "        0.02726086, 0.03635883, 0.02162091, 0.02314576, 0.05203493,\n",
       "        0.03003931, 0.04377246, 0.06619875, 0.05817898, 0.05413802,\n",
       "        0.02678577, 0.04655862, 0.03468736, 0.03041164, 0.02365414,\n",
       "        0.02793678, 0.02800814, 0.04195182, 0.02625759, 0.02532355,\n",
       "        0.02764702, 0.06009865, 0.02910749, 0.02459915, 0.02162433,\n",
       "        0.02361512, 0.02958957, 0.04227821, 0.06040064, 0.03858089]),\n",
       " 'std_score_time': array([1.09007604e-03, 3.11671501e-04, 3.28588085e-03, 2.62421995e-03,\n",
       "        8.89423143e-04, 3.21159909e-03, 5.83655434e-04, 9.14588443e-03,\n",
       "        2.73204868e-03, 3.25684875e-03, 3.30675974e-03, 2.62228913e-03,\n",
       "        4.79847045e-04, 2.25924738e-03, 1.32366049e-03, 1.66711127e-03,\n",
       "        4.79400197e-04, 1.41951212e-03, 2.99644623e-03, 1.40381186e-03,\n",
       "        1.28186893e-03, 2.03152732e-03, 4.72633763e-04, 3.08806609e-03,\n",
       "        9.52955140e-04, 9.95235827e-04, 3.38266502e-03, 2.15443360e-03,\n",
       "        2.34038265e-03, 1.34458844e-03, 2.06562364e-03, 9.41848526e-03,\n",
       "        1.86015842e-03, 2.03695069e-03, 3.67441142e-03, 1.32625468e-03,\n",
       "        2.68785591e-03, 1.40361819e-03, 1.44344746e-03, 2.89717348e-04,\n",
       "        2.35111987e-03, 5.46145414e-04, 1.25466251e-03, 1.08498782e-03,\n",
       "        4.40637560e-03, 8.29358743e-04, 3.60192980e-03, 4.58998485e-04,\n",
       "        2.20446252e-03, 3.26776068e-03, 3.59688300e-03, 2.41135193e-03,\n",
       "        2.48862963e-03, 1.58598438e-03, 8.15392338e-04, 1.44364755e-03,\n",
       "        5.18636984e-05, 2.47056288e-03, 2.63492665e-03, 2.92702784e-03,\n",
       "        2.06469710e-03, 2.92079789e-05, 3.70743980e-03, 8.35657358e-04,\n",
       "        1.85074710e-03, 2.90175789e-03, 2.36228480e-03, 9.46923709e-05,\n",
       "        9.64202904e-04, 1.69863119e-03, 4.69965550e-04, 4.13651764e-03,\n",
       "        4.52938299e-04, 6.48192619e-04, 2.95404196e-03, 8.37110300e-04,\n",
       "        8.20523859e-04, 6.83493706e-03, 4.47947798e-03, 1.29785951e-03,\n",
       "        2.96231827e-03, 2.82598066e-03, 9.30553898e-03, 1.11257786e-03,\n",
       "        9.06831584e-04, 2.42995756e-03, 4.17354124e-03, 6.59603670e-05,\n",
       "        4.73768266e-04, 1.84153642e-03, 1.94816970e-03, 4.26828578e-03,\n",
       "        2.69942798e-03, 4.68398297e-04, 2.02741979e-04, 1.20845261e-03,\n",
       "        1.24711986e-03, 1.08582313e-03, 2.37125530e-03, 6.63285167e-03]),\n",
       " 'param_estimator__n_estimators': masked_array(data=[1400, 1500, 1000, 1000, 1200, 1500, 1400, 1400, 1800,\n",
       "                    1500, 1000, 1000, 1600, 1200, 1300, 1000, 1300, 1500,\n",
       "                    1300, 1200, 1500, 1900, 1700, 1700, 1300, 1300, 1100,\n",
       "                    1100, 1000, 1800, 1900, 1900, 1300, 1600, 1900, 1000,\n",
       "                    1600, 1800, 1200, 1300, 1100, 1700, 1100, 1200, 1900,\n",
       "                    1800, 1500, 1200, 1900, 1800, 1700, 1200, 1400, 1600,\n",
       "                    1000, 1800, 1000, 1400, 1200, 1700, 1700, 1200, 1500,\n",
       "                    1300, 1300, 1300, 1600, 1700, 1200, 1500, 1900, 1900,\n",
       "                    1000, 1300, 1400, 1700, 1200, 1900, 1600, 1600, 1100,\n",
       "                    1200, 1100, 1500, 1300, 1900, 1700, 1100, 1300, 1500,\n",
       "                    1700, 1700, 1900, 1200, 1000, 1300, 1500, 1100, 1700,\n",
       "                    1700],\n",
       "              mask=[False, False, False, False, False, False, False, False,\n",
       "                    False, False, False, False, False, False, False, False,\n",
       "                    False, False, False, False, False, False, False, False,\n",
       "                    False, False, False, False, False, False, False, False,\n",
       "                    False, False, False, False, False, False, False, False,\n",
       "                    False, False, False, False, False, False, False, False,\n",
       "                    False, False, False, False, False, False, False, False,\n",
       "                    False, False, False, False, False, False, False, False,\n",
       "                    False, False, False, False, False, False, False, False,\n",
       "                    False, False, False, False, False, False, False, False,\n",
       "                    False, False, False, False, False, False, False, False,\n",
       "                    False, False, False, False, False, False, False, False,\n",
       "                    False, False, False, False],\n",
       "        fill_value='?',\n",
       "             dtype=object),\n",
       " 'param_estimator__min_samples_split': masked_array(data=[0.6, 1.0, 0.7000000000000001, 1.0, 0.1, 0.8,\n",
       "                    0.7000000000000001, 0.9, 0.2, 0.7000000000000001, 0.6,\n",
       "                    0.2, 0.30000000000000004, 0.7000000000000001,\n",
       "                    0.30000000000000004, 0.30000000000000004,\n",
       "                    0.7000000000000001, 1.0, 0.30000000000000004,\n",
       "                    0.30000000000000004, 0.9, 0.7000000000000001,\n",
       "                    0.7000000000000001, 0.9, 0.4, 0.4, 0.2, 0.6,\n",
       "                    0.30000000000000004, 0.7000000000000001, 0.4,\n",
       "                    0.7000000000000001, 1.0, 1.0, 0.2, 0.9,\n",
       "                    0.7000000000000001, 0.6, 0.5, 0.4, 0.4, 0.5, 0.6, 0.9,\n",
       "                    0.9, 0.2, 0.1, 0.5, 1.0, 0.2, 0.7000000000000001, 0.2,\n",
       "                    1.0, 0.6, 1.0, 0.4, 0.5, 0.7000000000000001, 0.1, 0.8,\n",
       "                    0.30000000000000004, 1.0, 0.6, 0.6, 0.4, 0.4, 0.2, 1.0,\n",
       "                    0.2, 0.30000000000000004, 0.4, 0.2, 0.8, 0.9, 0.6, 0.9,\n",
       "                    0.4, 0.6, 0.1, 0.30000000000000004, 0.5, 0.6, 0.4, 0.9,\n",
       "                    0.5, 0.4, 0.6, 0.30000000000000004, 0.6, 0.1, 0.2,\n",
       "                    0.30000000000000004, 0.9, 1.0, 1.0, 0.8, 0.8,\n",
       "                    0.7000000000000001, 1.0, 0.6],\n",
       "              mask=[False, False, False, False, False, False, False, False,\n",
       "                    False, False, False, False, False, False, False, False,\n",
       "                    False, False, False, False, False, False, False, False,\n",
       "                    False, False, False, False, False, False, False, False,\n",
       "                    False, False, False, False, False, False, False, False,\n",
       "                    False, False, False, False, False, False, False, False,\n",
       "                    False, False, False, False, False, False, False, False,\n",
       "                    False, False, False, False, False, False, False, False,\n",
       "                    False, False, False, False, False, False, False, False,\n",
       "                    False, False, False, False, False, False, False, False,\n",
       "                    False, False, False, False, False, False, False, False,\n",
       "                    False, False, False, False, False, False, False, False,\n",
       "                    False, False, False, False],\n",
       "        fill_value='?',\n",
       "             dtype=object),\n",
       " 'param_estimator__min_samples_leaf': masked_array(data=[0.2, 0.30000000000000004, 0.4, 0.4, 0.4, 0.1, 0.5,\n",
       "                    0.30000000000000004, 0.2, 0.30000000000000004, 0.4,\n",
       "                    0.5, 0.5, 0.5, 0.5, 0.1, 0.4, 0.5, 0.1, 0.4, 0.2,\n",
       "                    0.30000000000000004, 0.5, 0.2, 0.4, 0.5, 0.4, 0.1, 0.5,\n",
       "                    0.1, 0.5, 0.30000000000000004, 0.2, 0.4, 0.5, 0.5, 0.2,\n",
       "                    0.2, 0.5, 0.30000000000000004, 0.5,\n",
       "                    0.30000000000000004, 0.1, 0.4, 0.2, 0.2, 0.1, 0.1, 0.4,\n",
       "                    0.2, 0.30000000000000004, 0.5, 0.4, 0.1, 0.4, 0.4,\n",
       "                    0.30000000000000004, 0.5, 0.1, 0.30000000000000004,\n",
       "                    0.2, 0.30000000000000004, 0.1, 0.30000000000000004,\n",
       "                    0.5, 0.30000000000000004, 0.1, 0.4, 0.2, 0.5, 0.5, 0.2,\n",
       "                    0.4, 0.5, 0.1, 0.30000000000000004, 0.2, 0.2,\n",
       "                    0.30000000000000004, 0.30000000000000004, 0.1, 0.2,\n",
       "                    0.1, 0.1, 0.5, 0.5, 0.5, 0.1, 0.2, 0.4, 0.5,\n",
       "                    0.30000000000000004, 0.5, 0.2, 0.5, 0.4, 0.2, 0.2,\n",
       "                    0.30000000000000004, 0.1],\n",
       "              mask=[False, False, False, False, False, False, False, False,\n",
       "                    False, False, False, False, False, False, False, False,\n",
       "                    False, False, False, False, False, False, False, False,\n",
       "                    False, False, False, False, False, False, False, False,\n",
       "                    False, False, False, False, False, False, False, False,\n",
       "                    False, False, False, False, False, False, False, False,\n",
       "                    False, False, False, False, False, False, False, False,\n",
       "                    False, False, False, False, False, False, False, False,\n",
       "                    False, False, False, False, False, False, False, False,\n",
       "                    False, False, False, False, False, False, False, False,\n",
       "                    False, False, False, False, False, False, False, False,\n",
       "                    False, False, False, False, False, False, False, False,\n",
       "                    False, False, False, False],\n",
       "        fill_value='?',\n",
       "             dtype=object),\n",
       " 'param_estimator__max_features': masked_array(data=['sqrt', 'sqrt', 'sqrt', 'auto', 'sqrt', 'sqrt', 'sqrt',\n",
       "                    'auto', 'auto', 'auto', 'sqrt', 'sqrt', 'auto', 'sqrt',\n",
       "                    'auto', 'auto', 'auto', 'auto', 'auto', 'auto', 'sqrt',\n",
       "                    'sqrt', 'sqrt', 'auto', 'auto', 'auto', 'auto', 'auto',\n",
       "                    'auto', 'sqrt', 'sqrt', 'sqrt', 'sqrt', 'auto', 'auto',\n",
       "                    'auto', 'sqrt', 'sqrt', 'sqrt', 'auto', 'auto', 'sqrt',\n",
       "                    'sqrt', 'auto', 'auto', 'auto', 'auto', 'auto', 'sqrt',\n",
       "                    'auto', 'auto', 'sqrt', 'auto', 'sqrt', 'sqrt', 'sqrt',\n",
       "                    'sqrt', 'auto', 'sqrt', 'sqrt', 'sqrt', 'sqrt', 'sqrt',\n",
       "                    'auto', 'auto', 'auto', 'auto', 'sqrt', 'sqrt', 'auto',\n",
       "                    'sqrt', 'sqrt', 'sqrt', 'auto', 'auto', 'sqrt', 'auto',\n",
       "                    'auto', 'auto', 'auto', 'sqrt', 'auto', 'sqrt', 'sqrt',\n",
       "                    'sqrt', 'sqrt', 'auto', 'auto', 'sqrt', 'sqrt', 'auto',\n",
       "                    'auto', 'sqrt', 'sqrt', 'sqrt', 'sqrt', 'sqrt', 'auto',\n",
       "                    'auto', 'sqrt'],\n",
       "              mask=[False, False, False, False, False, False, False, False,\n",
       "                    False, False, False, False, False, False, False, False,\n",
       "                    False, False, False, False, False, False, False, False,\n",
       "                    False, False, False, False, False, False, False, False,\n",
       "                    False, False, False, False, False, False, False, False,\n",
       "                    False, False, False, False, False, False, False, False,\n",
       "                    False, False, False, False, False, False, False, False,\n",
       "                    False, False, False, False, False, False, False, False,\n",
       "                    False, False, False, False, False, False, False, False,\n",
       "                    False, False, False, False, False, False, False, False,\n",
       "                    False, False, False, False, False, False, False, False,\n",
       "                    False, False, False, False, False, False, False, False,\n",
       "                    False, False, False, False],\n",
       "        fill_value='?',\n",
       "             dtype=object),\n",
       " 'param_estimator__max_depth': masked_array(data=[24, 16, 1, 6, 30, 22, 12, 12, 23, 7, 17, 30, 5, 22, 15,\n",
       "                    29, 12, 28, 17, 9, 2, 1, 27, None, 24, 3, 6, 6, 7, 18,\n",
       "                    21, 20, 29, 7, 30, 28, 9, 26, 19, 25, 19, 3, 26, 27, 1,\n",
       "                    20, 4, 22, 2, 25, 2, 18, 12, 4, 4, 9, None, 28, 15, 22,\n",
       "                    11, 9, 11, 11, 9, 11, 12, 24, 3, 24, 26, 23, 22, 24,\n",
       "                    27, 16, 28, 18, 13, 9, 15, 4, 27, 2, 4, 24, 20, 2, 12,\n",
       "                    11, 14, 21, 8, 10, 13, 7, 6, 1, 5, 27],\n",
       "              mask=[False, False, False, False, False, False, False, False,\n",
       "                    False, False, False, False, False, False, False, False,\n",
       "                    False, False, False, False, False, False, False, False,\n",
       "                    False, False, False, False, False, False, False, False,\n",
       "                    False, False, False, False, False, False, False, False,\n",
       "                    False, False, False, False, False, False, False, False,\n",
       "                    False, False, False, False, False, False, False, False,\n",
       "                    False, False, False, False, False, False, False, False,\n",
       "                    False, False, False, False, False, False, False, False,\n",
       "                    False, False, False, False, False, False, False, False,\n",
       "                    False, False, False, False, False, False, False, False,\n",
       "                    False, False, False, False, False, False, False, False,\n",
       "                    False, False, False, False],\n",
       "        fill_value='?',\n",
       "             dtype=object),\n",
       " 'params': [{'estimator__n_estimators': 1400,\n",
       "   'estimator__min_samples_split': 0.6,\n",
       "   'estimator__min_samples_leaf': 0.2,\n",
       "   'estimator__max_features': 'sqrt',\n",
       "   'estimator__max_depth': 24},\n",
       "  {'estimator__n_estimators': 1500,\n",
       "   'estimator__min_samples_split': 1.0,\n",
       "   'estimator__min_samples_leaf': 0.30000000000000004,\n",
       "   'estimator__max_features': 'sqrt',\n",
       "   'estimator__max_depth': 16},\n",
       "  {'estimator__n_estimators': 1000,\n",
       "   'estimator__min_samples_split': 0.7000000000000001,\n",
       "   'estimator__min_samples_leaf': 0.4,\n",
       "   'estimator__max_features': 'sqrt',\n",
       "   'estimator__max_depth': 1},\n",
       "  {'estimator__n_estimators': 1000,\n",
       "   'estimator__min_samples_split': 1.0,\n",
       "   'estimator__min_samples_leaf': 0.4,\n",
       "   'estimator__max_features': 'auto',\n",
       "   'estimator__max_depth': 6},\n",
       "  {'estimator__n_estimators': 1200,\n",
       "   'estimator__min_samples_split': 0.1,\n",
       "   'estimator__min_samples_leaf': 0.4,\n",
       "   'estimator__max_features': 'sqrt',\n",
       "   'estimator__max_depth': 30},\n",
       "  {'estimator__n_estimators': 1500,\n",
       "   'estimator__min_samples_split': 0.8,\n",
       "   'estimator__min_samples_leaf': 0.1,\n",
       "   'estimator__max_features': 'sqrt',\n",
       "   'estimator__max_depth': 22},\n",
       "  {'estimator__n_estimators': 1400,\n",
       "   'estimator__min_samples_split': 0.7000000000000001,\n",
       "   'estimator__min_samples_leaf': 0.5,\n",
       "   'estimator__max_features': 'sqrt',\n",
       "   'estimator__max_depth': 12},\n",
       "  {'estimator__n_estimators': 1400,\n",
       "   'estimator__min_samples_split': 0.9,\n",
       "   'estimator__min_samples_leaf': 0.30000000000000004,\n",
       "   'estimator__max_features': 'auto',\n",
       "   'estimator__max_depth': 12},\n",
       "  {'estimator__n_estimators': 1800,\n",
       "   'estimator__min_samples_split': 0.2,\n",
       "   'estimator__min_samples_leaf': 0.2,\n",
       "   'estimator__max_features': 'auto',\n",
       "   'estimator__max_depth': 23},\n",
       "  {'estimator__n_estimators': 1500,\n",
       "   'estimator__min_samples_split': 0.7000000000000001,\n",
       "   'estimator__min_samples_leaf': 0.30000000000000004,\n",
       "   'estimator__max_features': 'auto',\n",
       "   'estimator__max_depth': 7},\n",
       "  {'estimator__n_estimators': 1000,\n",
       "   'estimator__min_samples_split': 0.6,\n",
       "   'estimator__min_samples_leaf': 0.4,\n",
       "   'estimator__max_features': 'sqrt',\n",
       "   'estimator__max_depth': 17},\n",
       "  {'estimator__n_estimators': 1000,\n",
       "   'estimator__min_samples_split': 0.2,\n",
       "   'estimator__min_samples_leaf': 0.5,\n",
       "   'estimator__max_features': 'sqrt',\n",
       "   'estimator__max_depth': 30},\n",
       "  {'estimator__n_estimators': 1600,\n",
       "   'estimator__min_samples_split': 0.30000000000000004,\n",
       "   'estimator__min_samples_leaf': 0.5,\n",
       "   'estimator__max_features': 'auto',\n",
       "   'estimator__max_depth': 5},\n",
       "  {'estimator__n_estimators': 1200,\n",
       "   'estimator__min_samples_split': 0.7000000000000001,\n",
       "   'estimator__min_samples_leaf': 0.5,\n",
       "   'estimator__max_features': 'sqrt',\n",
       "   'estimator__max_depth': 22},\n",
       "  {'estimator__n_estimators': 1300,\n",
       "   'estimator__min_samples_split': 0.30000000000000004,\n",
       "   'estimator__min_samples_leaf': 0.5,\n",
       "   'estimator__max_features': 'auto',\n",
       "   'estimator__max_depth': 15},\n",
       "  {'estimator__n_estimators': 1000,\n",
       "   'estimator__min_samples_split': 0.30000000000000004,\n",
       "   'estimator__min_samples_leaf': 0.1,\n",
       "   'estimator__max_features': 'auto',\n",
       "   'estimator__max_depth': 29},\n",
       "  {'estimator__n_estimators': 1300,\n",
       "   'estimator__min_samples_split': 0.7000000000000001,\n",
       "   'estimator__min_samples_leaf': 0.4,\n",
       "   'estimator__max_features': 'auto',\n",
       "   'estimator__max_depth': 12},\n",
       "  {'estimator__n_estimators': 1500,\n",
       "   'estimator__min_samples_split': 1.0,\n",
       "   'estimator__min_samples_leaf': 0.5,\n",
       "   'estimator__max_features': 'auto',\n",
       "   'estimator__max_depth': 28},\n",
       "  {'estimator__n_estimators': 1300,\n",
       "   'estimator__min_samples_split': 0.30000000000000004,\n",
       "   'estimator__min_samples_leaf': 0.1,\n",
       "   'estimator__max_features': 'auto',\n",
       "   'estimator__max_depth': 17},\n",
       "  {'estimator__n_estimators': 1200,\n",
       "   'estimator__min_samples_split': 0.30000000000000004,\n",
       "   'estimator__min_samples_leaf': 0.4,\n",
       "   'estimator__max_features': 'auto',\n",
       "   'estimator__max_depth': 9},\n",
       "  {'estimator__n_estimators': 1500,\n",
       "   'estimator__min_samples_split': 0.9,\n",
       "   'estimator__min_samples_leaf': 0.2,\n",
       "   'estimator__max_features': 'sqrt',\n",
       "   'estimator__max_depth': 2},\n",
       "  {'estimator__n_estimators': 1900,\n",
       "   'estimator__min_samples_split': 0.7000000000000001,\n",
       "   'estimator__min_samples_leaf': 0.30000000000000004,\n",
       "   'estimator__max_features': 'sqrt',\n",
       "   'estimator__max_depth': 1},\n",
       "  {'estimator__n_estimators': 1700,\n",
       "   'estimator__min_samples_split': 0.7000000000000001,\n",
       "   'estimator__min_samples_leaf': 0.5,\n",
       "   'estimator__max_features': 'sqrt',\n",
       "   'estimator__max_depth': 27},\n",
       "  {'estimator__n_estimators': 1700,\n",
       "   'estimator__min_samples_split': 0.9,\n",
       "   'estimator__min_samples_leaf': 0.2,\n",
       "   'estimator__max_features': 'auto',\n",
       "   'estimator__max_depth': None},\n",
       "  {'estimator__n_estimators': 1300,\n",
       "   'estimator__min_samples_split': 0.4,\n",
       "   'estimator__min_samples_leaf': 0.4,\n",
       "   'estimator__max_features': 'auto',\n",
       "   'estimator__max_depth': 24},\n",
       "  {'estimator__n_estimators': 1300,\n",
       "   'estimator__min_samples_split': 0.4,\n",
       "   'estimator__min_samples_leaf': 0.5,\n",
       "   'estimator__max_features': 'auto',\n",
       "   'estimator__max_depth': 3},\n",
       "  {'estimator__n_estimators': 1100,\n",
       "   'estimator__min_samples_split': 0.2,\n",
       "   'estimator__min_samples_leaf': 0.4,\n",
       "   'estimator__max_features': 'auto',\n",
       "   'estimator__max_depth': 6},\n",
       "  {'estimator__n_estimators': 1100,\n",
       "   'estimator__min_samples_split': 0.6,\n",
       "   'estimator__min_samples_leaf': 0.1,\n",
       "   'estimator__max_features': 'auto',\n",
       "   'estimator__max_depth': 6},\n",
       "  {'estimator__n_estimators': 1000,\n",
       "   'estimator__min_samples_split': 0.30000000000000004,\n",
       "   'estimator__min_samples_leaf': 0.5,\n",
       "   'estimator__max_features': 'auto',\n",
       "   'estimator__max_depth': 7},\n",
       "  {'estimator__n_estimators': 1800,\n",
       "   'estimator__min_samples_split': 0.7000000000000001,\n",
       "   'estimator__min_samples_leaf': 0.1,\n",
       "   'estimator__max_features': 'sqrt',\n",
       "   'estimator__max_depth': 18},\n",
       "  {'estimator__n_estimators': 1900,\n",
       "   'estimator__min_samples_split': 0.4,\n",
       "   'estimator__min_samples_leaf': 0.5,\n",
       "   'estimator__max_features': 'sqrt',\n",
       "   'estimator__max_depth': 21},\n",
       "  {'estimator__n_estimators': 1900,\n",
       "   'estimator__min_samples_split': 0.7000000000000001,\n",
       "   'estimator__min_samples_leaf': 0.30000000000000004,\n",
       "   'estimator__max_features': 'sqrt',\n",
       "   'estimator__max_depth': 20},\n",
       "  {'estimator__n_estimators': 1300,\n",
       "   'estimator__min_samples_split': 1.0,\n",
       "   'estimator__min_samples_leaf': 0.2,\n",
       "   'estimator__max_features': 'sqrt',\n",
       "   'estimator__max_depth': 29},\n",
       "  {'estimator__n_estimators': 1600,\n",
       "   'estimator__min_samples_split': 1.0,\n",
       "   'estimator__min_samples_leaf': 0.4,\n",
       "   'estimator__max_features': 'auto',\n",
       "   'estimator__max_depth': 7},\n",
       "  {'estimator__n_estimators': 1900,\n",
       "   'estimator__min_samples_split': 0.2,\n",
       "   'estimator__min_samples_leaf': 0.5,\n",
       "   'estimator__max_features': 'auto',\n",
       "   'estimator__max_depth': 30},\n",
       "  {'estimator__n_estimators': 1000,\n",
       "   'estimator__min_samples_split': 0.9,\n",
       "   'estimator__min_samples_leaf': 0.5,\n",
       "   'estimator__max_features': 'auto',\n",
       "   'estimator__max_depth': 28},\n",
       "  {'estimator__n_estimators': 1600,\n",
       "   'estimator__min_samples_split': 0.7000000000000001,\n",
       "   'estimator__min_samples_leaf': 0.2,\n",
       "   'estimator__max_features': 'sqrt',\n",
       "   'estimator__max_depth': 9},\n",
       "  {'estimator__n_estimators': 1800,\n",
       "   'estimator__min_samples_split': 0.6,\n",
       "   'estimator__min_samples_leaf': 0.2,\n",
       "   'estimator__max_features': 'sqrt',\n",
       "   'estimator__max_depth': 26},\n",
       "  {'estimator__n_estimators': 1200,\n",
       "   'estimator__min_samples_split': 0.5,\n",
       "   'estimator__min_samples_leaf': 0.5,\n",
       "   'estimator__max_features': 'sqrt',\n",
       "   'estimator__max_depth': 19},\n",
       "  {'estimator__n_estimators': 1300,\n",
       "   'estimator__min_samples_split': 0.4,\n",
       "   'estimator__min_samples_leaf': 0.30000000000000004,\n",
       "   'estimator__max_features': 'auto',\n",
       "   'estimator__max_depth': 25},\n",
       "  {'estimator__n_estimators': 1100,\n",
       "   'estimator__min_samples_split': 0.4,\n",
       "   'estimator__min_samples_leaf': 0.5,\n",
       "   'estimator__max_features': 'auto',\n",
       "   'estimator__max_depth': 19},\n",
       "  {'estimator__n_estimators': 1700,\n",
       "   'estimator__min_samples_split': 0.5,\n",
       "   'estimator__min_samples_leaf': 0.30000000000000004,\n",
       "   'estimator__max_features': 'sqrt',\n",
       "   'estimator__max_depth': 3},\n",
       "  {'estimator__n_estimators': 1100,\n",
       "   'estimator__min_samples_split': 0.6,\n",
       "   'estimator__min_samples_leaf': 0.1,\n",
       "   'estimator__max_features': 'sqrt',\n",
       "   'estimator__max_depth': 26},\n",
       "  {'estimator__n_estimators': 1200,\n",
       "   'estimator__min_samples_split': 0.9,\n",
       "   'estimator__min_samples_leaf': 0.4,\n",
       "   'estimator__max_features': 'auto',\n",
       "   'estimator__max_depth': 27},\n",
       "  {'estimator__n_estimators': 1900,\n",
       "   'estimator__min_samples_split': 0.9,\n",
       "   'estimator__min_samples_leaf': 0.2,\n",
       "   'estimator__max_features': 'auto',\n",
       "   'estimator__max_depth': 1},\n",
       "  {'estimator__n_estimators': 1800,\n",
       "   'estimator__min_samples_split': 0.2,\n",
       "   'estimator__min_samples_leaf': 0.2,\n",
       "   'estimator__max_features': 'auto',\n",
       "   'estimator__max_depth': 20},\n",
       "  {'estimator__n_estimators': 1500,\n",
       "   'estimator__min_samples_split': 0.1,\n",
       "   'estimator__min_samples_leaf': 0.1,\n",
       "   'estimator__max_features': 'auto',\n",
       "   'estimator__max_depth': 4},\n",
       "  {'estimator__n_estimators': 1200,\n",
       "   'estimator__min_samples_split': 0.5,\n",
       "   'estimator__min_samples_leaf': 0.1,\n",
       "   'estimator__max_features': 'auto',\n",
       "   'estimator__max_depth': 22},\n",
       "  {'estimator__n_estimators': 1900,\n",
       "   'estimator__min_samples_split': 1.0,\n",
       "   'estimator__min_samples_leaf': 0.4,\n",
       "   'estimator__max_features': 'sqrt',\n",
       "   'estimator__max_depth': 2},\n",
       "  {'estimator__n_estimators': 1800,\n",
       "   'estimator__min_samples_split': 0.2,\n",
       "   'estimator__min_samples_leaf': 0.2,\n",
       "   'estimator__max_features': 'auto',\n",
       "   'estimator__max_depth': 25},\n",
       "  {'estimator__n_estimators': 1700,\n",
       "   'estimator__min_samples_split': 0.7000000000000001,\n",
       "   'estimator__min_samples_leaf': 0.30000000000000004,\n",
       "   'estimator__max_features': 'auto',\n",
       "   'estimator__max_depth': 2},\n",
       "  {'estimator__n_estimators': 1200,\n",
       "   'estimator__min_samples_split': 0.2,\n",
       "   'estimator__min_samples_leaf': 0.5,\n",
       "   'estimator__max_features': 'sqrt',\n",
       "   'estimator__max_depth': 18},\n",
       "  {'estimator__n_estimators': 1400,\n",
       "   'estimator__min_samples_split': 1.0,\n",
       "   'estimator__min_samples_leaf': 0.4,\n",
       "   'estimator__max_features': 'auto',\n",
       "   'estimator__max_depth': 12},\n",
       "  {'estimator__n_estimators': 1600,\n",
       "   'estimator__min_samples_split': 0.6,\n",
       "   'estimator__min_samples_leaf': 0.1,\n",
       "   'estimator__max_features': 'sqrt',\n",
       "   'estimator__max_depth': 4},\n",
       "  {'estimator__n_estimators': 1000,\n",
       "   'estimator__min_samples_split': 1.0,\n",
       "   'estimator__min_samples_leaf': 0.4,\n",
       "   'estimator__max_features': 'sqrt',\n",
       "   'estimator__max_depth': 4},\n",
       "  {'estimator__n_estimators': 1800,\n",
       "   'estimator__min_samples_split': 0.4,\n",
       "   'estimator__min_samples_leaf': 0.4,\n",
       "   'estimator__max_features': 'sqrt',\n",
       "   'estimator__max_depth': 9},\n",
       "  {'estimator__n_estimators': 1000,\n",
       "   'estimator__min_samples_split': 0.5,\n",
       "   'estimator__min_samples_leaf': 0.30000000000000004,\n",
       "   'estimator__max_features': 'sqrt',\n",
       "   'estimator__max_depth': None},\n",
       "  {'estimator__n_estimators': 1400,\n",
       "   'estimator__min_samples_split': 0.7000000000000001,\n",
       "   'estimator__min_samples_leaf': 0.5,\n",
       "   'estimator__max_features': 'auto',\n",
       "   'estimator__max_depth': 28},\n",
       "  {'estimator__n_estimators': 1200,\n",
       "   'estimator__min_samples_split': 0.1,\n",
       "   'estimator__min_samples_leaf': 0.1,\n",
       "   'estimator__max_features': 'sqrt',\n",
       "   'estimator__max_depth': 15},\n",
       "  {'estimator__n_estimators': 1700,\n",
       "   'estimator__min_samples_split': 0.8,\n",
       "   'estimator__min_samples_leaf': 0.30000000000000004,\n",
       "   'estimator__max_features': 'sqrt',\n",
       "   'estimator__max_depth': 22},\n",
       "  {'estimator__n_estimators': 1700,\n",
       "   'estimator__min_samples_split': 0.30000000000000004,\n",
       "   'estimator__min_samples_leaf': 0.2,\n",
       "   'estimator__max_features': 'sqrt',\n",
       "   'estimator__max_depth': 11},\n",
       "  {'estimator__n_estimators': 1200,\n",
       "   'estimator__min_samples_split': 1.0,\n",
       "   'estimator__min_samples_leaf': 0.30000000000000004,\n",
       "   'estimator__max_features': 'sqrt',\n",
       "   'estimator__max_depth': 9},\n",
       "  {'estimator__n_estimators': 1500,\n",
       "   'estimator__min_samples_split': 0.6,\n",
       "   'estimator__min_samples_leaf': 0.1,\n",
       "   'estimator__max_features': 'sqrt',\n",
       "   'estimator__max_depth': 11},\n",
       "  {'estimator__n_estimators': 1300,\n",
       "   'estimator__min_samples_split': 0.6,\n",
       "   'estimator__min_samples_leaf': 0.30000000000000004,\n",
       "   'estimator__max_features': 'auto',\n",
       "   'estimator__max_depth': 11},\n",
       "  {'estimator__n_estimators': 1300,\n",
       "   'estimator__min_samples_split': 0.4,\n",
       "   'estimator__min_samples_leaf': 0.5,\n",
       "   'estimator__max_features': 'auto',\n",
       "   'estimator__max_depth': 9},\n",
       "  {'estimator__n_estimators': 1300,\n",
       "   'estimator__min_samples_split': 0.4,\n",
       "   'estimator__min_samples_leaf': 0.30000000000000004,\n",
       "   'estimator__max_features': 'auto',\n",
       "   'estimator__max_depth': 11},\n",
       "  {'estimator__n_estimators': 1600,\n",
       "   'estimator__min_samples_split': 0.2,\n",
       "   'estimator__min_samples_leaf': 0.1,\n",
       "   'estimator__max_features': 'auto',\n",
       "   'estimator__max_depth': 12},\n",
       "  {'estimator__n_estimators': 1700,\n",
       "   'estimator__min_samples_split': 1.0,\n",
       "   'estimator__min_samples_leaf': 0.4,\n",
       "   'estimator__max_features': 'sqrt',\n",
       "   'estimator__max_depth': 24},\n",
       "  {'estimator__n_estimators': 1200,\n",
       "   'estimator__min_samples_split': 0.2,\n",
       "   'estimator__min_samples_leaf': 0.2,\n",
       "   'estimator__max_features': 'sqrt',\n",
       "   'estimator__max_depth': 3},\n",
       "  {'estimator__n_estimators': 1500,\n",
       "   'estimator__min_samples_split': 0.30000000000000004,\n",
       "   'estimator__min_samples_leaf': 0.5,\n",
       "   'estimator__max_features': 'auto',\n",
       "   'estimator__max_depth': 24},\n",
       "  {'estimator__n_estimators': 1900,\n",
       "   'estimator__min_samples_split': 0.4,\n",
       "   'estimator__min_samples_leaf': 0.5,\n",
       "   'estimator__max_features': 'sqrt',\n",
       "   'estimator__max_depth': 26},\n",
       "  {'estimator__n_estimators': 1900,\n",
       "   'estimator__min_samples_split': 0.2,\n",
       "   'estimator__min_samples_leaf': 0.2,\n",
       "   'estimator__max_features': 'sqrt',\n",
       "   'estimator__max_depth': 23},\n",
       "  {'estimator__n_estimators': 1000,\n",
       "   'estimator__min_samples_split': 0.8,\n",
       "   'estimator__min_samples_leaf': 0.4,\n",
       "   'estimator__max_features': 'sqrt',\n",
       "   'estimator__max_depth': 22},\n",
       "  {'estimator__n_estimators': 1300,\n",
       "   'estimator__min_samples_split': 0.9,\n",
       "   'estimator__min_samples_leaf': 0.5,\n",
       "   'estimator__max_features': 'auto',\n",
       "   'estimator__max_depth': 24},\n",
       "  {'estimator__n_estimators': 1400,\n",
       "   'estimator__min_samples_split': 0.6,\n",
       "   'estimator__min_samples_leaf': 0.1,\n",
       "   'estimator__max_features': 'auto',\n",
       "   'estimator__max_depth': 27},\n",
       "  {'estimator__n_estimators': 1700,\n",
       "   'estimator__min_samples_split': 0.9,\n",
       "   'estimator__min_samples_leaf': 0.30000000000000004,\n",
       "   'estimator__max_features': 'sqrt',\n",
       "   'estimator__max_depth': 16},\n",
       "  {'estimator__n_estimators': 1200,\n",
       "   'estimator__min_samples_split': 0.4,\n",
       "   'estimator__min_samples_leaf': 0.2,\n",
       "   'estimator__max_features': 'auto',\n",
       "   'estimator__max_depth': 28},\n",
       "  {'estimator__n_estimators': 1900,\n",
       "   'estimator__min_samples_split': 0.6,\n",
       "   'estimator__min_samples_leaf': 0.2,\n",
       "   'estimator__max_features': 'auto',\n",
       "   'estimator__max_depth': 18},\n",
       "  {'estimator__n_estimators': 1600,\n",
       "   'estimator__min_samples_split': 0.1,\n",
       "   'estimator__min_samples_leaf': 0.30000000000000004,\n",
       "   'estimator__max_features': 'auto',\n",
       "   'estimator__max_depth': 13},\n",
       "  {'estimator__n_estimators': 1600,\n",
       "   'estimator__min_samples_split': 0.30000000000000004,\n",
       "   'estimator__min_samples_leaf': 0.30000000000000004,\n",
       "   'estimator__max_features': 'auto',\n",
       "   'estimator__max_depth': 9},\n",
       "  {'estimator__n_estimators': 1100,\n",
       "   'estimator__min_samples_split': 0.5,\n",
       "   'estimator__min_samples_leaf': 0.1,\n",
       "   'estimator__max_features': 'sqrt',\n",
       "   'estimator__max_depth': 15},\n",
       "  {'estimator__n_estimators': 1200,\n",
       "   'estimator__min_samples_split': 0.6,\n",
       "   'estimator__min_samples_leaf': 0.2,\n",
       "   'estimator__max_features': 'auto',\n",
       "   'estimator__max_depth': 4},\n",
       "  {'estimator__n_estimators': 1100,\n",
       "   'estimator__min_samples_split': 0.4,\n",
       "   'estimator__min_samples_leaf': 0.1,\n",
       "   'estimator__max_features': 'sqrt',\n",
       "   'estimator__max_depth': 27},\n",
       "  {'estimator__n_estimators': 1500,\n",
       "   'estimator__min_samples_split': 0.9,\n",
       "   'estimator__min_samples_leaf': 0.1,\n",
       "   'estimator__max_features': 'sqrt',\n",
       "   'estimator__max_depth': 2},\n",
       "  {'estimator__n_estimators': 1300,\n",
       "   'estimator__min_samples_split': 0.5,\n",
       "   'estimator__min_samples_leaf': 0.5,\n",
       "   'estimator__max_features': 'sqrt',\n",
       "   'estimator__max_depth': 4},\n",
       "  {'estimator__n_estimators': 1900,\n",
       "   'estimator__min_samples_split': 0.4,\n",
       "   'estimator__min_samples_leaf': 0.5,\n",
       "   'estimator__max_features': 'sqrt',\n",
       "   'estimator__max_depth': 24},\n",
       "  {'estimator__n_estimators': 1700,\n",
       "   'estimator__min_samples_split': 0.6,\n",
       "   'estimator__min_samples_leaf': 0.5,\n",
       "   'estimator__max_features': 'auto',\n",
       "   'estimator__max_depth': 20},\n",
       "  {'estimator__n_estimators': 1100,\n",
       "   'estimator__min_samples_split': 0.30000000000000004,\n",
       "   'estimator__min_samples_leaf': 0.1,\n",
       "   'estimator__max_features': 'auto',\n",
       "   'estimator__max_depth': 2},\n",
       "  {'estimator__n_estimators': 1300,\n",
       "   'estimator__min_samples_split': 0.6,\n",
       "   'estimator__min_samples_leaf': 0.2,\n",
       "   'estimator__max_features': 'sqrt',\n",
       "   'estimator__max_depth': 12},\n",
       "  {'estimator__n_estimators': 1500,\n",
       "   'estimator__min_samples_split': 0.1,\n",
       "   'estimator__min_samples_leaf': 0.4,\n",
       "   'estimator__max_features': 'sqrt',\n",
       "   'estimator__max_depth': 11},\n",
       "  {'estimator__n_estimators': 1700,\n",
       "   'estimator__min_samples_split': 0.2,\n",
       "   'estimator__min_samples_leaf': 0.5,\n",
       "   'estimator__max_features': 'auto',\n",
       "   'estimator__max_depth': 14},\n",
       "  {'estimator__n_estimators': 1700,\n",
       "   'estimator__min_samples_split': 0.30000000000000004,\n",
       "   'estimator__min_samples_leaf': 0.30000000000000004,\n",
       "   'estimator__max_features': 'auto',\n",
       "   'estimator__max_depth': 21},\n",
       "  {'estimator__n_estimators': 1900,\n",
       "   'estimator__min_samples_split': 0.9,\n",
       "   'estimator__min_samples_leaf': 0.5,\n",
       "   'estimator__max_features': 'sqrt',\n",
       "   'estimator__max_depth': 8},\n",
       "  {'estimator__n_estimators': 1200,\n",
       "   'estimator__min_samples_split': 1.0,\n",
       "   'estimator__min_samples_leaf': 0.2,\n",
       "   'estimator__max_features': 'sqrt',\n",
       "   'estimator__max_depth': 10},\n",
       "  {'estimator__n_estimators': 1000,\n",
       "   'estimator__min_samples_split': 1.0,\n",
       "   'estimator__min_samples_leaf': 0.5,\n",
       "   'estimator__max_features': 'sqrt',\n",
       "   'estimator__max_depth': 13},\n",
       "  {'estimator__n_estimators': 1300,\n",
       "   'estimator__min_samples_split': 0.8,\n",
       "   'estimator__min_samples_leaf': 0.4,\n",
       "   'estimator__max_features': 'sqrt',\n",
       "   'estimator__max_depth': 7},\n",
       "  {'estimator__n_estimators': 1500,\n",
       "   'estimator__min_samples_split': 0.8,\n",
       "   'estimator__min_samples_leaf': 0.2,\n",
       "   'estimator__max_features': 'sqrt',\n",
       "   'estimator__max_depth': 6},\n",
       "  {'estimator__n_estimators': 1100,\n",
       "   'estimator__min_samples_split': 0.7000000000000001,\n",
       "   'estimator__min_samples_leaf': 0.2,\n",
       "   'estimator__max_features': 'auto',\n",
       "   'estimator__max_depth': 1},\n",
       "  {'estimator__n_estimators': 1700,\n",
       "   'estimator__min_samples_split': 1.0,\n",
       "   'estimator__min_samples_leaf': 0.30000000000000004,\n",
       "   'estimator__max_features': 'auto',\n",
       "   'estimator__max_depth': 5},\n",
       "  {'estimator__n_estimators': 1700,\n",
       "   'estimator__min_samples_split': 0.6,\n",
       "   'estimator__min_samples_leaf': 0.1,\n",
       "   'estimator__max_features': 'sqrt',\n",
       "   'estimator__max_depth': 27}],\n",
       " 'split0_test_score': array([ 0.0032502 ,  0.00326685, -0.00030545, -0.00030545, -0.00030545,\n",
       "         0.00326685, -0.00030545,  0.00312731,  0.00312647,  0.00312696,\n",
       "        -0.00030545, -0.00030545, -0.00030545, -0.00030545, -0.00030545,\n",
       "         0.00313183, -0.00030545, -0.00030545,  0.00312785, -0.00030545,\n",
       "         0.00326685,  0.00327058, -0.00030545,  0.00312657, -0.00030545,\n",
       "        -0.00030545, -0.00030545,  0.00312993, -0.00030545,  0.00327936,\n",
       "        -0.00030545,  0.00327058,  0.00327705, -0.00030545, -0.00030545,\n",
       "        -0.00030545,  0.00327261,  0.00327936, -0.00030545,  0.00312785,\n",
       "        -0.00030545,  0.00326829,  0.00327155, -0.00030545,  0.0031264 ,\n",
       "         0.00312647,  0.00312696,  0.00312868, -0.00030545,  0.00312647,\n",
       "         0.00312657, -0.00030545, -0.00030545,  0.00327261, -0.00030545,\n",
       "        -0.00030545,  0.00324668, -0.00030545,  0.00326879,  0.00326829,\n",
       "         0.00326829,  0.00326879,  0.00326685,  0.00312785, -0.00030545,\n",
       "         0.00312785,  0.00312672, -0.00030545,  0.00326879, -0.00030545,\n",
       "        -0.00030545,  0.00327058, -0.00030545, -0.00030545,  0.00312731,\n",
       "         0.00326829,  0.00312868,  0.0031264 ,  0.00312672,  0.00312672,\n",
       "         0.00327155,  0.00312868,  0.00327155,  0.00326685, -0.00030545,\n",
       "        -0.00030545, -0.00030545,  0.00312993,  0.00327705, -0.00030545,\n",
       "        -0.00030545,  0.00312657, -0.00030545,  0.00326879, -0.00030545,\n",
       "        -0.00030545,  0.00326685,  0.00312993,  0.00312657,  0.00326829]),\n",
       " 'split1_test_score': array([-0.00257735, -0.00258704, -0.00303928, -0.00303928, -0.00303928,\n",
       "        -0.00258704, -0.00303928, -0.00276387, -0.00276494, -0.00276432,\n",
       "        -0.00303928, -0.00303928, -0.00303928, -0.00303928, -0.00303928,\n",
       "        -0.00275841, -0.00303928, -0.00303928, -0.0027632 , -0.00303928,\n",
       "        -0.00258704, -0.00261951, -0.00303928, -0.00276481, -0.00303928,\n",
       "        -0.00303928, -0.00303928, -0.00276068, -0.00303928, -0.00260993,\n",
       "        -0.00303928, -0.00261951, -0.00256668, -0.00303928, -0.00303928,\n",
       "        -0.00303928, -0.0025959 , -0.00260993, -0.00303928, -0.0027632 ,\n",
       "        -0.00303928, -0.00260332, -0.0025495 , -0.00303928, -0.00276503,\n",
       "        -0.00276494, -0.00276432, -0.00276219, -0.00303928, -0.00276494,\n",
       "        -0.00276481, -0.00303928, -0.00303928, -0.0025959 , -0.00303928,\n",
       "        -0.00303928, -0.00254305, -0.00303928, -0.00255821, -0.00260332,\n",
       "        -0.00260332, -0.00255821, -0.00258704, -0.0027632 , -0.00303928,\n",
       "        -0.0027632 , -0.00276461, -0.00303928, -0.00255821, -0.00303928,\n",
       "        -0.00303928, -0.00261951, -0.00303928, -0.00303928, -0.00276387,\n",
       "        -0.00260332, -0.00276219, -0.00276503, -0.00276461, -0.00276461,\n",
       "        -0.0025495 , -0.00276219, -0.0025495 , -0.00258704, -0.00303928,\n",
       "        -0.00303928, -0.00303928, -0.00276068, -0.00256668, -0.00303928,\n",
       "        -0.00303928, -0.00276481, -0.00303928, -0.00255821, -0.00303928,\n",
       "        -0.00303928, -0.00258704, -0.00276068, -0.00276481, -0.00260332]),\n",
       " 'split2_test_score': array([ 0.0019654 ,  0.00188686, -0.00406446, -0.00406446, -0.00406446,\n",
       "         0.00188686, -0.00406446,  0.00058576,  0.00057793,  0.00058252,\n",
       "        -0.00406446, -0.00406446, -0.00406446, -0.00406446, -0.00406446,\n",
       "         0.00062473, -0.00406446, -0.00406446,  0.0005906 , -0.00406446,\n",
       "         0.00188686,  0.00154447, -0.00406446,  0.0005789 , -0.00406446,\n",
       "        -0.00406446, -0.00406446,  0.00060863, -0.00406446,  0.0015825 ,\n",
       "        -0.00406446,  0.00154447,  0.00192926, -0.00406446, -0.00406446,\n",
       "        -0.00406446,  0.00170875,  0.0015825 , -0.00406446,  0.0005906 ,\n",
       "        -0.00406446,  0.00169505,  0.00204208, -0.00406446,  0.00057729,\n",
       "         0.00057793,  0.00058252,  0.00059783, -0.00406446,  0.00057793,\n",
       "         0.0005789 , -0.00406446, -0.00406446,  0.00170875, -0.00406446,\n",
       "        -0.00406446,  0.00225052, -0.00406446,  0.00200957,  0.00169505,\n",
       "         0.00169505,  0.00200957,  0.00188686,  0.0005906 , -0.00406446,\n",
       "         0.0005906 ,  0.00058035, -0.00406446,  0.00200957, -0.00406446,\n",
       "        -0.00406446,  0.00154447, -0.00406446, -0.00406446,  0.00058576,\n",
       "         0.00169505,  0.00059783,  0.00057729,  0.00058035,  0.00058035,\n",
       "         0.00204208,  0.00059783,  0.00204208,  0.00188686, -0.00406446,\n",
       "        -0.00406446, -0.00406446,  0.00060863,  0.00192926, -0.00406446,\n",
       "        -0.00406446,  0.0005789 , -0.00406446,  0.00200957, -0.00406446,\n",
       "        -0.00406446,  0.00188686,  0.00060863,  0.0005789 ,  0.00169505]),\n",
       " 'mean_test_score': array([ 0.00087942,  0.00085556, -0.00246973, -0.00246973, -0.00246973,\n",
       "         0.00085556, -0.00246973,  0.0003164 ,  0.00031315,  0.00031505,\n",
       "        -0.00246973, -0.00246973, -0.00246973, -0.00246973, -0.00246973,\n",
       "         0.00033272, -0.00246973, -0.00246973,  0.00031842, -0.00246973,\n",
       "         0.00085556,  0.00073185, -0.00246973,  0.00031355, -0.00246973,\n",
       "        -0.00246973, -0.00246973,  0.00032596, -0.00246973,  0.00075064,\n",
       "        -0.00246973,  0.00073185,  0.00087988, -0.00246973, -0.00246973,\n",
       "        -0.00246973,  0.00079516,  0.00075064, -0.00246973,  0.00031842,\n",
       "        -0.00246973,  0.00078667,  0.00092137, -0.00246973,  0.00031289,\n",
       "         0.00031315,  0.00031505,  0.00032144, -0.00246973,  0.00031315,\n",
       "         0.00031355, -0.00246973, -0.00246973,  0.00079516, -0.00246973,\n",
       "        -0.00246973,  0.00098472, -0.00246973,  0.00090672,  0.00078667,\n",
       "         0.00078667,  0.00090672,  0.00085556,  0.00031842, -0.00246973,\n",
       "         0.00031842,  0.00031415, -0.00246973,  0.00090672, -0.00246973,\n",
       "        -0.00246973,  0.00073185, -0.00246973, -0.00246973,  0.0003164 ,\n",
       "         0.00078667,  0.00032144,  0.00031289,  0.00031415,  0.00031415,\n",
       "         0.00092137,  0.00032144,  0.00092137,  0.00085556, -0.00246973,\n",
       "        -0.00246973, -0.00246973,  0.00032596,  0.00087988, -0.00246973,\n",
       "        -0.00246973,  0.00031355, -0.00246973,  0.00090672, -0.00246973,\n",
       "        -0.00246973,  0.00085556,  0.00032596,  0.00031355,  0.00078667]),\n",
       " 'std_test_score': array([0.00249994, 0.00249863, 0.00158658, 0.00158658, 0.00158658,\n",
       "        0.00249863, 0.00158658, 0.00241259, 0.00241244, 0.00241253,\n",
       "        0.00158658, 0.00158658, 0.00158658, 0.00158658, 0.00158658,\n",
       "        0.00241353, 0.00158658, 0.00158658, 0.0024127 , 0.00158658,\n",
       "        0.00249863, 0.00247232, 0.00158658, 0.00241245, 0.00158658,\n",
       "        0.00158658, 0.00158658, 0.00241312, 0.00158658, 0.0024752 ,\n",
       "        0.00158658, 0.00247232, 0.00249843, 0.00158658, 0.00158658,\n",
       "        0.00158658, 0.00248138, 0.0024752 , 0.00158658, 0.0024127 ,\n",
       "        0.00158658, 0.00248164, 0.00250508, 0.00158658, 0.00241242,\n",
       "        0.00241244, 0.00241253, 0.00241286, 0.00158658, 0.00241244,\n",
       "        0.00241245, 0.00158658, 0.00158658, 0.00248138, 0.00158658,\n",
       "        0.00158658, 0.00252744, 0.00158658, 0.00250342, 0.00248164,\n",
       "        0.00248164, 0.00250342, 0.00249863, 0.0024127 , 0.00158658,\n",
       "        0.0024127 , 0.00241248, 0.00158658, 0.00250342, 0.00158658,\n",
       "        0.00158658, 0.00247232, 0.00158658, 0.00158658, 0.00241259,\n",
       "        0.00248164, 0.00241286, 0.00241242, 0.00241248, 0.00241248,\n",
       "        0.00250508, 0.00241286, 0.00250508, 0.00249863, 0.00158658,\n",
       "        0.00158658, 0.00158658, 0.00241312, 0.00249843, 0.00158658,\n",
       "        0.00158658, 0.00241245, 0.00158658, 0.00250342, 0.00158658,\n",
       "        0.00158658, 0.00249863, 0.00241312, 0.00241245, 0.00248164]),\n",
       " 'rank_test_score': array([11, 12, 57, 57, 57, 12, 57, 41, 52, 43, 57, 57, 57, 57, 57, 30, 57,\n",
       "        57, 37, 57, 12, 27, 57, 48, 57, 57, 57, 31, 57, 25, 57, 27,  9, 57,\n",
       "        57, 57, 18, 25, 57, 37, 57, 20,  2, 57, 55, 52, 43, 34, 57, 52, 48,\n",
       "        57, 57, 18, 57, 57,  1, 57,  5, 20, 20,  5, 12, 37, 57, 37, 45, 57,\n",
       "         5, 57, 57, 27, 57, 57, 41, 20, 34, 55, 45, 45,  2, 34,  2, 12, 57,\n",
       "        57, 57, 31,  9, 57, 57, 48, 57,  5, 57, 57, 12, 31, 48, 20])}"
      ]
     },
     "execution_count": 70,
     "metadata": {},
     "output_type": "execute_result"
    }
   ],
   "source": [
    "rf_random_.cv_results_"
   ]
  },
  {
   "cell_type": "code",
   "execution_count": 71,
   "id": "c499b127",
   "metadata": {},
   "outputs": [
    {
     "data": {
      "text/plain": [
       "0.0002473768603242554"
      ]
     },
     "execution_count": 71,
     "metadata": {},
     "output_type": "execute_result"
    }
   ],
   "source": [
    "rf_random_.score(X_test,y_test)"
   ]
  },
  {
   "cell_type": "code",
   "execution_count": 74,
   "id": "dcfbbb48",
   "metadata": {},
   "outputs": [
    {
     "data": {
      "text/plain": [
       "0.005170803897183096"
      ]
     },
     "execution_count": 74,
     "metadata": {},
     "output_type": "execute_result"
    }
   ],
   "source": [
    "rf_random_.score(X_train,y_train)"
   ]
  },
  {
   "cell_type": "code",
   "execution_count": 76,
   "id": "881a5d45",
   "metadata": {},
   "outputs": [],
   "source": [
    "test_scores=[]\n",
    "train_scores=[]\n",
    "for i in range(800,1400,100):\n",
    "    multi_gb_Boost = MultiOutputRegressor(GradientBoostingRegressor(n_estimators=i, random_state=0))\n",
    "    multi_gb_Boost.fit(X_train,y_train)\n",
    "    test_scores.append(multi_gb_Boost.score(X_test,y_test))\n",
    "    train_scores.append(multi_gb_Boost.score(X_train,y_train)) "
   ]
  },
  {
   "cell_type": "code",
   "execution_count": null,
   "id": "d43290aa",
   "metadata": {},
   "outputs": [],
   "source": [
    "print(\"Train Scores: \\n\",train_scores)\n",
    "print(\"Test Scores: \\n\",test_scores)"
   ]
  },
  {
   "cell_type": "code",
   "execution_count": null,
   "id": "48cb4993",
   "metadata": {},
   "outputs": [],
   "source": [
    "test_scores=[]\n",
    "train_scores=[]\n",
    "custom_metric = []\n",
    "for i in range(1,31,1):\n",
    "    multi_gb_Boost = MultiOutputRegressor(GradientBoostingRegressor(max_depth=i, random_state=0))\n",
    "    multi_gb_Boost.fit(X_train,y_train)\n",
    "    y_pred = multi_gb_Boost.predict(X_test)\n",
    "    df_pred=np_to_df(y_pred)\n",
    "    pd_concat=concat_pred_true(y_test,df_pred)\n",
    "    custom_metric.append(MNWAE(pd_concat))\n",
    "    test_scores.append(multi_gb_Boost.score(X_test,y_test))\n",
    "    train_scores.append(multi_gb_Boost.score(X_train,y_train)) "
   ]
  },
  {
   "cell_type": "code",
   "execution_count": null,
   "id": "f4100ebf",
   "metadata": {},
   "outputs": [],
   "source": [
    "print(\"Train Scores: \\n\",train_scores)\n",
    "print(\"Test Scores: \\n\",test_scores)\n",
    "print(\"Custom Metric Scores: \\n\",custom_metric)"
   ]
  },
  {
   "cell_type": "code",
   "execution_count": null,
   "id": "5dd0af3a",
   "metadata": {},
   "outputs": [],
   "source": [
    "test_scores=[]\n",
    "train_scores=[]\n",
    "custom_metric = []\n",
    "for i in list(np.linspace(0.1, 1.0, 10, endpoint=True)):\n",
    "    multi_gb_Boost = MultiOutputRegressor(GradientBoostingRegressor(min_samples_split=i, random_state=0))\n",
    "    multi_gb_Boost.fit(X_train,y_train)\n",
    "    y_pred = multi_gb_Boost.predict(X_test)\n",
    "    df_pred=np_to_df(y_pred)\n",
    "    pd_concat=concat_pred_true(y_test,df_pred)\n",
    "    custom_metric.append(MNWAE(pd_concat))\n",
    "    test_scores.append(multi_gb_Boost.score(X_test,y_test))\n",
    "    train_scores.append(multi_gb_Boost.score(X_train,y_train)) "
   ]
  },
  {
   "cell_type": "code",
   "execution_count": null,
   "id": "4bfabb57",
   "metadata": {},
   "outputs": [],
   "source": [
    "print(\"Train Scores: \\n\",train_scores)\n",
    "print(\"Test Scores: \\n\",test_scores)\n",
    "print(\"Custom Metric Scores: \\n\",custom_metric)"
   ]
  },
  {
   "cell_type": "code",
   "execution_count": null,
   "id": "f43bc5a3",
   "metadata": {},
   "outputs": [],
   "source": [
    "multi_gb_Boost"
   ]
  },
  {
   "cell_type": "code",
   "execution_count": null,
   "id": "1070e8f7",
   "metadata": {},
   "outputs": [],
   "source": [
    "y_pred=multi_gb_Boost.predict(X_test)\n",
    "df_pred=np_to_df(y_pred)\n",
    "pd_concat=concat_pred_true(y_test,df_pred)\n",
    "MNWAE(pd_concat)"
   ]
  },
  {
   "cell_type": "code",
   "execution_count": null,
   "id": "429cd3a0",
   "metadata": {},
   "outputs": [],
   "source": [
    "import xgboost as xgb\n",
    "clf = MultiOutputRegressor(xgb.XGBRegressor(random_state=0))\n",
    "clf.fit(X_train, y_train)\n",
    "y_pred = clf.predict(X_test)\n",
    "df_pred=np_to_df(y_pred)\n",
    "pd_concat=concat_pred_true(y_test,df_pred)\n",
    "MNWAE(pd_concat)"
   ]
  },
  {
   "cell_type": "code",
   "execution_count": null,
   "id": "427808a4",
   "metadata": {},
   "outputs": [],
   "source": [
    "test_scores=[]\n",
    "train_scores=[]\n",
    "custom_metric = []\n",
    "for i in range(50,1000,50):\n",
    "    xgb_ = MultiOutputRegressor(xgb.XGBRegressor(n_estimators=i, random_state=0))\n",
    "    xgb_.fit(X_train,y_train)\n",
    "    y_pred = xgb_.predict(X_test)\n",
    "    df_pred=np_to_df(y_pred)\n",
    "    pd_concat=concat_pred_true(y_test,df_pred)\n",
    "    custom_metric.append(MNWAE(pd_concat))\n",
    "    test_scores.append(xgb_.score(X_test,y_test))\n",
    "    train_scores.append(xgb_.score(X_train,y_train))\n"
   ]
  },
  {
   "cell_type": "code",
   "execution_count": null,
   "id": "7def3a0a",
   "metadata": {},
   "outputs": [],
   "source": [
    "print(\"Train Scores: \\n\",train_scores)\n",
    "print(\"Test Scores: \\n\",test_scores)\n",
    "print(\"Custom Metric Scores: \\n\",custom_metric)"
   ]
  },
  {
   "cell_type": "code",
   "execution_count": null,
   "id": "e0364154",
   "metadata": {},
   "outputs": [],
   "source": [
    "import catboost as cb\n",
    "cat_ = MultiOutputRegressor(cb.CatBoostRegressor(random_state=0))\n",
    "cat_.fit(X_train, y_train)\n",
    "y_pred = cat_.predict(X_test)\n",
    "df_pred=np_to_df(y_pred)\n",
    "pd_concat=concat_pred_true(y_test,df_pred)\n",
    "MNWAE(pd_concat)\n"
   ]
  },
  {
   "cell_type": "code",
   "execution_count": null,
   "id": "fa36ea51",
   "metadata": {},
   "outputs": [],
   "source": [
    "test_scores=[]\n",
    "train_scores=[]\n",
    "custom_metric = []\n",
    "for i in range(50,1000,50):\n",
    "    CB_ = MultiOutputRegressor(cb.CatBoostRegressor(n_estimators=i, random_state=0))\n",
    "    CB_.fit(X_train,y_train)\n",
    "    y_pred = CB_.predict(X_test)\n",
    "    df_pred=np_to_df(y_pred)\n",
    "    pd_concat=concat_pred_true(y_test,df_pred)\n",
    "    custom_metric.append(MNWAE(pd_concat))\n",
    "    test_scores.append(CB_.score(X_test,y_test))\n",
    "    train_scores.append(CB_.score(X_train,y_train))"
   ]
  },
  {
   "cell_type": "code",
   "execution_count": null,
   "id": "a760e7c1",
   "metadata": {},
   "outputs": [],
   "source": [
    "print(\"Train Scores: \\n\",train_scores)\n",
    "print(\"Test Scores: \\n\",test_scores)\n",
    "print(\"Custom Metric Scores: \\n\",custom_metric)"
   ]
  },
  {
   "cell_type": "code",
   "execution_count": null,
   "id": "1614868a",
   "metadata": {},
   "outputs": [],
   "source": []
  }
 ],
 "metadata": {
  "kernelspec": {
   "display_name": "Python 3 (ipykernel)",
   "language": "python",
   "name": "python3"
  },
  "language_info": {
   "codemirror_mode": {
    "name": "ipython",
    "version": 3
   },
   "file_extension": ".py",
   "mimetype": "text/x-python",
   "name": "python",
   "nbconvert_exporter": "python",
   "pygments_lexer": "ipython3",
   "version": "3.8.10"
  },
  "vscode": {
   "interpreter": {
    "hash": "2b24e27fed2abca2f43ff8830c392462f661c7dbd7d04915d157cad162bccebc"
   }
  }
 },
 "nbformat": 4,
 "nbformat_minor": 5
}
