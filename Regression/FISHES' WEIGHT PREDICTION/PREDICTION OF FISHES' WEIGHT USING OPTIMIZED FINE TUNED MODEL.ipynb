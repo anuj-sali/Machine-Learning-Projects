{
 "cells": [
  {
   "cell_type": "code",
   "execution_count": 1,
   "metadata": {},
   "outputs": [],
   "source": [
    "import pandas as pd"
   ]
  },
  {
   "cell_type": "code",
   "execution_count": 2,
   "metadata": {},
   "outputs": [],
   "source": [
    "import numpy as np"
   ]
  },
  {
   "cell_type": "code",
   "execution_count": 3,
   "metadata": {},
   "outputs": [],
   "source": [
    "import matplotlib.pyplot as plt"
   ]
  },
  {
   "cell_type": "code",
   "execution_count": 4,
   "metadata": {},
   "outputs": [],
   "source": [
    "%matplotlib inline"
   ]
  },
  {
   "cell_type": "code",
   "execution_count": 5,
   "metadata": {},
   "outputs": [],
   "source": [
    "main_df=pd.read_csv('fish.csv')"
   ]
  },
  {
   "cell_type": "code",
   "execution_count": 6,
   "metadata": {},
   "outputs": [
    {
     "data": {
      "text/html": [
       "<div>\n",
       "<style scoped>\n",
       "    .dataframe tbody tr th:only-of-type {\n",
       "        vertical-align: middle;\n",
       "    }\n",
       "\n",
       "    .dataframe tbody tr th {\n",
       "        vertical-align: top;\n",
       "    }\n",
       "\n",
       "    .dataframe thead th {\n",
       "        text-align: right;\n",
       "    }\n",
       "</style>\n",
       "<table border=\"1\" class=\"dataframe\">\n",
       "  <thead>\n",
       "    <tr style=\"text-align: right;\">\n",
       "      <th></th>\n",
       "      <th>Species</th>\n",
       "      <th>Weight</th>\n",
       "      <th>Length1</th>\n",
       "      <th>Length2</th>\n",
       "      <th>Length3</th>\n",
       "      <th>Height</th>\n",
       "      <th>Width</th>\n",
       "    </tr>\n",
       "  </thead>\n",
       "  <tbody>\n",
       "    <tr>\n",
       "      <th>0</th>\n",
       "      <td>Bream</td>\n",
       "      <td>242.0</td>\n",
       "      <td>23.2</td>\n",
       "      <td>25.4</td>\n",
       "      <td>30.0</td>\n",
       "      <td>11.5200</td>\n",
       "      <td>4.0200</td>\n",
       "    </tr>\n",
       "    <tr>\n",
       "      <th>1</th>\n",
       "      <td>Bream</td>\n",
       "      <td>290.0</td>\n",
       "      <td>24.0</td>\n",
       "      <td>26.3</td>\n",
       "      <td>31.2</td>\n",
       "      <td>12.4800</td>\n",
       "      <td>4.3056</td>\n",
       "    </tr>\n",
       "    <tr>\n",
       "      <th>2</th>\n",
       "      <td>Bream</td>\n",
       "      <td>340.0</td>\n",
       "      <td>23.9</td>\n",
       "      <td>26.5</td>\n",
       "      <td>31.1</td>\n",
       "      <td>12.3778</td>\n",
       "      <td>4.6961</td>\n",
       "    </tr>\n",
       "    <tr>\n",
       "      <th>3</th>\n",
       "      <td>Bream</td>\n",
       "      <td>363.0</td>\n",
       "      <td>26.3</td>\n",
       "      <td>29.0</td>\n",
       "      <td>33.5</td>\n",
       "      <td>12.7300</td>\n",
       "      <td>4.4555</td>\n",
       "    </tr>\n",
       "    <tr>\n",
       "      <th>4</th>\n",
       "      <td>Bream</td>\n",
       "      <td>430.0</td>\n",
       "      <td>26.5</td>\n",
       "      <td>29.0</td>\n",
       "      <td>34.0</td>\n",
       "      <td>12.4440</td>\n",
       "      <td>5.1340</td>\n",
       "    </tr>\n",
       "  </tbody>\n",
       "</table>\n",
       "</div>"
      ],
      "text/plain": [
       "  Species  Weight  Length1  Length2  Length3   Height   Width\n",
       "0   Bream   242.0     23.2     25.4     30.0  11.5200  4.0200\n",
       "1   Bream   290.0     24.0     26.3     31.2  12.4800  4.3056\n",
       "2   Bream   340.0     23.9     26.5     31.1  12.3778  4.6961\n",
       "3   Bream   363.0     26.3     29.0     33.5  12.7300  4.4555\n",
       "4   Bream   430.0     26.5     29.0     34.0  12.4440  5.1340"
      ]
     },
     "execution_count": 6,
     "metadata": {},
     "output_type": "execute_result"
    }
   ],
   "source": [
    "main_df.head()"
   ]
  },
  {
   "cell_type": "code",
   "execution_count": 7,
   "metadata": {},
   "outputs": [
    {
     "name": "stdout",
     "output_type": "stream",
     "text": [
      "<class 'pandas.core.frame.DataFrame'>\n",
      "RangeIndex: 159 entries, 0 to 158\n",
      "Data columns (total 7 columns):\n",
      " #   Column   Non-Null Count  Dtype  \n",
      "---  ------   --------------  -----  \n",
      " 0   Species  159 non-null    object \n",
      " 1   Weight   159 non-null    float64\n",
      " 2   Length1  159 non-null    float64\n",
      " 3   Length2  159 non-null    float64\n",
      " 4   Length3  159 non-null    float64\n",
      " 5   Height   159 non-null    float64\n",
      " 6   Width    159 non-null    float64\n",
      "dtypes: float64(6), object(1)\n",
      "memory usage: 8.8+ KB\n"
     ]
    }
   ],
   "source": [
    "main_df.info()"
   ]
  },
  {
   "cell_type": "code",
   "execution_count": 8,
   "metadata": {},
   "outputs": [
    {
     "data": {
      "text/html": [
       "<div>\n",
       "<style scoped>\n",
       "    .dataframe tbody tr th:only-of-type {\n",
       "        vertical-align: middle;\n",
       "    }\n",
       "\n",
       "    .dataframe tbody tr th {\n",
       "        vertical-align: top;\n",
       "    }\n",
       "\n",
       "    .dataframe thead th {\n",
       "        text-align: right;\n",
       "    }\n",
       "</style>\n",
       "<table border=\"1\" class=\"dataframe\">\n",
       "  <thead>\n",
       "    <tr style=\"text-align: right;\">\n",
       "      <th></th>\n",
       "      <th>Weight</th>\n",
       "      <th>Length1</th>\n",
       "      <th>Length2</th>\n",
       "      <th>Length3</th>\n",
       "      <th>Height</th>\n",
       "      <th>Width</th>\n",
       "    </tr>\n",
       "  </thead>\n",
       "  <tbody>\n",
       "    <tr>\n",
       "      <th>count</th>\n",
       "      <td>159.000000</td>\n",
       "      <td>159.000000</td>\n",
       "      <td>159.000000</td>\n",
       "      <td>159.000000</td>\n",
       "      <td>159.000000</td>\n",
       "      <td>159.000000</td>\n",
       "    </tr>\n",
       "    <tr>\n",
       "      <th>mean</th>\n",
       "      <td>398.326415</td>\n",
       "      <td>26.247170</td>\n",
       "      <td>28.415723</td>\n",
       "      <td>31.227044</td>\n",
       "      <td>8.970994</td>\n",
       "      <td>4.417486</td>\n",
       "    </tr>\n",
       "    <tr>\n",
       "      <th>std</th>\n",
       "      <td>357.978317</td>\n",
       "      <td>9.996441</td>\n",
       "      <td>10.716328</td>\n",
       "      <td>11.610246</td>\n",
       "      <td>4.286208</td>\n",
       "      <td>1.685804</td>\n",
       "    </tr>\n",
       "    <tr>\n",
       "      <th>min</th>\n",
       "      <td>0.000000</td>\n",
       "      <td>7.500000</td>\n",
       "      <td>8.400000</td>\n",
       "      <td>8.800000</td>\n",
       "      <td>1.728400</td>\n",
       "      <td>1.047600</td>\n",
       "    </tr>\n",
       "    <tr>\n",
       "      <th>25%</th>\n",
       "      <td>120.000000</td>\n",
       "      <td>19.050000</td>\n",
       "      <td>21.000000</td>\n",
       "      <td>23.150000</td>\n",
       "      <td>5.944800</td>\n",
       "      <td>3.385650</td>\n",
       "    </tr>\n",
       "    <tr>\n",
       "      <th>50%</th>\n",
       "      <td>273.000000</td>\n",
       "      <td>25.200000</td>\n",
       "      <td>27.300000</td>\n",
       "      <td>29.400000</td>\n",
       "      <td>7.786000</td>\n",
       "      <td>4.248500</td>\n",
       "    </tr>\n",
       "    <tr>\n",
       "      <th>75%</th>\n",
       "      <td>650.000000</td>\n",
       "      <td>32.700000</td>\n",
       "      <td>35.500000</td>\n",
       "      <td>39.650000</td>\n",
       "      <td>12.365900</td>\n",
       "      <td>5.584500</td>\n",
       "    </tr>\n",
       "    <tr>\n",
       "      <th>max</th>\n",
       "      <td>1650.000000</td>\n",
       "      <td>59.000000</td>\n",
       "      <td>63.400000</td>\n",
       "      <td>68.000000</td>\n",
       "      <td>18.957000</td>\n",
       "      <td>8.142000</td>\n",
       "    </tr>\n",
       "  </tbody>\n",
       "</table>\n",
       "</div>"
      ],
      "text/plain": [
       "            Weight     Length1     Length2     Length3      Height       Width\n",
       "count   159.000000  159.000000  159.000000  159.000000  159.000000  159.000000\n",
       "mean    398.326415   26.247170   28.415723   31.227044    8.970994    4.417486\n",
       "std     357.978317    9.996441   10.716328   11.610246    4.286208    1.685804\n",
       "min       0.000000    7.500000    8.400000    8.800000    1.728400    1.047600\n",
       "25%     120.000000   19.050000   21.000000   23.150000    5.944800    3.385650\n",
       "50%     273.000000   25.200000   27.300000   29.400000    7.786000    4.248500\n",
       "75%     650.000000   32.700000   35.500000   39.650000   12.365900    5.584500\n",
       "max    1650.000000   59.000000   63.400000   68.000000   18.957000    8.142000"
      ]
     },
     "execution_count": 8,
     "metadata": {},
     "output_type": "execute_result"
    }
   ],
   "source": [
    "main_df.describe()"
   ]
  },
  {
   "cell_type": "code",
   "execution_count": 9,
   "metadata": {},
   "outputs": [
    {
     "data": {
      "text/plain": [
       "array([[<AxesSubplot:title={'center':'Weight'}>,\n",
       "        <AxesSubplot:title={'center':'Length1'}>],\n",
       "       [<AxesSubplot:title={'center':'Length2'}>,\n",
       "        <AxesSubplot:title={'center':'Length3'}>],\n",
       "       [<AxesSubplot:title={'center':'Height'}>,\n",
       "        <AxesSubplot:title={'center':'Width'}>]], dtype=object)"
      ]
     },
     "execution_count": 9,
     "metadata": {},
     "output_type": "execute_result"
    },
    {
     "data": {
      "image/png": "[encoded data removed]",
      "text/plain": [
       "<Figure size 1440x1080 with 6 Axes>"
      ]
     },
     "metadata": {
      "needs_background": "light"
     },
     "output_type": "display_data"
    }
   ],
   "source": [
    "main_df.hist(bins=50,figsize=(20,15))"
   ]
  },
  {
   "cell_type": "code",
   "execution_count": 10,
   "metadata": {},
   "outputs": [
    {
     "data": {
      "text/plain": [
       "Perch        0.352201\n",
       "Bream        0.220126\n",
       "Roach        0.125786\n",
       "Pike         0.106918\n",
       "Smelt        0.088050\n",
       "Parkki       0.069182\n",
       "Whitefish    0.037736\n",
       "Name: Species, dtype: float64"
      ]
     },
     "execution_count": 10,
     "metadata": {},
     "output_type": "execute_result"
    }
   ],
   "source": [
    "main_df['Species'].value_counts()/len(main_df)"
   ]
  },
  {
   "cell_type": "code",
   "execution_count": 11,
   "metadata": {},
   "outputs": [
    {
     "data": {
      "text/html": [
       "<div>\n",
       "<style scoped>\n",
       "    .dataframe tbody tr th:only-of-type {\n",
       "        vertical-align: middle;\n",
       "    }\n",
       "\n",
       "    .dataframe tbody tr th {\n",
       "        vertical-align: top;\n",
       "    }\n",
       "\n",
       "    .dataframe thead th {\n",
       "        text-align: right;\n",
       "    }\n",
       "</style>\n",
       "<table border=\"1\" class=\"dataframe\">\n",
       "  <thead>\n",
       "    <tr style=\"text-align: right;\">\n",
       "      <th></th>\n",
       "      <th>Weight</th>\n",
       "      <th>Length1</th>\n",
       "      <th>Length2</th>\n",
       "      <th>Length3</th>\n",
       "      <th>Height</th>\n",
       "      <th>Width</th>\n",
       "    </tr>\n",
       "  </thead>\n",
       "  <tbody>\n",
       "    <tr>\n",
       "      <th>Weight</th>\n",
       "      <td>1.000000</td>\n",
       "      <td>0.915712</td>\n",
       "      <td>0.918618</td>\n",
       "      <td>0.923044</td>\n",
       "      <td>0.724345</td>\n",
       "      <td>0.886507</td>\n",
       "    </tr>\n",
       "    <tr>\n",
       "      <th>Length1</th>\n",
       "      <td>0.915712</td>\n",
       "      <td>1.000000</td>\n",
       "      <td>0.999517</td>\n",
       "      <td>0.992031</td>\n",
       "      <td>0.625378</td>\n",
       "      <td>0.867050</td>\n",
       "    </tr>\n",
       "    <tr>\n",
       "      <th>Length2</th>\n",
       "      <td>0.918618</td>\n",
       "      <td>0.999517</td>\n",
       "      <td>1.000000</td>\n",
       "      <td>0.994103</td>\n",
       "      <td>0.640441</td>\n",
       "      <td>0.873547</td>\n",
       "    </tr>\n",
       "    <tr>\n",
       "      <th>Length3</th>\n",
       "      <td>0.923044</td>\n",
       "      <td>0.992031</td>\n",
       "      <td>0.994103</td>\n",
       "      <td>1.000000</td>\n",
       "      <td>0.703409</td>\n",
       "      <td>0.878520</td>\n",
       "    </tr>\n",
       "    <tr>\n",
       "      <th>Height</th>\n",
       "      <td>0.724345</td>\n",
       "      <td>0.625378</td>\n",
       "      <td>0.640441</td>\n",
       "      <td>0.703409</td>\n",
       "      <td>1.000000</td>\n",
       "      <td>0.792881</td>\n",
       "    </tr>\n",
       "    <tr>\n",
       "      <th>Width</th>\n",
       "      <td>0.886507</td>\n",
       "      <td>0.867050</td>\n",
       "      <td>0.873547</td>\n",
       "      <td>0.878520</td>\n",
       "      <td>0.792881</td>\n",
       "      <td>1.000000</td>\n",
       "    </tr>\n",
       "  </tbody>\n",
       "</table>\n",
       "</div>"
      ],
      "text/plain": [
       "           Weight   Length1   Length2   Length3    Height     Width\n",
       "Weight   1.000000  0.915712  0.918618  0.923044  0.724345  0.886507\n",
       "Length1  0.915712  1.000000  0.999517  0.992031  0.625378  0.867050\n",
       "Length2  0.918618  0.999517  1.000000  0.994103  0.640441  0.873547\n",
       "Length3  0.923044  0.992031  0.994103  1.000000  0.703409  0.878520\n",
       "Height   0.724345  0.625378  0.640441  0.703409  1.000000  0.792881\n",
       "Width    0.886507  0.867050  0.873547  0.878520  0.792881  1.000000"
      ]
     },
     "execution_count": 11,
     "metadata": {},
     "output_type": "execute_result"
    }
   ],
   "source": [
    "main_df.corr()"
   ]
  },
  {
   "cell_type": "code",
   "execution_count": 12,
   "metadata": {},
   "outputs": [],
   "source": [
    "from sklearn.model_selection import StratifiedShuffleSplit,cross_val_score"
   ]
  },
  {
   "cell_type": "code",
   "execution_count": 13,
   "metadata": {},
   "outputs": [],
   "source": [
    "sss=StratifiedShuffleSplit(n_splits=1,test_size=0.2,random_state=42)"
   ]
  },
  {
   "cell_type": "code",
   "execution_count": 14,
   "metadata": {},
   "outputs": [],
   "source": [
    "for train_index,test_index in sss.split(main_df,main_df['Species']):\n",
    "    strata_train_set=main_df.iloc[train_index]\n",
    "    strata_test_set=main_df.iloc[test_index]"
   ]
  },
  {
   "cell_type": "code",
   "execution_count": 15,
   "metadata": {},
   "outputs": [
    {
     "data": {
      "text/plain": [
       "Perch        0.354331\n",
       "Bream        0.220472\n",
       "Roach        0.125984\n",
       "Pike         0.102362\n",
       "Smelt        0.086614\n",
       "Parkki       0.070866\n",
       "Whitefish    0.039370\n",
       "Name: Species, dtype: float64"
      ]
     },
     "execution_count": 15,
     "metadata": {},
     "output_type": "execute_result"
    }
   ],
   "source": [
    "strata_train_set['Species'].value_counts()/len(strata_train_set)"
   ]
  },
  {
   "cell_type": "code",
   "execution_count": 16,
   "metadata": {},
   "outputs": [],
   "source": [
    "#Similar OVerall Distribution of species in both training and overall set.So far so good!"
   ]
  },
  {
   "cell_type": "markdown",
   "metadata": {},
   "source": [
    "## Exploratory Data Analysis:"
   ]
  },
  {
   "cell_type": "code",
   "execution_count": 17,
   "metadata": {},
   "outputs": [],
   "source": [
    "df=strata_train_set.copy()"
   ]
  },
  {
   "cell_type": "code",
   "execution_count": 18,
   "metadata": {},
   "outputs": [],
   "source": [
    "import seaborn as sns"
   ]
  },
  {
   "cell_type": "code",
   "execution_count": 19,
   "metadata": {},
   "outputs": [
    {
     "data": {
      "text/plain": [
       "<seaborn.axisgrid.PairGrid at 0x2ac35d8b408>"
      ]
     },
     "execution_count": 19,
     "metadata": {},
     "output_type": "execute_result"
    },
    {
     "data": {
      "image/png": "[encoded data removed]",
      "text/plain": [
       "<Figure size 1080x1080 with 42 Axes>"
      ]
     },
     "metadata": {
      "needs_background": "light"
     },
     "output_type": "display_data"
    }
   ],
   "source": [
    "sns.pairplot(df)"
   ]
  },
  {
   "cell_type": "code",
   "execution_count": 20,
   "metadata": {},
   "outputs": [],
   "source": [
    "#Most of the features are aproximately linear dependent wrt weight."
   ]
  },
  {
   "cell_type": "markdown",
   "metadata": {},
   "source": [
    "## Data Preparation For ML Algorithms"
   ]
  },
  {
   "cell_type": "code",
   "execution_count": 21,
   "metadata": {},
   "outputs": [],
   "source": [
    "features=strata_train_set.drop(['Weight'],axis=1)"
   ]
  },
  {
   "cell_type": "code",
   "execution_count": 22,
   "metadata": {},
   "outputs": [],
   "source": [
    "label=strata_train_set['Weight']"
   ]
  },
  {
   "cell_type": "code",
   "execution_count": 23,
   "metadata": {},
   "outputs": [],
   "source": [
    "num_attribs=list(features.columns[1:])"
   ]
  },
  {
   "cell_type": "code",
   "execution_count": 24,
   "metadata": {},
   "outputs": [
    {
     "data": {
      "text/plain": [
       "['Length1', 'Length2', 'Length3', 'Height', 'Width']"
      ]
     },
     "execution_count": 24,
     "metadata": {},
     "output_type": "execute_result"
    }
   ],
   "source": [
    "num_attribs"
   ]
  },
  {
   "cell_type": "code",
   "execution_count": 25,
   "metadata": {},
   "outputs": [],
   "source": [
    "cat_attribs=['Species']"
   ]
  },
  {
   "cell_type": "code",
   "execution_count": 26,
   "metadata": {},
   "outputs": [],
   "source": [
    "from sklearn.pipeline import Pipeline"
   ]
  },
  {
   "cell_type": "code",
   "execution_count": 27,
   "metadata": {},
   "outputs": [],
   "source": [
    "from sklearn.preprocessing import OneHotEncoder,StandardScaler"
   ]
  },
  {
   "cell_type": "code",
   "execution_count": 28,
   "metadata": {},
   "outputs": [],
   "source": [
    "num_pipeline=Pipeline([('standard_scaler',StandardScaler())])"
   ]
  },
  {
   "cell_type": "code",
   "execution_count": 29,
   "metadata": {},
   "outputs": [],
   "source": [
    "from sklearn.compose import ColumnTransformer"
   ]
  },
  {
   "cell_type": "code",
   "execution_count": 30,
   "metadata": {},
   "outputs": [],
   "source": [
    "full_pipeline=ColumnTransformer([('num_pipeline',num_pipeline,num_attribs),('onehotencoder',OneHotEncoder(),cat_attribs)])"
   ]
  },
  {
   "cell_type": "code",
   "execution_count": 31,
   "metadata": {},
   "outputs": [],
   "source": [
    "features_prepared=full_pipeline.fit_transform(features)"
   ]
  },
  {
   "cell_type": "code",
   "execution_count": 32,
   "metadata": {},
   "outputs": [
    {
     "data": {
      "text/html": [
       "<div>\n",
       "<style scoped>\n",
       "    .dataframe tbody tr th:only-of-type {\n",
       "        vertical-align: middle;\n",
       "    }\n",
       "\n",
       "    .dataframe tbody tr th {\n",
       "        vertical-align: top;\n",
       "    }\n",
       "\n",
       "    .dataframe thead th {\n",
       "        text-align: right;\n",
       "    }\n",
       "</style>\n",
       "<table border=\"1\" class=\"dataframe\">\n",
       "  <thead>\n",
       "    <tr style=\"text-align: right;\">\n",
       "      <th></th>\n",
       "      <th>0</th>\n",
       "      <th>1</th>\n",
       "      <th>2</th>\n",
       "      <th>3</th>\n",
       "      <th>4</th>\n",
       "      <th>5</th>\n",
       "      <th>6</th>\n",
       "      <th>7</th>\n",
       "      <th>8</th>\n",
       "      <th>9</th>\n",
       "      <th>10</th>\n",
       "      <th>11</th>\n",
       "    </tr>\n",
       "  </thead>\n",
       "  <tbody>\n",
       "    <tr>\n",
       "      <th>0</th>\n",
       "      <td>-0.527811</td>\n",
       "      <td>-0.527829</td>\n",
       "      <td>-0.487545</td>\n",
       "      <td>0.309901</td>\n",
       "      <td>-0.466326</td>\n",
       "      <td>0.0</td>\n",
       "      <td>1.0</td>\n",
       "      <td>0.0</td>\n",
       "      <td>0.0</td>\n",
       "      <td>0.0</td>\n",
       "      <td>0.0</td>\n",
       "      <td>0.0</td>\n",
       "    </tr>\n",
       "    <tr>\n",
       "      <th>1</th>\n",
       "      <td>-1.629620</td>\n",
       "      <td>-1.682073</td>\n",
       "      <td>-1.698616</td>\n",
       "      <td>-1.633975</td>\n",
       "      <td>-1.897727</td>\n",
       "      <td>0.0</td>\n",
       "      <td>0.0</td>\n",
       "      <td>0.0</td>\n",
       "      <td>0.0</td>\n",
       "      <td>0.0</td>\n",
       "      <td>1.0</td>\n",
       "      <td>0.0</td>\n",
       "    </tr>\n",
       "    <tr>\n",
       "      <th>2</th>\n",
       "      <td>-0.947548</td>\n",
       "      <td>-0.919098</td>\n",
       "      <td>-0.993665</td>\n",
       "      <td>-0.798183</td>\n",
       "      <td>-0.834253</td>\n",
       "      <td>0.0</td>\n",
       "      <td>0.0</td>\n",
       "      <td>1.0</td>\n",
       "      <td>0.0</td>\n",
       "      <td>0.0</td>\n",
       "      <td>0.0</td>\n",
       "      <td>0.0</td>\n",
       "    </tr>\n",
       "    <tr>\n",
       "      <th>3</th>\n",
       "      <td>-0.317942</td>\n",
       "      <td>-0.293067</td>\n",
       "      <td>-0.107956</td>\n",
       "      <td>0.586145</td>\n",
       "      <td>-0.252552</td>\n",
       "      <td>1.0</td>\n",
       "      <td>0.0</td>\n",
       "      <td>0.0</td>\n",
       "      <td>0.0</td>\n",
       "      <td>0.0</td>\n",
       "      <td>0.0</td>\n",
       "      <td>0.0</td>\n",
       "    </tr>\n",
       "    <tr>\n",
       "      <th>4</th>\n",
       "      <td>0.542518</td>\n",
       "      <td>0.548162</td>\n",
       "      <td>0.723526</td>\n",
       "      <td>1.638613</td>\n",
       "      <td>0.557440</td>\n",
       "      <td>1.0</td>\n",
       "      <td>0.0</td>\n",
       "      <td>0.0</td>\n",
       "      <td>0.0</td>\n",
       "      <td>0.0</td>\n",
       "      <td>0.0</td>\n",
       "      <td>0.0</td>\n",
       "    </tr>\n",
       "    <tr>\n",
       "      <th>...</th>\n",
       "      <td>...</td>\n",
       "      <td>...</td>\n",
       "      <td>...</td>\n",
       "      <td>...</td>\n",
       "      <td>...</td>\n",
       "      <td>...</td>\n",
       "      <td>...</td>\n",
       "      <td>...</td>\n",
       "      <td>...</td>\n",
       "      <td>...</td>\n",
       "      <td>...</td>\n",
       "      <td>...</td>\n",
       "    </tr>\n",
       "    <tr>\n",
       "      <th>122</th>\n",
       "      <td>0.490051</td>\n",
       "      <td>0.499254</td>\n",
       "      <td>0.669299</td>\n",
       "      <td>1.553778</td>\n",
       "      <td>0.415523</td>\n",
       "      <td>1.0</td>\n",
       "      <td>0.0</td>\n",
       "      <td>0.0</td>\n",
       "      <td>0.0</td>\n",
       "      <td>0.0</td>\n",
       "      <td>0.0</td>\n",
       "      <td>0.0</td>\n",
       "    </tr>\n",
       "    <tr>\n",
       "      <th>123</th>\n",
       "      <td>1.025215</td>\n",
       "      <td>0.988340</td>\n",
       "      <td>0.886207</td>\n",
       "      <td>-0.619337</td>\n",
       "      <td>-0.278344</td>\n",
       "      <td>0.0</td>\n",
       "      <td>0.0</td>\n",
       "      <td>0.0</td>\n",
       "      <td>1.0</td>\n",
       "      <td>0.0</td>\n",
       "      <td>0.0</td>\n",
       "      <td>0.0</td>\n",
       "    </tr>\n",
       "    <tr>\n",
       "      <th>124</th>\n",
       "      <td>-1.524686</td>\n",
       "      <td>-1.564692</td>\n",
       "      <td>-1.599200</td>\n",
       "      <td>-1.552386</td>\n",
       "      <td>-1.902646</td>\n",
       "      <td>0.0</td>\n",
       "      <td>0.0</td>\n",
       "      <td>0.0</td>\n",
       "      <td>0.0</td>\n",
       "      <td>0.0</td>\n",
       "      <td>1.0</td>\n",
       "      <td>0.0</td>\n",
       "    </tr>\n",
       "    <tr>\n",
       "      <th>125</th>\n",
       "      <td>-0.496330</td>\n",
       "      <td>-0.478920</td>\n",
       "      <td>-0.559848</td>\n",
       "      <td>-0.647804</td>\n",
       "      <td>-0.429498</td>\n",
       "      <td>0.0</td>\n",
       "      <td>0.0</td>\n",
       "      <td>1.0</td>\n",
       "      <td>0.0</td>\n",
       "      <td>0.0</td>\n",
       "      <td>0.0</td>\n",
       "      <td>0.0</td>\n",
       "    </tr>\n",
       "    <tr>\n",
       "      <th>126</th>\n",
       "      <td>-0.286462</td>\n",
       "      <td>-0.273503</td>\n",
       "      <td>-0.379091</td>\n",
       "      <td>-0.580519</td>\n",
       "      <td>-0.121192</td>\n",
       "      <td>0.0</td>\n",
       "      <td>0.0</td>\n",
       "      <td>1.0</td>\n",
       "      <td>0.0</td>\n",
       "      <td>0.0</td>\n",
       "      <td>0.0</td>\n",
       "      <td>0.0</td>\n",
       "    </tr>\n",
       "  </tbody>\n",
       "</table>\n",
       "<p>127 rows × 12 columns</p>\n",
       "</div>"
      ],
      "text/plain": [
       "           0         1         2         3         4    5    6    7    8   \\\n",
       "0   -0.527811 -0.527829 -0.487545  0.309901 -0.466326  0.0  1.0  0.0  0.0   \n",
       "1   -1.629620 -1.682073 -1.698616 -1.633975 -1.897727  0.0  0.0  0.0  0.0   \n",
       "2   -0.947548 -0.919098 -0.993665 -0.798183 -0.834253  0.0  0.0  1.0  0.0   \n",
       "3   -0.317942 -0.293067 -0.107956  0.586145 -0.252552  1.0  0.0  0.0  0.0   \n",
       "4    0.542518  0.548162  0.723526  1.638613  0.557440  1.0  0.0  0.0  0.0   \n",
       "..        ...       ...       ...       ...       ...  ...  ...  ...  ...   \n",
       "122  0.490051  0.499254  0.669299  1.553778  0.415523  1.0  0.0  0.0  0.0   \n",
       "123  1.025215  0.988340  0.886207 -0.619337 -0.278344  0.0  0.0  0.0  1.0   \n",
       "124 -1.524686 -1.564692 -1.599200 -1.552386 -1.902646  0.0  0.0  0.0  0.0   \n",
       "125 -0.496330 -0.478920 -0.559848 -0.647804 -0.429498  0.0  0.0  1.0  0.0   \n",
       "126 -0.286462 -0.273503 -0.379091 -0.580519 -0.121192  0.0  0.0  1.0  0.0   \n",
       "\n",
       "      9    10   11  \n",
       "0    0.0  0.0  0.0  \n",
       "1    0.0  1.0  0.0  \n",
       "2    0.0  0.0  0.0  \n",
       "3    0.0  0.0  0.0  \n",
       "4    0.0  0.0  0.0  \n",
       "..   ...  ...  ...  \n",
       "122  0.0  0.0  0.0  \n",
       "123  0.0  0.0  0.0  \n",
       "124  0.0  1.0  0.0  \n",
       "125  0.0  0.0  0.0  \n",
       "126  0.0  0.0  0.0  \n",
       "\n",
       "[127 rows x 12 columns]"
      ]
     },
     "execution_count": 32,
     "metadata": {},
     "output_type": "execute_result"
    }
   ],
   "source": [
    "pd.DataFrame(features_prepared)"
   ]
  },
  {
   "cell_type": "markdown",
   "metadata": {},
   "source": [
    "## SELECT AND TRAIN MODEL:"
   ]
  },
  {
   "cell_type": "code",
   "execution_count": 33,
   "metadata": {},
   "outputs": [],
   "source": [
    "from sklearn.linear_model import LinearRegression"
   ]
  },
  {
   "cell_type": "code",
   "execution_count": 34,
   "metadata": {},
   "outputs": [],
   "source": [
    "from sklearn.metrics import mean_squared_error"
   ]
  },
  {
   "cell_type": "code",
   "execution_count": 37,
   "metadata": {},
   "outputs": [],
   "source": [
    "lin_reg=LinearRegression()"
   ]
  },
  {
   "cell_type": "code",
   "execution_count": 38,
   "metadata": {},
   "outputs": [
    {
     "data": {
      "text/plain": [
       "LinearRegression()"
      ]
     },
     "execution_count": 38,
     "metadata": {},
     "output_type": "execute_result"
    }
   ],
   "source": [
    "lin_reg.fit(features_prepared,label)"
   ]
  },
  {
   "cell_type": "code",
   "execution_count": 46,
   "metadata": {},
   "outputs": [],
   "source": [
    "predictions_lin=lin_reg.predict(features_prepared)"
   ]
  },
  {
   "cell_type": "code",
   "execution_count": 40,
   "metadata": {},
   "outputs": [
    {
     "name": "stdout",
     "output_type": "stream",
     "text": [
      "RMSE:\t  85.70438600226409\n"
     ]
    }
   ],
   "source": [
    "print('RMSE:\\t ',np.sqrt(mean_squared_error(label,predictions_lin)))"
   ]
  },
  {
   "cell_type": "code",
   "execution_count": 41,
   "metadata": {},
   "outputs": [],
   "source": [
    "scores=cross_val_score(lin_reg,features_prepared,label,cv=10,scoring='neg_mean_squared_error')\n",
    "lin_reg_rmse=np.sqrt(-scores)"
   ]
  },
  {
   "cell_type": "code",
   "execution_count": 42,
   "metadata": {},
   "outputs": [
    {
     "name": "stdout",
     "output_type": "stream",
     "text": [
      "RMSE:\t  [ 90.857815   183.75255671  45.39482398  72.80551325  79.52580041\n",
      "  81.80420376 171.81123157  60.37763429  82.02312446  73.83307136]\n",
      "MEAN:\t  94.21857747955724\n",
      "STANDARD DEVIATION:\t  43.55459573971324\n"
     ]
    }
   ],
   "source": [
    "print('RMSE:\\t ',lin_reg_rmse)\n",
    "print('MEAN:\\t ',lin_reg_rmse.mean())\n",
    "print('STANDARD DEVIATION:\\t ',lin_reg_rmse.std())"
   ]
  },
  {
   "cell_type": "code",
   "execution_count": 43,
   "metadata": {},
   "outputs": [],
   "source": [
    "from sklearn.tree import DecisionTreeRegressor"
   ]
  },
  {
   "cell_type": "code",
   "execution_count": 44,
   "metadata": {},
   "outputs": [],
   "source": [
    "tree_reg=DecisionTreeRegressor()"
   ]
  },
  {
   "cell_type": "code",
   "execution_count": 45,
   "metadata": {},
   "outputs": [
    {
     "data": {
      "text/plain": [
       "DecisionTreeRegressor()"
      ]
     },
     "execution_count": 45,
     "metadata": {},
     "output_type": "execute_result"
    }
   ],
   "source": [
    "tree_reg.fit(features_prepared,label)"
   ]
  },
  {
   "cell_type": "code",
   "execution_count": 47,
   "metadata": {},
   "outputs": [],
   "source": [
    "predictions_tree=tree_reg.predict(features_prepared)"
   ]
  },
  {
   "cell_type": "code",
   "execution_count": 48,
   "metadata": {},
   "outputs": [
    {
     "name": "stdout",
     "output_type": "stream",
     "text": [
      "RMSE:\t  0.0\n"
     ]
    }
   ],
   "source": [
    "print('RMSE:\\t ',np.sqrt(mean_squared_error(label,predictions_tree)))"
   ]
  },
  {
   "cell_type": "code",
   "execution_count": 49,
   "metadata": {},
   "outputs": [],
   "source": [
    "scores1=cross_val_score(tree_reg,features_prepared,label,cv=10,scoring='neg_mean_squared_error')\n",
    "tree_reg_rmse=np.sqrt(-scores1)"
   ]
  },
  {
   "cell_type": "code",
   "execution_count": 58,
   "metadata": {},
   "outputs": [
    {
     "name": "stdout",
     "output_type": "stream",
     "text": [
      "RMSE:\t  [ 55.50211361  96.91265298  45.80922816  60.68622959  65.27521028\n",
      "  73.04108433 127.89726947  73.38369483 120.53486356  84.67121215]\n",
      "MEAN:\t  80.37135589562182\n",
      "STANDARD DEVIATION:\t  25.874506886653904\n"
     ]
    }
   ],
   "source": [
    "print('RMSE:\\t ',tree_reg_rmse)\n",
    "print('MEAN:\\t ',tree_reg_rmse.mean())\n",
    "print('STANDARD DEVIATION:\\t ',tree_reg_rmse.std())"
   ]
  },
  {
   "cell_type": "code",
   "execution_count": 51,
   "metadata": {},
   "outputs": [],
   "source": [
    "from sklearn.ensemble import RandomForestRegressor"
   ]
  },
  {
   "cell_type": "code",
   "execution_count": 53,
   "metadata": {},
   "outputs": [],
   "source": [
    "rf_reg=RandomForestRegressor(n_estimators=10,random_state=42)"
   ]
  },
  {
   "cell_type": "code",
   "execution_count": 54,
   "metadata": {},
   "outputs": [
    {
     "data": {
      "text/plain": [
       "RandomForestRegressor(n_estimators=10, random_state=42)"
      ]
     },
     "execution_count": 54,
     "metadata": {},
     "output_type": "execute_result"
    }
   ],
   "source": [
    "rf_reg.fit(features_prepared,label)"
   ]
  },
  {
   "cell_type": "code",
   "execution_count": 55,
   "metadata": {},
   "outputs": [],
   "source": [
    "predictions_rf=rf_reg.predict(features_prepared)"
   ]
  },
  {
   "cell_type": "code",
   "execution_count": 60,
   "metadata": {},
   "outputs": [
    {
     "name": "stdout",
     "output_type": "stream",
     "text": [
      "RMSE:\t  32.53827197788915\n"
     ]
    }
   ],
   "source": [
    "print('RMSE:\\t ',np.sqrt(mean_squared_error(label,predictions_rf)))              #Overfitting :("
   ]
  },
  {
   "cell_type": "code",
   "execution_count": 57,
   "metadata": {},
   "outputs": [],
   "source": [
    "scores2=cross_val_score(rf_reg,features_prepared,label,cv=10,scoring='neg_mean_squared_error')\n",
    "rf_reg_rmse=np.sqrt(-scores2)"
   ]
  },
  {
   "cell_type": "code",
   "execution_count": 59,
   "metadata": {},
   "outputs": [
    {
     "name": "stdout",
     "output_type": "stream",
     "text": [
      "RMSE:\t  [ 78.00245977  59.27566688  49.52168864  58.86613432  55.43049071\n",
      "  51.26132333 181.55039794  37.86607981  86.89611115  63.02486626]\n",
      "MEAN:\t  72.16952188081977\n",
      "STANDARD DEVIATION:\t  38.79294575982396\n"
     ]
    }
   ],
   "source": [
    "print('RMSE:\\t ',rf_reg_rmse)\n",
    "print('MEAN:\\t ',rf_reg_rmse.mean())\n",
    "print('STANDARD DEVIATION:\\t ',rf_reg_rmse.std())"
   ]
  },
  {
   "cell_type": "markdown",
   "metadata": {},
   "source": [
    "## Fine Tuning Our Best Model:"
   ]
  },
  {
   "cell_type": "code",
   "execution_count": 61,
   "metadata": {},
   "outputs": [],
   "source": [
    "from sklearn.model_selection import GridSearchCV "
   ]
  },
  {
   "cell_type": "code",
   "execution_count": 64,
   "metadata": {},
   "outputs": [],
   "source": [
    "forest_reg=RandomForestRegressor(random_state=42)"
   ]
  },
  {
   "cell_type": "code",
   "execution_count": 65,
   "metadata": {},
   "outputs": [],
   "source": [
    "param_grid=[{'n_estimators':[3,10,30],'max_features':[2,4,6,8]},\n",
    "           {'bootstrap':[False],'n_estimators':[3,10],'max_features':[2,3,4]}]"
   ]
  },
  {
   "cell_type": "code",
   "execution_count": 66,
   "metadata": {},
   "outputs": [],
   "source": [
    "grid_search=GridSearchCV(forest_reg,param_grid,cv=5,scoring='neg_mean_squared_error',return_train_score=True)"
   ]
  },
  {
   "cell_type": "code",
   "execution_count": 68,
   "metadata": {},
   "outputs": [
    {
     "data": {
      "text/plain": [
       "GridSearchCV(cv=5, estimator=RandomForestRegressor(random_state=42),\n",
       "             param_grid=[{'max_features': [2, 4, 6, 8],\n",
       "                          'n_estimators': [3, 10, 30]},\n",
       "                         {'bootstrap': [False], 'max_features': [2, 3, 4],\n",
       "                          'n_estimators': [3, 10]}],\n",
       "             return_train_score=True, scoring='neg_mean_squared_error')"
      ]
     },
     "execution_count": 68,
     "metadata": {},
     "output_type": "execute_result"
    }
   ],
   "source": [
    "grid_search.fit(features_prepared,label)"
   ]
  },
  {
   "cell_type": "code",
   "execution_count": 70,
   "metadata": {},
   "outputs": [],
   "source": [
    "cvres=grid_search.cv_results_"
   ]
  },
  {
   "cell_type": "code",
   "execution_count": 71,
   "metadata": {},
   "outputs": [
    {
     "data": {
      "text/html": [
       "<div>\n",
       "<style scoped>\n",
       "    .dataframe tbody tr th:only-of-type {\n",
       "        vertical-align: middle;\n",
       "    }\n",
       "\n",
       "    .dataframe tbody tr th {\n",
       "        vertical-align: top;\n",
       "    }\n",
       "\n",
       "    .dataframe thead th {\n",
       "        text-align: right;\n",
       "    }\n",
       "</style>\n",
       "<table border=\"1\" class=\"dataframe\">\n",
       "  <thead>\n",
       "    <tr style=\"text-align: right;\">\n",
       "      <th></th>\n",
       "      <th>mean_fit_time</th>\n",
       "      <th>std_fit_time</th>\n",
       "      <th>mean_score_time</th>\n",
       "      <th>std_score_time</th>\n",
       "      <th>param_max_features</th>\n",
       "      <th>param_n_estimators</th>\n",
       "      <th>param_bootstrap</th>\n",
       "      <th>params</th>\n",
       "      <th>split0_test_score</th>\n",
       "      <th>split1_test_score</th>\n",
       "      <th>...</th>\n",
       "      <th>mean_test_score</th>\n",
       "      <th>std_test_score</th>\n",
       "      <th>rank_test_score</th>\n",
       "      <th>split0_train_score</th>\n",
       "      <th>split1_train_score</th>\n",
       "      <th>split2_train_score</th>\n",
       "      <th>split3_train_score</th>\n",
       "      <th>split4_train_score</th>\n",
       "      <th>mean_train_score</th>\n",
       "      <th>std_train_score</th>\n",
       "    </tr>\n",
       "  </thead>\n",
       "  <tbody>\n",
       "    <tr>\n",
       "      <th>0</th>\n",
       "      <td>0.009856</td>\n",
       "      <td>0.002121</td>\n",
       "      <td>0.002215</td>\n",
       "      <td>0.001009</td>\n",
       "      <td>2</td>\n",
       "      <td>3</td>\n",
       "      <td>NaN</td>\n",
       "      <td>{'max_features': 2, 'n_estimators': 3}</td>\n",
       "      <td>-3344.935000</td>\n",
       "      <td>-2755.650214</td>\n",
       "      <td>...</td>\n",
       "      <td>-5605.809372</td>\n",
       "      <td>4619.920482</td>\n",
       "      <td>4</td>\n",
       "      <td>-1313.754928</td>\n",
       "      <td>-2.683667e+03</td>\n",
       "      <td>-8.636313e+02</td>\n",
       "      <td>-1.421797e+03</td>\n",
       "      <td>-1.486908e+03</td>\n",
       "      <td>-1.553952e+03</td>\n",
       "      <td>6.053847e+02</td>\n",
       "    </tr>\n",
       "    <tr>\n",
       "      <th>1</th>\n",
       "      <td>0.010965</td>\n",
       "      <td>0.002219</td>\n",
       "      <td>0.000992</td>\n",
       "      <td>0.000006</td>\n",
       "      <td>2</td>\n",
       "      <td>10</td>\n",
       "      <td>NaN</td>\n",
       "      <td>{'max_features': 2, 'n_estimators': 10}</td>\n",
       "      <td>-4752.593369</td>\n",
       "      <td>-1107.582273</td>\n",
       "      <td>...</td>\n",
       "      <td>-5711.889480</td>\n",
       "      <td>6058.284931</td>\n",
       "      <td>5</td>\n",
       "      <td>-640.425588</td>\n",
       "      <td>-1.180165e+03</td>\n",
       "      <td>-9.213598e+02</td>\n",
       "      <td>-1.020684e+03</td>\n",
       "      <td>-1.867215e+03</td>\n",
       "      <td>-1.125970e+03</td>\n",
       "      <td>4.101426e+02</td>\n",
       "    </tr>\n",
       "    <tr>\n",
       "      <th>2</th>\n",
       "      <td>0.026789</td>\n",
       "      <td>0.000831</td>\n",
       "      <td>0.001794</td>\n",
       "      <td>0.000398</td>\n",
       "      <td>2</td>\n",
       "      <td>30</td>\n",
       "      <td>NaN</td>\n",
       "      <td>{'max_features': 2, 'n_estimators': 30}</td>\n",
       "      <td>-3839.731865</td>\n",
       "      <td>-1542.323976</td>\n",
       "      <td>...</td>\n",
       "      <td>-5349.362427</td>\n",
       "      <td>5241.975618</td>\n",
       "      <td>2</td>\n",
       "      <td>-1082.864585</td>\n",
       "      <td>-9.378523e+02</td>\n",
       "      <td>-7.716057e+02</td>\n",
       "      <td>-7.583689e+02</td>\n",
       "      <td>-7.663769e+02</td>\n",
       "      <td>-8.634137e+02</td>\n",
       "      <td>1.285139e+02</td>\n",
       "    </tr>\n",
       "    <tr>\n",
       "      <th>3</th>\n",
       "      <td>0.003992</td>\n",
       "      <td>0.000004</td>\n",
       "      <td>0.000000</td>\n",
       "      <td>0.000000</td>\n",
       "      <td>4</td>\n",
       "      <td>3</td>\n",
       "      <td>NaN</td>\n",
       "      <td>{'max_features': 4, 'n_estimators': 3}</td>\n",
       "      <td>-5079.757991</td>\n",
       "      <td>-7213.316154</td>\n",
       "      <td>...</td>\n",
       "      <td>-8278.074225</td>\n",
       "      <td>3811.747896</td>\n",
       "      <td>16</td>\n",
       "      <td>-1070.998790</td>\n",
       "      <td>-2.750270e+03</td>\n",
       "      <td>-2.215004e+03</td>\n",
       "      <td>-1.604670e+03</td>\n",
       "      <td>-1.127482e+03</td>\n",
       "      <td>-1.753685e+03</td>\n",
       "      <td>6.459711e+02</td>\n",
       "    </tr>\n",
       "    <tr>\n",
       "      <th>4</th>\n",
       "      <td>0.009670</td>\n",
       "      <td>0.000522</td>\n",
       "      <td>0.000800</td>\n",
       "      <td>0.000400</td>\n",
       "      <td>4</td>\n",
       "      <td>10</td>\n",
       "      <td>NaN</td>\n",
       "      <td>{'max_features': 4, 'n_estimators': 10}</td>\n",
       "      <td>-3754.469692</td>\n",
       "      <td>-1949.641173</td>\n",
       "      <td>...</td>\n",
       "      <td>-6081.329414</td>\n",
       "      <td>5641.928764</td>\n",
       "      <td>9</td>\n",
       "      <td>-668.357565</td>\n",
       "      <td>-7.845164e+02</td>\n",
       "      <td>-1.107011e+03</td>\n",
       "      <td>-1.166445e+03</td>\n",
       "      <td>-1.317867e+03</td>\n",
       "      <td>-1.008840e+03</td>\n",
       "      <td>2.434026e+02</td>\n",
       "    </tr>\n",
       "    <tr>\n",
       "      <th>5</th>\n",
       "      <td>0.031783</td>\n",
       "      <td>0.009346</td>\n",
       "      <td>0.001991</td>\n",
       "      <td>0.000008</td>\n",
       "      <td>4</td>\n",
       "      <td>30</td>\n",
       "      <td>NaN</td>\n",
       "      <td>{'max_features': 4, 'n_estimators': 30}</td>\n",
       "      <td>-4021.734853</td>\n",
       "      <td>-1713.655473</td>\n",
       "      <td>...</td>\n",
       "      <td>-5531.228635</td>\n",
       "      <td>5067.253126</td>\n",
       "      <td>3</td>\n",
       "      <td>-1020.529187</td>\n",
       "      <td>-8.415235e+02</td>\n",
       "      <td>-8.326777e+02</td>\n",
       "      <td>-8.230130e+02</td>\n",
       "      <td>-6.543837e+02</td>\n",
       "      <td>-8.344254e+02</td>\n",
       "      <td>1.159598e+02</td>\n",
       "    </tr>\n",
       "    <tr>\n",
       "      <th>6</th>\n",
       "      <td>0.003942</td>\n",
       "      <td>0.000567</td>\n",
       "      <td>0.000400</td>\n",
       "      <td>0.000491</td>\n",
       "      <td>6</td>\n",
       "      <td>3</td>\n",
       "      <td>NaN</td>\n",
       "      <td>{'max_features': 6, 'n_estimators': 3}</td>\n",
       "      <td>-11233.373248</td>\n",
       "      <td>-4123.568291</td>\n",
       "      <td>...</td>\n",
       "      <td>-8758.457739</td>\n",
       "      <td>4606.886541</td>\n",
       "      <td>17</td>\n",
       "      <td>-1687.555809</td>\n",
       "      <td>-2.615467e+03</td>\n",
       "      <td>-6.620838e+02</td>\n",
       "      <td>-9.198590e+02</td>\n",
       "      <td>-1.805422e+03</td>\n",
       "      <td>-1.538077e+03</td>\n",
       "      <td>6.934181e+02</td>\n",
       "    </tr>\n",
       "    <tr>\n",
       "      <th>7</th>\n",
       "      <td>0.009973</td>\n",
       "      <td>0.000006</td>\n",
       "      <td>0.001115</td>\n",
       "      <td>0.000238</td>\n",
       "      <td>6</td>\n",
       "      <td>10</td>\n",
       "      <td>NaN</td>\n",
       "      <td>{'max_features': 6, 'n_estimators': 10}</td>\n",
       "      <td>-6202.891973</td>\n",
       "      <td>-3187.606831</td>\n",
       "      <td>...</td>\n",
       "      <td>-6152.484188</td>\n",
       "      <td>3898.666709</td>\n",
       "      <td>10</td>\n",
       "      <td>-715.140182</td>\n",
       "      <td>-9.310376e+02</td>\n",
       "      <td>-6.761243e+02</td>\n",
       "      <td>-7.236315e+02</td>\n",
       "      <td>-1.726250e+03</td>\n",
       "      <td>-9.544367e+02</td>\n",
       "      <td>3.960392e+02</td>\n",
       "    </tr>\n",
       "    <tr>\n",
       "      <th>8</th>\n",
       "      <td>0.027452</td>\n",
       "      <td>0.000517</td>\n",
       "      <td>0.002356</td>\n",
       "      <td>0.000645</td>\n",
       "      <td>6</td>\n",
       "      <td>30</td>\n",
       "      <td>NaN</td>\n",
       "      <td>{'max_features': 6, 'n_estimators': 30}</td>\n",
       "      <td>-6399.552163</td>\n",
       "      <td>-2751.843285</td>\n",
       "      <td>...</td>\n",
       "      <td>-6530.880433</td>\n",
       "      <td>4486.622435</td>\n",
       "      <td>11</td>\n",
       "      <td>-1153.600912</td>\n",
       "      <td>-9.514643e+02</td>\n",
       "      <td>-7.840696e+02</td>\n",
       "      <td>-6.367280e+02</td>\n",
       "      <td>-7.295203e+02</td>\n",
       "      <td>-8.510766e+02</td>\n",
       "      <td>1.826526e+02</td>\n",
       "    </tr>\n",
       "    <tr>\n",
       "      <th>9</th>\n",
       "      <td>0.003592</td>\n",
       "      <td>0.000493</td>\n",
       "      <td>0.000797</td>\n",
       "      <td>0.000399</td>\n",
       "      <td>8</td>\n",
       "      <td>3</td>\n",
       "      <td>NaN</td>\n",
       "      <td>{'max_features': 8, 'n_estimators': 3}</td>\n",
       "      <td>-4993.513547</td>\n",
       "      <td>-5657.448974</td>\n",
       "      <td>...</td>\n",
       "      <td>-7469.461375</td>\n",
       "      <td>3524.951343</td>\n",
       "      <td>15</td>\n",
       "      <td>-2764.196513</td>\n",
       "      <td>-1.704937e+03</td>\n",
       "      <td>-7.477453e+02</td>\n",
       "      <td>-1.195239e+03</td>\n",
       "      <td>-1.228856e+03</td>\n",
       "      <td>-1.528195e+03</td>\n",
       "      <td>6.882590e+02</td>\n",
       "    </tr>\n",
       "    <tr>\n",
       "      <th>10</th>\n",
       "      <td>0.010815</td>\n",
       "      <td>0.000675</td>\n",
       "      <td>0.001000</td>\n",
       "      <td>0.000004</td>\n",
       "      <td>8</td>\n",
       "      <td>10</td>\n",
       "      <td>NaN</td>\n",
       "      <td>{'max_features': 8, 'n_estimators': 10}</td>\n",
       "      <td>-6035.343085</td>\n",
       "      <td>-3265.922046</td>\n",
       "      <td>...</td>\n",
       "      <td>-5919.614109</td>\n",
       "      <td>4464.154902</td>\n",
       "      <td>6</td>\n",
       "      <td>-774.802495</td>\n",
       "      <td>-6.907386e+02</td>\n",
       "      <td>-9.423789e+02</td>\n",
       "      <td>-8.887290e+02</td>\n",
       "      <td>-1.541229e+03</td>\n",
       "      <td>-9.675756e+02</td>\n",
       "      <td>2.999100e+02</td>\n",
       "    </tr>\n",
       "    <tr>\n",
       "      <th>11</th>\n",
       "      <td>0.028880</td>\n",
       "      <td>0.000918</td>\n",
       "      <td>0.002008</td>\n",
       "      <td>0.000017</td>\n",
       "      <td>8</td>\n",
       "      <td>30</td>\n",
       "      <td>NaN</td>\n",
       "      <td>{'max_features': 8, 'n_estimators': 30}</td>\n",
       "      <td>-5156.196963</td>\n",
       "      <td>-2897.191401</td>\n",
       "      <td>...</td>\n",
       "      <td>-5960.682880</td>\n",
       "      <td>4042.629497</td>\n",
       "      <td>7</td>\n",
       "      <td>-1117.265848</td>\n",
       "      <td>-8.686049e+02</td>\n",
       "      <td>-7.693640e+02</td>\n",
       "      <td>-6.226026e+02</td>\n",
       "      <td>-7.367315e+02</td>\n",
       "      <td>-8.229138e+02</td>\n",
       "      <td>1.668235e+02</td>\n",
       "    </tr>\n",
       "    <tr>\n",
       "      <th>12</th>\n",
       "      <td>0.002886</td>\n",
       "      <td>0.000474</td>\n",
       "      <td>0.000596</td>\n",
       "      <td>0.000486</td>\n",
       "      <td>2</td>\n",
       "      <td>3</td>\n",
       "      <td>False</td>\n",
       "      <td>{'bootstrap': False, 'max_features': 2, 'n_est...</td>\n",
       "      <td>-6181.956325</td>\n",
       "      <td>-4739.504701</td>\n",
       "      <td>...</td>\n",
       "      <td>-6882.657823</td>\n",
       "      <td>3114.938621</td>\n",
       "      <td>12</td>\n",
       "      <td>-0.000000</td>\n",
       "      <td>-7.810504e-33</td>\n",
       "      <td>-7.733930e-33</td>\n",
       "      <td>-7.733930e-33</td>\n",
       "      <td>-7.733930e-33</td>\n",
       "      <td>-6.202459e-33</td>\n",
       "      <td>3.101371e-33</td>\n",
       "    </tr>\n",
       "    <tr>\n",
       "      <th>13</th>\n",
       "      <td>0.007575</td>\n",
       "      <td>0.000491</td>\n",
       "      <td>0.001022</td>\n",
       "      <td>0.000634</td>\n",
       "      <td>2</td>\n",
       "      <td>10</td>\n",
       "      <td>False</td>\n",
       "      <td>{'bootstrap': False, 'max_features': 2, 'n_est...</td>\n",
       "      <td>-5219.764092</td>\n",
       "      <td>-3246.291550</td>\n",
       "      <td>...</td>\n",
       "      <td>-6031.028420</td>\n",
       "      <td>3688.759654</td>\n",
       "      <td>8</td>\n",
       "      <td>-0.123762</td>\n",
       "      <td>-2.889886e-31</td>\n",
       "      <td>-1.701465e-31</td>\n",
       "      <td>-3.248251e-31</td>\n",
       "      <td>-7.843137e-02</td>\n",
       "      <td>-4.043875e-02</td>\n",
       "      <td>5.155995e-02</td>\n",
       "    </tr>\n",
       "    <tr>\n",
       "      <th>14</th>\n",
       "      <td>0.002799</td>\n",
       "      <td>0.000404</td>\n",
       "      <td>0.000596</td>\n",
       "      <td>0.000487</td>\n",
       "      <td>3</td>\n",
       "      <td>3</td>\n",
       "      <td>False</td>\n",
       "      <td>{'bootstrap': False, 'max_features': 3, 'n_est...</td>\n",
       "      <td>-9937.756239</td>\n",
       "      <td>-9986.081453</td>\n",
       "      <td>...</td>\n",
       "      <td>-10068.482107</td>\n",
       "      <td>3573.938232</td>\n",
       "      <td>18</td>\n",
       "      <td>-0.275028</td>\n",
       "      <td>-1.375138e+00</td>\n",
       "      <td>-7.733930e-33</td>\n",
       "      <td>-7.733930e-33</td>\n",
       "      <td>-7.733930e-33</td>\n",
       "      <td>-3.300330e-01</td>\n",
       "      <td>5.332981e-01</td>\n",
       "    </tr>\n",
       "    <tr>\n",
       "      <th>15</th>\n",
       "      <td>0.007520</td>\n",
       "      <td>0.000582</td>\n",
       "      <td>0.001052</td>\n",
       "      <td>0.000069</td>\n",
       "      <td>3</td>\n",
       "      <td>10</td>\n",
       "      <td>False</td>\n",
       "      <td>{'bootstrap': False, 'max_features': 3, 'n_est...</td>\n",
       "      <td>-5494.122181</td>\n",
       "      <td>-4915.516235</td>\n",
       "      <td>...</td>\n",
       "      <td>-7338.089082</td>\n",
       "      <td>3862.563529</td>\n",
       "      <td>14</td>\n",
       "      <td>-0.039604</td>\n",
       "      <td>-3.712871e-01</td>\n",
       "      <td>-1.701465e-31</td>\n",
       "      <td>-3.248251e-31</td>\n",
       "      <td>-2.320179e-31</td>\n",
       "      <td>-8.217822e-02</td>\n",
       "      <td>1.453660e-01</td>\n",
       "    </tr>\n",
       "    <tr>\n",
       "      <th>16</th>\n",
       "      <td>0.002641</td>\n",
       "      <td>0.000538</td>\n",
       "      <td>0.000799</td>\n",
       "      <td>0.000399</td>\n",
       "      <td>4</td>\n",
       "      <td>3</td>\n",
       "      <td>False</td>\n",
       "      <td>{'bootstrap': False, 'max_features': 4, 'n_est...</td>\n",
       "      <td>-4316.685598</td>\n",
       "      <td>-3983.825214</td>\n",
       "      <td>...</td>\n",
       "      <td>-7302.028429</td>\n",
       "      <td>4157.463803</td>\n",
       "      <td>13</td>\n",
       "      <td>-0.275028</td>\n",
       "      <td>-7.810504e-33</td>\n",
       "      <td>-7.733930e-33</td>\n",
       "      <td>-7.733930e-33</td>\n",
       "      <td>-7.733930e-33</td>\n",
       "      <td>-5.500550e-02</td>\n",
       "      <td>1.100110e-01</td>\n",
       "    </tr>\n",
       "    <tr>\n",
       "      <th>17</th>\n",
       "      <td>0.007618</td>\n",
       "      <td>0.000501</td>\n",
       "      <td>0.001058</td>\n",
       "      <td>0.000121</td>\n",
       "      <td>4</td>\n",
       "      <td>10</td>\n",
       "      <td>False</td>\n",
       "      <td>{'bootstrap': False, 'max_features': 4, 'n_est...</td>\n",
       "      <td>-5272.982388</td>\n",
       "      <td>-3291.437677</td>\n",
       "      <td>...</td>\n",
       "      <td>-5016.639830</td>\n",
       "      <td>1685.408271</td>\n",
       "      <td>1</td>\n",
       "      <td>-0.099010</td>\n",
       "      <td>-2.889886e-31</td>\n",
       "      <td>-1.701465e-31</td>\n",
       "      <td>-1.797386e-02</td>\n",
       "      <td>-2.320179e-31</td>\n",
       "      <td>-2.339675e-02</td>\n",
       "      <td>3.844211e-02</td>\n",
       "    </tr>\n",
       "  </tbody>\n",
       "</table>\n",
       "<p>18 rows × 23 columns</p>\n",
       "</div>"
      ],
      "text/plain": [
       "    mean_fit_time  std_fit_time  mean_score_time  std_score_time  \\\n",
       "0        0.009856      0.002121         0.002215        0.001009   \n",
       "1        0.010965      0.002219         0.000992        0.000006   \n",
       "2        0.026789      0.000831         0.001794        0.000398   \n",
       "3        0.003992      0.000004         0.000000        0.000000   \n",
       "4        0.009670      0.000522         0.000800        0.000400   \n",
       "5        0.031783      0.009346         0.001991        0.000008   \n",
       "6        0.003942      0.000567         0.000400        0.000491   \n",
       "7        0.009973      0.000006         0.001115        0.000238   \n",
       "8        0.027452      0.000517         0.002356        0.000645   \n",
       "9        0.003592      0.000493         0.000797        0.000399   \n",
       "10       0.010815      0.000675         0.001000        0.000004   \n",
       "11       0.028880      0.000918         0.002008        0.000017   \n",
       "12       0.002886      0.000474         0.000596        0.000486   \n",
       "13       0.007575      0.000491         0.001022        0.000634   \n",
       "14       0.002799      0.000404         0.000596        0.000487   \n",
       "15       0.007520      0.000582         0.001052        0.000069   \n",
       "16       0.002641      0.000538         0.000799        0.000399   \n",
       "17       0.007618      0.000501         0.001058        0.000121   \n",
       "\n",
       "   param_max_features param_n_estimators param_bootstrap  \\\n",
       "0                   2                  3             NaN   \n",
       "1                   2                 10             NaN   \n",
       "2                   2                 30             NaN   \n",
       "3                   4                  3             NaN   \n",
       "4                   4                 10             NaN   \n",
       "5                   4                 30             NaN   \n",
       "6                   6                  3             NaN   \n",
       "7                   6                 10             NaN   \n",
       "8                   6                 30             NaN   \n",
       "9                   8                  3             NaN   \n",
       "10                  8                 10             NaN   \n",
       "11                  8                 30             NaN   \n",
       "12                  2                  3           False   \n",
       "13                  2                 10           False   \n",
       "14                  3                  3           False   \n",
       "15                  3                 10           False   \n",
       "16                  4                  3           False   \n",
       "17                  4                 10           False   \n",
       "\n",
       "                                               params  split0_test_score  \\\n",
       "0              {'max_features': 2, 'n_estimators': 3}       -3344.935000   \n",
       "1             {'max_features': 2, 'n_estimators': 10}       -4752.593369   \n",
       "2             {'max_features': 2, 'n_estimators': 30}       -3839.731865   \n",
       "3              {'max_features': 4, 'n_estimators': 3}       -5079.757991   \n",
       "4             {'max_features': 4, 'n_estimators': 10}       -3754.469692   \n",
       "5             {'max_features': 4, 'n_estimators': 30}       -4021.734853   \n",
       "6              {'max_features': 6, 'n_estimators': 3}      -11233.373248   \n",
       "7             {'max_features': 6, 'n_estimators': 10}       -6202.891973   \n",
       "8             {'max_features': 6, 'n_estimators': 30}       -6399.552163   \n",
       "9              {'max_features': 8, 'n_estimators': 3}       -4993.513547   \n",
       "10            {'max_features': 8, 'n_estimators': 10}       -6035.343085   \n",
       "11            {'max_features': 8, 'n_estimators': 30}       -5156.196963   \n",
       "12  {'bootstrap': False, 'max_features': 2, 'n_est...       -6181.956325   \n",
       "13  {'bootstrap': False, 'max_features': 2, 'n_est...       -5219.764092   \n",
       "14  {'bootstrap': False, 'max_features': 3, 'n_est...       -9937.756239   \n",
       "15  {'bootstrap': False, 'max_features': 3, 'n_est...       -5494.122181   \n",
       "16  {'bootstrap': False, 'max_features': 4, 'n_est...       -4316.685598   \n",
       "17  {'bootstrap': False, 'max_features': 4, 'n_est...       -5272.982388   \n",
       "\n",
       "    split1_test_score  ...  mean_test_score  std_test_score  rank_test_score  \\\n",
       "0        -2755.650214  ...     -5605.809372     4619.920482                4   \n",
       "1        -1107.582273  ...     -5711.889480     6058.284931                5   \n",
       "2        -1542.323976  ...     -5349.362427     5241.975618                2   \n",
       "3        -7213.316154  ...     -8278.074225     3811.747896               16   \n",
       "4        -1949.641173  ...     -6081.329414     5641.928764                9   \n",
       "5        -1713.655473  ...     -5531.228635     5067.253126                3   \n",
       "6        -4123.568291  ...     -8758.457739     4606.886541               17   \n",
       "7        -3187.606831  ...     -6152.484188     3898.666709               10   \n",
       "8        -2751.843285  ...     -6530.880433     4486.622435               11   \n",
       "9        -5657.448974  ...     -7469.461375     3524.951343               15   \n",
       "10       -3265.922046  ...     -5919.614109     4464.154902                6   \n",
       "11       -2897.191401  ...     -5960.682880     4042.629497                7   \n",
       "12       -4739.504701  ...     -6882.657823     3114.938621               12   \n",
       "13       -3246.291550  ...     -6031.028420     3688.759654                8   \n",
       "14       -9986.081453  ...    -10068.482107     3573.938232               18   \n",
       "15       -4915.516235  ...     -7338.089082     3862.563529               14   \n",
       "16       -3983.825214  ...     -7302.028429     4157.463803               13   \n",
       "17       -3291.437677  ...     -5016.639830     1685.408271                1   \n",
       "\n",
       "    split0_train_score  split1_train_score  split2_train_score  \\\n",
       "0         -1313.754928       -2.683667e+03       -8.636313e+02   \n",
       "1          -640.425588       -1.180165e+03       -9.213598e+02   \n",
       "2         -1082.864585       -9.378523e+02       -7.716057e+02   \n",
       "3         -1070.998790       -2.750270e+03       -2.215004e+03   \n",
       "4          -668.357565       -7.845164e+02       -1.107011e+03   \n",
       "5         -1020.529187       -8.415235e+02       -8.326777e+02   \n",
       "6         -1687.555809       -2.615467e+03       -6.620838e+02   \n",
       "7          -715.140182       -9.310376e+02       -6.761243e+02   \n",
       "8         -1153.600912       -9.514643e+02       -7.840696e+02   \n",
       "9         -2764.196513       -1.704937e+03       -7.477453e+02   \n",
       "10         -774.802495       -6.907386e+02       -9.423789e+02   \n",
       "11        -1117.265848       -8.686049e+02       -7.693640e+02   \n",
       "12           -0.000000       -7.810504e-33       -7.733930e-33   \n",
       "13           -0.123762       -2.889886e-31       -1.701465e-31   \n",
       "14           -0.275028       -1.375138e+00       -7.733930e-33   \n",
       "15           -0.039604       -3.712871e-01       -1.701465e-31   \n",
       "16           -0.275028       -7.810504e-33       -7.733930e-33   \n",
       "17           -0.099010       -2.889886e-31       -1.701465e-31   \n",
       "\n",
       "    split3_train_score  split4_train_score  mean_train_score  std_train_score  \n",
       "0        -1.421797e+03       -1.486908e+03     -1.553952e+03     6.053847e+02  \n",
       "1        -1.020684e+03       -1.867215e+03     -1.125970e+03     4.101426e+02  \n",
       "2        -7.583689e+02       -7.663769e+02     -8.634137e+02     1.285139e+02  \n",
       "3        -1.604670e+03       -1.127482e+03     -1.753685e+03     6.459711e+02  \n",
       "4        -1.166445e+03       -1.317867e+03     -1.008840e+03     2.434026e+02  \n",
       "5        -8.230130e+02       -6.543837e+02     -8.344254e+02     1.159598e+02  \n",
       "6        -9.198590e+02       -1.805422e+03     -1.538077e+03     6.934181e+02  \n",
       "7        -7.236315e+02       -1.726250e+03     -9.544367e+02     3.960392e+02  \n",
       "8        -6.367280e+02       -7.295203e+02     -8.510766e+02     1.826526e+02  \n",
       "9        -1.195239e+03       -1.228856e+03     -1.528195e+03     6.882590e+02  \n",
       "10       -8.887290e+02       -1.541229e+03     -9.675756e+02     2.999100e+02  \n",
       "11       -6.226026e+02       -7.367315e+02     -8.229138e+02     1.668235e+02  \n",
       "12       -7.733930e-33       -7.733930e-33     -6.202459e-33     3.101371e-33  \n",
       "13       -3.248251e-31       -7.843137e-02     -4.043875e-02     5.155995e-02  \n",
       "14       -7.733930e-33       -7.733930e-33     -3.300330e-01     5.332981e-01  \n",
       "15       -3.248251e-31       -2.320179e-31     -8.217822e-02     1.453660e-01  \n",
       "16       -7.733930e-33       -7.733930e-33     -5.500550e-02     1.100110e-01  \n",
       "17       -1.797386e-02       -2.320179e-31     -2.339675e-02     3.844211e-02  \n",
       "\n",
       "[18 rows x 23 columns]"
      ]
     },
     "execution_count": 71,
     "metadata": {},
     "output_type": "execute_result"
    }
   ],
   "source": [
    "pd.DataFrame(cvres)"
   ]
  },
  {
   "cell_type": "code",
   "execution_count": 72,
   "metadata": {},
   "outputs": [
    {
     "name": "stdout",
     "output_type": "stream",
     "text": [
      "74.87195317088992 {'max_features': 2, 'n_estimators': 3}\n",
      "75.5770433376534 {'max_features': 2, 'n_estimators': 10}\n",
      "73.1393357021874 {'max_features': 2, 'n_estimators': 30}\n",
      "90.98392289088981 {'max_features': 4, 'n_estimators': 3}\n",
      "77.98287897915108 {'max_features': 4, 'n_estimators': 10}\n",
      "74.37223026475573 {'max_features': 4, 'n_estimators': 30}\n",
      "93.58663226552935 {'max_features': 6, 'n_estimators': 3}\n",
      "78.43777271168038 {'max_features': 6, 'n_estimators': 10}\n",
      "80.81386287717983 {'max_features': 6, 'n_estimators': 30}\n",
      "86.42604570026685 {'max_features': 8, 'n_estimators': 3}\n",
      "76.93902851839141 {'max_features': 8, 'n_estimators': 10}\n",
      "77.20545887276265 {'max_features': 8, 'n_estimators': 30}\n",
      "82.96178531652983 {'bootstrap': False, 'max_features': 2, 'n_estimators': 3}\n",
      "77.6596962372474 {'bootstrap': False, 'max_features': 2, 'n_estimators': 10}\n",
      "100.34182631061898 {'bootstrap': False, 'max_features': 3, 'n_estimators': 3}\n",
      "85.66264694881266 {'bootstrap': False, 'max_features': 3, 'n_estimators': 10}\n",
      "85.4519071118944 {'bootstrap': False, 'max_features': 4, 'n_estimators': 3}\n",
      "70.82824175464687 {'bootstrap': False, 'max_features': 4, 'n_estimators': 10}\n"
     ]
    }
   ],
   "source": [
    "for score,param in zip(cvres['mean_test_score'],cvres['params']):\n",
    "    print(np.sqrt(-score),param)"
   ]
  },
  {
   "cell_type": "code",
   "execution_count": 73,
   "metadata": {},
   "outputs": [
    {
     "data": {
      "text/plain": [
       "RandomForestRegressor(bootstrap=False, max_features=4, n_estimators=10,\n",
       "                      random_state=42)"
      ]
     },
     "execution_count": 73,
     "metadata": {},
     "output_type": "execute_result"
    }
   ],
   "source": [
    "grid_search.best_estimator_"
   ]
  },
  {
   "cell_type": "code",
   "execution_count": 74,
   "metadata": {},
   "outputs": [
    {
     "data": {
      "text/plain": [
       "{'bootstrap': False, 'max_features': 4, 'n_estimators': 10}"
      ]
     },
     "execution_count": 74,
     "metadata": {},
     "output_type": "execute_result"
    }
   ],
   "source": [
    "grid_search.best_params_"
   ]
  },
  {
   "cell_type": "markdown",
   "metadata": {},
   "source": [
    "## TESTING OUR FINE TUNED BEST MODEL:"
   ]
  },
  {
   "cell_type": "code",
   "execution_count": 75,
   "metadata": {},
   "outputs": [],
   "source": [
    "X_test=strata_test_set.drop(['Weight'],axis=1)"
   ]
  },
  {
   "cell_type": "code",
   "execution_count": 76,
   "metadata": {},
   "outputs": [],
   "source": [
    "Y_test=strata_test_set['Weight']"
   ]
  },
  {
   "cell_type": "code",
   "execution_count": 77,
   "metadata": {},
   "outputs": [],
   "source": [
    "final_model=grid_search.best_estimator_"
   ]
  },
  {
   "cell_type": "code",
   "execution_count": 78,
   "metadata": {},
   "outputs": [],
   "source": [
    "X_test_prepared=full_pipeline.transform(X_test)"
   ]
  },
  {
   "cell_type": "code",
   "execution_count": 79,
   "metadata": {},
   "outputs": [],
   "source": [
    "final_predictions=final_model.predict(X_test_prepared)"
   ]
  },
  {
   "cell_type": "code",
   "execution_count": 80,
   "metadata": {},
   "outputs": [
    {
     "name": "stdout",
     "output_type": "stream",
     "text": [
      "RMSE:\t  62.15230418596723\n"
     ]
    }
   ],
   "source": [
    "print('RMSE:\\t ',np.sqrt(mean_squared_error(Y_test,final_predictions)))"
   ]
  }
 ],
 "metadata": {
  "kernelspec": {
   "display_name": "Python 3",
   "language": "python",
   "name": "python3"
  },
  "language_info": {
   "codemirror_mode": {
    "name": "ipython",
    "version": 3
   },
   "file_extension": ".py",
   "mimetype": "text/x-python",
   "name": "python",
   "nbconvert_exporter": "python",
   "pygments_lexer": "ipython3",
   "version": "3.7.9"
  }
 },
 "nbformat": 4,
 "nbformat_minor": 4
}
