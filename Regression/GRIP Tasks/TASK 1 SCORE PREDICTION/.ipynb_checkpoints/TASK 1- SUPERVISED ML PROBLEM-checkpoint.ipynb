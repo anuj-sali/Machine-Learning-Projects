{
 "cells": [
  {
   "cell_type": "markdown",
   "metadata": {},
   "source": [
    "# IMPORTING NECCESSARY PYTHON LIBRARIES:"
   ]
  },
  {
   "cell_type": "code",
   "execution_count": 1,
   "metadata": {},
   "outputs": [],
   "source": [
    "import numpy as np\n",
    "import pandas as pd\n",
    "import matplotlib.pyplot as plt\n",
    "import seaborn as sns\n",
    "%matplotlib inline\n",
    "import warnings\n",
    "warnings.filterwarnings('ignore')"
   ]
  },
  {
   "cell_type": "markdown",
   "metadata": {},
   "source": [
    "# GET THE DATA:"
   ]
  },
  {
   "cell_type": "code",
   "execution_count": 2,
   "metadata": {},
   "outputs": [],
   "source": [
    "df=pd.read_csv('task1.csv')"
   ]
  },
  {
   "cell_type": "code",
   "execution_count": 3,
   "metadata": {},
   "outputs": [
    {
     "data": {
      "text/html": [
       "<div>\n",
       "<style scoped>\n",
       "    .dataframe tbody tr th:only-of-type {\n",
       "        vertical-align: middle;\n",
       "    }\n",
       "\n",
       "    .dataframe tbody tr th {\n",
       "        vertical-align: top;\n",
       "    }\n",
       "\n",
       "    .dataframe thead th {\n",
       "        text-align: right;\n",
       "    }\n",
       "</style>\n",
       "<table border=\"1\" class=\"dataframe\">\n",
       "  <thead>\n",
       "    <tr style=\"text-align: right;\">\n",
       "      <th></th>\n",
       "      <th>Hours</th>\n",
       "      <th>Scores</th>\n",
       "    </tr>\n",
       "  </thead>\n",
       "  <tbody>\n",
       "    <tr>\n",
       "      <th>0</th>\n",
       "      <td>2.5</td>\n",
       "      <td>21</td>\n",
       "    </tr>\n",
       "    <tr>\n",
       "      <th>1</th>\n",
       "      <td>5.1</td>\n",
       "      <td>47</td>\n",
       "    </tr>\n",
       "    <tr>\n",
       "      <th>2</th>\n",
       "      <td>3.2</td>\n",
       "      <td>27</td>\n",
       "    </tr>\n",
       "    <tr>\n",
       "      <th>3</th>\n",
       "      <td>8.5</td>\n",
       "      <td>75</td>\n",
       "    </tr>\n",
       "    <tr>\n",
       "      <th>4</th>\n",
       "      <td>3.5</td>\n",
       "      <td>30</td>\n",
       "    </tr>\n",
       "    <tr>\n",
       "      <th>5</th>\n",
       "      <td>1.5</td>\n",
       "      <td>20</td>\n",
       "    </tr>\n",
       "    <tr>\n",
       "      <th>6</th>\n",
       "      <td>9.2</td>\n",
       "      <td>88</td>\n",
       "    </tr>\n",
       "    <tr>\n",
       "      <th>7</th>\n",
       "      <td>5.5</td>\n",
       "      <td>60</td>\n",
       "    </tr>\n",
       "    <tr>\n",
       "      <th>8</th>\n",
       "      <td>8.3</td>\n",
       "      <td>81</td>\n",
       "    </tr>\n",
       "    <tr>\n",
       "      <th>9</th>\n",
       "      <td>2.7</td>\n",
       "      <td>25</td>\n",
       "    </tr>\n",
       "    <tr>\n",
       "      <th>10</th>\n",
       "      <td>7.7</td>\n",
       "      <td>85</td>\n",
       "    </tr>\n",
       "    <tr>\n",
       "      <th>11</th>\n",
       "      <td>5.9</td>\n",
       "      <td>62</td>\n",
       "    </tr>\n",
       "    <tr>\n",
       "      <th>12</th>\n",
       "      <td>4.5</td>\n",
       "      <td>41</td>\n",
       "    </tr>\n",
       "    <tr>\n",
       "      <th>13</th>\n",
       "      <td>3.3</td>\n",
       "      <td>42</td>\n",
       "    </tr>\n",
       "    <tr>\n",
       "      <th>14</th>\n",
       "      <td>1.1</td>\n",
       "      <td>17</td>\n",
       "    </tr>\n",
       "    <tr>\n",
       "      <th>15</th>\n",
       "      <td>8.9</td>\n",
       "      <td>95</td>\n",
       "    </tr>\n",
       "    <tr>\n",
       "      <th>16</th>\n",
       "      <td>2.5</td>\n",
       "      <td>30</td>\n",
       "    </tr>\n",
       "    <tr>\n",
       "      <th>17</th>\n",
       "      <td>1.9</td>\n",
       "      <td>24</td>\n",
       "    </tr>\n",
       "    <tr>\n",
       "      <th>18</th>\n",
       "      <td>6.1</td>\n",
       "      <td>67</td>\n",
       "    </tr>\n",
       "    <tr>\n",
       "      <th>19</th>\n",
       "      <td>7.4</td>\n",
       "      <td>69</td>\n",
       "    </tr>\n",
       "    <tr>\n",
       "      <th>20</th>\n",
       "      <td>2.7</td>\n",
       "      <td>30</td>\n",
       "    </tr>\n",
       "    <tr>\n",
       "      <th>21</th>\n",
       "      <td>4.8</td>\n",
       "      <td>54</td>\n",
       "    </tr>\n",
       "    <tr>\n",
       "      <th>22</th>\n",
       "      <td>3.8</td>\n",
       "      <td>35</td>\n",
       "    </tr>\n",
       "    <tr>\n",
       "      <th>23</th>\n",
       "      <td>6.9</td>\n",
       "      <td>76</td>\n",
       "    </tr>\n",
       "    <tr>\n",
       "      <th>24</th>\n",
       "      <td>7.8</td>\n",
       "      <td>86</td>\n",
       "    </tr>\n",
       "  </tbody>\n",
       "</table>\n",
       "</div>"
      ],
      "text/plain": [
       "    Hours  Scores\n",
       "0     2.5      21\n",
       "1     5.1      47\n",
       "2     3.2      27\n",
       "3     8.5      75\n",
       "4     3.5      30\n",
       "5     1.5      20\n",
       "6     9.2      88\n",
       "7     5.5      60\n",
       "8     8.3      81\n",
       "9     2.7      25\n",
       "10    7.7      85\n",
       "11    5.9      62\n",
       "12    4.5      41\n",
       "13    3.3      42\n",
       "14    1.1      17\n",
       "15    8.9      95\n",
       "16    2.5      30\n",
       "17    1.9      24\n",
       "18    6.1      67\n",
       "19    7.4      69\n",
       "20    2.7      30\n",
       "21    4.8      54\n",
       "22    3.8      35\n",
       "23    6.9      76\n",
       "24    7.8      86"
      ]
     },
     "execution_count": 3,
     "metadata": {},
     "output_type": "execute_result"
    }
   ],
   "source": [
    "df"
   ]
  },
  {
   "cell_type": "code",
   "execution_count": 4,
   "metadata": {
    "scrolled": true
   },
   "outputs": [
    {
     "data": {
      "text/html": [
       "<div>\n",
       "<style scoped>\n",
       "    .dataframe tbody tr th:only-of-type {\n",
       "        vertical-align: middle;\n",
       "    }\n",
       "\n",
       "    .dataframe tbody tr th {\n",
       "        vertical-align: top;\n",
       "    }\n",
       "\n",
       "    .dataframe thead th {\n",
       "        text-align: right;\n",
       "    }\n",
       "</style>\n",
       "<table border=\"1\" class=\"dataframe\">\n",
       "  <thead>\n",
       "    <tr style=\"text-align: right;\">\n",
       "      <th></th>\n",
       "      <th>Hours</th>\n",
       "      <th>Scores</th>\n",
       "    </tr>\n",
       "  </thead>\n",
       "  <tbody>\n",
       "    <tr>\n",
       "      <th>0</th>\n",
       "      <td>2.5</td>\n",
       "      <td>21</td>\n",
       "    </tr>\n",
       "    <tr>\n",
       "      <th>1</th>\n",
       "      <td>5.1</td>\n",
       "      <td>47</td>\n",
       "    </tr>\n",
       "    <tr>\n",
       "      <th>2</th>\n",
       "      <td>3.2</td>\n",
       "      <td>27</td>\n",
       "    </tr>\n",
       "    <tr>\n",
       "      <th>3</th>\n",
       "      <td>8.5</td>\n",
       "      <td>75</td>\n",
       "    </tr>\n",
       "    <tr>\n",
       "      <th>4</th>\n",
       "      <td>3.5</td>\n",
       "      <td>30</td>\n",
       "    </tr>\n",
       "  </tbody>\n",
       "</table>\n",
       "</div>"
      ],
      "text/plain": [
       "   Hours  Scores\n",
       "0    2.5      21\n",
       "1    5.1      47\n",
       "2    3.2      27\n",
       "3    8.5      75\n",
       "4    3.5      30"
      ]
     },
     "execution_count": 4,
     "metadata": {},
     "output_type": "execute_result"
    }
   ],
   "source": [
    "df.head()"
   ]
  },
  {
   "cell_type": "code",
   "execution_count": 5,
   "metadata": {},
   "outputs": [
    {
     "name": "stdout",
     "output_type": "stream",
     "text": [
      "<class 'pandas.core.frame.DataFrame'>\n",
      "RangeIndex: 25 entries, 0 to 24\n",
      "Data columns (total 2 columns):\n",
      " #   Column  Non-Null Count  Dtype  \n",
      "---  ------  --------------  -----  \n",
      " 0   Hours   25 non-null     float64\n",
      " 1   Scores  25 non-null     int64  \n",
      "dtypes: float64(1), int64(1)\n",
      "memory usage: 528.0 bytes\n"
     ]
    }
   ],
   "source": [
    "df.info()"
   ]
  },
  {
   "cell_type": "code",
   "execution_count": 6,
   "metadata": {},
   "outputs": [
    {
     "data": {
      "text/html": [
       "<div>\n",
       "<style scoped>\n",
       "    .dataframe tbody tr th:only-of-type {\n",
       "        vertical-align: middle;\n",
       "    }\n",
       "\n",
       "    .dataframe tbody tr th {\n",
       "        vertical-align: top;\n",
       "    }\n",
       "\n",
       "    .dataframe thead th {\n",
       "        text-align: right;\n",
       "    }\n",
       "</style>\n",
       "<table border=\"1\" class=\"dataframe\">\n",
       "  <thead>\n",
       "    <tr style=\"text-align: right;\">\n",
       "      <th></th>\n",
       "      <th>Hours</th>\n",
       "      <th>Scores</th>\n",
       "    </tr>\n",
       "  </thead>\n",
       "  <tbody>\n",
       "    <tr>\n",
       "      <th>count</th>\n",
       "      <td>25.000000</td>\n",
       "      <td>25.000000</td>\n",
       "    </tr>\n",
       "    <tr>\n",
       "      <th>mean</th>\n",
       "      <td>5.012000</td>\n",
       "      <td>51.480000</td>\n",
       "    </tr>\n",
       "    <tr>\n",
       "      <th>std</th>\n",
       "      <td>2.525094</td>\n",
       "      <td>25.286887</td>\n",
       "    </tr>\n",
       "    <tr>\n",
       "      <th>min</th>\n",
       "      <td>1.100000</td>\n",
       "      <td>17.000000</td>\n",
       "    </tr>\n",
       "    <tr>\n",
       "      <th>25%</th>\n",
       "      <td>2.700000</td>\n",
       "      <td>30.000000</td>\n",
       "    </tr>\n",
       "    <tr>\n",
       "      <th>50%</th>\n",
       "      <td>4.800000</td>\n",
       "      <td>47.000000</td>\n",
       "    </tr>\n",
       "    <tr>\n",
       "      <th>75%</th>\n",
       "      <td>7.400000</td>\n",
       "      <td>75.000000</td>\n",
       "    </tr>\n",
       "    <tr>\n",
       "      <th>max</th>\n",
       "      <td>9.200000</td>\n",
       "      <td>95.000000</td>\n",
       "    </tr>\n",
       "  </tbody>\n",
       "</table>\n",
       "</div>"
      ],
      "text/plain": [
       "           Hours     Scores\n",
       "count  25.000000  25.000000\n",
       "mean    5.012000  51.480000\n",
       "std     2.525094  25.286887\n",
       "min     1.100000  17.000000\n",
       "25%     2.700000  30.000000\n",
       "50%     4.800000  47.000000\n",
       "75%     7.400000  75.000000\n",
       "max     9.200000  95.000000"
      ]
     },
     "execution_count": 6,
     "metadata": {},
     "output_type": "execute_result"
    }
   ],
   "source": [
    "df.describe()"
   ]
  },
  {
   "cell_type": "markdown",
   "metadata": {},
   "source": [
    "# KNOW THE INITIAL DATA INSIGHTS: PLOTTING A HISTOGRAM"
   ]
  },
  {
   "cell_type": "code",
   "execution_count": 7,
   "metadata": {},
   "outputs": [
    {
     "data": {
      "text/plain": [
       "array([[<AxesSubplot:title={'center':'Hours'}>,\n",
       "        <AxesSubplot:title={'center':'Scores'}>]], dtype=object)"
      ]
     },
     "execution_count": 7,
     "metadata": {},
     "output_type": "execute_result"
    },
    {
     "data": {
      "image/png": "[encoded data removed]",
      "text/plain": [
       "<Figure size 2160x1080 with 2 Axes>"
      ]
     },
     "metadata": {
      "needs_background": "light"
     },
     "output_type": "display_data"
    }
   ],
   "source": [
    "df.hist(bins=50,figsize=(30,15))"
   ]
  },
  {
   "cell_type": "code",
   "execution_count": 8,
   "metadata": {},
   "outputs": [],
   "source": [
    "#Looking at x axis: hours range from 1.1 to 9.2\n",
    "#whereas scores range from 17 to 95\n",
    "#Lets scale the data so as to minimize the error due to this significant range difference."
   ]
  },
  {
   "cell_type": "markdown",
   "metadata": {},
   "source": [
    "# DIVISION OF DATA SET INTO TRAIN AND TEST SET:"
   ]
  },
  {
   "cell_type": "code",
   "execution_count": 9,
   "metadata": {},
   "outputs": [],
   "source": [
    "from sklearn.model_selection import train_test_split"
   ]
  },
  {
   "cell_type": "code",
   "execution_count": 10,
   "metadata": {},
   "outputs": [
    {
     "name": "stdout",
     "output_type": "stream",
     "text": [
      "Train Set:\n",
      "    Hours  Scores\n",
      "22    3.8      35\n",
      "17    1.9      24\n",
      "24    7.8      86\n",
      "23    6.9      76\n",
      "14    1.1      17\n",
      "1     5.1      47\n",
      "10    7.7      85\n",
      "13    3.3      42\n",
      "8     8.3      81\n",
      "6     9.2      88\n",
      "18    6.1      67\n",
      "4     3.5      30\n",
      "9     2.7      25\n",
      "7     5.5      60\n",
      "20    2.7      30\n",
      "3     8.5      75\n",
      "0     2.5      21\n",
      "21    4.8      54\n",
      "15    8.9      95\n",
      "12    4.5      41\n",
      "         Test Set:\n",
      "    Hours  Scores\n",
      "5     1.5      20\n",
      "2     3.2      27\n",
      "19    7.4      69\n",
      "16    2.5      30\n",
      "11    5.9      62\n"
     ]
    }
   ],
   "source": [
    "train_set,test_set=train_test_split(df,test_size=0.2,random_state=0)\n",
    "print('''Train Set:\\n{}\n",
    "         Test Set:\\n{}'''.format(train_set,test_set))"
   ]
  },
  {
   "cell_type": "markdown",
   "metadata": {},
   "source": [
    "# Basic Exploratory Data Analysis:"
   ]
  },
  {
   "cell_type": "code",
   "execution_count": 11,
   "metadata": {},
   "outputs": [],
   "source": [
    "df1=train_set.copy()"
   ]
  },
  {
   "cell_type": "code",
   "execution_count": 12,
   "metadata": {},
   "outputs": [
    {
     "data": {
      "text/plain": [
       "<seaborn.axisgrid.PairGrid at 0x1bd7bb4b948>"
      ]
     },
     "execution_count": 12,
     "metadata": {},
     "output_type": "execute_result"
    },
    {
     "data": {
      "image/png": "[encoded data removed]",
      "text/plain": [
       "<Figure size 360x360 with 6 Axes>"
      ]
     },
     "metadata": {
      "needs_background": "light"
     },
     "output_type": "display_data"
    }
   ],
   "source": [
    "sns.pairplot(df1)"
   ]
  },
  {
   "cell_type": "code",
   "execution_count": 13,
   "metadata": {},
   "outputs": [],
   "source": [
    "#As we can see, a linear relationship is present between no. of hours and scores which is logically correct :)\n",
    "# We can also one major insight that Linear Regression model will work good on this specific data."
   ]
  },
  {
   "cell_type": "markdown",
   "metadata": {},
   "source": [
    "# DATA PREPARATION FOR TRAINING OF ML MODEL:"
   ]
  },
  {
   "cell_type": "code",
   "execution_count": 14,
   "metadata": {},
   "outputs": [],
   "source": [
    "X_train,y_train=df1[['Hours']],df1[['Scores']]               #DOUBLE BRACKETS INDICATE 2D ARRAY WHICH SKLEARN MODEL TAKES."
   ]
  },
  {
   "cell_type": "code",
   "execution_count": 15,
   "metadata": {},
   "outputs": [],
   "source": [
    "from sklearn.preprocessing import StandardScaler       #We have already talked about it. We need to scale hours and scores\n",
    "scaler=StandardScaler()                                #to reduce error\n",
    "X_train_scaled=scaler.fit_transform(X_train)\n"
   ]
  },
  {
   "cell_type": "markdown",
   "metadata": {},
   "source": [
    "# SELECTING & TRAINING OUR ML MODEL:"
   ]
  },
  {
   "cell_type": "code",
   "execution_count": 16,
   "metadata": {},
   "outputs": [],
   "source": [
    "#Since already mentioned lets first try to fit linear regrssion on our training set:\n",
    "#Lets import mean_absolute_error,mean_squared_error to calculate Root Mean Square:"
   ]
  },
  {
   "cell_type": "code",
   "execution_count": 17,
   "metadata": {},
   "outputs": [],
   "source": [
    "from sklearn.linear_model import LinearRegression\n",
    "from sklearn.metrics import mean_absolute_error,mean_squared_error"
   ]
  },
  {
   "cell_type": "code",
   "execution_count": 18,
   "metadata": {},
   "outputs": [],
   "source": [
    "lin_reg=LinearRegression()"
   ]
  },
  {
   "cell_type": "code",
   "execution_count": 20,
   "metadata": {},
   "outputs": [
    {
     "data": {
      "text/plain": [
       "LinearRegression()"
      ]
     },
     "execution_count": 20,
     "metadata": {},
     "output_type": "execute_result"
    }
   ],
   "source": [
    "lin_reg.fit(X_train_scaled,y_train)"
   ]
  },
  {
   "cell_type": "code",
   "execution_count": 21,
   "metadata": {},
   "outputs": [
    {
     "data": {
      "text/plain": [
       "array([[86.25874013]])"
      ]
     },
     "execution_count": 21,
     "metadata": {},
     "output_type": "execute_result"
    }
   ],
   "source": [
    "some_hour=X_train.iloc[[-5]]\n",
    "some_score=y_train.iloc[[-5]]\n",
    "some_hour_scaled=scaler.transform(some_hour)\n",
    "lin_reg.predict(some_hour_scaled)"
   ]
  },
  {
   "cell_type": "code",
   "execution_count": 22,
   "metadata": {},
   "outputs": [
    {
     "data": {
      "text/html": [
       "<div>\n",
       "<style scoped>\n",
       "    .dataframe tbody tr th:only-of-type {\n",
       "        vertical-align: middle;\n",
       "    }\n",
       "\n",
       "    .dataframe tbody tr th {\n",
       "        vertical-align: top;\n",
       "    }\n",
       "\n",
       "    .dataframe thead th {\n",
       "        text-align: right;\n",
       "    }\n",
       "</style>\n",
       "<table border=\"1\" class=\"dataframe\">\n",
       "  <thead>\n",
       "    <tr style=\"text-align: right;\">\n",
       "      <th></th>\n",
       "      <th>Scores</th>\n",
       "    </tr>\n",
       "  </thead>\n",
       "  <tbody>\n",
       "    <tr>\n",
       "      <th>3</th>\n",
       "      <td>75</td>\n",
       "    </tr>\n",
       "  </tbody>\n",
       "</table>\n",
       "</div>"
      ],
      "text/plain": [
       "   Scores\n",
       "3      75"
      ]
     },
     "execution_count": 22,
     "metadata": {},
     "output_type": "execute_result"
    }
   ],
   "source": [
    "some_score"
   ]
  },
  {
   "cell_type": "code",
   "execution_count": 23,
   "metadata": {},
   "outputs": [],
   "source": [
    "y_pred=lin_reg.predict((X_train_scaled))"
   ]
  },
  {
   "cell_type": "code",
   "execution_count": 24,
   "metadata": {},
   "outputs": [
    {
     "name": "stdout",
     "output_type": "stream",
     "text": [
      "MAE:\t:5.18660170918037\n",
      "RMSE:\t 5.5586133502263415\n"
     ]
    }
   ],
   "source": [
    "print('''MAE:\\t:{}\\nRMSE:\\t {}'''.format(mean_absolute_error(y_train,y_pred),np.sqrt(mean_squared_error(y_train,y_pred))))"
   ]
  },
  {
   "cell_type": "code",
   "execution_count": 25,
   "metadata": {},
   "outputs": [],
   "source": [
    "#Lets go a step further and train our linear regression model using cross validation:"
   ]
  },
  {
   "cell_type": "code",
   "execution_count": 26,
   "metadata": {},
   "outputs": [
    {
     "name": "stdout",
     "output_type": "stream",
     "text": [
      "RMSE:\t[5.80272632 6.61255747 5.71501951 6.83521614 5.82350259]\n",
      "Mean:\t:6.157804405423847\n",
      "Standard Deviation:\t0.4689527931487401\n"
     ]
    }
   ],
   "source": [
    "from sklearn.model_selection import cross_val_score\n",
    "scores_lin=cross_val_score(lin_reg,X_train_scaled,y_train,cv=5,scoring='neg_mean_squared_error')\n",
    "lin_rmse=np.sqrt(-scores_lin)\n",
    "print('''RMSE:\\t{}\\nMean:\\t:{}\\nStandard Deviation:\\t{}'''.format(lin_rmse,lin_rmse.mean(),lin_rmse.std()))"
   ]
  },
  {
   "cell_type": "code",
   "execution_count": 27,
   "metadata": {},
   "outputs": [
    {
     "data": {
      "text/plain": [
       "DecisionTreeRegressor()"
      ]
     },
     "execution_count": 27,
     "metadata": {},
     "output_type": "execute_result"
    }
   ],
   "source": [
    "#Lets select a more powerful model: DecisionTreeRegressor:\n",
    "from sklearn.tree import DecisionTreeRegressor\n",
    "tree_reg=DecisionTreeRegressor()\n",
    "tree_reg.fit(X_train_scaled,y_train)"
   ]
  },
  {
   "cell_type": "code",
   "execution_count": 28,
   "metadata": {},
   "outputs": [],
   "source": [
    "y_pred_tree=tree_reg.predict(X_train_scaled)"
   ]
  },
  {
   "cell_type": "code",
   "execution_count": 29,
   "metadata": {},
   "outputs": [
    {
     "name": "stdout",
     "output_type": "stream",
     "text": [
      "MAE:\t:0.25\n",
      "RMSE:\t 0.7905694150420949\n"
     ]
    }
   ],
   "source": [
    "print('''MAE:\\t:{}\\nRMSE:\\t {}'''.format(mean_absolute_error(y_train,y_pred_tree),np.sqrt(mean_squared_error(y_train,y_pred_tree))))"
   ]
  },
  {
   "cell_type": "code",
   "execution_count": 30,
   "metadata": {},
   "outputs": [],
   "source": [
    "#See RMSE has gone too low. This is a case of overfitting the training data.\n",
    "#Decision trees work by fitting multi order polynomial model on data, this is common :)\n",
    "#Lets cross validate this model to get better insights:"
   ]
  },
  {
   "cell_type": "code",
   "execution_count": 31,
   "metadata": {},
   "outputs": [
    {
     "name": "stdout",
     "output_type": "stream",
     "text": [
      "RMSE:\t[5.38516481 7.79422863 8.336666   8.6890736  6.63795902]\n",
      "Mean:\t:7.36861841272565\n",
      "Standard Deviation:\t1.2107694609794777\n"
     ]
    }
   ],
   "source": [
    "scores_tree=cross_val_score(tree_reg,X_train_scaled,y_train,cv=5,scoring='neg_mean_squared_error')\n",
    "tree_rmse=np.sqrt(-scores_tree)\n",
    "print('''RMSE:\\t{}\\nMean:\\t:{}\\nStandard Deviation:\\t{}'''.format(tree_rmse,tree_rmse.mean(),tree_rmse.std()))"
   ]
  },
  {
   "cell_type": "code",
   "execution_count": 32,
   "metadata": {},
   "outputs": [],
   "source": [
    "#See its performing worse than Cross-validated Linear Regression model.\n",
    "#Lets import my favourite model : RandomForestRegressor!\n",
    "#RandomForestRegressor works on the concept that it train many decision trees on various subsets of features."
   ]
  },
  {
   "cell_type": "code",
   "execution_count": 33,
   "metadata": {},
   "outputs": [
    {
     "data": {
      "text/plain": [
       "RandomForestRegressor(random_state=0)"
      ]
     },
     "execution_count": 33,
     "metadata": {},
     "output_type": "execute_result"
    }
   ],
   "source": [
    "from sklearn.ensemble import RandomForestRegressor\n",
    "rf_reg=RandomForestRegressor(random_state=0)            #This is important since we want reproducible output and random_state\n",
    "rf_reg.fit(X_train_scaled,y_train)                                                        #is by default false"
   ]
  },
  {
   "cell_type": "code",
   "execution_count": 34,
   "metadata": {},
   "outputs": [
    {
     "name": "stdout",
     "output_type": "stream",
     "text": [
      "MAE:\t:2.157791666666667\n",
      "RMSE:\t 2.4136173937911347\n"
     ]
    }
   ],
   "source": [
    "y_pred_rf=rf_reg.predict(X_train_scaled)\n",
    "print('''MAE:\\t:{}\\nRMSE:\\t {}'''.format(mean_absolute_error(y_train,y_pred_rf),np.sqrt(mean_squared_error(y_train,y_pred_rf))))"
   ]
  },
  {
   "cell_type": "code",
   "execution_count": 35,
   "metadata": {},
   "outputs": [
    {
     "name": "stdout",
     "output_type": "stream",
     "text": [
      "RMSE:\t[3.23362456 7.57193972 5.44946559 6.24767557 6.91568428]\n",
      "Mean:\t:5.883677943012677\n",
      "Standard Deviation:\t1.5006053784373181\n"
     ]
    }
   ],
   "source": [
    "#This is lesser than that of both linear regressor and decision tree regressor\n",
    "#Lets cross_validate it:\n",
    "scores_rf=cross_val_score(rf_reg,X_train_scaled,y_train,cv=5,scoring='neg_mean_squared_error')\n",
    "rf_rmse=np.sqrt(-scores_rf)\n",
    "print('''RMSE:\\t{}\\nMean:\\t:{}\\nStandard Deviation:\\t{}'''.format(rf_rmse,rf_rmse.mean(),rf_rmse.std()))"
   ]
  },
  {
   "cell_type": "code",
   "execution_count": 36,
   "metadata": {},
   "outputs": [],
   "source": [
    "#It looks better than cross-validated decision tree model(mean:7.37)"
   ]
  },
  {
   "cell_type": "markdown",
   "metadata": {},
   "source": [
    "# FINE TUNING OUR BEST MODEL:"
   ]
  },
  {
   "cell_type": "code",
   "execution_count": 37,
   "metadata": {},
   "outputs": [],
   "source": [
    "#Our final step in making more best model more perfect is HYPERPARAMETER TUNING:\n",
    "#Hyperparameters are the performance parameters of the model. So, optimizing the hyperparameters is to optimize the performance\n",
    "#improving accuracy and getting low generalization error when unseen data is shown to our model."
   ]
  },
  {
   "cell_type": "code",
   "execution_count": 38,
   "metadata": {},
   "outputs": [],
   "source": [
    "#Lets import RandomizedSearchCV to see which are optimized hyperparamters\n",
    "#And then choosing 'em in GridSearchCV"
   ]
  },
  {
   "cell_type": "code",
   "execution_count": 39,
   "metadata": {},
   "outputs": [
    {
     "data": {
      "text/plain": [
       "RandomizedSearchCV(cv=5, estimator=RandomForestRegressor(random_state=0),\n",
       "                   param_distributions={'n_estimators': <scipy.stats._distn_infrastructure.rv_frozen object at 0x000001BD7F0BC188>},\n",
       "                   random_state=0, return_train_score=True,\n",
       "                   scoring='neg_mean_squared_error')"
      ]
     },
     "execution_count": 39,
     "metadata": {},
     "output_type": "execute_result"
    }
   ],
   "source": [
    "from sklearn.model_selection import RandomizedSearchCV,GridSearchCV\n",
    "from scipy.stats import randint            #for generating random numbers between low and high\n",
    "param_distributribs={'n_estimators' : randint(low=1,high=500)}\n",
    "random=RandomizedSearchCV(rf_reg,param_distributions=param_distributribs,n_iter=10,cv=5,scoring='neg_mean_squared_error',random_state=0,return_train_score=True)\n",
    "random.fit(X_train_scaled,y_train)"
   ]
  },
  {
   "cell_type": "code",
   "execution_count": 40,
   "metadata": {},
   "outputs": [],
   "source": [
    "cv_res=pd.DataFrame(random.cv_results_)"
   ]
  },
  {
   "cell_type": "code",
   "execution_count": 41,
   "metadata": {},
   "outputs": [
    {
     "data": {
      "text/html": [
       "<div>\n",
       "<style scoped>\n",
       "    .dataframe tbody tr th:only-of-type {\n",
       "        vertical-align: middle;\n",
       "    }\n",
       "\n",
       "    .dataframe tbody tr th {\n",
       "        vertical-align: top;\n",
       "    }\n",
       "\n",
       "    .dataframe thead th {\n",
       "        text-align: right;\n",
       "    }\n",
       "</style>\n",
       "<table border=\"1\" class=\"dataframe\">\n",
       "  <thead>\n",
       "    <tr style=\"text-align: right;\">\n",
       "      <th></th>\n",
       "      <th>mean_fit_time</th>\n",
       "      <th>std_fit_time</th>\n",
       "      <th>mean_score_time</th>\n",
       "      <th>std_score_time</th>\n",
       "      <th>param_n_estimators</th>\n",
       "      <th>params</th>\n",
       "      <th>split0_test_score</th>\n",
       "      <th>split1_test_score</th>\n",
       "      <th>split2_test_score</th>\n",
       "      <th>split3_test_score</th>\n",
       "      <th>...</th>\n",
       "      <th>mean_test_score</th>\n",
       "      <th>std_test_score</th>\n",
       "      <th>rank_test_score</th>\n",
       "      <th>split0_train_score</th>\n",
       "      <th>split1_train_score</th>\n",
       "      <th>split2_train_score</th>\n",
       "      <th>split3_train_score</th>\n",
       "      <th>split4_train_score</th>\n",
       "      <th>mean_train_score</th>\n",
       "      <th>std_train_score</th>\n",
       "    </tr>\n",
       "  </thead>\n",
       "  <tbody>\n",
       "    <tr>\n",
       "      <th>0</th>\n",
       "      <td>0.162043</td>\n",
       "      <td>0.025340</td>\n",
       "      <td>0.013209</td>\n",
       "      <td>0.004362</td>\n",
       "      <td>173</td>\n",
       "      <td>{'n_estimators': 173}</td>\n",
       "      <td>-9.044266</td>\n",
       "      <td>-56.227312</td>\n",
       "      <td>-28.251462</td>\n",
       "      <td>-44.230955</td>\n",
       "      <td>...</td>\n",
       "      <td>-36.608611</td>\n",
       "      <td>16.419372</td>\n",
       "      <td>7</td>\n",
       "      <td>-8.695094</td>\n",
       "      <td>-5.319815</td>\n",
       "      <td>-9.897626</td>\n",
       "      <td>-5.706401</td>\n",
       "      <td>-6.386198</td>\n",
       "      <td>-7.201027</td>\n",
       "      <td>1.785536</td>\n",
       "    </tr>\n",
       "    <tr>\n",
       "      <th>1</th>\n",
       "      <td>0.057084</td>\n",
       "      <td>0.016702</td>\n",
       "      <td>0.005112</td>\n",
       "      <td>0.003592</td>\n",
       "      <td>48</td>\n",
       "      <td>{'n_estimators': 48}</td>\n",
       "      <td>-10.446308</td>\n",
       "      <td>-57.166697</td>\n",
       "      <td>-28.655518</td>\n",
       "      <td>-40.285807</td>\n",
       "      <td>...</td>\n",
       "      <td>-36.218882</td>\n",
       "      <td>15.786217</td>\n",
       "      <td>3</td>\n",
       "      <td>-10.107229</td>\n",
       "      <td>-5.711869</td>\n",
       "      <td>-10.765850</td>\n",
       "      <td>-6.649821</td>\n",
       "      <td>-6.850799</td>\n",
       "      <td>-8.017114</td>\n",
       "      <td>2.023268</td>\n",
       "    </tr>\n",
       "    <tr>\n",
       "      <th>2</th>\n",
       "      <td>0.094913</td>\n",
       "      <td>0.008590</td>\n",
       "      <td>0.012502</td>\n",
       "      <td>0.006251</td>\n",
       "      <td>118</td>\n",
       "      <td>{'n_estimators': 118}</td>\n",
       "      <td>-10.157462</td>\n",
       "      <td>-56.371000</td>\n",
       "      <td>-28.569649</td>\n",
       "      <td>-39.851031</td>\n",
       "      <td>...</td>\n",
       "      <td>-36.318208</td>\n",
       "      <td>15.909737</td>\n",
       "      <td>4</td>\n",
       "      <td>-9.363348</td>\n",
       "      <td>-5.413532</td>\n",
       "      <td>-10.031900</td>\n",
       "      <td>-5.634848</td>\n",
       "      <td>-6.482076</td>\n",
       "      <td>-7.385141</td>\n",
       "      <td>1.933128</td>\n",
       "    </tr>\n",
       "    <tr>\n",
       "      <th>3</th>\n",
       "      <td>0.170498</td>\n",
       "      <td>0.017842</td>\n",
       "      <td>0.009453</td>\n",
       "      <td>0.007720</td>\n",
       "      <td>193</td>\n",
       "      <td>{'n_estimators': 193}</td>\n",
       "      <td>-9.597490</td>\n",
       "      <td>-56.112944</td>\n",
       "      <td>-28.706028</td>\n",
       "      <td>-43.731442</td>\n",
       "      <td>...</td>\n",
       "      <td>-36.319328</td>\n",
       "      <td>15.934705</td>\n",
       "      <td>5</td>\n",
       "      <td>-8.680691</td>\n",
       "      <td>-5.375692</td>\n",
       "      <td>-9.814168</td>\n",
       "      <td>-5.663256</td>\n",
       "      <td>-6.477463</td>\n",
       "      <td>-7.202254</td>\n",
       "      <td>1.745740</td>\n",
       "    </tr>\n",
       "    <tr>\n",
       "      <th>4</th>\n",
       "      <td>0.264862</td>\n",
       "      <td>0.002885</td>\n",
       "      <td>0.017675</td>\n",
       "      <td>0.003734</td>\n",
       "      <td>324</td>\n",
       "      <td>{'n_estimators': 324}</td>\n",
       "      <td>-10.288264</td>\n",
       "      <td>-55.908381</td>\n",
       "      <td>-27.269700</td>\n",
       "      <td>-43.206683</td>\n",
       "      <td>...</td>\n",
       "      <td>-36.480204</td>\n",
       "      <td>15.994201</td>\n",
       "      <td>6</td>\n",
       "      <td>-8.425419</td>\n",
       "      <td>-4.765895</td>\n",
       "      <td>-9.733499</td>\n",
       "      <td>-5.525123</td>\n",
       "      <td>-6.454190</td>\n",
       "      <td>-6.980825</td>\n",
       "      <td>1.842085</td>\n",
       "    </tr>\n",
       "    <tr>\n",
       "      <th>5</th>\n",
       "      <td>0.205064</td>\n",
       "      <td>0.007097</td>\n",
       "      <td>0.012085</td>\n",
       "      <td>0.003514</td>\n",
       "      <td>252</td>\n",
       "      <td>{'n_estimators': 252}</td>\n",
       "      <td>-10.472472</td>\n",
       "      <td>-56.669001</td>\n",
       "      <td>-27.778414</td>\n",
       "      <td>-43.395896</td>\n",
       "      <td>...</td>\n",
       "      <td>-36.848177</td>\n",
       "      <td>16.100104</td>\n",
       "      <td>9</td>\n",
       "      <td>-8.511471</td>\n",
       "      <td>-4.986956</td>\n",
       "      <td>-9.716744</td>\n",
       "      <td>-5.630361</td>\n",
       "      <td>-6.349219</td>\n",
       "      <td>-7.038950</td>\n",
       "      <td>1.789381</td>\n",
       "    </tr>\n",
       "    <tr>\n",
       "      <th>6</th>\n",
       "      <td>0.167594</td>\n",
       "      <td>0.017037</td>\n",
       "      <td>0.011211</td>\n",
       "      <td>0.003911</td>\n",
       "      <td>196</td>\n",
       "      <td>{'n_estimators': 196}</td>\n",
       "      <td>-9.235622</td>\n",
       "      <td>-55.793869</td>\n",
       "      <td>-28.116788</td>\n",
       "      <td>-43.816405</td>\n",
       "      <td>...</td>\n",
       "      <td>-36.104335</td>\n",
       "      <td>16.052753</td>\n",
       "      <td>2</td>\n",
       "      <td>-8.765619</td>\n",
       "      <td>-5.357176</td>\n",
       "      <td>-9.875131</td>\n",
       "      <td>-5.712885</td>\n",
       "      <td>-6.518956</td>\n",
       "      <td>-7.245953</td>\n",
       "      <td>1.770213</td>\n",
       "    </tr>\n",
       "    <tr>\n",
       "      <th>7</th>\n",
       "      <td>0.303483</td>\n",
       "      <td>0.016668</td>\n",
       "      <td>0.026639</td>\n",
       "      <td>0.007392</td>\n",
       "      <td>360</td>\n",
       "      <td>{'n_estimators': 360}</td>\n",
       "      <td>-10.287719</td>\n",
       "      <td>-56.394565</td>\n",
       "      <td>-27.290578</td>\n",
       "      <td>-43.511997</td>\n",
       "      <td>...</td>\n",
       "      <td>-36.665389</td>\n",
       "      <td>16.149283</td>\n",
       "      <td>8</td>\n",
       "      <td>-8.347305</td>\n",
       "      <td>-4.722161</td>\n",
       "      <td>-9.649546</td>\n",
       "      <td>-5.570879</td>\n",
       "      <td>-6.457735</td>\n",
       "      <td>-6.949525</td>\n",
       "      <td>1.808180</td>\n",
       "    </tr>\n",
       "    <tr>\n",
       "      <th>8</th>\n",
       "      <td>0.009596</td>\n",
       "      <td>0.003199</td>\n",
       "      <td>0.000000</td>\n",
       "      <td>0.000000</td>\n",
       "      <td>10</td>\n",
       "      <td>{'n_estimators': 10}</td>\n",
       "      <td>-7.672500</td>\n",
       "      <td>-69.037500</td>\n",
       "      <td>-32.917500</td>\n",
       "      <td>-53.975000</td>\n",
       "      <td>...</td>\n",
       "      <td>-39.166281</td>\n",
       "      <td>20.931414</td>\n",
       "      <td>10</td>\n",
       "      <td>-12.336875</td>\n",
       "      <td>-6.867500</td>\n",
       "      <td>-13.046250</td>\n",
       "      <td>-8.230000</td>\n",
       "      <td>-6.297578</td>\n",
       "      <td>-9.355641</td>\n",
       "      <td>2.804212</td>\n",
       "    </tr>\n",
       "    <tr>\n",
       "      <th>9</th>\n",
       "      <td>0.174611</td>\n",
       "      <td>0.013366</td>\n",
       "      <td>0.010037</td>\n",
       "      <td>0.002967</td>\n",
       "      <td>212</td>\n",
       "      <td>{'n_estimators': 212}</td>\n",
       "      <td>-9.005418</td>\n",
       "      <td>-55.428319</td>\n",
       "      <td>-27.156442</td>\n",
       "      <td>-43.219395</td>\n",
       "      <td>...</td>\n",
       "      <td>-35.890311</td>\n",
       "      <td>16.193325</td>\n",
       "      <td>1</td>\n",
       "      <td>-9.015387</td>\n",
       "      <td>-5.465542</td>\n",
       "      <td>-10.148432</td>\n",
       "      <td>-5.836459</td>\n",
       "      <td>-6.683170</td>\n",
       "      <td>-7.429798</td>\n",
       "      <td>1.836276</td>\n",
       "    </tr>\n",
       "  </tbody>\n",
       "</table>\n",
       "<p>10 rows × 21 columns</p>\n",
       "</div>"
      ],
      "text/plain": [
       "   mean_fit_time  std_fit_time  mean_score_time  std_score_time  \\\n",
       "0       0.162043      0.025340         0.013209        0.004362   \n",
       "1       0.057084      0.016702         0.005112        0.003592   \n",
       "2       0.094913      0.008590         0.012502        0.006251   \n",
       "3       0.170498      0.017842         0.009453        0.007720   \n",
       "4       0.264862      0.002885         0.017675        0.003734   \n",
       "5       0.205064      0.007097         0.012085        0.003514   \n",
       "6       0.167594      0.017037         0.011211        0.003911   \n",
       "7       0.303483      0.016668         0.026639        0.007392   \n",
       "8       0.009596      0.003199         0.000000        0.000000   \n",
       "9       0.174611      0.013366         0.010037        0.002967   \n",
       "\n",
       "  param_n_estimators                 params  split0_test_score  \\\n",
       "0                173  {'n_estimators': 173}          -9.044266   \n",
       "1                 48   {'n_estimators': 48}         -10.446308   \n",
       "2                118  {'n_estimators': 118}         -10.157462   \n",
       "3                193  {'n_estimators': 193}          -9.597490   \n",
       "4                324  {'n_estimators': 324}         -10.288264   \n",
       "5                252  {'n_estimators': 252}         -10.472472   \n",
       "6                196  {'n_estimators': 196}          -9.235622   \n",
       "7                360  {'n_estimators': 360}         -10.287719   \n",
       "8                 10   {'n_estimators': 10}          -7.672500   \n",
       "9                212  {'n_estimators': 212}          -9.005418   \n",
       "\n",
       "   split1_test_score  split2_test_score  split3_test_score  ...  \\\n",
       "0         -56.227312         -28.251462         -44.230955  ...   \n",
       "1         -57.166697         -28.655518         -40.285807  ...   \n",
       "2         -56.371000         -28.569649         -39.851031  ...   \n",
       "3         -56.112944         -28.706028         -43.731442  ...   \n",
       "4         -55.908381         -27.269700         -43.206683  ...   \n",
       "5         -56.669001         -27.778414         -43.395896  ...   \n",
       "6         -55.793869         -28.116788         -43.816405  ...   \n",
       "7         -56.394565         -27.290578         -43.511997  ...   \n",
       "8         -69.037500         -32.917500         -53.975000  ...   \n",
       "9         -55.428319         -27.156442         -43.219395  ...   \n",
       "\n",
       "   mean_test_score  std_test_score  rank_test_score  split0_train_score  \\\n",
       "0       -36.608611       16.419372                7           -8.695094   \n",
       "1       -36.218882       15.786217                3          -10.107229   \n",
       "2       -36.318208       15.909737                4           -9.363348   \n",
       "3       -36.319328       15.934705                5           -8.680691   \n",
       "4       -36.480204       15.994201                6           -8.425419   \n",
       "5       -36.848177       16.100104                9           -8.511471   \n",
       "6       -36.104335       16.052753                2           -8.765619   \n",
       "7       -36.665389       16.149283                8           -8.347305   \n",
       "8       -39.166281       20.931414               10          -12.336875   \n",
       "9       -35.890311       16.193325                1           -9.015387   \n",
       "\n",
       "   split1_train_score  split2_train_score  split3_train_score  \\\n",
       "0           -5.319815           -9.897626           -5.706401   \n",
       "1           -5.711869          -10.765850           -6.649821   \n",
       "2           -5.413532          -10.031900           -5.634848   \n",
       "3           -5.375692           -9.814168           -5.663256   \n",
       "4           -4.765895           -9.733499           -5.525123   \n",
       "5           -4.986956           -9.716744           -5.630361   \n",
       "6           -5.357176           -9.875131           -5.712885   \n",
       "7           -4.722161           -9.649546           -5.570879   \n",
       "8           -6.867500          -13.046250           -8.230000   \n",
       "9           -5.465542          -10.148432           -5.836459   \n",
       "\n",
       "   split4_train_score  mean_train_score  std_train_score  \n",
       "0           -6.386198         -7.201027         1.785536  \n",
       "1           -6.850799         -8.017114         2.023268  \n",
       "2           -6.482076         -7.385141         1.933128  \n",
       "3           -6.477463         -7.202254         1.745740  \n",
       "4           -6.454190         -6.980825         1.842085  \n",
       "5           -6.349219         -7.038950         1.789381  \n",
       "6           -6.518956         -7.245953         1.770213  \n",
       "7           -6.457735         -6.949525         1.808180  \n",
       "8           -6.297578         -9.355641         2.804212  \n",
       "9           -6.683170         -7.429798         1.836276  \n",
       "\n",
       "[10 rows x 21 columns]"
      ]
     },
     "execution_count": 41,
     "metadata": {},
     "output_type": "execute_result"
    }
   ],
   "source": [
    "cv_res"
   ]
  },
  {
   "cell_type": "code",
   "execution_count": 42,
   "metadata": {},
   "outputs": [],
   "source": [
    "res=cv_res.loc[:,['params','mean_test_score']]"
   ]
  },
  {
   "cell_type": "code",
   "execution_count": 43,
   "metadata": {},
   "outputs": [],
   "source": [
    "res['RMSE']=np.sqrt(np.abs(res['mean_test_score']))"
   ]
  },
  {
   "cell_type": "code",
   "execution_count": 44,
   "metadata": {
    "scrolled": false
   },
   "outputs": [
    {
     "data": {
      "text/html": [
       "<div>\n",
       "<style scoped>\n",
       "    .dataframe tbody tr th:only-of-type {\n",
       "        vertical-align: middle;\n",
       "    }\n",
       "\n",
       "    .dataframe tbody tr th {\n",
       "        vertical-align: top;\n",
       "    }\n",
       "\n",
       "    .dataframe thead th {\n",
       "        text-align: right;\n",
       "    }\n",
       "</style>\n",
       "<table border=\"1\" class=\"dataframe\">\n",
       "  <thead>\n",
       "    <tr style=\"text-align: right;\">\n",
       "      <th></th>\n",
       "      <th>params</th>\n",
       "      <th>mean_test_score</th>\n",
       "      <th>RMSE</th>\n",
       "    </tr>\n",
       "  </thead>\n",
       "  <tbody>\n",
       "    <tr>\n",
       "      <th>0</th>\n",
       "      <td>{'n_estimators': 173}</td>\n",
       "      <td>-36.608611</td>\n",
       "      <td>6.050505</td>\n",
       "    </tr>\n",
       "    <tr>\n",
       "      <th>1</th>\n",
       "      <td>{'n_estimators': 48}</td>\n",
       "      <td>-36.218882</td>\n",
       "      <td>6.018212</td>\n",
       "    </tr>\n",
       "    <tr>\n",
       "      <th>2</th>\n",
       "      <td>{'n_estimators': 118}</td>\n",
       "      <td>-36.318208</td>\n",
       "      <td>6.026459</td>\n",
       "    </tr>\n",
       "    <tr>\n",
       "      <th>3</th>\n",
       "      <td>{'n_estimators': 193}</td>\n",
       "      <td>-36.319328</td>\n",
       "      <td>6.026552</td>\n",
       "    </tr>\n",
       "    <tr>\n",
       "      <th>4</th>\n",
       "      <td>{'n_estimators': 324}</td>\n",
       "      <td>-36.480204</td>\n",
       "      <td>6.039884</td>\n",
       "    </tr>\n",
       "    <tr>\n",
       "      <th>5</th>\n",
       "      <td>{'n_estimators': 252}</td>\n",
       "      <td>-36.848177</td>\n",
       "      <td>6.070270</td>\n",
       "    </tr>\n",
       "    <tr>\n",
       "      <th>6</th>\n",
       "      <td>{'n_estimators': 196}</td>\n",
       "      <td>-36.104335</td>\n",
       "      <td>6.008688</td>\n",
       "    </tr>\n",
       "    <tr>\n",
       "      <th>7</th>\n",
       "      <td>{'n_estimators': 360}</td>\n",
       "      <td>-36.665389</td>\n",
       "      <td>6.055195</td>\n",
       "    </tr>\n",
       "    <tr>\n",
       "      <th>8</th>\n",
       "      <td>{'n_estimators': 10}</td>\n",
       "      <td>-39.166281</td>\n",
       "      <td>6.258297</td>\n",
       "    </tr>\n",
       "    <tr>\n",
       "      <th>9</th>\n",
       "      <td>{'n_estimators': 212}</td>\n",
       "      <td>-35.890311</td>\n",
       "      <td>5.990852</td>\n",
       "    </tr>\n",
       "  </tbody>\n",
       "</table>\n",
       "</div>"
      ],
      "text/plain": [
       "                  params  mean_test_score      RMSE\n",
       "0  {'n_estimators': 173}       -36.608611  6.050505\n",
       "1   {'n_estimators': 48}       -36.218882  6.018212\n",
       "2  {'n_estimators': 118}       -36.318208  6.026459\n",
       "3  {'n_estimators': 193}       -36.319328  6.026552\n",
       "4  {'n_estimators': 324}       -36.480204  6.039884\n",
       "5  {'n_estimators': 252}       -36.848177  6.070270\n",
       "6  {'n_estimators': 196}       -36.104335  6.008688\n",
       "7  {'n_estimators': 360}       -36.665389  6.055195\n",
       "8   {'n_estimators': 10}       -39.166281  6.258297\n",
       "9  {'n_estimators': 212}       -35.890311  5.990852"
      ]
     },
     "execution_count": 44,
     "metadata": {},
     "output_type": "execute_result"
    }
   ],
   "source": [
    "res"
   ]
  },
  {
   "cell_type": "code",
   "execution_count": 45,
   "metadata": {},
   "outputs": [],
   "source": [
    "#As we can see, we are getting even RMSE if n_estimators(no. of decision trees) is high upto 212. After that \n",
    "#again RMSE increases."
   ]
  },
  {
   "cell_type": "code",
   "execution_count": 46,
   "metadata": {},
   "outputs": [
    {
     "data": {
      "text/plain": [
       "GridSearchCV(cv=5, estimator=RandomForestRegressor(random_state=0),\n",
       "             param_grid={'n_estimators': [200, 201, 202, 203, 204, 205, 206,\n",
       "                                          207, 208, 209, 210, 211, 212, 213,\n",
       "                                          214, 215, 216, 217, 218, 219, 220]},\n",
       "             return_train_score=True, scoring='neg_mean_squared_error')"
      ]
     },
     "execution_count": 46,
     "metadata": {},
     "output_type": "execute_result"
    }
   ],
   "source": [
    "param_grid={'n_estimators':list(range(200,221))}\n",
    "grid_scv=GridSearchCV(rf_reg,param_grid,scoring='neg_mean_squared_error',cv=5,return_train_score=True)\n",
    "grid_scv.fit(X_train_scaled,y_train)"
   ]
  },
  {
   "cell_type": "code",
   "execution_count": 47,
   "metadata": {},
   "outputs": [],
   "source": [
    "cv_res1=pd.DataFrame(grid_scv.cv_results_)"
   ]
  },
  {
   "cell_type": "code",
   "execution_count": 48,
   "metadata": {},
   "outputs": [],
   "source": [
    "res1=cv_res1.loc[:,['params','mean_test_score']]"
   ]
  },
  {
   "cell_type": "code",
   "execution_count": 49,
   "metadata": {},
   "outputs": [],
   "source": [
    "res1['RMSE']=np.sqrt(np.abs(res1['mean_test_score']))"
   ]
  },
  {
   "cell_type": "code",
   "execution_count": 50,
   "metadata": {},
   "outputs": [
    {
     "data": {
      "text/html": [
       "<div>\n",
       "<style scoped>\n",
       "    .dataframe tbody tr th:only-of-type {\n",
       "        vertical-align: middle;\n",
       "    }\n",
       "\n",
       "    .dataframe tbody tr th {\n",
       "        vertical-align: top;\n",
       "    }\n",
       "\n",
       "    .dataframe thead th {\n",
       "        text-align: right;\n",
       "    }\n",
       "</style>\n",
       "<table border=\"1\" class=\"dataframe\">\n",
       "  <thead>\n",
       "    <tr style=\"text-align: right;\">\n",
       "      <th></th>\n",
       "      <th>params</th>\n",
       "      <th>mean_test_score</th>\n",
       "      <th>RMSE</th>\n",
       "    </tr>\n",
       "  </thead>\n",
       "  <tbody>\n",
       "    <tr>\n",
       "      <th>0</th>\n",
       "      <td>{'n_estimators': 200}</td>\n",
       "      <td>-36.107569</td>\n",
       "      <td>6.008957</td>\n",
       "    </tr>\n",
       "    <tr>\n",
       "      <th>1</th>\n",
       "      <td>{'n_estimators': 201}</td>\n",
       "      <td>-36.162353</td>\n",
       "      <td>6.013514</td>\n",
       "    </tr>\n",
       "    <tr>\n",
       "      <th>2</th>\n",
       "      <td>{'n_estimators': 202}</td>\n",
       "      <td>-36.026974</td>\n",
       "      <td>6.002247</td>\n",
       "    </tr>\n",
       "    <tr>\n",
       "      <th>3</th>\n",
       "      <td>{'n_estimators': 203}</td>\n",
       "      <td>-36.090795</td>\n",
       "      <td>6.007561</td>\n",
       "    </tr>\n",
       "    <tr>\n",
       "      <th>4</th>\n",
       "      <td>{'n_estimators': 204}</td>\n",
       "      <td>-36.110608</td>\n",
       "      <td>6.009210</td>\n",
       "    </tr>\n",
       "    <tr>\n",
       "      <th>5</th>\n",
       "      <td>{'n_estimators': 205}</td>\n",
       "      <td>-36.130148</td>\n",
       "      <td>6.010836</td>\n",
       "    </tr>\n",
       "    <tr>\n",
       "      <th>6</th>\n",
       "      <td>{'n_estimators': 206}</td>\n",
       "      <td>-36.115650</td>\n",
       "      <td>6.009630</td>\n",
       "    </tr>\n",
       "    <tr>\n",
       "      <th>7</th>\n",
       "      <td>{'n_estimators': 207}</td>\n",
       "      <td>-36.159873</td>\n",
       "      <td>6.013308</td>\n",
       "    </tr>\n",
       "    <tr>\n",
       "      <th>8</th>\n",
       "      <td>{'n_estimators': 208}</td>\n",
       "      <td>-36.012420</td>\n",
       "      <td>6.001035</td>\n",
       "    </tr>\n",
       "    <tr>\n",
       "      <th>9</th>\n",
       "      <td>{'n_estimators': 209}</td>\n",
       "      <td>-35.975103</td>\n",
       "      <td>5.997925</td>\n",
       "    </tr>\n",
       "    <tr>\n",
       "      <th>10</th>\n",
       "      <td>{'n_estimators': 210}</td>\n",
       "      <td>-35.850879</td>\n",
       "      <td>5.987560</td>\n",
       "    </tr>\n",
       "    <tr>\n",
       "      <th>11</th>\n",
       "      <td>{'n_estimators': 211}</td>\n",
       "      <td>-35.790336</td>\n",
       "      <td>5.982502</td>\n",
       "    </tr>\n",
       "    <tr>\n",
       "      <th>12</th>\n",
       "      <td>{'n_estimators': 212}</td>\n",
       "      <td>-35.890311</td>\n",
       "      <td>5.990852</td>\n",
       "    </tr>\n",
       "    <tr>\n",
       "      <th>13</th>\n",
       "      <td>{'n_estimators': 213}</td>\n",
       "      <td>-35.928269</td>\n",
       "      <td>5.994019</td>\n",
       "    </tr>\n",
       "    <tr>\n",
       "      <th>14</th>\n",
       "      <td>{'n_estimators': 214}</td>\n",
       "      <td>-35.943702</td>\n",
       "      <td>5.995307</td>\n",
       "    </tr>\n",
       "    <tr>\n",
       "      <th>15</th>\n",
       "      <td>{'n_estimators': 215}</td>\n",
       "      <td>-35.799935</td>\n",
       "      <td>5.983305</td>\n",
       "    </tr>\n",
       "    <tr>\n",
       "      <th>16</th>\n",
       "      <td>{'n_estimators': 216}</td>\n",
       "      <td>-35.837477</td>\n",
       "      <td>5.986441</td>\n",
       "    </tr>\n",
       "    <tr>\n",
       "      <th>17</th>\n",
       "      <td>{'n_estimators': 217}</td>\n",
       "      <td>-35.838809</td>\n",
       "      <td>5.986552</td>\n",
       "    </tr>\n",
       "    <tr>\n",
       "      <th>18</th>\n",
       "      <td>{'n_estimators': 218}</td>\n",
       "      <td>-35.900726</td>\n",
       "      <td>5.991721</td>\n",
       "    </tr>\n",
       "    <tr>\n",
       "      <th>19</th>\n",
       "      <td>{'n_estimators': 219}</td>\n",
       "      <td>-36.035898</td>\n",
       "      <td>6.002991</td>\n",
       "    </tr>\n",
       "    <tr>\n",
       "      <th>20</th>\n",
       "      <td>{'n_estimators': 220}</td>\n",
       "      <td>-36.122450</td>\n",
       "      <td>6.010196</td>\n",
       "    </tr>\n",
       "  </tbody>\n",
       "</table>\n",
       "</div>"
      ],
      "text/plain": [
       "                   params  mean_test_score      RMSE\n",
       "0   {'n_estimators': 200}       -36.107569  6.008957\n",
       "1   {'n_estimators': 201}       -36.162353  6.013514\n",
       "2   {'n_estimators': 202}       -36.026974  6.002247\n",
       "3   {'n_estimators': 203}       -36.090795  6.007561\n",
       "4   {'n_estimators': 204}       -36.110608  6.009210\n",
       "5   {'n_estimators': 205}       -36.130148  6.010836\n",
       "6   {'n_estimators': 206}       -36.115650  6.009630\n",
       "7   {'n_estimators': 207}       -36.159873  6.013308\n",
       "8   {'n_estimators': 208}       -36.012420  6.001035\n",
       "9   {'n_estimators': 209}       -35.975103  5.997925\n",
       "10  {'n_estimators': 210}       -35.850879  5.987560\n",
       "11  {'n_estimators': 211}       -35.790336  5.982502\n",
       "12  {'n_estimators': 212}       -35.890311  5.990852\n",
       "13  {'n_estimators': 213}       -35.928269  5.994019\n",
       "14  {'n_estimators': 214}       -35.943702  5.995307\n",
       "15  {'n_estimators': 215}       -35.799935  5.983305\n",
       "16  {'n_estimators': 216}       -35.837477  5.986441\n",
       "17  {'n_estimators': 217}       -35.838809  5.986552\n",
       "18  {'n_estimators': 218}       -35.900726  5.991721\n",
       "19  {'n_estimators': 219}       -36.035898  6.002991\n",
       "20  {'n_estimators': 220}       -36.122450  6.010196"
      ]
     },
     "execution_count": 50,
     "metadata": {},
     "output_type": "execute_result"
    }
   ],
   "source": [
    "res1"
   ]
  },
  {
   "cell_type": "code",
   "execution_count": 51,
   "metadata": {},
   "outputs": [
    {
     "data": {
      "text/plain": [
       "RandomForestRegressor(n_estimators=211, random_state=0)"
      ]
     },
     "execution_count": 51,
     "metadata": {},
     "output_type": "execute_result"
    }
   ],
   "source": [
    "grid_scv.best_estimator_"
   ]
  },
  {
   "cell_type": "code",
   "execution_count": 52,
   "metadata": {},
   "outputs": [],
   "source": [
    "#Finally, an RMSE Of 5.9825 on training data."
   ]
  },
  {
   "cell_type": "code",
   "execution_count": 53,
   "metadata": {},
   "outputs": [],
   "source": [
    "final_model=grid_scv.best_estimator_"
   ]
  },
  {
   "cell_type": "markdown",
   "metadata": {},
   "source": [
    "# FINAL STEP:TESTING OUR FINE TUNED BEST MODEL"
   ]
  },
  {
   "cell_type": "code",
   "execution_count": 54,
   "metadata": {},
   "outputs": [],
   "source": [
    "X_test,y_test=test_set[['Hours']],test_set[['Scores']]"
   ]
  },
  {
   "cell_type": "code",
   "execution_count": 55,
   "metadata": {},
   "outputs": [],
   "source": [
    "X_test_scaled=scaler.transform(X_test)"
   ]
  },
  {
   "cell_type": "code",
   "execution_count": 56,
   "metadata": {},
   "outputs": [],
   "source": [
    "final_predictions=final_model.predict(X_test_scaled)"
   ]
  },
  {
   "cell_type": "code",
   "execution_count": 57,
   "metadata": {},
   "outputs": [
    {
     "name": "stdout",
     "output_type": "stream",
     "text": [
      "MAE:\t:7.069194312796209\n",
      "RMSE:\t 8.942552472642223\n"
     ]
    }
   ],
   "source": [
    "print('''MAE:\\t:{}\\nRMSE:\\t {}'''.format(mean_absolute_error(y_test,final_predictions),np.sqrt(mean_squared_error(y_test,final_predictions))))"
   ]
  },
  {
   "cell_type": "code",
   "execution_count": 58,
   "metadata": {},
   "outputs": [
    {
     "data": {
      "text/plain": [
       "array([88.99052133])"
      ]
     },
     "execution_count": 58,
     "metadata": {},
     "output_type": "execute_result"
    }
   ],
   "source": [
    "final_model.predict([[9.25]])"
   ]
  },
  {
   "cell_type": "code",
   "execution_count": 59,
   "metadata": {},
   "outputs": [],
   "source": [
    "#So, acording to the data provided, if a student studies for 9.25hrs/day, he should be getting 89 marks to be exact."
   ]
  },
  {
   "cell_type": "markdown",
   "metadata": {},
   "source": [
    "# BONUS PREDICTION BY LINEAR REGRESSION MODEL:"
   ]
  },
  {
   "cell_type": "code",
   "execution_count": 61,
   "metadata": {},
   "outputs": [
    {
     "name": "stdout",
     "output_type": "stream",
     "text": [
      "MAE:\t:4.18385989900298\n",
      "RMSE:\t 4.64744761210037\n"
     ]
    }
   ],
   "source": [
    "y_pred=lin_reg.predict(X_test_scaled)\n",
    "print('''MAE:\\t:{}\\nRMSE:\\t {}'''.format(mean_absolute_error(y_test,y_pred),np.sqrt(mean_squared_error(y_test,y_pred))))"
   ]
  },
  {
   "cell_type": "code",
   "execution_count": 64,
   "metadata": {},
   "outputs": [
    {
     "data": {
      "text/plain": [
       "array([[93.69173249]])"
      ]
     },
     "execution_count": 64,
     "metadata": {},
     "output_type": "execute_result"
    }
   ],
   "source": [
    "lin_reg.predict(scaler.transform([[9.25]]))"
   ]
  },
  {
   "cell_type": "markdown",
   "metadata": {},
   "source": [
    "# Thank You"
   ]
  }
 ],
 "metadata": {
  "kernelspec": {
   "display_name": "Python 3",
   "language": "python",
   "name": "python3"
  },
  "language_info": {
   "codemirror_mode": {
    "name": "ipython",
    "version": 3
   },
   "file_extension": ".py",
   "mimetype": "text/x-python",
   "name": "python",
   "nbconvert_exporter": "python",
   "pygments_lexer": "ipython3",
   "version": "3.7.9"
  }
 },
 "nbformat": 4,
 "nbformat_minor": 4
}
