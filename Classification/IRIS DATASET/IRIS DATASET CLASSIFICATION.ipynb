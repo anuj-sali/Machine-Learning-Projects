{
 "cells": [
  {
   "cell_type": "markdown",
   "metadata": {},
   "source": [
    "# IMPORTING NECCESSARY LIBRARIES:"
   ]
  },
  {
   "cell_type": "code",
   "execution_count": 1,
   "metadata": {},
   "outputs": [],
   "source": [
    "import numpy as np\n",
    "import pandas as pd\n",
    "import seaborn as sns\n",
    "import matplotlib.pyplot as plt\n",
    "%matplotlib inline"
   ]
  },
  {
   "cell_type": "markdown",
   "metadata": {},
   "source": [
    "## GET AND LOAD THE DATA:"
   ]
  },
  {
   "cell_type": "code",
   "execution_count": 2,
   "metadata": {},
   "outputs": [],
   "source": [
    "from sklearn.datasets import load_iris\n",
    "dataset=load_iris()"
   ]
  },
  {
   "cell_type": "code",
   "execution_count": 3,
   "metadata": {},
   "outputs": [
    {
     "name": "stdout",
     "output_type": "stream",
     "text": [
      "Features:\n",
      "     sepal length (cm)  sepal width (cm)  petal length (cm)  petal width (cm)\n",
      "0                  5.1               3.5                1.4               0.2\n",
      "1                  4.9               3.0                1.4               0.2\n",
      "2                  4.7               3.2                1.3               0.2\n",
      "3                  4.6               3.1                1.5               0.2\n",
      "4                  5.0               3.6                1.4               0.2\n",
      "..                 ...               ...                ...               ...\n",
      "145                6.7               3.0                5.2               2.3\n",
      "146                6.3               2.5                5.0               1.9\n",
      "147                6.5               3.0                5.2               2.0\n",
      "148                6.2               3.4                5.4               2.3\n",
      "149                5.9               3.0                5.1               1.8\n",
      "\n",
      "[150 rows x 4 columns]\n",
      "Labels:\n",
      "     0/1/2\n",
      "0        0\n",
      "1        0\n",
      "2        0\n",
      "3        0\n",
      "4        0\n",
      "..     ...\n",
      "145      2\n",
      "146      2\n",
      "147      2\n",
      "148      2\n",
      "149      2\n",
      "\n",
      "[150 rows x 1 columns]\n",
      "Combined:\n",
      "     sepal length (cm)  sepal width (cm)  petal length (cm)  petal width (cm)  \\\n",
      "0                  5.1               3.5                1.4               0.2   \n",
      "1                  4.9               3.0                1.4               0.2   \n",
      "2                  4.7               3.2                1.3               0.2   \n",
      "3                  4.6               3.1                1.5               0.2   \n",
      "4                  5.0               3.6                1.4               0.2   \n",
      "..                 ...               ...                ...               ...   \n",
      "145                6.7               3.0                5.2               2.3   \n",
      "146                6.3               2.5                5.0               1.9   \n",
      "147                6.5               3.0                5.2               2.0   \n",
      "148                6.2               3.4                5.4               2.3   \n",
      "149                5.9               3.0                5.1               1.8   \n",
      "\n",
      "     0/1/2  \n",
      "0        0  \n",
      "1        0  \n",
      "2        0  \n",
      "3        0  \n",
      "4        0  \n",
      "..     ...  \n",
      "145      2  \n",
      "146      2  \n",
      "147      2  \n",
      "148      2  \n",
      "149      2  \n",
      "\n",
      "[150 rows x 5 columns]\n"
     ]
    }
   ],
   "source": [
    "features=pd.DataFrame(dataset.data,columns=dataset.feature_names)\n",
    "features.name='Features'\n",
    "labels=pd.DataFrame(dataset.target)\n",
    "labels.columns=['0/1/2']\n",
    "labels.name='Labels'\n",
    "combined=pd.concat([features,labels],axis=1)\n",
    "print('Features:\\n{}'.format(features))\n",
    "print('Labels:\\n{}'.format(labels))\n",
    "print('Combined:\\n{}'.format(combined))"
   ]
  },
  {
   "cell_type": "code",
   "execution_count": 30,
   "metadata": {},
   "outputs": [
    {
     "data": {
      "text/html": [
       "<div>\n",
       "<style scoped>\n",
       "    .dataframe tbody tr th:only-of-type {\n",
       "        vertical-align: middle;\n",
       "    }\n",
       "\n",
       "    .dataframe tbody tr th {\n",
       "        vertical-align: top;\n",
       "    }\n",
       "\n",
       "    .dataframe thead th {\n",
       "        text-align: right;\n",
       "    }\n",
       "</style>\n",
       "<table border=\"1\" class=\"dataframe\">\n",
       "  <thead>\n",
       "    <tr style=\"text-align: right;\">\n",
       "      <th></th>\n",
       "      <th>sepal length (cm)</th>\n",
       "      <th>sepal width (cm)</th>\n",
       "      <th>petal length (cm)</th>\n",
       "      <th>petal width (cm)</th>\n",
       "    </tr>\n",
       "  </thead>\n",
       "  <tbody>\n",
       "    <tr>\n",
       "      <th>0</th>\n",
       "      <td>5.1</td>\n",
       "      <td>3.5</td>\n",
       "      <td>1.4</td>\n",
       "      <td>0.2</td>\n",
       "    </tr>\n",
       "    <tr>\n",
       "      <th>1</th>\n",
       "      <td>4.9</td>\n",
       "      <td>3.0</td>\n",
       "      <td>1.4</td>\n",
       "      <td>0.2</td>\n",
       "    </tr>\n",
       "    <tr>\n",
       "      <th>2</th>\n",
       "      <td>4.7</td>\n",
       "      <td>3.2</td>\n",
       "      <td>1.3</td>\n",
       "      <td>0.2</td>\n",
       "    </tr>\n",
       "    <tr>\n",
       "      <th>3</th>\n",
       "      <td>4.6</td>\n",
       "      <td>3.1</td>\n",
       "      <td>1.5</td>\n",
       "      <td>0.2</td>\n",
       "    </tr>\n",
       "    <tr>\n",
       "      <th>4</th>\n",
       "      <td>5.0</td>\n",
       "      <td>3.6</td>\n",
       "      <td>1.4</td>\n",
       "      <td>0.2</td>\n",
       "    </tr>\n",
       "    <tr>\n",
       "      <th>...</th>\n",
       "      <td>...</td>\n",
       "      <td>...</td>\n",
       "      <td>...</td>\n",
       "      <td>...</td>\n",
       "    </tr>\n",
       "    <tr>\n",
       "      <th>145</th>\n",
       "      <td>6.7</td>\n",
       "      <td>3.0</td>\n",
       "      <td>5.2</td>\n",
       "      <td>2.3</td>\n",
       "    </tr>\n",
       "    <tr>\n",
       "      <th>146</th>\n",
       "      <td>6.3</td>\n",
       "      <td>2.5</td>\n",
       "      <td>5.0</td>\n",
       "      <td>1.9</td>\n",
       "    </tr>\n",
       "    <tr>\n",
       "      <th>147</th>\n",
       "      <td>6.5</td>\n",
       "      <td>3.0</td>\n",
       "      <td>5.2</td>\n",
       "      <td>2.0</td>\n",
       "    </tr>\n",
       "    <tr>\n",
       "      <th>148</th>\n",
       "      <td>6.2</td>\n",
       "      <td>3.4</td>\n",
       "      <td>5.4</td>\n",
       "      <td>2.3</td>\n",
       "    </tr>\n",
       "    <tr>\n",
       "      <th>149</th>\n",
       "      <td>5.9</td>\n",
       "      <td>3.0</td>\n",
       "      <td>5.1</td>\n",
       "      <td>1.8</td>\n",
       "    </tr>\n",
       "  </tbody>\n",
       "</table>\n",
       "<p>150 rows × 4 columns</p>\n",
       "</div>"
      ],
      "text/plain": [
       "     sepal length (cm)  sepal width (cm)  petal length (cm)  petal width (cm)\n",
       "0                  5.1               3.5                1.4               0.2\n",
       "1                  4.9               3.0                1.4               0.2\n",
       "2                  4.7               3.2                1.3               0.2\n",
       "3                  4.6               3.1                1.5               0.2\n",
       "4                  5.0               3.6                1.4               0.2\n",
       "..                 ...               ...                ...               ...\n",
       "145                6.7               3.0                5.2               2.3\n",
       "146                6.3               2.5                5.0               1.9\n",
       "147                6.5               3.0                5.2               2.0\n",
       "148                6.2               3.4                5.4               2.3\n",
       "149                5.9               3.0                5.1               1.8\n",
       "\n",
       "[150 rows x 4 columns]"
      ]
     },
     "execution_count": 30,
     "metadata": {},
     "output_type": "execute_result"
    }
   ],
   "source": [
    "features"
   ]
  },
  {
   "cell_type": "code",
   "execution_count": 4,
   "metadata": {},
   "outputs": [
    {
     "data": {
      "text/html": [
       "<div>\n",
       "<style scoped>\n",
       "    .dataframe tbody tr th:only-of-type {\n",
       "        vertical-align: middle;\n",
       "    }\n",
       "\n",
       "    .dataframe tbody tr th {\n",
       "        vertical-align: top;\n",
       "    }\n",
       "\n",
       "    .dataframe thead th {\n",
       "        text-align: right;\n",
       "    }\n",
       "</style>\n",
       "<table border=\"1\" class=\"dataframe\">\n",
       "  <thead>\n",
       "    <tr style=\"text-align: right;\">\n",
       "      <th></th>\n",
       "      <th>sepal length (cm)</th>\n",
       "      <th>sepal width (cm)</th>\n",
       "      <th>petal length (cm)</th>\n",
       "      <th>petal width (cm)</th>\n",
       "    </tr>\n",
       "  </thead>\n",
       "  <tbody>\n",
       "    <tr>\n",
       "      <th>0</th>\n",
       "      <td>5.1</td>\n",
       "      <td>3.5</td>\n",
       "      <td>1.4</td>\n",
       "      <td>0.2</td>\n",
       "    </tr>\n",
       "    <tr>\n",
       "      <th>1</th>\n",
       "      <td>4.9</td>\n",
       "      <td>3.0</td>\n",
       "      <td>1.4</td>\n",
       "      <td>0.2</td>\n",
       "    </tr>\n",
       "    <tr>\n",
       "      <th>2</th>\n",
       "      <td>4.7</td>\n",
       "      <td>3.2</td>\n",
       "      <td>1.3</td>\n",
       "      <td>0.2</td>\n",
       "    </tr>\n",
       "    <tr>\n",
       "      <th>3</th>\n",
       "      <td>4.6</td>\n",
       "      <td>3.1</td>\n",
       "      <td>1.5</td>\n",
       "      <td>0.2</td>\n",
       "    </tr>\n",
       "    <tr>\n",
       "      <th>4</th>\n",
       "      <td>5.0</td>\n",
       "      <td>3.6</td>\n",
       "      <td>1.4</td>\n",
       "      <td>0.2</td>\n",
       "    </tr>\n",
       "  </tbody>\n",
       "</table>\n",
       "</div>"
      ],
      "text/plain": [
       "   sepal length (cm)  sepal width (cm)  petal length (cm)  petal width (cm)\n",
       "0                5.1               3.5                1.4               0.2\n",
       "1                4.9               3.0                1.4               0.2\n",
       "2                4.7               3.2                1.3               0.2\n",
       "3                4.6               3.1                1.5               0.2\n",
       "4                5.0               3.6                1.4               0.2"
      ]
     },
     "execution_count": 4,
     "metadata": {},
     "output_type": "execute_result"
    }
   ],
   "source": [
    "features.head()"
   ]
  },
  {
   "cell_type": "code",
   "execution_count": 5,
   "metadata": {},
   "outputs": [
    {
     "data": {
      "text/html": [
       "<div>\n",
       "<style scoped>\n",
       "    .dataframe tbody tr th:only-of-type {\n",
       "        vertical-align: middle;\n",
       "    }\n",
       "\n",
       "    .dataframe tbody tr th {\n",
       "        vertical-align: top;\n",
       "    }\n",
       "\n",
       "    .dataframe thead th {\n",
       "        text-align: right;\n",
       "    }\n",
       "</style>\n",
       "<table border=\"1\" class=\"dataframe\">\n",
       "  <thead>\n",
       "    <tr style=\"text-align: right;\">\n",
       "      <th></th>\n",
       "      <th>sepal length (cm)</th>\n",
       "      <th>sepal width (cm)</th>\n",
       "      <th>petal length (cm)</th>\n",
       "      <th>petal width (cm)</th>\n",
       "    </tr>\n",
       "  </thead>\n",
       "  <tbody>\n",
       "    <tr>\n",
       "      <th>count</th>\n",
       "      <td>150.000000</td>\n",
       "      <td>150.000000</td>\n",
       "      <td>150.000000</td>\n",
       "      <td>150.000000</td>\n",
       "    </tr>\n",
       "    <tr>\n",
       "      <th>mean</th>\n",
       "      <td>5.843333</td>\n",
       "      <td>3.057333</td>\n",
       "      <td>3.758000</td>\n",
       "      <td>1.199333</td>\n",
       "    </tr>\n",
       "    <tr>\n",
       "      <th>std</th>\n",
       "      <td>0.828066</td>\n",
       "      <td>0.435866</td>\n",
       "      <td>1.765298</td>\n",
       "      <td>0.762238</td>\n",
       "    </tr>\n",
       "    <tr>\n",
       "      <th>min</th>\n",
       "      <td>4.300000</td>\n",
       "      <td>2.000000</td>\n",
       "      <td>1.000000</td>\n",
       "      <td>0.100000</td>\n",
       "    </tr>\n",
       "    <tr>\n",
       "      <th>25%</th>\n",
       "      <td>5.100000</td>\n",
       "      <td>2.800000</td>\n",
       "      <td>1.600000</td>\n",
       "      <td>0.300000</td>\n",
       "    </tr>\n",
       "    <tr>\n",
       "      <th>50%</th>\n",
       "      <td>5.800000</td>\n",
       "      <td>3.000000</td>\n",
       "      <td>4.350000</td>\n",
       "      <td>1.300000</td>\n",
       "    </tr>\n",
       "    <tr>\n",
       "      <th>75%</th>\n",
       "      <td>6.400000</td>\n",
       "      <td>3.300000</td>\n",
       "      <td>5.100000</td>\n",
       "      <td>1.800000</td>\n",
       "    </tr>\n",
       "    <tr>\n",
       "      <th>max</th>\n",
       "      <td>7.900000</td>\n",
       "      <td>4.400000</td>\n",
       "      <td>6.900000</td>\n",
       "      <td>2.500000</td>\n",
       "    </tr>\n",
       "  </tbody>\n",
       "</table>\n",
       "</div>"
      ],
      "text/plain": [
       "       sepal length (cm)  sepal width (cm)  petal length (cm)  \\\n",
       "count         150.000000        150.000000         150.000000   \n",
       "mean            5.843333          3.057333           3.758000   \n",
       "std             0.828066          0.435866           1.765298   \n",
       "min             4.300000          2.000000           1.000000   \n",
       "25%             5.100000          2.800000           1.600000   \n",
       "50%             5.800000          3.000000           4.350000   \n",
       "75%             6.400000          3.300000           5.100000   \n",
       "max             7.900000          4.400000           6.900000   \n",
       "\n",
       "       petal width (cm)  \n",
       "count        150.000000  \n",
       "mean           1.199333  \n",
       "std            0.762238  \n",
       "min            0.100000  \n",
       "25%            0.300000  \n",
       "50%            1.300000  \n",
       "75%            1.800000  \n",
       "max            2.500000  "
      ]
     },
     "execution_count": 5,
     "metadata": {},
     "output_type": "execute_result"
    }
   ],
   "source": [
    "features.describe()"
   ]
  },
  {
   "cell_type": "code",
   "execution_count": 6,
   "metadata": {},
   "outputs": [
    {
     "name": "stdout",
     "output_type": "stream",
     "text": [
      "<class 'pandas.core.frame.DataFrame'>\n",
      "RangeIndex: 150 entries, 0 to 149\n",
      "Data columns (total 4 columns):\n",
      " #   Column             Non-Null Count  Dtype  \n",
      "---  ------             --------------  -----  \n",
      " 0   sepal length (cm)  150 non-null    float64\n",
      " 1   sepal width (cm)   150 non-null    float64\n",
      " 2   petal length (cm)  150 non-null    float64\n",
      " 3   petal width (cm)   150 non-null    float64\n",
      "dtypes: float64(4)\n",
      "memory usage: 4.8 KB\n"
     ]
    }
   ],
   "source": [
    "features.info()"
   ]
  },
  {
   "cell_type": "code",
   "execution_count": 7,
   "metadata": {},
   "outputs": [
    {
     "data": {
      "text/html": [
       "<div>\n",
       "<style scoped>\n",
       "    .dataframe tbody tr th:only-of-type {\n",
       "        vertical-align: middle;\n",
       "    }\n",
       "\n",
       "    .dataframe tbody tr th {\n",
       "        vertical-align: top;\n",
       "    }\n",
       "\n",
       "    .dataframe thead th {\n",
       "        text-align: right;\n",
       "    }\n",
       "</style>\n",
       "<table border=\"1\" class=\"dataframe\">\n",
       "  <thead>\n",
       "    <tr style=\"text-align: right;\">\n",
       "      <th></th>\n",
       "      <th>0/1/2</th>\n",
       "    </tr>\n",
       "  </thead>\n",
       "  <tbody>\n",
       "    <tr>\n",
       "      <th>0</th>\n",
       "      <td>0</td>\n",
       "    </tr>\n",
       "    <tr>\n",
       "      <th>1</th>\n",
       "      <td>0</td>\n",
       "    </tr>\n",
       "    <tr>\n",
       "      <th>2</th>\n",
       "      <td>0</td>\n",
       "    </tr>\n",
       "    <tr>\n",
       "      <th>3</th>\n",
       "      <td>0</td>\n",
       "    </tr>\n",
       "    <tr>\n",
       "      <th>4</th>\n",
       "      <td>0</td>\n",
       "    </tr>\n",
       "  </tbody>\n",
       "</table>\n",
       "</div>"
      ],
      "text/plain": [
       "   0/1/2\n",
       "0      0\n",
       "1      0\n",
       "2      0\n",
       "3      0\n",
       "4      0"
      ]
     },
     "execution_count": 7,
     "metadata": {},
     "output_type": "execute_result"
    }
   ],
   "source": [
    "labels.head()"
   ]
  },
  {
   "cell_type": "code",
   "execution_count": 8,
   "metadata": {},
   "outputs": [
    {
     "data": {
      "text/html": [
       "<div>\n",
       "<style scoped>\n",
       "    .dataframe tbody tr th:only-of-type {\n",
       "        vertical-align: middle;\n",
       "    }\n",
       "\n",
       "    .dataframe tbody tr th {\n",
       "        vertical-align: top;\n",
       "    }\n",
       "\n",
       "    .dataframe thead th {\n",
       "        text-align: right;\n",
       "    }\n",
       "</style>\n",
       "<table border=\"1\" class=\"dataframe\">\n",
       "  <thead>\n",
       "    <tr style=\"text-align: right;\">\n",
       "      <th></th>\n",
       "      <th>0/1/2</th>\n",
       "    </tr>\n",
       "  </thead>\n",
       "  <tbody>\n",
       "    <tr>\n",
       "      <th>count</th>\n",
       "      <td>150.000000</td>\n",
       "    </tr>\n",
       "    <tr>\n",
       "      <th>mean</th>\n",
       "      <td>1.000000</td>\n",
       "    </tr>\n",
       "    <tr>\n",
       "      <th>std</th>\n",
       "      <td>0.819232</td>\n",
       "    </tr>\n",
       "    <tr>\n",
       "      <th>min</th>\n",
       "      <td>0.000000</td>\n",
       "    </tr>\n",
       "    <tr>\n",
       "      <th>25%</th>\n",
       "      <td>0.000000</td>\n",
       "    </tr>\n",
       "    <tr>\n",
       "      <th>50%</th>\n",
       "      <td>1.000000</td>\n",
       "    </tr>\n",
       "    <tr>\n",
       "      <th>75%</th>\n",
       "      <td>2.000000</td>\n",
       "    </tr>\n",
       "    <tr>\n",
       "      <th>max</th>\n",
       "      <td>2.000000</td>\n",
       "    </tr>\n",
       "  </tbody>\n",
       "</table>\n",
       "</div>"
      ],
      "text/plain": [
       "            0/1/2\n",
       "count  150.000000\n",
       "mean     1.000000\n",
       "std      0.819232\n",
       "min      0.000000\n",
       "25%      0.000000\n",
       "50%      1.000000\n",
       "75%      2.000000\n",
       "max      2.000000"
      ]
     },
     "execution_count": 8,
     "metadata": {},
     "output_type": "execute_result"
    }
   ],
   "source": [
    "labels.describe()"
   ]
  },
  {
   "cell_type": "code",
   "execution_count": 9,
   "metadata": {},
   "outputs": [
    {
     "name": "stdout",
     "output_type": "stream",
     "text": [
      "<class 'pandas.core.frame.DataFrame'>\n",
      "RangeIndex: 150 entries, 0 to 149\n",
      "Data columns (total 1 columns):\n",
      " #   Column  Non-Null Count  Dtype\n",
      "---  ------  --------------  -----\n",
      " 0   0/1/2   150 non-null    int32\n",
      "dtypes: int32(1)\n",
      "memory usage: 728.0 bytes\n"
     ]
    }
   ],
   "source": [
    "labels.info()"
   ]
  },
  {
   "cell_type": "markdown",
   "metadata": {},
   "source": [
    "## KNOW THE DATA:"
   ]
  },
  {
   "cell_type": "code",
   "execution_count": 10,
   "metadata": {},
   "outputs": [
    {
     "data": {
      "text/plain": [
       "array([[<AxesSubplot:title={'center':'sepal length (cm)'}>,\n",
       "        <AxesSubplot:title={'center':'sepal width (cm)'}>],\n",
       "       [<AxesSubplot:title={'center':'petal length (cm)'}>,\n",
       "        <AxesSubplot:title={'center':'petal width (cm)'}>],\n",
       "       [<AxesSubplot:title={'center':'0/1/2'}>, <AxesSubplot:>]],\n",
       "      dtype=object)"
      ]
     },
     "execution_count": 10,
     "metadata": {},
     "output_type": "execute_result"
    },
    {
     "data": {
      "image/png": "[encoded data removed]",
      "text/plain": [
       "<Figure size 1440x1080 with 6 Axes>"
      ]
     },
     "metadata": {
      "needs_background": "light"
     },
     "output_type": "display_data"
    }
   ],
   "source": [
    "combined.hist(bins=50,figsize=(20,15))"
   ]
  },
  {
   "cell_type": "markdown",
   "metadata": {},
   "source": [
    "## SEPARATING TRAIN AND TEST SET:"
   ]
  },
  {
   "cell_type": "code",
   "execution_count": 11,
   "metadata": {
    "scrolled": false
   },
   "outputs": [
    {
     "data": {
      "text/html": [
       "<div>\n",
       "<style scoped>\n",
       "    .dataframe tbody tr th:only-of-type {\n",
       "        vertical-align: middle;\n",
       "    }\n",
       "\n",
       "    .dataframe tbody tr th {\n",
       "        vertical-align: top;\n",
       "    }\n",
       "\n",
       "    .dataframe thead th {\n",
       "        text-align: right;\n",
       "    }\n",
       "</style>\n",
       "<table border=\"1\" class=\"dataframe\">\n",
       "  <thead>\n",
       "    <tr style=\"text-align: right;\">\n",
       "      <th></th>\n",
       "      <th>sepal length (cm)</th>\n",
       "      <th>sepal width (cm)</th>\n",
       "      <th>petal length (cm)</th>\n",
       "      <th>petal width (cm)</th>\n",
       "      <th>0/1/2</th>\n",
       "    </tr>\n",
       "  </thead>\n",
       "  <tbody>\n",
       "    <tr>\n",
       "      <th>sepal length (cm)</th>\n",
       "      <td>1.000000</td>\n",
       "      <td>-0.117570</td>\n",
       "      <td>0.871754</td>\n",
       "      <td>0.817941</td>\n",
       "      <td>0.782561</td>\n",
       "    </tr>\n",
       "    <tr>\n",
       "      <th>sepal width (cm)</th>\n",
       "      <td>-0.117570</td>\n",
       "      <td>1.000000</td>\n",
       "      <td>-0.428440</td>\n",
       "      <td>-0.366126</td>\n",
       "      <td>-0.426658</td>\n",
       "    </tr>\n",
       "    <tr>\n",
       "      <th>petal length (cm)</th>\n",
       "      <td>0.871754</td>\n",
       "      <td>-0.428440</td>\n",
       "      <td>1.000000</td>\n",
       "      <td>0.962865</td>\n",
       "      <td>0.949035</td>\n",
       "    </tr>\n",
       "    <tr>\n",
       "      <th>petal width (cm)</th>\n",
       "      <td>0.817941</td>\n",
       "      <td>-0.366126</td>\n",
       "      <td>0.962865</td>\n",
       "      <td>1.000000</td>\n",
       "      <td>0.956547</td>\n",
       "    </tr>\n",
       "    <tr>\n",
       "      <th>0/1/2</th>\n",
       "      <td>0.782561</td>\n",
       "      <td>-0.426658</td>\n",
       "      <td>0.949035</td>\n",
       "      <td>0.956547</td>\n",
       "      <td>1.000000</td>\n",
       "    </tr>\n",
       "  </tbody>\n",
       "</table>\n",
       "</div>"
      ],
      "text/plain": [
       "                   sepal length (cm)  sepal width (cm)  petal length (cm)  \\\n",
       "sepal length (cm)           1.000000         -0.117570           0.871754   \n",
       "sepal width (cm)           -0.117570          1.000000          -0.428440   \n",
       "petal length (cm)           0.871754         -0.428440           1.000000   \n",
       "petal width (cm)            0.817941         -0.366126           0.962865   \n",
       "0/1/2                       0.782561         -0.426658           0.949035   \n",
       "\n",
       "                   petal width (cm)     0/1/2  \n",
       "sepal length (cm)          0.817941  0.782561  \n",
       "sepal width (cm)          -0.366126 -0.426658  \n",
       "petal length (cm)          0.962865  0.949035  \n",
       "petal width (cm)           1.000000  0.956547  \n",
       "0/1/2                      0.956547  1.000000  "
      ]
     },
     "execution_count": 11,
     "metadata": {},
     "output_type": "execute_result"
    }
   ],
   "source": [
    "combined.corr()                                   #A wise way to select feature for stratified sampling."
   ]
  },
  {
   "cell_type": "code",
   "execution_count": 12,
   "metadata": {},
   "outputs": [],
   "source": [
    "#def func1(x):\n",
    "    \n",
    "combined['petal_width_integer']=np.ceil(combined['petal width (cm)'])"
   ]
  },
  {
   "cell_type": "code",
   "execution_count": 13,
   "metadata": {},
   "outputs": [
    {
     "data": {
      "text/html": [
       "<div>\n",
       "<style scoped>\n",
       "    .dataframe tbody tr th:only-of-type {\n",
       "        vertical-align: middle;\n",
       "    }\n",
       "\n",
       "    .dataframe tbody tr th {\n",
       "        vertical-align: top;\n",
       "    }\n",
       "\n",
       "    .dataframe thead th {\n",
       "        text-align: right;\n",
       "    }\n",
       "</style>\n",
       "<table border=\"1\" class=\"dataframe\">\n",
       "  <thead>\n",
       "    <tr style=\"text-align: right;\">\n",
       "      <th></th>\n",
       "      <th>sepal length (cm)</th>\n",
       "      <th>sepal width (cm)</th>\n",
       "      <th>petal length (cm)</th>\n",
       "      <th>petal width (cm)</th>\n",
       "      <th>0/1/2</th>\n",
       "      <th>petal_width_integer</th>\n",
       "    </tr>\n",
       "  </thead>\n",
       "  <tbody>\n",
       "    <tr>\n",
       "      <th>0</th>\n",
       "      <td>5.1</td>\n",
       "      <td>3.5</td>\n",
       "      <td>1.4</td>\n",
       "      <td>0.2</td>\n",
       "      <td>0</td>\n",
       "      <td>1.0</td>\n",
       "    </tr>\n",
       "    <tr>\n",
       "      <th>1</th>\n",
       "      <td>4.9</td>\n",
       "      <td>3.0</td>\n",
       "      <td>1.4</td>\n",
       "      <td>0.2</td>\n",
       "      <td>0</td>\n",
       "      <td>1.0</td>\n",
       "    </tr>\n",
       "    <tr>\n",
       "      <th>2</th>\n",
       "      <td>4.7</td>\n",
       "      <td>3.2</td>\n",
       "      <td>1.3</td>\n",
       "      <td>0.2</td>\n",
       "      <td>0</td>\n",
       "      <td>1.0</td>\n",
       "    </tr>\n",
       "    <tr>\n",
       "      <th>3</th>\n",
       "      <td>4.6</td>\n",
       "      <td>3.1</td>\n",
       "      <td>1.5</td>\n",
       "      <td>0.2</td>\n",
       "      <td>0</td>\n",
       "      <td>1.0</td>\n",
       "    </tr>\n",
       "    <tr>\n",
       "      <th>4</th>\n",
       "      <td>5.0</td>\n",
       "      <td>3.6</td>\n",
       "      <td>1.4</td>\n",
       "      <td>0.2</td>\n",
       "      <td>0</td>\n",
       "      <td>1.0</td>\n",
       "    </tr>\n",
       "    <tr>\n",
       "      <th>...</th>\n",
       "      <td>...</td>\n",
       "      <td>...</td>\n",
       "      <td>...</td>\n",
       "      <td>...</td>\n",
       "      <td>...</td>\n",
       "      <td>...</td>\n",
       "    </tr>\n",
       "    <tr>\n",
       "      <th>145</th>\n",
       "      <td>6.7</td>\n",
       "      <td>3.0</td>\n",
       "      <td>5.2</td>\n",
       "      <td>2.3</td>\n",
       "      <td>2</td>\n",
       "      <td>3.0</td>\n",
       "    </tr>\n",
       "    <tr>\n",
       "      <th>146</th>\n",
       "      <td>6.3</td>\n",
       "      <td>2.5</td>\n",
       "      <td>5.0</td>\n",
       "      <td>1.9</td>\n",
       "      <td>2</td>\n",
       "      <td>2.0</td>\n",
       "    </tr>\n",
       "    <tr>\n",
       "      <th>147</th>\n",
       "      <td>6.5</td>\n",
       "      <td>3.0</td>\n",
       "      <td>5.2</td>\n",
       "      <td>2.0</td>\n",
       "      <td>2</td>\n",
       "      <td>2.0</td>\n",
       "    </tr>\n",
       "    <tr>\n",
       "      <th>148</th>\n",
       "      <td>6.2</td>\n",
       "      <td>3.4</td>\n",
       "      <td>5.4</td>\n",
       "      <td>2.3</td>\n",
       "      <td>2</td>\n",
       "      <td>3.0</td>\n",
       "    </tr>\n",
       "    <tr>\n",
       "      <th>149</th>\n",
       "      <td>5.9</td>\n",
       "      <td>3.0</td>\n",
       "      <td>5.1</td>\n",
       "      <td>1.8</td>\n",
       "      <td>2</td>\n",
       "      <td>2.0</td>\n",
       "    </tr>\n",
       "  </tbody>\n",
       "</table>\n",
       "<p>150 rows × 6 columns</p>\n",
       "</div>"
      ],
      "text/plain": [
       "     sepal length (cm)  sepal width (cm)  petal length (cm)  petal width (cm)  \\\n",
       "0                  5.1               3.5                1.4               0.2   \n",
       "1                  4.9               3.0                1.4               0.2   \n",
       "2                  4.7               3.2                1.3               0.2   \n",
       "3                  4.6               3.1                1.5               0.2   \n",
       "4                  5.0               3.6                1.4               0.2   \n",
       "..                 ...               ...                ...               ...   \n",
       "145                6.7               3.0                5.2               2.3   \n",
       "146                6.3               2.5                5.0               1.9   \n",
       "147                6.5               3.0                5.2               2.0   \n",
       "148                6.2               3.4                5.4               2.3   \n",
       "149                5.9               3.0                5.1               1.8   \n",
       "\n",
       "     0/1/2  petal_width_integer  \n",
       "0        0                  1.0  \n",
       "1        0                  1.0  \n",
       "2        0                  1.0  \n",
       "3        0                  1.0  \n",
       "4        0                  1.0  \n",
       "..     ...                  ...  \n",
       "145      2                  3.0  \n",
       "146      2                  2.0  \n",
       "147      2                  2.0  \n",
       "148      2                  3.0  \n",
       "149      2                  2.0  \n",
       "\n",
       "[150 rows x 6 columns]"
      ]
     },
     "execution_count": 13,
     "metadata": {},
     "output_type": "execute_result"
    }
   ],
   "source": [
    "combined"
   ]
  },
  {
   "cell_type": "code",
   "execution_count": 14,
   "metadata": {},
   "outputs": [
    {
     "data": {
      "text/plain": [
       "2.0    0.466667\n",
       "1.0    0.380000\n",
       "3.0    0.153333\n",
       "Name: petal_width_integer, dtype: float64"
      ]
     },
     "execution_count": 14,
     "metadata": {},
     "output_type": "execute_result"
    }
   ],
   "source": [
    "combined['petal_width_integer'].value_counts()/len(combined['petal_width_integer'])          #overall distribution of petal width"
   ]
  },
  {
   "cell_type": "code",
   "execution_count": 15,
   "metadata": {},
   "outputs": [],
   "source": [
    "from sklearn.model_selection import StratifiedShuffleSplit\n",
    "sss=StratifiedShuffleSplit(n_splits=1,test_size=0.2,random_state=42)\n",
    "for train_index,test_index in sss.split(combined,combined['petal_width_integer']):\n",
    "    train_set=combined.iloc[train_index]\n",
    "    test_set=combined.iloc[test_index]"
   ]
  },
  {
   "cell_type": "code",
   "execution_count": 16,
   "metadata": {},
   "outputs": [
    {
     "name": "stdout",
     "output_type": "stream",
     "text": [
      "Train_set:\n",
      "     sepal length (cm)  sepal width (cm)  petal length (cm)  petal width (cm)  \\\n",
      "26                 5.0               3.4                1.6               0.4   \n",
      "118                7.7               2.6                6.9               2.3   \n",
      "61                 5.9               3.0                4.2               1.5   \n",
      "15                 5.7               4.4                1.5               0.4   \n",
      "12                 4.8               3.0                1.4               0.1   \n",
      "..                 ...               ...                ...               ...   \n",
      "39                 5.1               3.4                1.5               0.2   \n",
      "8                  4.4               2.9                1.4               0.2   \n",
      "115                6.4               3.2                5.3               2.3   \n",
      "140                6.7               3.1                5.6               2.4   \n",
      "37                 4.9               3.6                1.4               0.1   \n",
      "\n",
      "     0/1/2  petal_width_integer  \n",
      "26       0                  1.0  \n",
      "118      2                  3.0  \n",
      "61       1                  2.0  \n",
      "15       0                  1.0  \n",
      "12       0                  1.0  \n",
      "..     ...                  ...  \n",
      "39       0                  1.0  \n",
      "8        0                  1.0  \n",
      "115      2                  3.0  \n",
      "140      2                  3.0  \n",
      "37       0                  1.0  \n",
      "\n",
      "[120 rows x 6 columns]\n",
      "Test_set:\n",
      "     sepal length (cm)  sepal width (cm)  petal length (cm)  petal width (cm)  \\\n",
      "96                 5.7               2.9                4.2               1.3   \n",
      "38                 4.4               3.0                1.3               0.2   \n",
      "58                 6.6               2.9                4.6               1.3   \n",
      "42                 4.4               3.2                1.3               0.2   \n",
      "109                7.2               3.6                6.1               2.5   \n",
      "98                 5.1               2.5                3.0               1.1   \n",
      "133                6.3               2.8                5.1               1.5   \n",
      "60                 5.0               2.0                3.5               1.0   \n",
      "107                7.3               2.9                6.3               1.8   \n",
      "91                 6.1               3.0                4.6               1.4   \n",
      "7                  5.0               3.4                1.5               0.2   \n",
      "14                 5.8               4.0                1.2               0.2   \n",
      "93                 5.0               2.3                3.3               1.0   \n",
      "121                5.6               2.8                4.9               2.0   \n",
      "90                 5.5               2.6                4.4               1.2   \n",
      "18                 5.7               3.8                1.7               0.3   \n",
      "53                 5.5               2.3                4.0               1.3   \n",
      "28                 5.2               3.4                1.4               0.2   \n",
      "100                6.3               3.3                6.0               2.5   \n",
      "20                 5.4               3.4                1.7               0.2   \n",
      "129                7.2               3.0                5.8               1.6   \n",
      "148                6.2               3.4                5.4               2.3   \n",
      "10                 5.4               3.7                1.5               0.2   \n",
      "22                 4.6               3.6                1.0               0.2   \n",
      "51                 6.4               3.2                4.5               1.5   \n",
      "111                6.4               2.7                5.3               1.9   \n",
      "101                5.8               2.7                5.1               1.9   \n",
      "104                6.5               3.0                5.8               2.2   \n",
      "135                7.7               3.0                6.1               2.3   \n",
      "55                 5.7               2.8                4.5               1.3   \n",
      "\n",
      "     0/1/2  petal_width_integer  \n",
      "96       1                  2.0  \n",
      "38       0                  1.0  \n",
      "58       1                  2.0  \n",
      "42       0                  1.0  \n",
      "109      2                  3.0  \n",
      "98       1                  2.0  \n",
      "133      2                  2.0  \n",
      "60       1                  1.0  \n",
      "107      2                  2.0  \n",
      "91       1                  2.0  \n",
      "7        0                  1.0  \n",
      "14       0                  1.0  \n",
      "93       1                  1.0  \n",
      "121      2                  2.0  \n",
      "90       1                  2.0  \n",
      "18       0                  1.0  \n",
      "53       1                  2.0  \n",
      "28       0                  1.0  \n",
      "100      2                  3.0  \n",
      "20       0                  1.0  \n",
      "129      2                  2.0  \n",
      "148      2                  3.0  \n",
      "10       0                  1.0  \n",
      "22       0                  1.0  \n",
      "51       1                  2.0  \n",
      "111      2                  2.0  \n",
      "101      2                  2.0  \n",
      "104      2                  3.0  \n",
      "135      2                  3.0  \n",
      "55       1                  2.0  \n"
     ]
    }
   ],
   "source": [
    "print('Train_set:\\n{}'.format(train_set))\n",
    "print('Test_set:\\n{}'.format(test_set))"
   ]
  },
  {
   "cell_type": "code",
   "execution_count": 17,
   "metadata": {},
   "outputs": [
    {
     "data": {
      "text/plain": [
       "2.0    0.466667\n",
       "1.0    0.383333\n",
       "3.0    0.150000\n",
       "Name: petal_width_integer, dtype: float64"
      ]
     },
     "execution_count": 17,
     "metadata": {},
     "output_type": "execute_result"
    }
   ],
   "source": [
    "train_set['petal_width_integer'].value_counts()/len(train_set['petal_width_integer'])"
   ]
  },
  {
   "cell_type": "code",
   "execution_count": 18,
   "metadata": {},
   "outputs": [
    {
     "data": {
      "text/plain": [
       "2.0    0.466667\n",
       "1.0    0.366667\n",
       "3.0    0.166667\n",
       "Name: petal_width_integer, dtype: float64"
      ]
     },
     "execution_count": 18,
     "metadata": {},
     "output_type": "execute_result"
    }
   ],
   "source": [
    "test_set['petal_width_integer'].value_counts()/len(test_set['petal_width_integer'])"
   ]
  },
  {
   "cell_type": "code",
   "execution_count": 19,
   "metadata": {},
   "outputs": [
    {
     "name": "stderr",
     "output_type": "stream",
     "text": [
      "C:\\Users\\anuj.sali\\AppData\\Local\\Temp\\ipykernel_23688\\3521116859.py:1: SettingWithCopyWarning: \n",
      "A value is trying to be set on a copy of a slice from a DataFrame\n",
      "\n",
      "See the caveats in the documentation: https://pandas.pydata.org/pandas-docs/stable/user_guide/indexing.html#returning-a-view-versus-a-copy\n",
      "  train_set.drop(['petal_width_integer'],inplace=True,axis=1)\n"
     ]
    }
   ],
   "source": [
    "train_set.drop(['petal_width_integer'],inplace=True,axis=1)"
   ]
  },
  {
   "cell_type": "code",
   "execution_count": 20,
   "metadata": {},
   "outputs": [
    {
     "name": "stderr",
     "output_type": "stream",
     "text": [
      "C:\\Users\\anuj.sali\\AppData\\Local\\Temp\\ipykernel_23688\\3834387376.py:1: SettingWithCopyWarning: \n",
      "A value is trying to be set on a copy of a slice from a DataFrame\n",
      "\n",
      "See the caveats in the documentation: https://pandas.pydata.org/pandas-docs/stable/user_guide/indexing.html#returning-a-view-versus-a-copy\n",
      "  test_set.drop(['petal_width_integer'],inplace=True,axis=1)\n"
     ]
    }
   ],
   "source": [
    "test_set.drop(['petal_width_integer'],inplace=True,axis=1)"
   ]
  },
  {
   "cell_type": "markdown",
   "metadata": {},
   "source": [
    "## EXPLORATORY DATA ANALYSIS:"
   ]
  },
  {
   "cell_type": "code",
   "execution_count": 21,
   "metadata": {},
   "outputs": [
    {
     "data": {
      "text/plain": [
       "<seaborn.axisgrid.PairGrid at 0x23cd92af9a0>"
      ]
     },
     "execution_count": 21,
     "metadata": {},
     "output_type": "execute_result"
    },
    {
     "data": {
      "image/png": "[encoded data removed]",
      "text/plain": [
       "<Figure size 900x900 with 30 Axes>"
      ]
     },
     "metadata": {
      "needs_background": "light"
     },
     "output_type": "display_data"
    }
   ],
   "source": [
    "sns.pairplot(train_set)"
   ]
  },
  {
   "cell_type": "markdown",
   "metadata": {},
   "source": [
    "## DATA PREP FOR ML MODELS:"
   ]
  },
  {
   "cell_type": "code",
   "execution_count": 22,
   "metadata": {},
   "outputs": [
    {
     "name": "stdout",
     "output_type": "stream",
     "text": [
      "x_train:\n",
      "     sepal length (cm)  sepal width (cm)  petal length (cm)  petal width (cm)\n",
      "26                 5.0               3.4                1.6               0.4\n",
      "118                7.7               2.6                6.9               2.3\n",
      "61                 5.9               3.0                4.2               1.5\n",
      "15                 5.7               4.4                1.5               0.4\n",
      "12                 4.8               3.0                1.4               0.1\n",
      "..                 ...               ...                ...               ...\n",
      "39                 5.1               3.4                1.5               0.2\n",
      "8                  4.4               2.9                1.4               0.2\n",
      "115                6.4               3.2                5.3               2.3\n",
      "140                6.7               3.1                5.6               2.4\n",
      "37                 4.9               3.6                1.4               0.1\n",
      "\n",
      "[120 rows x 4 columns]\n",
      "y_train:\n",
      "     0/1/2\n",
      "26       0\n",
      "118      2\n",
      "61       1\n",
      "15       0\n",
      "12       0\n",
      "..     ...\n",
      "39       0\n",
      "8        0\n",
      "115      2\n",
      "140      2\n",
      "37       0\n",
      "\n",
      "[120 rows x 1 columns]\n",
      "x_test:\n",
      "     sepal length (cm)  sepal width (cm)  petal length (cm)  petal width (cm)\n",
      "96                 5.7               2.9                4.2               1.3\n",
      "38                 4.4               3.0                1.3               0.2\n",
      "58                 6.6               2.9                4.6               1.3\n",
      "42                 4.4               3.2                1.3               0.2\n",
      "109                7.2               3.6                6.1               2.5\n",
      "98                 5.1               2.5                3.0               1.1\n",
      "133                6.3               2.8                5.1               1.5\n",
      "60                 5.0               2.0                3.5               1.0\n",
      "107                7.3               2.9                6.3               1.8\n",
      "91                 6.1               3.0                4.6               1.4\n",
      "7                  5.0               3.4                1.5               0.2\n",
      "14                 5.8               4.0                1.2               0.2\n",
      "93                 5.0               2.3                3.3               1.0\n",
      "121                5.6               2.8                4.9               2.0\n",
      "90                 5.5               2.6                4.4               1.2\n",
      "18                 5.7               3.8                1.7               0.3\n",
      "53                 5.5               2.3                4.0               1.3\n",
      "28                 5.2               3.4                1.4               0.2\n",
      "100                6.3               3.3                6.0               2.5\n",
      "20                 5.4               3.4                1.7               0.2\n",
      "129                7.2               3.0                5.8               1.6\n",
      "148                6.2               3.4                5.4               2.3\n",
      "10                 5.4               3.7                1.5               0.2\n",
      "22                 4.6               3.6                1.0               0.2\n",
      "51                 6.4               3.2                4.5               1.5\n",
      "111                6.4               2.7                5.3               1.9\n",
      "101                5.8               2.7                5.1               1.9\n",
      "104                6.5               3.0                5.8               2.2\n",
      "135                7.7               3.0                6.1               2.3\n",
      "55                 5.7               2.8                4.5               1.3\n",
      "y_test:\n",
      "     0/1/2\n",
      "96       1\n",
      "38       0\n",
      "58       1\n",
      "42       0\n",
      "109      2\n",
      "98       1\n",
      "133      2\n",
      "60       1\n",
      "107      2\n",
      "91       1\n",
      "7        0\n",
      "14       0\n",
      "93       1\n",
      "121      2\n",
      "90       1\n",
      "18       0\n",
      "53       1\n",
      "28       0\n",
      "100      2\n",
      "20       0\n",
      "129      2\n",
      "148      2\n",
      "10       0\n",
      "22       0\n",
      "51       1\n",
      "111      2\n",
      "101      2\n",
      "104      2\n",
      "135      2\n",
      "55       1\n"
     ]
    }
   ],
   "source": [
    "x_train=train_set.drop(['0/1/2'],axis=1)\n",
    "y_train=train_set.loc[:,['0/1/2']]\n",
    "x_test=test_set.drop(['0/1/2'],axis=1)\n",
    "y_test=test_set.loc[:,['0/1/2']]\n",
    "print('x_train:\\n{}'.format(x_train))\n",
    "print('y_train:\\n{}'.format(y_train))\n",
    "print('x_test:\\n{}'.format(x_test))\n",
    "print('y_test:\\n{}'.format(y_test))"
   ]
  },
  {
   "cell_type": "code",
   "execution_count": 23,
   "metadata": {},
   "outputs": [],
   "source": [
    "from sklearn.pipeline import Pipeline\n",
    "from sklearn.preprocessing import StandardScaler\n",
    "from sklearn.compose import ColumnTransformer"
   ]
  },
  {
   "cell_type": "code",
   "execution_count": 24,
   "metadata": {},
   "outputs": [
    {
     "name": "stdout",
     "output_type": "stream",
     "text": [
      "X_train_prepared:\n",
      "[[-1.028767    0.79082973 -1.21941263 -1.0492069 ]\n",
      " [ 2.25517889 -1.07911249  1.80298188  1.46624182]\n",
      " [ 0.06588163 -0.14414138  0.26327147  0.40710552]\n",
      " [-0.17737362  3.12825751 -1.27643894 -1.0492069 ]\n",
      " [-1.27202225 -0.14414138 -1.33346525 -1.44638301]\n",
      " [-1.15039463 -1.54659805 -0.24996533 -0.25485467]\n",
      " [ 1.16053026  0.32334418  1.23271877  1.46624182]\n",
      " [-0.90713937  1.72580084 -1.21941263 -1.31399098]\n",
      " [ 1.16053026 -0.14414138  1.00461352  1.20145774]\n",
      " [ 1.28215789  0.32334418  1.11866614  1.46624182]\n",
      " [-0.42062887  1.02457251 -1.39049156 -1.31399098]\n",
      " [ 1.28215789  0.0896014   0.94758721  1.20145774]\n",
      " [ 1.03890264 -0.14414138  0.83353459  1.46624182]\n",
      " [-0.29900125 -0.37788416 -0.0788864   0.14232144]\n",
      " [-1.028767    1.25831529 -1.33346525 -1.31399098]\n",
      " [ 2.49843414  1.72580084  1.51785033  1.06906571]\n",
      " [-0.90713937  1.49205807 -1.27643894 -1.0492069 ]\n",
      " [-0.5422565   0.79082973 -1.27643894 -1.0492069 ]\n",
      " [ 1.03890264  0.55708695  1.11866614  1.7310259 ]\n",
      " [ 0.67401976 -0.61162694  1.06163983  1.20145774]\n",
      " [ 0.18750926 -2.0140836   0.71948196  0.40710552]\n",
      " [-0.78551175  1.02457251 -1.27643894 -1.31399098]\n",
      " [ 0.18750926 -2.0140836   0.14921885 -0.25485467]\n",
      " [ 1.03890264 -1.31285527  1.17569246  0.80428163]\n",
      " [-0.29900125 -0.14414138  0.20624516  0.14232144]\n",
      " [ 1.03890264 -0.14414138  0.71948196  0.67188959]\n",
      " [ 1.28215789  0.0896014   0.66245565  0.40710552]\n",
      " [-0.055746   -0.84536971  0.77650828  0.93667367]\n",
      " [-0.42062887 -1.31285527  0.14921885  0.14232144]\n",
      " [-0.17737362 -1.31285527  0.71948196  1.06906571]\n",
      " [-0.90713937  1.72580084 -1.27643894 -1.18159894]\n",
      " [-0.055746   -0.84536971  0.09219254  0.0099294 ]\n",
      " [-0.055746   -0.61162694  0.77650828  1.59863386]\n",
      " [ 1.52541314 -0.14414138  1.23271877  1.20145774]\n",
      " [-1.39364988  0.32334418 -1.39049156 -1.31399098]\n",
      " [ 0.18750926 -0.37788416  0.43435041  0.40710552]\n",
      " [-1.15039463 -1.31285527  0.43435041  0.67188959]\n",
      " [-0.90713937  1.02457251 -1.33346525 -1.18159894]\n",
      " [ 0.43076451 -0.61162694  0.60542934  0.80428163]\n",
      " [-0.66388412  1.49205807 -1.27643894 -1.31399098]\n",
      " [ 0.30913688 -0.61162694  0.54840303  0.0099294 ]\n",
      " [-0.78551175  2.42702918 -1.27643894 -1.44638301]\n",
      " [-1.15039463  0.0896014  -1.27643894 -1.31399098]\n",
      " [ 0.55239213  0.55708695  0.54840303  0.53949755]\n",
      " [-1.63690513 -1.78034082 -1.39049156 -1.18159894]\n",
      " [-1.5152775   0.79082973 -1.33346525 -1.18159894]\n",
      " [-1.5152775   0.32334418 -1.33346525 -1.31399098]\n",
      " [-1.88016038 -0.14414138 -1.50454419 -1.44638301]\n",
      " [ 1.40378551  0.32334418  0.54840303  0.27471348]\n",
      " [-0.5422565  -0.14414138  0.43435041  0.40710552]\n",
      " [ 2.13355127 -0.14414138  1.63190295  1.20145774]\n",
      " [-1.15039463  0.0896014  -1.27643894 -1.44638301]\n",
      " [-0.055746   -1.07911249  0.14921885  0.0099294 ]\n",
      " [ 1.03890264  0.0896014   0.37732409  0.27471348]\n",
      " [ 0.79564738 -0.61162694  0.49137672  0.40710552]\n",
      " [-1.028767    1.02457251 -1.39049156 -1.18159894]\n",
      " [ 0.79564738  0.32334418  0.77650828  1.06906571]\n",
      " [-1.27202225  0.79082973 -1.21941263 -1.31399098]\n",
      " [-0.17737362 -0.14414138  0.26327147  0.0099294 ]\n",
      " [ 0.55239213 -1.31285527  0.71948196  0.93667367]\n",
      " [ 0.67401976 -0.61162694  1.06163983  1.33384978]\n",
      " [-0.29900125 -0.84536971  0.26327147  0.14232144]\n",
      " [-0.42062887 -1.54659805  0.03516623 -0.12246264]\n",
      " [ 0.67401976  0.0896014   1.00461352  0.80428163]\n",
      " [ 0.06588163  0.32334418  0.60542934  0.80428163]\n",
      " [ 0.67401976 -0.37788416  0.32029778  0.14232144]\n",
      " [ 0.91727501 -0.14414138  0.37732409  0.27471348]\n",
      " [-0.29900125 -1.31285527  0.09219254 -0.12246264]\n",
      " [-0.5422565   1.95954362 -1.16238632 -1.0492069 ]\n",
      " [-1.15039463 -0.14414138 -1.33346525 -1.31399098]\n",
      " [-1.5152775   0.0896014  -1.27643894 -1.31399098]\n",
      " [-0.29900125 -0.14414138  0.43435041  0.40710552]\n",
      " [ 0.43076451 -0.37788416  0.32029778  0.14232144]\n",
      " [ 0.55239213 -0.84536971  0.66245565  0.80428163]\n",
      " [ 1.89029602 -0.61162694  1.34677139  0.93667367]\n",
      " [ 2.25517889  1.72580084  1.68892926  1.33384978]\n",
      " [ 1.03890264  0.55708695  1.11866614  1.20145774]\n",
      " [-0.055746   -0.84536971  0.20624516 -0.25485467]\n",
      " [ 0.06588163 -0.14414138  0.77650828  0.80428163]\n",
      " [-0.17737362 -0.61162694  0.20624516  0.14232144]\n",
      " [-1.39364988  0.32334418 -1.21941263 -1.31399098]\n",
      " [ 0.43076451 -2.0140836   0.43435041  0.40710552]\n",
      " [-1.27202225 -0.14414138 -1.33346525 -1.18159894]\n",
      " [ 1.16053026 -0.61162694  0.60542934  0.27471348]\n",
      " [ 0.18750926  0.79082973  0.43435041  0.53949755]\n",
      " [ 0.55239213 -1.31285527  0.66245565  0.40710552]\n",
      " [-1.27202225  0.0896014  -1.21941263 -1.31399098]\n",
      " [-0.78551175 -0.84536971  0.09219254  0.27471348]\n",
      " [ 1.03890264  0.0896014   0.54840303  0.40710552]\n",
      " [-0.5422565   1.95954362 -1.39049156 -1.0492069 ]\n",
      " [-0.90713937  1.02457251 -1.33346525 -1.31399098]\n",
      " [ 0.18750926 -0.14414138  0.60542934  0.80428163]\n",
      " [ 0.30913688 -1.07911249  1.06163983  0.27471348]\n",
      " [ 0.79564738 -0.14414138  0.83353459  1.06906571]\n",
      " [ 0.79564738 -0.14414138  1.00461352  0.80428163]\n",
      " [ 1.28215789  0.0896014   0.77650828  1.46624182]\n",
      " [-0.17737362 -1.07911249 -0.13591271 -0.25485467]\n",
      " [ 1.64704076  0.32334418  1.28974508  0.80428163]\n",
      " [-1.028767    0.32334418 -1.44751787 -1.31399098]\n",
      " [ 0.30913688 -0.61162694  0.14921885  0.14232144]\n",
      " [ 0.55239213  0.79082973  1.06163983  1.59863386]\n",
      " [-0.42062887 -1.54659805 -0.02186009 -0.25485467]\n",
      " [ 0.55239213 -0.37788416  1.06163983  0.80428163]\n",
      " [ 0.55239213 -1.78034082  0.37732409  0.14232144]\n",
      " [-0.90713937  0.55708695 -1.16238632 -0.91681486]\n",
      " [-0.90713937  1.72580084 -1.04833369 -1.0492069 ]\n",
      " [ 0.30913688 -0.14414138  0.66245565  0.80428163]\n",
      " [-1.27202225  0.79082973 -1.04833369 -1.31399098]\n",
      " [ 2.25517889 -0.61162694  1.68892926  1.06906571]\n",
      " [ 0.18750926 -0.84536971  0.77650828  0.53949755]\n",
      " [ 0.30913688 -0.37788416  0.54840303  0.27471348]\n",
      " [-1.028767   -0.14414138 -1.21941263 -1.31399098]\n",
      " [-1.028767    1.02457251 -1.21941263 -0.78442282]\n",
      " [-1.028767    0.55708695 -1.33346525 -1.31399098]\n",
      " [-0.42062887  2.66077195 -1.33346525 -1.31399098]\n",
      " [-0.90713937  0.79082973 -1.27643894 -1.31399098]\n",
      " [-1.75853275 -0.37788416 -1.33346525 -1.31399098]\n",
      " [ 0.67401976  0.32334418  0.8905609   1.46624182]\n",
      " [ 1.03890264  0.0896014   1.06163983  1.59863386]\n",
      " [-1.15039463  1.25831529 -1.33346525 -1.44638301]]\n"
     ]
    }
   ],
   "source": [
    "num_pipeline=Pipeline([('stdscaler',StandardScaler())])\n",
    "full_pipeline=ColumnTransformer([('num_pipeline',num_pipeline,x_train.columns)])\n",
    "x_train_prepared=full_pipeline.fit_transform(x_train)\n",
    "print('X_train_prepared:\\n{}'.format(x_train_prepared))"
   ]
  },
  {
   "cell_type": "markdown",
   "metadata": {},
   "source": [
    "## TRAINING TRAINING SET:"
   ]
  },
  {
   "cell_type": "code",
   "execution_count": 25,
   "metadata": {},
   "outputs": [],
   "source": [
    "from sklearn.ensemble import RandomForestClassifier\n",
    "from sklearn.neighbors import KNeighborsClassifier"
   ]
  },
  {
   "cell_type": "code",
   "execution_count": 26,
   "metadata": {},
   "outputs": [
    {
     "name": "stderr",
     "output_type": "stream",
     "text": [
      "c:\\Users\\anuj.sali\\Anaconda3\\lib\\site-packages\\sklearn\\neighbors\\_classification.py:198: DataConversionWarning: A column-vector y was passed when a 1d array was expected. Please change the shape of y to (n_samples,), for example using ravel().\n",
      "  return self._fit(X, y)\n"
     ]
    },
    {
     "data": {
      "text/plain": [
       "KNeighborsClassifier(n_neighbors=1)"
      ]
     },
     "execution_count": 26,
     "metadata": {},
     "output_type": "execute_result"
    }
   ],
   "source": [
    "knn= KNeighborsClassifier(n_neighbors=1)\n",
    "knn.fit(x_train_prepared,y_train)"
   ]
  },
  {
   "cell_type": "code",
   "execution_count": 27,
   "metadata": {},
   "outputs": [
    {
     "name": "stderr",
     "output_type": "stream",
     "text": [
      "C:\\Users\\anuj.sali\\AppData\\Local\\Temp\\ipykernel_23688\\736733497.py:2: DataConversionWarning: A column-vector y was passed when a 1d array was expected. Please change the shape of y to (n_samples,), for example using ravel().\n",
      "  rf_clf.fit(x_train_prepared,y_train)\n"
     ]
    },
    {
     "data": {
      "text/plain": [
       "RandomForestClassifier()"
      ]
     },
     "execution_count": 27,
     "metadata": {},
     "output_type": "execute_result"
    }
   ],
   "source": [
    "rf_clf=RandomForestClassifier()\n",
    "rf_clf.fit(x_train_prepared,y_train)\n"
   ]
  },
  {
   "cell_type": "markdown",
   "metadata": {},
   "source": [
    "## TESTING ON FINAL TEST SET:"
   ]
  },
  {
   "cell_type": "code",
   "execution_count": 28,
   "metadata": {},
   "outputs": [
    {
     "name": "stdout",
     "output_type": "stream",
     "text": [
      "0.97\n"
     ]
    }
   ],
   "source": [
    "x_test_prepared=full_pipeline.transform(x_test)\n",
    "y_pred_knn=knn.predict(x_test_prepared)\n",
    "print('{:.2f}'.format(knn.score(x_test_prepared,y_test)))"
   ]
  },
  {
   "cell_type": "code",
   "execution_count": 29,
   "metadata": {},
   "outputs": [
    {
     "name": "stdout",
     "output_type": "stream",
     "text": [
      "0.93\n"
     ]
    }
   ],
   "source": [
    "y_pred_rf=rf_clf.predict(x_test_prepared)\n",
    "print('{:.2f}'.format(rf_clf.score(x_test_prepared,y_test)))"
   ]
  }
 ],
 "metadata": {
  "kernelspec": {
   "display_name": "Python 3.8.10 ('base')",
   "language": "python",
   "name": "python3"
  },
  "language_info": {
   "codemirror_mode": {
    "name": "ipython",
    "version": 3
   },
   "file_extension": ".py",
   "mimetype": "text/x-python",
   "name": "python",
   "nbconvert_exporter": "python",
   "pygments_lexer": "ipython3",
   "version": "3.8.10"
  },
  "vscode": {
   "interpreter": {
    "hash": "2b24e27fed2abca2f43ff8830c392462f661c7dbd7d04915d157cad162bccebc"
   }
  }
 },
 "nbformat": 4,
 "nbformat_minor": 4
}
